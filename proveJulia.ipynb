{
 "cells": [
  {
   "cell_type": "code",
   "execution_count": 2,
   "metadata": {},
   "outputs": [
    {
     "data": {
      "text/plain": [
       "nits (generic function with 1 method)"
      ]
     },
     "execution_count": 2,
     "metadata": {},
     "output_type": "execute_result"
    }
   ],
   "source": [
    "using JSON\n",
    "using Statistics\n",
    "using CSV\n",
    "using Tables\n",
    "using DataFrames\n",
    "using LightGraphs\n",
    "include(\"utils.jl\")"
   ]
  },
  {
   "cell_type": "code",
   "execution_count": 3,
   "metadata": {},
   "outputs": [
    {
     "data": {
      "text/plain": [
       "read_json_cluster (generic function with 1 method)"
      ]
     },
     "execution_count": 3,
     "metadata": {},
     "output_type": "execute_result"
    }
   ],
   "source": [
    "function keys_to_int(dict)\n",
    "    newdict = Dict([parse(Int, string(key)) => val for (key, val) in pairs(dict)])    \n",
    "    return newdict\n",
    "end\n",
    "\n",
    "function splitstring(s)\n",
    "#     println(\"string=$s\")\n",
    "    v = split(s, r\"\\(|\\)| \")\n",
    "    nums = []\n",
    "    for i = 1:length(v)\n",
    "        try\n",
    "            n = parse(Float16, v[i])\n",
    "#             println(\"n=$n\")\n",
    "            append!(nums, n)\n",
    "        catch\n",
    "            continue\n",
    "        end\n",
    "    end\n",
    "#     println(\"nums=$nums\")\n",
    "    return Tuple([Float16(nums[1]), Float16(nums[2])])\n",
    "end\n",
    "\n",
    "function read_json(filename)\n",
    "    inDict = JSON.parsefile(filename)\n",
    "    newdict = keys_to_int(inDict)\n",
    "    newnewdict = Dict()\n",
    "    for nr in keys(newdict)\n",
    "        newnewdict[nr] = Dict()\n",
    "        dicttoadd = keys_to_tuple(newdict[nr])\n",
    "        newnewdict[nr] = dicttoadd\n",
    "    end\n",
    "    return newnewdict\n",
    "end\n",
    "\n",
    "function read_json_cluster(filename)\n",
    "    inDict = JSON.parsefile(filename)\n",
    "    newdict = keys_to_int(inDict)\n",
    "    newnewdict = Dict()\n",
    "    for nr in keys(newdict)\n",
    "        newnewdict[nr] = Dict()\n",
    "        dicttoadd = keys_to_tuple(newdict[nr])\n",
    "        newnewdict[nr] = dicttoadd\n",
    "    end\n",
    "    return newnewdict\n",
    "end"
   ]
  },
  {
   "cell_type": "code",
   "execution_count": 4,
   "metadata": {
    "scrolled": true
   },
   "outputs": [
    {
     "data": {
      "text/plain": [
       "keys_to_tuple (generic function with 1 method)"
      ]
     },
     "execution_count": 4,
     "metadata": {},
     "output_type": "execute_result"
    }
   ],
   "source": [
    "function keys_to_tuple(dict)\n",
    "    newdict = Dict([splitstring(key) => val for (key, val) in pairs(dict)])    \n",
    "    return newdict\n",
    "end"
   ]
  },
  {
   "cell_type": "code",
   "execution_count": null,
   "metadata": {},
   "outputs": [],
   "source": [
    "for (root, dirs, files) in walkdir(\"aggregate/\")\n",
    "    for file in files\n",
    "        if startswith(file, \"final_clusters\") \n",
    "            final_clusters = read_json_cluster(\"aggregate/$file\")  \n",
    "            for k in keys(final_clusters)\n",
    "                println(k)\n",
    "            end\n",
    "            json_string = JSON.json(final_clusters)\n",
    "            open(\"aggregate/$file \", \"w\") do f\n",
    "#                 write(f, json_string)\n",
    "            end\n",
    "        end\n",
    "    end\n",
    "end\n"
   ]
  },
  {
   "cell_type": "code",
   "execution_count": 5,
   "metadata": {},
   "outputs": [
    {
     "ename": "LoadError",
     "evalue": "Unexpected end of input\nLine: 0\nAround: ......\n           ^\n",
     "output_type": "error",
     "traceback": [
      "Unexpected end of input\nLine: 0\nAround: ......\n           ^\n",
      "",
      "Stacktrace:",
      " [1] error(s::String)",
      "   @ Base .\\error.jl:33",
      " [2] _error(message::String, ps::JSON.Parser.MemoryParserState)",
      "   @ JSON.Parser C:\\Users\\valen\\.julia\\packages\\JSON\\NeJ9k\\src\\Parser.jl:140"
     ]
    }
   ],
   "source": [
    "inDict = JSON.parsefile(\"aggregate/final_clusters media mo[0.05, 0.5, 0.95] p0.0 e0.2 g0.25 gm0.25 mi1000000.json\")\n",
    "newdict = keys_to_int(inDict)\n",
    "newnewdict = Dict()\n",
    "for nr in keys(newdict)\n",
    "    newnewdict[nr] = Dict()\n",
    "    dicttoadd = keys_to_tuple(newdict[nr])\n",
    "    newnewdict[nr] = dicttoadd\n",
    "end\n",
    "newnewdict"
   ]
  },
  {
   "cell_type": "code",
   "execution_count": 6,
   "metadata": {},
   "outputs": [
    {
     "ename": "LoadError",
     "evalue": "UndefVarError: newnewdict not defined",
     "output_type": "error",
     "traceback": [
      "UndefVarError: newnewdict not defined",
      "",
      "Stacktrace:",
      " [1] top-level scope",
      "   @ In[6]:1",
      " [2] eval",
      "   @ .\\boot.jl:373 [inlined]",
      " [3] include_string(mapexpr::typeof(REPL.softscope), mod::Module, code::String, filename::String)",
      "   @ Base .\\loading.jl:1196"
     ]
    }
   ],
   "source": [
    "final_clusters = newnewdict"
   ]
  },
  {
   "cell_type": "code",
   "execution_count": 6,
   "metadata": {},
   "outputs": [],
   "source": [
    "json_string = JSON.json(final_clusters)\n",
    "open(\"aggregate/final_clusters media mo[0.05, 0.5, 0.95] p0.0 e0.2 g0.25 gm0.25 mi1000000.json\", \"w\") do f\n",
    "#     write(f, json_string)\n",
    "end\n"
   ]
  },
  {
   "cell_type": "code",
   "execution_count": null,
   "metadata": {},
   "outputs": [],
   "source": []
  }
 ],
 "metadata": {
  "kernelspec": {
   "display_name": "Julia 1.7.2",
   "language": "julia",
   "name": "julia-1.7"
  },
  "language_info": {
   "file_extension": ".jl",
   "mimetype": "application/julia",
   "name": "julia",
   "version": "1.7.2"
  }
 },
 "nbformat": 4,
 "nbformat_minor": 5
}
