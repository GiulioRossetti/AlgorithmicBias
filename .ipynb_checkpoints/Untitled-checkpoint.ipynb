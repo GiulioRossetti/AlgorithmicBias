{
 "cells": [
  {
   "cell_type": "code",
   "execution_count": 20,
   "id": "ac59fa6d",
   "metadata": {},
   "outputs": [
    {
     "data": {
      "text/plain": [
       "\"aggregate/final_clusters media mo[0.05, 0.5, 0.95] p0.0 e0.2 g0.0 gm0.0 mi1000000.json\""
      ]
     },
     "execution_count": 20,
     "metadata": {},
     "output_type": "execute_result"
    }
   ],
   "source": [
    "using JSON\n",
    "using Statistics\n",
    "using CSV\n",
    "using Tables\n",
    "using DataFrames\n",
    "using LightGraphs\n",
    "include(\"utils.jl\")\n",
    "filename = \"aggregate/final_clusters media mo[0.05, 0.5, 0.95] p0.0 e0.2 g0.0 gm0.0 mi1000000.json\""
   ]
  },
  {
   "cell_type": "code",
   "execution_count": 31,
   "id": "2bb78b00",
   "metadata": {},
   "outputs": [
    {
     "data": {
      "text/plain": [
       "\"(Float16(0.7227), Float16(0.923))\""
      ]
     },
     "execution_count": 31,
     "metadata": {},
     "output_type": "execute_result"
    }
   ],
   "source": [
    "s = \"(Float16(0.7227), Float16(0.923))\""
   ]
  },
  {
   "cell_type": "code",
   "execution_count": 75,
   "id": "f1114dc3",
   "metadata": {},
   "outputs": [
    {
     "data": {
      "text/plain": [
       "read_json (generic function with 1 method)"
      ]
     },
     "execution_count": 75,
     "metadata": {},
     "output_type": "execute_result"
    }
   ],
   "source": [
    "function keys_to_int(dict)\n",
    "    newdict = Dict([parse(Int, string(key)) => val for (key, val) in pairs(dict)])    \n",
    "    return newdict\n",
    "end\n",
    "\n",
    "function splitstring(s)\n",
    "    v = split(s, r\"\\(|\\)\")\n",
    "    n1 = parse(Float16, v[3])\n",
    "    n2 =  parse(Float16, v[5])\n",
    "    return Tuple([Float16(n1), Float16(n2)])\n",
    "end\n",
    "\n",
    "\n",
    "function keys_to_tuple(dict)\n",
    "    newdict = Dict([splitstring(key) => val for (key, val) in pairs(dict)])    \n",
    "    return newdict\n",
    "end\n",
    "\n",
    "function read_json(filename)\n",
    "    inDict = JSON.parsefile(filename)\n",
    "    newdict = keys_to_int(inDict)\n",
    "    newnewdict = Dict()\n",
    "    for nr in keys(newdict)\n",
    "        newnewdict[nr] = Dict()\n",
    "        dicttoadd = keys_to_tuple(newdict[nr])\n",
    "        newnewdict[nr] = dicttoadd\n",
    "    end\n",
    "    return newnewdict\n",
    "end"
   ]
  },
  {
   "cell_type": "code",
   "execution_count": 76,
   "id": "89699fee",
   "metadata": {},
   "outputs": [
    {
     "data": {
      "text/plain": [
       "Dict{Any, Any} with 5 entries:\n",
       "  5 => Dict{Tuple{Float16, Float16}, Int64}((0.8594, 1.06)=>18, (0.11316, 0.313…\n",
       "  4 => Dict{Tuple{Float16, Float16}, Int64}((0.2354, 0.4353)=>53, (0.7227, 0.92…\n",
       "  2 => Dict{Tuple{Float16, Float16}, Int64}((0.001376, 0.2014)=>1, (0.2441, 0.4…\n",
       "  3 => Dict{Tuple{Float16, Float16}, Int64}((0.7773, 0.9775)=>42, (0.06433, 0.2…\n",
       "  1 => Dict{Tuple{Float16, Float16}, Int64}((0.7783, 0.9785)=>47, (0.2632, 0.46…"
      ]
     },
     "execution_count": 76,
     "metadata": {},
     "output_type": "execute_result"
    }
   ],
   "source": [
    "read_json(filename)"
   ]
  },
  {
   "cell_type": "code",
   "execution_count": null,
   "id": "7818afc6",
   "metadata": {},
   "outputs": [],
   "source": []
  },
  {
   "cell_type": "code",
   "execution_count": null,
   "id": "6474df62",
   "metadata": {},
   "outputs": [],
   "source": []
  }
 ],
 "metadata": {
  "kernelspec": {
   "display_name": "Julia 1.6.2",
   "language": "julia",
   "name": "julia-1.6"
  },
  "language_info": {
   "file_extension": ".jl",
   "mimetype": "application/julia",
   "name": "julia",
   "version": "1.6.2"
  }
 },
 "nbformat": 4,
 "nbformat_minor": 5
}
