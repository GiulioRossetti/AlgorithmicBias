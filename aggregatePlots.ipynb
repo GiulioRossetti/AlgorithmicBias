{
 "cells": [
  {
   "cell_type": "code",
   "execution_count": 1,
   "metadata": {},
   "outputs": [],
   "source": [
    "import pandas as pd\n",
    "import matplotlib.pyplot as plt\n",
    "import matplotlib as mpl\n",
    "import seaborn as sns\n",
    "import os\n",
    "from mpl_toolkits.mplot3d import Axes3D\n",
    "import os\n",
    "from matplotlib.colors import LinearSegmentedColormap\n",
    "import future.utils\n",
    "import json\n",
    "import numpy as np\n",
    "import tqdm\n",
    "plt.rcParams['axes.facecolor']='white'\n",
    "plt.rcParams['savefig.facecolor']='white'\n",
    "sns.set_style(\"whitegrid\")"
   ]
  },
  {
   "cell_type": "code",
   "execution_count": 2,
   "metadata": {},
   "outputs": [
    {
     "name": "stdout",
     "output_type": "stream",
     "text": [
      "matplotlib: 3.1.0\n"
     ]
    }
   ],
   "source": [
    "print('matplotlib: {}'. format(mpl.__version__))"
   ]
  },
  {
   "cell_type": "code",
   "execution_count": 3,
   "metadata": {},
   "outputs": [],
   "source": [
    "def hex_to_rgb(value):\n",
    "    '''\n",
    "    Converts hex to rgb colours\n",
    "    value: string of 6 characters representing a hex colour.\n",
    "    Returns: list length 3 of RGB values'''\n",
    "    value = value.strip(\"#\") # removes hash symbol if present\n",
    "    lv = len(value)\n",
    "    return tuple(int(value[i:i + lv // 3], 16) for i in range(0, lv, lv // 3))\n",
    "\n",
    "\n",
    "def rgb_to_dec(value):\n",
    "    '''\n",
    "    Converts rgb to decimal colours (i.e. divides each value by 256)\n",
    "    value: list (length 3) of RGB values\n",
    "    Returns: list (length 3) of decimal values'''\n",
    "    return [v/256 for v in value]\n",
    "\n",
    "def get_continuous_cmap(hex_list, float_list=None):\n",
    "    ''' creates and returns a color map that can be used in heat map figures.\n",
    "        If float_list is not provided, colour map graduates linearly between each color in hex_list.\n",
    "        If float_list is provided, each color in hex_list is mapped to the respective location in float_list. \n",
    "        \n",
    "        Parameters\n",
    "        ----------\n",
    "        hex_list: list of hex code strings\n",
    "        float_list: list of floats between 0 and 1, same length as hex_list. Must start with 0 and end with 1.\n",
    "        \n",
    "        Returns\n",
    "        ----------\n",
    "        colour map'''\n",
    "    rgb_list = [rgb_to_dec(hex_to_rgb(i)) for i in hex_list]\n",
    "    if float_list:\n",
    "        pass\n",
    "    else:\n",
    "        float_list = list(np.linspace(0,1,len(rgb_list)))\n",
    "    cdict = dict()\n",
    "    for num, col in enumerate(['red', 'green', 'blue']):\n",
    "        col_list = [[float_list[i], rgb_list[i][num], rgb_list[i][num]] for i in range(len(float_list))]\n",
    "        cdict[col] = col_list\n",
    "    cmp = LinearSegmentedColormap('my_cmp', segmentdata=cdict, N=256)\n",
    "    return cmp\n",
    "\n",
    "heatmap_hex_list = ['#357db0', '#ce2626']\n",
    "heatmap_cmap=get_continuous_cmap(heatmap_hex_list)\n",
    "\n",
    "spaghetti_hex_list = ['#357db0', '#18A558', '#ce2626']\n",
    "spaghetti_cmap=get_continuous_cmap(spaghetti_hex_list)\n",
    "\n"
   ]
  },
  {
   "cell_type": "code",
   "execution_count": 4,
   "metadata": {},
   "outputs": [],
   "source": [
    "def from_res_to_iterations(name, nr):\n",
    "    res = open(\"{}.csv\".format(name))\n",
    "    iterations = []\n",
    "    it = 0\n",
    "    for line in res.readlines():\n",
    "        iterations.append(dict())\n",
    "        iterations[it]['iteration'] = it\n",
    "        iterations[it]['status'] = dict()\n",
    "\n",
    "        opinions = line.strip().split(',')\n",
    "\n",
    "        for i in range(len(opinions)):\n",
    "            iterations[it]['status'][i] = float(opinions[i])\n",
    "            iterations[it]['node_count'] = {0: 0},\n",
    "            iterations[it]['status_delta'] = {0: 0}\n",
    "\n",
    "        it += 1\n",
    "        \n",
    "    return iterations\n",
    "\n",
    "def evolution(iterations, hex_list, fig, ax):\n",
    "\n",
    "    spaghetti_hex_list = ['#357db0', '#18A558', '#ce2626']\n",
    "\n",
    "\n",
    "    \"\"\"\n",
    "    Generates the plot\n",
    "\n",
    "    :param filename: Output filename\n",
    "    :param percentile: The percentile for the trend variance area\n",
    "    \"\"\"\n",
    "\n",
    "    nodes2opinions = {}\n",
    "    node2col = {}\n",
    "\n",
    "    last_it = iterations[-1]['iteration'] + 1\n",
    "    last_seen = {}\n",
    "\n",
    "    for it in iterations:\n",
    "        sts = it['status']\n",
    "        its = it['iteration']\n",
    "        for n, v in sts.items():\n",
    "            if n in nodes2opinions:\n",
    "                last_id = last_seen[n]\n",
    "                last_value = nodes2opinions[n][last_id]\n",
    "\n",
    "                for i in range(last_id, its):\n",
    "                    nodes2opinions[n][i] = last_value\n",
    "\n",
    "                nodes2opinions[n][its] = v\n",
    "                last_seen[n] = its\n",
    "            else:\n",
    "                nodes2opinions[n] = [0]*last_it\n",
    "                nodes2opinions[n][its] = v\n",
    "                last_seen[n] = 0\n",
    "                if v < 0.33:\n",
    "                    node2col[n] = spaghetti_hex_list[0]\n",
    "                elif 0.33 <= v <= 0.66:\n",
    "                    node2col[n] = spaghetti_hex_list[1]\n",
    "                else:\n",
    "                    node2col[n] = spaghetti_hex_list[2]\n",
    "\n",
    "    mx = 0\n",
    "    for k, l in future.utils.iteritems(nodes2opinions):\n",
    "        if mx < last_seen[k]:\n",
    "            mx = last_seen[k]\n",
    "        x = list(range(0, last_seen[k]))\n",
    "        y = l[0:last_seen[k]]\n",
    "        ax.plot(x, y, lw=1.5, alpha=0.5, color=node2col[k])\n",
    "    \n",
    "    # ax.set_ylim(-0.1, 1.1)\n",
    "    # ax.set_xlim(0, 1000)\n",
    "    # ax.tick_params(axis='both', which='major', labelsize=4, pad=0) \n",
    "    # ax.set_xlabel(\"o\", fontsize=5)\n",
    "    # ax.set_ylabel(\"t\", fontsize=5)               \n",
    "    # plt.grid(axis = 'both', which='both')\n",
    "    plt.tight_layout()\n",
    "\n",
    "    \n",
    "from tqdm import tqdm\n",
    "\n",
    "# def spaghettigridbye(results, imgfolder):\n",
    "#     mops = list(results.media_op.unique())\n",
    "#     pmlist = sorted(list(results.p_media.unique()))\n",
    "#     elist = sorted(list(results.eps.unique()))\n",
    "#     glist=sorted(list(results.gam.unique()))\n",
    "#     sns.set_style(\"whitegrid\")\n",
    "#     i=0\n",
    "#     if imgfolder == \"moderate\":\n",
    "#         mo = '0.5'\n",
    "#     for e in elist:\n",
    "#         fig, axes = plt.subplots(ncols=len(glist), nrows=len(pmlist), figsize=(6, 6), dpi=600, sharey=True)\n",
    "#         row=0\n",
    "#         for pm in pmlist:\n",
    "#             with tqdm(total=len(pmlist)*len(glist)) as pbar:\n",
    "#                 col=0\n",
    "#                 for g in glist:\n",
    "#                     name = f'for_spaghetti media mo[{mo}] p{pm} e{e} g{g} gm{g} mi1000000'\n",
    "#                     results = results[results['media_op']==mo]\n",
    "#                     results = results[results['eps']==e]\n",
    "#                     results = results[results['p_media']==pm]\n",
    "#                     results = results[results['gam']==g]\n",
    "#                     iterations = from_res_to_iterations(name, 1)\n",
    "#                     evolution(iterations, spaghetti_hex_list, fig=fig, ax=axes[row,col])\n",
    "#                     axes[row,col].set_title(r\"$p_m$={}, $\\epsilon$={}, $\\gamma={}$\".format(pm, e, g), fontsize=5)\n",
    "#                     col+=1    \n",
    "#             row+=1\n",
    "#             pbar.update(1)\n",
    "#         name = f'spaghetti media {imgfolder} e{e}'\n",
    "#         i+=1\n",
    "#         plt.savefig(f\"plots/{imgfolder}/{name}.png\")\n",
    "#         plt.close()\n",
    "\n",
    "# def pwdist(opinions):\n",
    "#     pwdarray = np.zeros(shape=(100, 100))\n",
    "#     for i in range(100):\n",
    "#         o_i = opinions[i]\n",
    "#         for j in range(100):\n",
    "#             if j != i:\n",
    "#                 o_j = opinions[j]\n",
    "#                 d = abs(o_i-o_j)\n",
    "#                 pwdarray[i, j] = d\n",
    "#     return pwdarray"
   ]
  },
  {
   "cell_type": "markdown",
   "metadata": {},
   "source": [
    "# Preliminaries"
   ]
  },
  {
   "cell_type": "code",
   "execution_count": 5,
   "metadata": {},
   "outputs": [],
   "source": [
    "results = pd.read_csv(\"aggregate/algorithmicBiasMediaModelMetrics2.csv\", index_col=[0])"
   ]
  },
  {
   "cell_type": "markdown",
   "metadata": {},
   "source": [
    "import tqdm\n",
    "metric_name = 'iqm_pwdist'\n",
    "avg = []\n",
    "std = []\n",
    "for index, row in results.iterrows():\n",
    "    eps = row['eps']\n",
    "    gam = row['gam']\n",
    "    p_media = row['p_media']\n",
    "    max_it = row['max_it']\n",
    "    mo = \", \".join(row['media_op'].split(\";\"))\n",
    "    name = f'media mo[{mo}] p{p_media} e{eps} g{gam} gm{gam} mi{max_it}'\n",
    "    print(f'doing {name}')\n",
    "    try:\n",
    "        jsonfile = open(f'aggregate/final_opinions {name}.json')\n",
    "        data = json.load(jsonfile)\n",
    "        array = []\n",
    "        for nr in data.keys():\n",
    "            finalops = list(data[nr])\n",
    "            pwd = pwdist(finalops)\n",
    "            apwd = np.average(np.array(pwd))\n",
    "            array.append(apwd)\n",
    "        array = np.array(array)\n",
    "        Q1 = np.percentile(array, 25, interpolation = 'midpoint')\n",
    "        Q3 = np.percentile(array, 75, interpolation = 'midpoint')\n",
    "        array = array[(array <= Q3) & (array >= Q1)]\n",
    "        avg.append(np.average(array))\n",
    "        std.append(np.std(array))\n",
    "        if len(array) == 0:\n",
    "            print(array)\n",
    "            print('array = ', array)\n",
    "            print(Q1)\n",
    "            print(Q3)\n",
    "            print(f\"{name}\")\n",
    "    except FileNotFoundError:\n",
    "        print(f\"aggregate/final_opinions {name}.json file not found\")\n",
    "        break\n",
    "print(len(avg))\n",
    "results[metric_name] = avg\n",
    "results[\"std_\"+metric_name] = std"
   ]
  },
  {
   "cell_type": "code",
   "execution_count": 6,
   "metadata": {},
   "outputs": [
    {
     "data": {
      "text/plain": [
       "Index(['n', 'p', 'eps', 'gam', 'gam_media', 'p_media', 'max_it', 'media_op',\n",
       "       'avg_ncluster_0.01', 'std_ncluster_0.01', 'med_ncluster_0.01',\n",
       "       'Q1_ncluster_0.01', 'Q3_ncluster_0.01', 'iqm_ncluster',\n",
       "       'std_iqm_ncluster', 'avg_avg_opinion', 'std_avg_opinion',\n",
       "       'med_avg_opinion', 'Q1_avg_opinion', 'Q3_avg_opinion',\n",
       "       'avg_median_opinion', 'std_median_opinion', 'med_median_opinion',\n",
       "       'Q1_median_opinion', 'Q3_median_opinion', 'avg_std_opinions',\n",
       "       'std_std_opinions', 'med_std_opinions', 'Q1_std_opinions',\n",
       "       'Q3_std_opinions', 'avg_095_perc', 'std_095_perc', 'med_095_perc',\n",
       "       'Q1_095_perc', 'Q3_095_perc', 'avg_00_perc', 'std_00_perc',\n",
       "       'med_00_perc', 'Q1_00_perc', 'Q3_00_perc', 'avg_05_perc', 'std_05_perc',\n",
       "       'med_05_perc', 'Q1_05_perc', 'Q3_05_perc', 'avg_005_perc',\n",
       "       'std_005_perc', 'med_005_perc', 'Q1_005_perc', 'Q3_005_perc',\n",
       "       'avg_100B_norm_entr', 'std_100B_norm_entr', 'med_100B_norm_entr',\n",
       "       'Q1_100B_norm_entr', 'Q3_100B_norm_entr', 'avg_niter', 'std_niter',\n",
       "       'med_niter', 'Q1_niter', 'Q3_niter', 'avg_pwdist', 'std_pwdist',\n",
       "       'med_pwdist', 'Q1_pwdist', 'Q3_pwdist', 'iqm_pwdist', 'std_iqm_pwdist',\n",
       "       'iqm_niter', 'std_iqm_niter'],\n",
       "      dtype='object')"
      ]
     },
     "execution_count": 6,
     "metadata": {},
     "output_type": "execute_result"
    }
   ],
   "source": [
    "# results = results.rename(columns={'std_100B_avg_entr': 'std_100B_norm_entr', 'std_pwdist': 'std_avg_pwdist'})\n",
    "results.columns"
   ]
  },
  {
   "cell_type": "code",
   "execution_count": 7,
   "metadata": {},
   "outputs": [
    {
     "name": "stdout",
     "output_type": "stream",
     "text": [
      "[0.0, 0.5, 0.75, 1.0, 1.25, 1.5] [0.0, 0.1, 0.2, 0.3, 0.4, 0.5] [0.2, 0.3, 0.4, 0.5] ['0.05;0.5;0.95', '0.05;0.95', '0.0', '0.5']\n"
     ]
    }
   ],
   "source": [
    "gams = list(results.gam.unique())\n",
    "p_medias = list(results.p_media.unique())\n",
    "epss = list(results.eps.unique())\n",
    "mos = list(results.media_op.unique())\n",
    "print(gams, p_medias, epss, mos)"
   ]
  },
  {
   "cell_type": "code",
   "execution_count": 8,
   "metadata": {},
   "outputs": [
    {
     "name": "stdout",
     "output_type": "stream",
     "text": [
      "144\n",
      "[0.0, 0.5, 0.75, 1.0, 1.25, 1.5] [0.0, 0.1, 0.2, 0.3, 0.4, 0.5] [0.2, 0.3, 0.4, 0.5] ['0.05;0.5;0.95']\n"
     ]
    }
   ],
   "source": [
    "balanced = results[results['media_op'] == '0.05;0.5;0.95']\n",
    "print(len(balanced))\n",
    "gams = list(balanced.gam.unique())\n",
    "p_medias = list(balanced.p_media.unique())\n",
    "epss = list(balanced.eps.unique())\n",
    "mos = list(balanced.media_op.unique())\n",
    "print(gams, p_medias, epss, mos)"
   ]
  },
  {
   "cell_type": "code",
   "execution_count": 9,
   "metadata": {},
   "outputs": [
    {
     "name": "stdout",
     "output_type": "stream",
     "text": [
      "144\n",
      "[0.0, 0.5, 0.75, 1.0, 1.25, 1.5] [0.0, 0.1, 0.2, 0.3, 0.4, 0.5] [0.2, 0.3, 0.4, 0.5] ['0.05;0.95']\n"
     ]
    }
   ],
   "source": [
    "polarised = results[results['media_op'] == '0.05;0.95']\n",
    "print(len(polarised))\n",
    "gams = list(polarised.gam.unique())\n",
    "p_medias = list(polarised.p_media.unique())\n",
    "epss = list(polarised.eps.unique())\n",
    "mos = list(polarised.media_op.unique())\n",
    "print(gams, p_medias, epss, mos)"
   ]
  },
  {
   "cell_type": "code",
   "execution_count": 10,
   "metadata": {},
   "outputs": [
    {
     "name": "stdout",
     "output_type": "stream",
     "text": [
      "144\n",
      "[0.0, 0.5, 0.75, 1.0, 1.25, 1.5] [0.0, 0.1, 0.2, 0.3, 0.4, 0.5] [0.2, 0.3, 0.4, 0.5] ['0.0']\n"
     ]
    }
   ],
   "source": [
    "extremist = results[results['media_op'] == '0.0']\n",
    "print(len(extremist))\n",
    "gams = list(extremist.gam.unique())\n",
    "p_medias = list(extremist.p_media.unique())\n",
    "epss = list(extremist.eps.unique())\n",
    "mos = list(extremist.media_op.unique())\n",
    "print(gams, p_medias, epss, mos)"
   ]
  },
  {
   "cell_type": "code",
   "execution_count": 11,
   "metadata": {},
   "outputs": [
    {
     "name": "stdout",
     "output_type": "stream",
     "text": [
      "144\n",
      "[0.0, 0.5, 0.75, 1.0, 1.25, 1.5] [0.0, 0.1, 0.2, 0.3, 0.4, 0.5] [0.2, 0.3, 0.4, 0.5] ['0.5']\n"
     ]
    }
   ],
   "source": [
    "moderate = results[results['media_op'] == '0.5']\n",
    "print(len(moderate))\n",
    "gams = list(moderate.gam.unique())\n",
    "p_medias = list(moderate.p_media.unique())\n",
    "epss = list(moderate.eps.unique())\n",
    "mos = list(moderate.media_op.unique())\n",
    "print(gams, p_medias, epss, mos)"
   ]
  },
  {
   "cell_type": "code",
   "execution_count": 12,
   "metadata": {},
   "outputs": [
    {
     "data": {
      "text/plain": [
       "Index(['n', 'p', 'eps', 'gam', 'gam_media', 'p_media', 'max_it', 'media_op',\n",
       "       'avg_ncluster_0.01', 'std_ncluster_0.01', 'med_ncluster_0.01',\n",
       "       'Q1_ncluster_0.01', 'Q3_ncluster_0.01', 'iqm_ncluster',\n",
       "       'std_iqm_ncluster', 'avg_avg_opinion', 'std_avg_opinion',\n",
       "       'med_avg_opinion', 'Q1_avg_opinion', 'Q3_avg_opinion',\n",
       "       'avg_median_opinion', 'std_median_opinion', 'med_median_opinion',\n",
       "       'Q1_median_opinion', 'Q3_median_opinion', 'avg_std_opinions',\n",
       "       'std_std_opinions', 'med_std_opinions', 'Q1_std_opinions',\n",
       "       'Q3_std_opinions', 'avg_095_perc', 'std_095_perc', 'med_095_perc',\n",
       "       'Q1_095_perc', 'Q3_095_perc', 'avg_00_perc', 'std_00_perc',\n",
       "       'med_00_perc', 'Q1_00_perc', 'Q3_00_perc', 'avg_05_perc', 'std_05_perc',\n",
       "       'med_05_perc', 'Q1_05_perc', 'Q3_05_perc', 'avg_005_perc',\n",
       "       'std_005_perc', 'med_005_perc', 'Q1_005_perc', 'Q3_005_perc',\n",
       "       'avg_100B_norm_entr', 'std_100B_norm_entr', 'med_100B_norm_entr',\n",
       "       'Q1_100B_norm_entr', 'Q3_100B_norm_entr', 'avg_niter', 'std_niter',\n",
       "       'med_niter', 'Q1_niter', 'Q3_niter', 'avg_pwdist', 'std_pwdist',\n",
       "       'med_pwdist', 'Q1_pwdist', 'Q3_pwdist', 'iqm_pwdist', 'std_iqm_pwdist',\n",
       "       'iqm_niter', 'std_iqm_niter'],\n",
       "      dtype='object')"
      ]
     },
     "execution_count": 12,
     "metadata": {},
     "output_type": "execute_result"
    }
   ],
   "source": [
    "results.columns"
   ]
  },
  {
   "cell_type": "code",
   "execution_count": 158,
   "metadata": {},
   "outputs": [],
   "source": [
    "averages = [a for a in list(results.columns) if a.startswith('avg') or a.startswith('iqm')]\n",
    "medians = [m for m in  list(results.columns) if m.startswith('med')]\n",
    "Q1s = [q for q in  list(results.columns) if q.startswith('Q1')]\n",
    "Q3s = [q for q in  list(results.columns) if q.startswith('Q3')]\n",
    "titles = ['pairwise distance', '# clusters', '# clusters', '# iterations', 'average opinion', 'std opinions', 'median opinion', '% extremist (0.0)', '% moderates (0.5)', '% extremists (0.05)', '% extremists (0.95)', 'normalized entropy', 'normalized entropy']\n",
    "# stdmeasures = ['std_'+measure for measure in measures]\n",
    "# stdmeasures"
   ]
  },
  {
   "cell_type": "markdown",
   "metadata": {},
   "source": [
    "# Heatmaps"
   ]
  },
  {
   "cell_type": "code",
   "execution_count": 161,
   "metadata": {},
   "outputs": [
    {
     "name": "stdout",
     "output_type": "stream",
     "text": [
      "done\n",
      "done\n",
      "done\n",
      "done\n"
     ]
    }
   ],
   "source": [
    "#balanced setting\n",
    "setting = 'balanced'\n",
    "df = balanced\n",
    "sns.set(font_scale=2.0)\n",
    "plt.rcParams['font.family']='serif'\n",
    "plt.rcParams['font.weight']='bold'\n",
    "\n",
    "for measure in averages:\n",
    "    if not os.path.exists(f'scirep/plots/{setting}/{measure}'):\n",
    "            os.mkdir(f'scirep/plots/{setting}/{measure}')\n",
    "for measure in medians:\n",
    "    if not os.path.exists(f'scirep/plots/{setting}/{measure}'):\n",
    "            os.mkdir(f'scirep/plots/{setting}/{measure}')\n",
    "            \n",
    "for measure in averages:\n",
    "    for eps in sorted(df.eps.unique()):\n",
    "        fig, ax = plt.subplots(figsize=(5, 5), dpi=600)\n",
    "        x = \"p_media\"\n",
    "        y = \"gam\"\n",
    "        data = df[df[\"eps\"]==eps]\n",
    "        d = data.pivot(x, y, measure)\n",
    "        if max(df[measure]) > 100:\n",
    "            a=sns.heatmap(d, cbar=False, cbar_kws = dict(use_gridspec=False, location=\"top\"), fmt=\".0f\", annot=False, ax = ax, cmap=heatmap_cmap, vmin=min(df[measure]), vmax=max(df[measure]), annot_kws={\n",
    "                'fontsize': 14,\n",
    "                'fontweight': 'bold',\n",
    "                'fontfamily': 'serif'\n",
    "            })\n",
    "        elif max(df[measure]) > 10:\n",
    "            a=sns.heatmap(d, cbar=False, cbar_kws = dict(use_gridspec=False, location=\"top\"), fmt=\".1f\", annot=True, ax = ax, cmap=heatmap_cmap, vmin=min(df[measure]), vmax=max(df[measure]), annot_kws={\n",
    "                'fontsize': 14,\n",
    "                'fontweight': 'bold',\n",
    "                'fontfamily': 'serif'\n",
    "            })\n",
    "        else:\n",
    "            a=sns.heatmap(d, cbar=False, cbar_kws = dict(use_gridspec=False, location=\"top\"), fmt=\".2f\", annot=True, ax = ax, cmap=heatmap_cmap, vmin=min(df[measure]), vmax=max(df[measure]), annot_kws={\n",
    "                'fontsize': 14,\n",
    "                'fontweight': 'bold',\n",
    "                'fontfamily': 'serif'\n",
    "            })\n",
    "        ax.set_xlabel(r'$\\gamma$', fontsize=30, fontfamily='serif')\n",
    "        ax.set_ylabel(r'$p_m$', fontsize=30, fontfamily='serif')\n",
    "        plt.savefig(f\"scirep/plots/{setting}/{measure}/{setting}_{measure}_e{eps}_heatmap.png\", bbox_inches=\"tight\")\n",
    "        plt.close()\n",
    "print('done')     \n",
    "\n",
    "#polarised setting\n",
    "setting = 'polarised'\n",
    "df = polarised\n",
    "sns.set(font_scale=2.0)\n",
    "plt.rcParams['font.family']='serif'\n",
    "plt.rcParams['font.weight']='bold'\n",
    "\n",
    "for measure in averages:\n",
    "    if not os.path.exists(f'scirep/plots/{setting}/{measure}'):\n",
    "            os.mkdir(f'scirep/plots/{setting}/{measure}')\n",
    "for measure in medians:\n",
    "    if not os.path.exists(f'scirep/plots/{setting}/{measure}'):\n",
    "            os.mkdir(f'scirep/plots/{setting}/{measure}')\n",
    "            \n",
    "for measure in averages:\n",
    "    for eps in sorted(df.eps.unique()):\n",
    "        fig, ax = plt.subplots(figsize=(5, 5), dpi=600)\n",
    "        x = \"p_media\"\n",
    "        y = \"gam\"\n",
    "        data = df[df[\"eps\"]==eps]\n",
    "        d = data.pivot(x, y, measure)\n",
    "        if max(df[measure]) > 100:\n",
    "            a=sns.heatmap(d, cbar=False, cbar_kws = dict(use_gridspec=False, location=\"top\"), fmt=\".0f\", annot=False, ax = ax, cmap=heatmap_cmap, vmin=min(df[measure]), vmax=max(df[measure]), annot_kws={\n",
    "                'fontsize': 14,\n",
    "                'fontweight': 'bold',\n",
    "                'fontfamily': 'serif'\n",
    "            })\n",
    "        elif max(df[measure]) > 10:\n",
    "            a=sns.heatmap(d, cbar=False, cbar_kws = dict(use_gridspec=False, location=\"top\"), fmt=\".1f\", annot=True, ax = ax, cmap=heatmap_cmap, vmin=min(df[measure]), vmax=max(df[measure]), annot_kws={\n",
    "                'fontsize': 14,\n",
    "                'fontweight': 'bold',\n",
    "                'fontfamily': 'serif'\n",
    "            })\n",
    "        else:\n",
    "            a=sns.heatmap(d, cbar=False, cbar_kws = dict(use_gridspec=False, location=\"top\"), fmt=\".2f\", annot=True, ax = ax, cmap=heatmap_cmap, vmin=min(df[measure]), vmax=max(df[measure]), annot_kws={\n",
    "                'fontsize': 14,\n",
    "                'fontweight': 'bold',\n",
    "                'fontfamily': 'serif'\n",
    "            })\n",
    "        ax.set_xlabel(r'$\\gamma$', fontsize=30, fontfamily='serif')\n",
    "        ax.set_ylabel(r'$p_m$', fontsize=30, fontfamily='serif')\n",
    "        plt.savefig(f\"scirep/plots/{setting}/{measure}/{setting}_{measure}_e{eps}_heatmap.png\", bbox_inches=\"tight\")\n",
    "        plt.close()\n",
    "\n",
    "print('done')      \n",
    "setting = 'extremist'\n",
    "df = extremist\n",
    "sns.set(font_scale=2.0)\n",
    "plt.rcParams['font.family']='serif'\n",
    "plt.rcParams['font.weight']='bold'\n",
    "\n",
    "for measure in averages:\n",
    "    if not os.path.exists(f'scirep/plots/{setting}/{measure}'):\n",
    "            os.mkdir(f'scirep/plots/{setting}/{measure}')\n",
    "for measure in medians:\n",
    "    if not os.path.exists(f'scirep/plots/{setting}/{measure}'):\n",
    "            os.mkdir(f'scirep/plots/{setting}/{measure}')\n",
    "            \n",
    "for measure in averages:\n",
    "    for eps in sorted(df.eps.unique()):\n",
    "        fig, ax = plt.subplots(figsize=(5, 5), dpi=600)\n",
    "        x = \"p_media\"\n",
    "        y = \"gam\"\n",
    "        data = df[df[\"eps\"]==eps]\n",
    "        d = data.pivot(x, y, measure)\n",
    "        if max(df[measure]) > 100:\n",
    "            a=sns.heatmap(d, cbar=False, cbar_kws = dict(use_gridspec=False, location=\"top\"), fmt=\".0f\", annot=False, ax = ax, cmap=heatmap_cmap, vmin=min(df[measure]), vmax=max(df[measure]), annot_kws={\n",
    "                'fontsize': 14,\n",
    "                'fontweight': 'bold',\n",
    "                'fontfamily': 'serif'\n",
    "            })\n",
    "        elif max(df[measure]) > 10:\n",
    "            a=sns.heatmap(d, cbar=False, cbar_kws = dict(use_gridspec=False, location=\"top\"), fmt=\".1f\", annot=True, ax = ax, cmap=heatmap_cmap, vmin=min(df[measure]), vmax=max(df[measure]), annot_kws={\n",
    "                'fontsize': 14,\n",
    "                'fontweight': 'bold',\n",
    "                'fontfamily': 'serif'\n",
    "            })\n",
    "        else:\n",
    "            a=sns.heatmap(d, cbar=False, cbar_kws = dict(use_gridspec=False, location=\"top\"), fmt=\".2f\", annot=True, ax = ax, cmap=heatmap_cmap, vmin=min(df[measure]), vmax=max(df[measure]), annot_kws={\n",
    "                'fontsize': 14,\n",
    "                'fontweight': 'bold',\n",
    "                'fontfamily': 'serif'\n",
    "            })\n",
    "        ax.set_xlabel(r'$\\gamma$', fontsize=30, fontfamily='serif')\n",
    "        ax.set_ylabel(r'$p_m$', fontsize=30, fontfamily='serif')\n",
    "        plt.savefig(f\"scirep/plots/{setting}/{measure}/{setting}_{measure}_e{eps}_heatmap.png\", bbox_inches=\"tight\")\n",
    "        plt.close()\n",
    "print('done')\n",
    "setting = 'moderate'\n",
    "df = moderate\n",
    "sns.set(font_scale=2.0)\n",
    "plt.rcParams['font.family']='serif'\n",
    "plt.rcParams['font.weight']='bold'\n",
    "\n",
    "for measure in averages:\n",
    "    if not os.path.exists(f'scirep/plots/{setting}/{measure}'):\n",
    "            os.mkdir(f'scirep/plots/{setting}/{measure}')\n",
    "for measure in medians:\n",
    "    if not os.path.exists(f'scirep/plots/{setting}/{measure}'):\n",
    "            os.mkdir(f'scirep/plots/{setting}/{measure}')\n",
    "            \n",
    "for measure in averages:\n",
    "    for eps in sorted(df.eps.unique()):\n",
    "        fig, ax = plt.subplots(figsize=(5, 5), dpi=600)\n",
    "        x = \"p_media\"\n",
    "        y = \"gam\"\n",
    "        data = df[df[\"eps\"]==eps]\n",
    "        d = data.pivot(x, y, measure)\n",
    "        if max(df[measure]) > 100:\n",
    "            a=sns.heatmap(d, cbar=False, cbar_kws = dict(use_gridspec=False, location=\"top\"), fmt=\".0f\", annot=False, ax = ax, cmap=heatmap_cmap, vmin=min(df[measure]), vmax=max(df[measure]), annot_kws={\n",
    "                'fontsize': 14,\n",
    "                'fontweight': 'bold',\n",
    "                'fontfamily': 'serif'\n",
    "            })\n",
    "        elif max(df[measure]) > 10:\n",
    "            a=sns.heatmap(d, cbar=False, cbar_kws = dict(use_gridspec=False, location=\"top\"), fmt=\".1f\", annot=True, ax = ax, cmap=heatmap_cmap, vmin=min(df[measure]), vmax=max(df[measure]), annot_kws={\n",
    "                'fontsize': 14,\n",
    "                'fontweight': 'bold',\n",
    "                'fontfamily': 'serif'\n",
    "            })\n",
    "        else:\n",
    "            a=sns.heatmap(d, cbar=False, cbar_kws = dict(use_gridspec=False, location=\"top\"), fmt=\".2f\", annot=True, ax = ax, cmap=heatmap_cmap, vmin=min(df[measure]), vmax=max(df[measure]), annot_kws={\n",
    "                'fontsize': 14,\n",
    "                'fontweight': 'bold',\n",
    "                'fontfamily': 'serif'\n",
    "            })\n",
    "        ax.set_xlabel(r'$\\gamma$', fontsize=30, fontfamily='serif')\n",
    "        ax.set_ylabel(r'$p_m$', fontsize=30, fontfamily='serif')\n",
    "        plt.savefig(f\"scirep/plots/{setting}/{measure}/{setting}_{measure}_e{eps}_heatmap.png\", bbox_inches=\"tight\")\n",
    "        plt.close()\n",
    "print('done')"
   ]
  },
  {
   "cell_type": "markdown",
   "metadata": {},
   "source": [
    "### 2D"
   ]
  },
  {
   "cell_type": "code",
   "execution_count": 140,
   "metadata": {},
   "outputs": [],
   "source": [
    "# ### problema da risolvere: error bar asimmetriche\n",
    "# ### allora invece di fare media e sd potrei fare dei mini boxplottini però devo andà a riacchiappà i file originali \n",
    "\n",
    "# from matplotlib.ticker import FormatStrFormatter\n",
    "\n",
    "# markers = ['s', 'o', 'v', '^', '<', '>']\n",
    "# colors = ['tab:red', 'tab:blue', 'tab:green', 'yellow', 'purple', 'orange']\n",
    "# sns.set(font_scale=2.5)\n",
    "# sns.set_style(\"whitegrid\")\n",
    "# plt.rcParams['xtick.major.size'] = 10\n",
    "# plt.rcParams['xtick.major.width'] = 4\n",
    "# plt.rcParams['ytick.major.size'] = 10\n",
    "# plt.rcParams['ytick.major.width'] = 4\n",
    "# plt.rcParams['xtick.bottom'] = True\n",
    "# plt.rcParams['ytick.left'] = True\n",
    "# plt.rcParams['font.family']='serif'\n",
    "# plt.rcParams['font.weight']='bold'\n",
    "# plt.rcParams['font.size'] = 16\n",
    "\n",
    "# m = 0\n",
    "# for measure in medians:\n",
    "#     i=0\n",
    "#     for eps in sorted(df.eps.unique()):\n",
    "#         fig, ax = plt.subplots(figsize=(15, 5), nrows=1, ncols=1, dpi=600)\n",
    "#         x = \"gam\"\n",
    "#         y = \"p_media\"\n",
    "#         data = df[df[\"eps\"]==eps]\n",
    "#         j = 0\n",
    "#         for pm in [0.0, 0.1, 0.2, 0.3, 0.4, 0.5]:\n",
    "#             data1 = data[data['p_media'] == pm]\n",
    "#             ax.errorbar(x = data1['gam'], y=data1[measure])\n",
    "#             j+=1\n",
    "#         j=0\n",
    "#         for pm in [0.0, 0.1, 0.2, 0.3, 0.4, 0.5]:\n",
    "#             data1 = data[data['p_media'] == pm]\n",
    "# #             ax.scatter(x = data1['gam'], y=data1[measure], marker = [], c=colors[j], label=pm)\n",
    "#             j +=1 \n",
    "#         ax.set_xlabel(r'$\\gamma$', fontsize=30, labelpad=10)\n",
    "# #         ax.set_ylabel(f'{titles[m]}', fontsize=30, labelpad=10)\n",
    "#         ax.set_xticks([0.0, 0.25, 0.5, 0.75, 1.0, 1.25, 1.5])\n",
    "#         ax.tick_params(axis='x', which='both', labelrotation=45)\n",
    "#         ax.tick_params(axis='y', which='both', pad=5)\n",
    "#         ax.legend(loc='best', title=r'$p_m$', prop={'size': 10})\n",
    "# #         ax.set_ylim(bottom=min(df[measure])-max(df[errs[m]])-0.05, top = max(df[measure])+max(df[errs[m]])+0.05)\n",
    "#         ax.yaxis.set_major_formatter(FormatStrFormatter('%.2f'))\n",
    "# #     plt.savefig(f\"plots/{setting}/{measure}/{setting}_{measure}_e{eps}_2D.png\", bbox_inches=\"tight\")\n",
    "#     plt.show()\n",
    "#     plt.close()\n",
    "#     m+=1"
   ]
  },
  {
   "cell_type": "markdown",
   "metadata": {},
   "source": [
    "i = 0\n",
    "while i<1000:\n",
    "    print(\"QUESTA è LA MIA SCRIVANIAAAAAAAAAAAAAAAAAAAAAAAAA\")\n",
    "    print(\"PORCODIOOOOOOOOOOOOOOOOOOOOOOOOOOOOOOOOOOOOOOOOOOOOOOOOOOOOOOOOOOOOOOOOOOOOOOOOOOOOOOOOOOOOOOOOOOOOOO\")\n",
    "    i+=1"
   ]
  },
  {
   "cell_type": "markdown",
   "metadata": {},
   "source": [
    "### Heatmap"
   ]
  },
  {
   "cell_type": "code",
   "execution_count": 141,
   "metadata": {
    "scrolled": true
   },
   "outputs": [],
   "source": [
    "# sns.set(font_scale=2.0)\n",
    "# plt.rcParams['font.family']='serif'\n",
    "# plt.rcParams['font.weight']='bold'\n",
    "\n",
    "# for measure in averages:\n",
    "#     for eps in sorted(df.eps.unique()):\n",
    "#         fig, ax = plt.subplots(figsize=(5, 5), dpi=600)\n",
    "#         x = \"p_media\"\n",
    "#         y = \"gam\"\n",
    "#         data = df[df[\"eps\"]==eps]\n",
    "#         d = data.pivot(x, y, measure)\n",
    "#         if measure == \"iqm_niter\":\n",
    "#             a=sns.heatmap(d, cbar=False, cbar_kws = dict(use_gridspec=False, location=\"top\"), fmt=\".0f\", annot=True, ax = ax, cmap=heatmap_cmap, vmin=min(df[measure]), vmax=max(df[measure]), annot_kws={\n",
    "#                 'fontsize': 16,\n",
    "#                 'fontweight': 'bold',\n",
    "#                 'fontfamily': 'serif'\n",
    "#             })\n",
    "#         else:\n",
    "#             a=sns.heatmap(d, cbar=False, cbar_kws = dict(use_gridspec=False, location=\"top\"), fmt=\".2f\", annot=True, ax = ax, cmap=heatmap_cmap, vmin=min(df[measure]), vmax=max(df[measure]), annot_kws={\n",
    "#                 'fontsize': 16,\n",
    "#                 'fontweight': 'bold',\n",
    "#                 'fontfamily': 'serif'\n",
    "#             })\n",
    "#         ax.set_xlabel(r'$\\gamma$', fontsize=30, fontfamily='serif')\n",
    "#         ax.set_ylabel(r'$p_m$', fontsize=30, fontfamily='serif')\n",
    "#         plt.savefig(f\"plots/{setting}/{measure}/{setting}_{measure}_e{eps}_heatmap.png\", bbox_inches=\"tight\")\n",
    "#         plt.close()"
   ]
  },
  {
   "cell_type": "markdown",
   "metadata": {},
   "source": [
    "### Surface"
   ]
  },
  {
   "cell_type": "code",
   "execution_count": 142,
   "metadata": {},
   "outputs": [],
   "source": [
    "# sns.set(font_scale=2.0)\n",
    "# sns.set_style(\"whitegrid\")\n",
    "# plt.rcParams['font.family']='serif'\n",
    "# plt.rcParams['font.weight']='bold'\n",
    "# plt.rcParams['font.size'] = 32\n",
    "# for measure in averages:\n",
    "#     for eps in sorted(moderate.eps.unique()):\n",
    "#         x = \"gam\"\n",
    "#         y = \"p_meda\"\n",
    "#         data = moderate[moderate[\"eps\"]==eps]\n",
    "#         fig = plt.figure(figsize=(15, 10))\n",
    "#         ax = fig.gca(projection='3d')\n",
    "#         ax.plot_trisurf(data['gam'], data['p_media'], data[measure], cmap=heatmap_cmap, linewidth=0.0, alpha=0.8)\n",
    "#         surf=ax.plot_trisurf(data['gam'], data['p_media'], data[measure], cmap=heatmap_cmap, linewidth=0.0, alpha=0.8)\n",
    "#         ax.set_xlabel(r'$\\gamma$', fontsize=40, labelpad=30)\n",
    "#         ax.set_ylabel(r'$p_m$', fontsize=50, labelpad=30)\n",
    "#         ax.tick_params(axis='x', which='major', labelrotation=45)\n",
    "#         ax.tick_params(axis='y', which='major', pad=10)\n",
    "#         ax.tick_params(axis='z', which='major', pad=10)  \n",
    "#         plt.savefig(f'plots/moderate/{measure}/moderate_{measure}_e{eps}_surface.png', bbox_inches=\"tight\")\n",
    "#         plt.close() "
   ]
  },
  {
   "cell_type": "code",
   "execution_count": null,
   "metadata": {},
   "outputs": [],
   "source": []
  },
  {
   "cell_type": "code",
   "execution_count": null,
   "metadata": {},
   "outputs": [],
   "source": []
  },
  {
   "cell_type": "code",
   "execution_count": null,
   "metadata": {},
   "outputs": [],
   "source": []
  },
  {
   "cell_type": "code",
   "execution_count": null,
   "metadata": {},
   "outputs": [],
   "source": []
  },
  {
   "cell_type": "code",
   "execution_count": null,
   "metadata": {},
   "outputs": [],
   "source": []
  },
  {
   "cell_type": "code",
   "execution_count": null,
   "metadata": {},
   "outputs": [],
   "source": []
  },
  {
   "cell_type": "code",
   "execution_count": null,
   "metadata": {},
   "outputs": [],
   "source": []
  },
  {
   "cell_type": "code",
   "execution_count": null,
   "metadata": {},
   "outputs": [],
   "source": []
  },
  {
   "cell_type": "code",
   "execution_count": null,
   "metadata": {},
   "outputs": [],
   "source": []
  },
  {
   "cell_type": "code",
   "execution_count": null,
   "metadata": {},
   "outputs": [],
   "source": []
  },
  {
   "cell_type": "code",
   "execution_count": null,
   "metadata": {},
   "outputs": [],
   "source": []
  },
  {
   "cell_type": "code",
   "execution_count": null,
   "metadata": {},
   "outputs": [],
   "source": []
  },
  {
   "cell_type": "code",
   "execution_count": null,
   "metadata": {},
   "outputs": [],
   "source": []
  },
  {
   "cell_type": "code",
   "execution_count": null,
   "metadata": {},
   "outputs": [],
   "source": []
  },
  {
   "cell_type": "code",
   "execution_count": null,
   "metadata": {},
   "outputs": [],
   "source": []
  },
  {
   "cell_type": "code",
   "execution_count": null,
   "metadata": {},
   "outputs": [],
   "source": []
  },
  {
   "cell_type": "code",
   "execution_count": null,
   "metadata": {
    "scrolled": true
   },
   "outputs": [
    {
     "name": "stderr",
     "output_type": "stream",
     "text": [
      "  0%|                                                                          | 22/1000000 [00:00<1:16:20, 218.33it/s]"
     ]
    },
    {
     "name": "stdout",
     "output_type": "stream",
     "text": [
      "doing\n",
      "scirep/plots/balanced/spaghetti_balanced_pm0.5_e0.5_g0.0.png\n"
     ]
    },
    {
     "name": "stderr",
     "output_type": "stream",
     "text": [
      "  0%|▏                                                                       | 2048/1000000 [00:10<1:24:04, 197.82it/s]"
     ]
    }
   ],
   "source": [
    "import sys\n",
    "sys.path.append(\"/../Lib/\")\n",
    "import sys\n",
    "sys.path.append(\"/../Lib/\")\n",
    "sys.path.append(\"/../Lib/netdspatch_local/\")\n",
    "sys.path.append(\"/../Lib/ndlib_local/\")\n",
    "\n",
    "import json\n",
    "import os\n",
    "import networkx as nx\n",
    "import ndlib.models.ModelConfig as mc\n",
    "import ndlib.models.opinions as op\n",
    "import warnings\n",
    "warnings.filterwarnings(\"ignore\")\n",
    "\n",
    "sns.set(font_scale=2.0)\n",
    "plt.rcParams['font.family']='serif'\n",
    "plt.rcParams['font.weight']='bold'\n",
    "plt.rcParams['font.size'] = 32\n",
    "\n",
    "n = 100\n",
    "graph = nx.complete_graph(n)\n",
    "max_it = 1000000\n",
    "i = 0\n",
    "for mo in [[0.0], [0.5], [0.05, 0.95], [0.05, 0.5, 0.95]]:\n",
    "    settings = ['extremist', 'moderate', 'polarised', 'balanced']\n",
    "    for pm in [0.0, 0.5]:\n",
    "        for e in [0.2, 0.3, 0.4, 0.5]:\n",
    "            for g in [0.0, 0.5, 1.0, 1.5]:\n",
    "                if not os.path.exists(f\"scirep/plots/{settings[i]}/spaghetti_{settings[i]}_pm{pm}_e{e}_g{g}.png\"):\n",
    "                    print(\"doing\")\n",
    "                    print((f\"scirep/plots/{settings[i]}/spaghetti_{settings[i]}_pm{pm}_e{e}_g{g}.png\"))\n",
    "                    sns.set_style(\"white\")\n",
    "                    model = op.AlgorithmicBiasMediaModel(graph)\n",
    "                    config = mc.Configuration()\n",
    "                    config.add_model_parameter(\"epsilon\", e)\n",
    "                    config.add_model_parameter(\"gamma\", g)\n",
    "                    config.add_model_parameter(\"gamma_media\", g)\n",
    "                    config.add_model_parameter(\"k\", len(mo))\n",
    "                    config.add_model_parameter(\"p\", pm)\n",
    "                    model.set_initial_status(config)\n",
    "                    model.set_media_opinions(mo)\n",
    "                    # # Simulation execution\n",
    "                    iterations = model.steady_state(max_iterations=max_it, nsteady=1000, sensibility=0.00001, node_status=True, progress_bar=True, drop_evolution=False)\n",
    "                    fig, ax = plt.subplots(figsize=(7, 5), dpi=600)\n",
    "                    evolution(iterations, spaghetti_hex_list, fig=fig, ax=ax)\n",
    "#                     plt.title(r'$\\epsilon$='+f'{e},'+r'$\\gamma$='+f'{g},'+r'$p_m$='+f'{pm}')\n",
    "                    plt.savefig(f\"scirep/plots/{settings[i]}/spaghetti_{settings[i]}_pm{pm}_e{e}_g{g}.png\", bbox_inches=\"tight\")\n",
    "                    plt.close()\n",
    "                else:\n",
    "                    continue\n",
    "                    print(f\"esiste già\")\n",
    "                    print(f\"scirep/plots/{settings[i]}/spaghetti_{settings[i]}_pm{pm}_e{e}_g{g}.png\")\n",
    "    i+=1"
   ]
  },
  {
   "cell_type": "code",
   "execution_count": 6,
   "metadata": {},
   "outputs": [],
   "source": [
    "import matplotlib as mpl\n",
    "mpl.rcParams['agg.path.chunksize'] = 10000000"
   ]
  },
  {
   "cell_type": "code",
   "execution_count": null,
   "metadata": {},
   "outputs": [],
   "source": []
  },
  {
   "cell_type": "code",
   "execution_count": null,
   "metadata": {},
   "outputs": [],
   "source": []
  },
  {
   "cell_type": "code",
   "execution_count": null,
   "metadata": {},
   "outputs": [],
   "source": []
  },
  {
   "cell_type": "code",
   "execution_count": null,
   "metadata": {},
   "outputs": [],
   "source": []
  },
  {
   "cell_type": "code",
   "execution_count": null,
   "metadata": {},
   "outputs": [],
   "source": []
  },
  {
   "cell_type": "code",
   "execution_count": null,
   "metadata": {},
   "outputs": [],
   "source": []
  },
  {
   "cell_type": "code",
   "execution_count": null,
   "metadata": {},
   "outputs": [],
   "source": []
  },
  {
   "cell_type": "code",
   "execution_count": null,
   "metadata": {},
   "outputs": [],
   "source": []
  }
 ],
 "metadata": {
  "@webio": {
   "lastCommId": null,
   "lastKernelId": null
  },
  "kernelspec": {
   "display_name": "Python 3 (ipykernel)",
   "language": "python",
   "name": "python3"
  },
  "language_info": {
   "codemirror_mode": {
    "name": "ipython",
    "version": 3
   },
   "file_extension": ".py",
   "mimetype": "text/x-python",
   "name": "python",
   "nbconvert_exporter": "python",
   "pygments_lexer": "ipython3",
   "version": "3.7.3"
  },
  "vscode": {
   "interpreter": {
    "hash": "0a54084e6b208ee8d1ce3989ffc20924477a5f55f5a43e22e699a6741623861e"
   }
  }
 },
 "nbformat": 4,
 "nbformat_minor": 2
}
