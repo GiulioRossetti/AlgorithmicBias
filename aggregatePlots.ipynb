{
 "cells": [
  {
   "cell_type": "code",
   "execution_count": null,
   "metadata": {},
   "outputs": [],
   "source": [
    "%pip install matplotlib"
   ]
  },
  {
   "cell_type": "code",
   "execution_count": null,
   "metadata": {},
   "outputs": [],
   "source": [
    "%matplotlib inline\n",
    "import pandas as pd\n",
    "import matplotlib.pyplot as plt\n",
    "import matplotlib as mpl\n",
    "import seaborn as sns\n",
    "import os\n",
    "from mpl_toolkits.mplot3d import Axes3D\n",
    "from PIL import Image\n",
    "import os\n",
    "import matplotlib as mpl\n",
    "if os.environ.get('DISPLAY', '') == '':\n",
    "    print('no display found. Using non-interactive Agg backend')\n",
    "#     mpl.use('Agg')\n",
    "import future.utils\n",
    "mpl.rcParams[\"text.usetex\"] = False\n",
    "sns.set_style(\"whitegrid\")\n",
    "sns.axes_style(\"whitegrid\")\n",
    "sns.set_theme(style=\"white\", rc={\"axes.facecolor\": (0, 0, 0, 0)})\n",
    "import json\n",
    "import numpy as np\n",
    "import tqdm\n"
   ]
  },
  {
   "cell_type": "code",
   "execution_count": null,
   "metadata": {},
   "outputs": [],
   "source": [
    "print('matplotlib: {}'. format(mpl.__version__))"
   ]
  },
  {
   "cell_type": "markdown",
   "metadata": {},
   "source": [
    "# Preliminaries"
   ]
  },
  {
   "cell_type": "code",
   "execution_count": null,
   "metadata": {},
   "outputs": [],
   "source": [
    "results = pd.read_csv(\"aggregate/results_media_model.csv\", index_col=[0])\n"
   ]
  },
  {
   "cell_type": "code",
   "execution_count": null,
   "metadata": {},
   "outputs": [],
   "source": [
    "results = results[results['gam'] != 0.25]\n",
    "results"
   ]
  },
  {
   "cell_type": "code",
   "execution_count": null,
   "metadata": {},
   "outputs": [],
   "source": [
    "gams = list(results.gam.unique())\n",
    "p_medias = list(results.p_media.unique())\n",
    "epss = list(results.eps.unique())\n",
    "mos = list(results.media_op.unique())\n",
    "print(gams, p_medias, epss, mos)"
   ]
  },
  {
   "cell_type": "code",
   "execution_count": null,
   "metadata": {},
   "outputs": [],
   "source": [
    "threemedia = results[results['media_op'] == '0.05;0.5;0.95']\n",
    "print(len(threemedia))\n",
    "gams = list(threemedia.gam.unique())\n",
    "p_medias = list(threemedia.p_media.unique())\n",
    "epss = list(threemedia.eps.unique())\n",
    "mos = list(threemedia.media_op.unique())\n",
    "print(gams, p_medias, epss, mos)"
   ]
  },
  {
   "cell_type": "code",
   "execution_count": null,
   "metadata": {},
   "outputs": [],
   "source": [
    "twomedia = results[results['media_op'] == '0.05;0.95']\n",
    "print(len(twomedia))\n",
    "gams = list(twomedia.gam.unique())\n",
    "p_medias = list(twomedia.p_media.unique())\n",
    "epss = list(twomedia.eps.unique())\n",
    "mos = list(twomedia.media_op.unique())\n",
    "print(gams, p_medias, epss, mos)"
   ]
  },
  {
   "cell_type": "code",
   "execution_count": null,
   "metadata": {},
   "outputs": [],
   "source": [
    "extremist = results[results['media_op'] == '0.0']\n",
    "print(len(extremist))\n",
    "gams = list(extremist.gam.unique())\n",
    "p_medias = list(extremist.p_media.unique())\n",
    "epss = list(extremist.eps.unique())\n",
    "mos = list(extremist.media_op.unique())\n",
    "print(gams, p_medias, epss, mos)"
   ]
  },
  {
   "cell_type": "code",
   "execution_count": null,
   "metadata": {},
   "outputs": [],
   "source": [
    "moderate = results[results['media_op'] == '0.5']\n",
    "print(len(moderate))\n",
    "gams = list(moderate.gam.unique())\n",
    "p_medias = list(moderate.p_media.unique())\n",
    "epss = list(moderate.eps.unique())\n",
    "mos = list(moderate.media_op.unique())\n",
    "print(gams, p_medias, epss, mos)"
   ]
  },
  {
   "cell_type": "code",
   "execution_count": null,
   "metadata": {},
   "outputs": [],
   "source": [
    "deffuant = results[results['gam']==0.0]"
   ]
  },
  {
   "cell_type": "code",
   "execution_count": null,
   "metadata": {},
   "outputs": [],
   "source": [
    "measures = list(deffuant.columns)[8:]"
   ]
  },
  {
   "cell_type": "code",
   "execution_count": null,
   "metadata": {},
   "outputs": [],
   "source": [
    "print(measures)"
   ]
  },
  {
   "cell_type": "markdown",
   "metadata": {},
   "source": [
    "# Bounded confidence model with media"
   ]
  },
  {
   "cell_type": "code",
   "execution_count": null,
   "metadata": {},
   "outputs": [],
   "source": [
    "%cd plots"
   ]
  },
  {
   "cell_type": "code",
   "execution_count": null,
   "metadata": {},
   "outputs": [],
   "source": [
    "%mkdir \"deffuant\""
   ]
  },
  {
   "cell_type": "code",
   "execution_count": null,
   "metadata": {},
   "outputs": [],
   "source": [
    "%cd deffuant"
   ]
  },
  {
   "cell_type": "code",
   "execution_count": null,
   "metadata": {},
   "outputs": [],
   "source": [
    "def hex_to_rgb(value):\n",
    "    '''\n",
    "    Converts hex to rgb colours\n",
    "    value: string of 6 characters representing a hex colour.\n",
    "    Returns: list length 3 of RGB values'''\n",
    "    value = value.strip(\"#\") # removes hash symbol if present\n",
    "    lv = len(value)\n",
    "    return tuple(int(value[i:i + lv // 3], 16) for i in range(0, lv, lv // 3))\n",
    "\n",
    "\n",
    "def rgb_to_dec(value):\n",
    "    '''\n",
    "    Converts rgb to decimal colours (i.e. divides each value by 256)\n",
    "    value: list (length 3) of RGB values\n",
    "    Returns: list (length 3) of decimal values'''\n",
    "    return [v/256 for v in value]\n",
    "\n",
    "def get_continuous_cmap(hex_list, float_list=None):\n",
    "    ''' creates and returns a color map that can be used in heat map figures.\n",
    "        If float_list is not provided, colour map graduates linearly between each color in hex_list.\n",
    "        If float_list is provided, each color in hex_list is mapped to the respective location in float_list. \n",
    "        \n",
    "        Parameters\n",
    "        ----------\n",
    "        hex_list: list of hex code strings\n",
    "        float_list: list of floats between 0 and 1, same length as hex_list. Must start with 0 and end with 1.\n",
    "        \n",
    "        Returns\n",
    "        ----------\n",
    "        colour map'''\n",
    "    rgb_list = [rgb_to_dec(hex_to_rgb(i)) for i in hex_list]\n",
    "    if float_list:\n",
    "        pass\n",
    "    else:\n",
    "        float_list = list(np.linspace(0,1,len(rgb_list)))\n",
    "        \n",
    "    cdict = dict()\n",
    "    for num, col in enumerate(['red', 'green', 'blue']):\n",
    "        col_list = [[float_list[i], rgb_list[i][num], rgb_list[i][num]] for i in range(len(float_list))]\n",
    "        cdict[col] = col_list\n",
    "    cmp = LinearSegmentedColormap('my_cmp', segmentdata=cdict, N=256)\n",
    "    return cmp"
   ]
  },
  {
   "cell_type": "code",
   "execution_count": null,
   "metadata": {},
   "outputs": [],
   "source": [
    "from matplotlib.colors import LinearSegmentedColormap\n",
    "\n",
    "hex_list = ['#357db0', '#ce2626']\n",
    "\n",
    "cmap=get_continuous_cmap(hex_list)"
   ]
  },
  {
   "cell_type": "code",
   "execution_count": null,
   "metadata": {},
   "outputs": [],
   "source": [
    "sns.set(font_scale=1.6)\n",
    "for measure in ['100B_norm_entr']:\n",
    "    print(measure)\n",
    "    i=0\n",
    "    for mo in ['0.5', '0.0', '0.05;0.95', '0.05;0.5;0.95']:\n",
    "        fig, ax = plt.subplots(nrows=1, ncols=1, figsize=(7, 5), dpi=600)\n",
    "        titles = ['moderate', 'extremist', 'polarized', 'balanced']\n",
    "        x = \"p_media\"\n",
    "        y = \"eps\"\n",
    "        data = deffuant[deffuant[\"media_op\"]==mo]\n",
    "        df = data.pivot(x, y, measure)\n",
    "        a=sns.heatmap(df, cbar=True, fmt=\".2f\", annot=True, ax = ax, cmap=cmap)\n",
    "        ax.set_xlabel(r'$\\epsilon$', fontsize=30)\n",
    "        ax.set_ylabel(r'$p_m$', fontsize=30)\n",
    "        plt.savefig(f'{measure}_{titles[i]}_deffuant_heatmap.png')\n",
    "        i+=1\n"
   ]
  },
  {
   "cell_type": "code",
   "execution_count": null,
   "metadata": {},
   "outputs": [],
   "source": [
    "%xmode Verbose"
   ]
  },
  {
   "cell_type": "code",
   "execution_count": null,
   "metadata": {},
   "outputs": [],
   "source": [
    "measures"
   ]
  },
  {
   "cell_type": "code",
   "execution_count": null,
   "metadata": {},
   "outputs": [],
   "source": [
    "sns.set(font_scale=1.8)\n",
    "sns.set_style(\"whitegrid\")\n",
    "for measure in ['avg_05_perc']:\n",
    "    print(measure)\n",
    "    i=0\n",
    "    for mo in ['0.5', '0.0', '0.05;0.95', '0.05;0.5;0.95']:\n",
    "        titles = ['moderate', 'extremist', 'polarized', 'balanced']\n",
    "        x = \"p_media\"\n",
    "        y = \"eps\"\n",
    "        data = deffuant[deffuant[\"media_op\"]==mo]\n",
    "        fig = plt.figure(figsize=(15, 10))\n",
    "        ax = fig.gca(projection='3d')\n",
    "        ax.plot_trisurf(data['eps'], data['p_media'], data[measure], vmin=min(deffuant[measure]), vmax=max(deffuant[measure]), cmap=cmap, linewidth=0.0, alpha=0.8)\n",
    "        surf=ax.plot_trisurf(data['eps'], data['p_media'], data[measure], cmap=cmap, linewidth=0.0, alpha=0.8)\n",
    "        # fig.colorbar(surf, shrink=0.5, aspect=6).ax.tick_params(labelsize=22)\n",
    "        ax.set_xlabel(r'$\\epsilon$', fontsize=40, labelpad=30)\n",
    "        ax.set_ylabel(r'$p_m$', fontsize=50, labelpad=30)\n",
    "        ax.tick_params(axis='x', which='major', labelsize=22, pad=2, labelrotation=45)\n",
    "        ax.tick_params(axis='y', which='major', labelsize=22, pad=10)\n",
    "        ax.tick_params(axis='z', which='major', labelsize=22, pad=10)  \n",
    "        ax.set_zlim(0.0, 1.0) \n",
    "        plt.savefig(f'{measure}_{titles[i]}_deffuant_surface.png')\n",
    "        i+=1                "
   ]
  },
  {
   "cell_type": "code",
   "execution_count": 59,
   "metadata": {},
   "outputs": [],
   "source": [
    "def from_res_to_iterations(name, nr):\n",
    "    res = open(\"res/{}.csv\".format(name))\n",
    "    iterations = []\n",
    "    it = 0\n",
    "    for line in res.readlines():\n",
    "        iterations.append(dict())\n",
    "        iterations[it]['iteration'] = it\n",
    "        iterations[it]['status'] = dict()\n",
    "\n",
    "        opinions = line.strip().split(',')\n",
    "\n",
    "        for i in range(len(opinions)):\n",
    "            iterations[it]['status'][i] = float(opinions[i])\n",
    "            iterations[it]['node_count'] = {0: 0},\n",
    "            iterations[it]['status_delta'] = {0: 0}\n",
    "\n",
    "        it += 1\n",
    "        \n",
    "    return iterations\n",
    "\n",
    "hex_list = ['#357db0', '#18A558', '#ce2626']\n",
    "\n",
    "def evolution(iterations, hex_list, fig, ax):\n",
    "\n",
    "    \"\"\"\n",
    "    Generates the plot\n",
    "\n",
    "    :param filename: Output filename\n",
    "    :param percentile: The percentile for the trend variance area\n",
    "    \"\"\"\n",
    "\n",
    "    nodes2opinions = {}\n",
    "    node2col = {}\n",
    "\n",
    "    last_it = iterations[-1]['iteration'] + 1\n",
    "    last_seen = {}\n",
    "\n",
    "    for it in iterations:\n",
    "        sts = it['status']\n",
    "        its = it['iteration']\n",
    "        for n, v in sts.items():\n",
    "            if n in nodes2opinions:\n",
    "                last_id = last_seen[n]\n",
    "                last_value = nodes2opinions[n][last_id]\n",
    "\n",
    "                for i in range(last_id, its):\n",
    "                    nodes2opinions[n][i] = last_value\n",
    "\n",
    "                nodes2opinions[n][its] = v\n",
    "                last_seen[n] = its\n",
    "            else:\n",
    "                nodes2opinions[n] = [0]*last_it\n",
    "                nodes2opinions[n][its] = v\n",
    "                last_seen[n] = 0\n",
    "                if v < 0.33:\n",
    "                    node2col[n] = hex_list[0]\n",
    "                elif 0.33 <= v <= 0.66:\n",
    "                    node2col[n] = hex_list[1]\n",
    "                else:\n",
    "                    node2col[n] = hex_list[2]\n",
    "\n",
    "    mx = 0\n",
    "    for k, l in future.utils.iteritems(nodes2opinions):\n",
    "        if mx < last_seen[k]:\n",
    "            mx = last_seen[k]\n",
    "        x = list(range(0, last_seen[k]))\n",
    "        y = l[0:last_seen[k]]\n",
    "        ax.plot(x, y, lw=1, alpha=0.25, color=node2col[k])\n",
    "    \n",
    "    ax.set_ylim(-0.1, 1.1)\n",
    "    # ax.set_xlim(0, 1000)\n",
    "    ax.tick_params(axis='both', which='major', labelsize=4, pad=0) \n",
    "    # ax.set_xlabel(\"o\", fontsize=5)\n",
    "    # ax.set_ylabel(\"t\", fontsize=5)               \n",
    "    # plt.grid(axis = 'both', which='both')\n",
    "    plt.tight_layout()\n",
    "\n",
    "    \n",
    "from tqdm import tqdm\n",
    "\n",
    "def spaghettigridbye(results):\n",
    "    mops = list(results.media_op.unique())\n",
    "    pmlist = sorted(list(results.p_media.unique()))\n",
    "    elist = sorted(list(results.eps.unique()))\n",
    "    sns.set_style(\"whitegrid\")\n",
    "    i=0\n",
    "    for mo in ['0.5', '0.0', '0.05, 0.95']:\n",
    "        titles = ['moderate', 'extremist', 'polarized', 'balanced']\n",
    "        fig, axes = plt.subplots(nrows=len(elist), ncols=len(pmlist), figsize=(len(pmlist), len(elist)), dpi=600, sharey=True)\n",
    "        row=0\n",
    "        for e in elist:\n",
    "            with tqdm(total=len(pmlist)*len(elist)) as pbar:\n",
    "                col=0\n",
    "                for pm in pmlist:\n",
    "                    name = f'for_spaghetti media mo[{mo}] p{pm} e{e} g{0.0} gm{0.0} mi1000000'\n",
    "                    results = results[results['media_op']==mo]\n",
    "                    results = results[results['eps']==e]\n",
    "                    results = results[results['p_media']==pm]\n",
    "                    iterations = from_res_to_iterations(name, 1)\n",
    "                    evolution(iterations, hex_list, fig=fig, ax=axes[row,col])\n",
    "                    axes[row,col].set_title(r\"$p_m$={}, $\\epsilon$={}\".format(pm, e), fontsize=5)\n",
    "                    col+=1    \n",
    "            row+=1\n",
    "            pbar.update(1)\n",
    "        name = f'spaghetti media deffuant {titles[i]}'\n",
    "        i+=1\n",
    "        plt.savefig(f\"plots/deffuant/{name}.png\")\n",
    "        plt.close()"
   ]
  },
  {
   "cell_type": "code",
   "execution_count": 60,
   "metadata": {},
   "outputs": [
    {
     "name": "stderr",
     "output_type": "stream",
     "text": [
      "  0%|          | 0/24 [00:02<?, ?it/s]\n",
      "  0%|          | 0/24 [00:02<?, ?it/s]\n",
      "  0%|          | 0/24 [00:02<?, ?it/s]\n",
      "  0%|          | 0/24 [00:02<?, ?it/s]\n",
      "  0%|          | 0/24 [00:02<?, ?it/s]\n",
      "  0%|          | 0/24 [00:02<?, ?it/s]\n",
      "  0%|          | 0/24 [00:02<?, ?it/s]\n",
      "  0%|          | 0/24 [00:02<?, ?it/s]\n",
      "  0%|          | 0/24 [00:02<?, ?it/s]\n",
      "  0%|          | 0/24 [00:02<?, ?it/s]\n",
      "  0%|          | 0/24 [00:02<?, ?it/s]\n",
      "  0%|          | 0/24 [00:04<?, ?it/s]\n"
     ]
    }
   ],
   "source": [
    "spaghettigridbye(deffuant)"
   ]
  },
  {
   "cell_type": "markdown",
   "metadata": {},
   "source": [
    "# A single - moderate - media"
   ]
  },
  {
   "cell_type": "markdown",
   "metadata": {},
   "source": []
  },
  {
   "cell_type": "markdown",
   "metadata": {},
   "source": [
    "# Extremist media - propaganda"
   ]
  },
  {
   "cell_type": "markdown",
   "metadata": {},
   "source": []
  },
  {
   "cell_type": "markdown",
   "metadata": {},
   "source": [
    "# Polarised media landscape"
   ]
  },
  {
   "cell_type": "markdown",
   "metadata": {},
   "source": []
  },
  {
   "cell_type": "markdown",
   "metadata": {},
   "source": [
    "# Balanced media landscape"
   ]
  },
  {
   "cell_type": "markdown",
   "metadata": {},
   "source": []
  }
 ],
 "metadata": {
  "kernelspec": {
   "display_name": "Python 3",
   "language": "python",
   "name": "python3"
  },
  "language_info": {
   "codemirror_mode": {
    "name": "ipython",
    "version": 3
   },
   "file_extension": ".py",
   "mimetype": "text/x-python",
   "name": "python",
   "nbconvert_exporter": "python",
   "pygments_lexer": "ipython3",
   "version": "3.9.12"
  },
  "vscode": {
   "interpreter": {
    "hash": "895ffc56b6eff623d772c414b46f8111564696d5bee6faf9cdbf1181314a9666"
   }
  }
 },
 "nbformat": 4,
 "nbformat_minor": 2
}
