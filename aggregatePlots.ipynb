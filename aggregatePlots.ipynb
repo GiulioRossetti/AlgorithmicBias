{
 "cells": [
  {
   "cell_type": "code",
   "execution_count": null,
   "metadata": {},
   "outputs": [],
   "source": [
    "%pip install matplotlib"
   ]
  },
  {
   "cell_type": "code",
   "execution_count": null,
   "metadata": {},
   "outputs": [],
   "source": [
    "%matplotlib inline\n",
    "import pandas as pd\n",
    "import matplotlib.pyplot as plt\n",
    "import matplotlib as mpl\n",
    "import seaborn as sns\n",
    "import os\n",
    "from mpl_toolkits.mplot3d import Axes3D\n",
    "from PIL import Image\n",
    "import os\n",
    "import matplotlib as mpl\n",
    "if os.environ.get('DISPLAY', '') == '':\n",
    "    print('no display found. Using non-interactive Agg backend')\n",
    "#     mpl.use('Agg')\n",
    "import future.utils\n",
    "mpl.rcParams[\"text.usetex\"] = False\n",
    "sns.set_style(\"whitegrid\")\n",
    "sns.axes_style(\"whitegrid\")\n",
    "sns.set_theme(style=\"white\", rc={\"axes.facecolor\": (0, 0, 0, 0)})\n",
    "import json\n",
    "import numpy as np\n",
    "import tqdm\n"
   ]
  },
  {
   "cell_type": "code",
   "execution_count": null,
   "metadata": {},
   "outputs": [],
   "source": [
    "print('matplotlib: {}'. format(mpl.__version__))"
   ]
  },
  {
   "cell_type": "code",
   "execution_count": null,
   "metadata": {},
   "outputs": [],
   "source": [
    "def hex_to_rgb(value):\n",
    "    '''\n",
    "    Converts hex to rgb colours\n",
    "    value: string of 6 characters representing a hex colour.\n",
    "    Returns: list length 3 of RGB values'''\n",
    "    value = value.strip(\"#\") # removes hash symbol if present\n",
    "    lv = len(value)\n",
    "    return tuple(int(value[i:i + lv // 3], 16) for i in range(0, lv, lv // 3))\n",
    "\n",
    "\n",
    "def rgb_to_dec(value):\n",
    "    '''\n",
    "    Converts rgb to decimal colours (i.e. divides each value by 256)\n",
    "    value: list (length 3) of RGB values\n",
    "    Returns: list (length 3) of decimal values'''\n",
    "    return [v/256 for v in value]\n",
    "\n",
    "def get_continuous_cmap(hex_list, float_list=None):\n",
    "    ''' creates and returns a color map that can be used in heat map figures.\n",
    "        If float_list is not provided, colour map graduates linearly between each color in hex_list.\n",
    "        If float_list is provided, each color in hex_list is mapped to the respective location in float_list. \n",
    "        \n",
    "        Parameters\n",
    "        ----------\n",
    "        hex_list: list of hex code strings\n",
    "        float_list: list of floats between 0 and 1, same length as hex_list. Must start with 0 and end with 1.\n",
    "        \n",
    "        Returns\n",
    "        ----------\n",
    "        colour map'''\n",
    "    rgb_list = [rgb_to_dec(hex_to_rgb(i)) for i in hex_list]\n",
    "    if float_list:\n",
    "        pass\n",
    "    else:\n",
    "        # float_list = list(np.linspace(0,1,len(rgb_list)))\n",
    "        float_list = [0.0, 0.5, 1.0]\n",
    "    cdict = dict()\n",
    "    for num, col in enumerate(['red', 'green', 'blue']):\n",
    "        col_list = [[float_list[i], rgb_list[i][num], rgb_list[i][num]] for i in range(len(float_list))]\n",
    "        cdict[col] = col_list\n",
    "    cmp = LinearSegmentedColormap('my_cmp', segmentdata=cdict, N=256)\n",
    "    return cmp"
   ]
  },
  {
   "cell_type": "code",
   "execution_count": null,
   "metadata": {},
   "outputs": [],
   "source": [
    "from matplotlib.colors import LinearSegmentedColormap\n",
    "\n",
    "# hex_list = ['#357db0', '#ce2626']\n",
    "hex_list = ['#357db0', '#18A558', '#ce2626']\n",
    "cmap=get_continuous_cmap(hex_list)"
   ]
  },
  {
   "cell_type": "code",
   "execution_count": null,
   "metadata": {},
   "outputs": [],
   "source": [
    "def from_res_to_iterations(name, nr):\n",
    "    res = open(\"res/{}.csv\".format(name))\n",
    "    iterations = []\n",
    "    it = 0\n",
    "    for line in res.readlines():\n",
    "        iterations.append(dict())\n",
    "        iterations[it]['iteration'] = it\n",
    "        iterations[it]['status'] = dict()\n",
    "\n",
    "        opinions = line.strip().split(',')\n",
    "\n",
    "        for i in range(len(opinions)):\n",
    "            iterations[it]['status'][i] = float(opinions[i])\n",
    "            iterations[it]['node_count'] = {0: 0},\n",
    "            iterations[it]['status_delta'] = {0: 0}\n",
    "\n",
    "        it += 1\n",
    "        \n",
    "    return iterations\n",
    "\n",
    "hex_list = ['#357db0', '#18A558', '#ce2626']\n",
    "\n",
    "def evolution(iterations, hex_list, fig, ax):\n",
    "\n",
    "    \"\"\"\n",
    "    Generates the plot\n",
    "\n",
    "    :param filename: Output filename\n",
    "    :param percentile: The percentile for the trend variance area\n",
    "    \"\"\"\n",
    "\n",
    "    nodes2opinions = {}\n",
    "    node2col = {}\n",
    "\n",
    "    last_it = iterations[-1]['iteration'] + 1\n",
    "    last_seen = {}\n",
    "\n",
    "    for it in iterations:\n",
    "        sts = it['status']\n",
    "        its = it['iteration']\n",
    "        for n, v in sts.items():\n",
    "            if n in nodes2opinions:\n",
    "                last_id = last_seen[n]\n",
    "                last_value = nodes2opinions[n][last_id]\n",
    "\n",
    "                for i in range(last_id, its):\n",
    "                    nodes2opinions[n][i] = last_value\n",
    "\n",
    "                nodes2opinions[n][its] = v\n",
    "                last_seen[n] = its\n",
    "            else:\n",
    "                nodes2opinions[n] = [0]*last_it\n",
    "                nodes2opinions[n][its] = v\n",
    "                last_seen[n] = 0\n",
    "                if v < 0.33:\n",
    "                    node2col[n] = hex_list[0]\n",
    "                elif 0.33 <= v <= 0.66:\n",
    "                    node2col[n] = hex_list[1]\n",
    "                else:\n",
    "                    node2col[n] = hex_list[2]\n",
    "\n",
    "    mx = 0\n",
    "    for k, l in future.utils.iteritems(nodes2opinions):\n",
    "        if mx < last_seen[k]:\n",
    "            mx = last_seen[k]\n",
    "        x = list(range(0, last_seen[k]))\n",
    "        y = l[0:last_seen[k]]\n",
    "        ax.plot(x, y, lw=1.5, alpha=0.5, color=node2col[k])\n",
    "    \n",
    "    # ax.set_ylim(-0.1, 1.1)\n",
    "    # ax.set_xlim(0, 1000)\n",
    "    ax.tick_params(axis='both', which='major', labelsize=4, pad=0) \n",
    "    # ax.set_xlabel(\"o\", fontsize=5)\n",
    "    # ax.set_ylabel(\"t\", fontsize=5)               \n",
    "    # plt.grid(axis = 'both', which='both')\n",
    "    plt.tight_layout()\n",
    "\n",
    "    \n",
    "from tqdm import tqdm\n",
    "\n",
    "def spaghettigridbye(results, imgfolder):\n",
    "    mops = list(results.media_op.unique())\n",
    "    pmlist = sorted(list(results.p_media.unique()))\n",
    "    elist = sorted(list(results.eps.unique()))\n",
    "    glist=sorted(list(results.gam.unique()))\n",
    "    sns.set_style(\"whitegrid\")\n",
    "    i=0\n",
    "    for mo in ['0.5', '0.0', '0.05, 0.95', '0.05, 0.5, 0.95']:\n",
    "        titles = ['moderate', 'extremist', 'polarized', 'balanced']\n",
    "        fig, axes = plt.subplots(ncols=len(elist), nrows=len(pmlist), figsize=(6, 6), dpi=600, sharey=True)\n",
    "        row=0\n",
    "        for pm in pmlist:\n",
    "            with tqdm(total=len(pmlist)*len(elist)) as pbar:\n",
    "                col=0\n",
    "                for e in elist:\n",
    "                    for g in glist:\n",
    "                        name = f'for_spaghetti media mo[{mo}] p{pm} e{e} g{g} gm{g} mi1000000'\n",
    "                        results = results[results['media_op']==mo]\n",
    "                        results = results[results['eps']==e]\n",
    "                        results = results[results['p_media']==pm]\n",
    "                        results = results[results['gam']==g]\n",
    "                        iterations = from_res_to_iterations(name, 1)\n",
    "                        evolution(iterations, hex_list, fig=fig, ax=axes[row,col])\n",
    "                        axes[row,col].set_title(r\"$p_m$={}, $\\epsilon$={}, $\\gamma={}$\".format(pm, e, g), fontsize=5)\n",
    "                        col+=1    \n",
    "            row+=1\n",
    "            pbar.update(1)\n",
    "        name = f'spaghetti media {titles[i]}'\n",
    "        i+=1\n",
    "        plt.savefig(f\"plots/{imgfolder}/{name}.png\")\n",
    "        plt.close()"
   ]
  },
  {
   "cell_type": "markdown",
   "metadata": {},
   "source": [
    "# Preliminaries"
   ]
  },
  {
   "cell_type": "code",
   "execution_count": null,
   "metadata": {},
   "outputs": [],
   "source": [
    "results = pd.read_csv(\"aggregate/results_media_model.csv\", index_col=[0])"
   ]
  },
  {
   "cell_type": "code",
   "execution_count": null,
   "metadata": {},
   "outputs": [],
   "source": [
    "results = results[results['gam'] != 0.25]\n",
    "results"
   ]
  },
  {
   "cell_type": "code",
   "execution_count": null,
   "metadata": {},
   "outputs": [],
   "source": [
    "gams = list(results.gam.unique())\n",
    "p_medias = list(results.p_media.unique())\n",
    "epss = list(results.eps.unique())\n",
    "mos = list(results.media_op.unique())\n",
    "print(gams, p_medias, epss, mos)"
   ]
  },
  {
   "cell_type": "code",
   "execution_count": null,
   "metadata": {},
   "outputs": [],
   "source": [
    "threemedia = results[results['media_op'] == '0.05;0.5;0.95']\n",
    "print(len(threemedia))\n",
    "gams = list(threemedia.gam.unique())\n",
    "p_medias = list(threemedia.p_media.unique())\n",
    "epss = list(threemedia.eps.unique())\n",
    "mos = list(threemedia.media_op.unique())\n",
    "print(gams, p_medias, epss, mos)"
   ]
  },
  {
   "cell_type": "code",
   "execution_count": null,
   "metadata": {},
   "outputs": [],
   "source": [
    "twomedia = results[results['media_op'] == '0.05;0.95']\n",
    "print(len(twomedia))\n",
    "gams = list(twomedia.gam.unique())\n",
    "p_medias = list(twomedia.p_media.unique())\n",
    "epss = list(twomedia.eps.unique())\n",
    "mos = list(twomedia.media_op.unique())\n",
    "print(gams, p_medias, epss, mos)"
   ]
  },
  {
   "cell_type": "code",
   "execution_count": null,
   "metadata": {},
   "outputs": [],
   "source": [
    "extremist = results[results['media_op'] == '0.0']\n",
    "print(len(extremist))\n",
    "gams = list(extremist.gam.unique())\n",
    "p_medias = list(extremist.p_media.unique())\n",
    "epss = list(extremist.eps.unique())\n",
    "mos = list(extremist.media_op.unique())\n",
    "print(gams, p_medias, epss, mos)"
   ]
  },
  {
   "cell_type": "code",
   "execution_count": null,
   "metadata": {},
   "outputs": [],
   "source": [
    "moderate = results[results['media_op'] == '0.5']\n",
    "print(len(moderate))\n",
    "gams = list(moderate.gam.unique())\n",
    "p_medias = list(moderate.p_media.unique())\n",
    "epss = list(moderate.eps.unique())\n",
    "mos = list(moderate.media_op.unique())\n",
    "print(gams, p_medias, epss, mos)"
   ]
  },
  {
   "cell_type": "code",
   "execution_count": null,
   "metadata": {},
   "outputs": [],
   "source": [
    "deffuant = results[results['gam']==0.0]"
   ]
  },
  {
   "cell_type": "code",
   "execution_count": null,
   "metadata": {},
   "outputs": [],
   "source": [
    "measures = list(deffuant.columns)[8:]"
   ]
  },
  {
   "cell_type": "code",
   "execution_count": null,
   "metadata": {},
   "outputs": [],
   "source": [
    "print(measures)"
   ]
  },
  {
   "cell_type": "markdown",
   "metadata": {},
   "source": [
    "# Bounded confidence model with media"
   ]
  },
  {
   "cell_type": "code",
   "execution_count": null,
   "metadata": {},
   "outputs": [],
   "source": [
    "%cd plots"
   ]
  },
  {
   "cell_type": "code",
   "execution_count": null,
   "metadata": {},
   "outputs": [],
   "source": [
    "%mkdir \"deffuant\""
   ]
  },
  {
   "cell_type": "code",
   "execution_count": null,
   "metadata": {},
   "outputs": [],
   "source": [
    "%cd deffuant"
   ]
  },
  {
   "cell_type": "code",
   "execution_count": null,
   "metadata": {},
   "outputs": [],
   "source": []
  },
  {
   "cell_type": "markdown",
   "metadata": {},
   "source": [
    "### Heatmap plot"
   ]
  },
  {
   "cell_type": "code",
   "execution_count": null,
   "metadata": {},
   "outputs": [],
   "source": [
    "sns.set(font_scale=1.6)\n",
    "for measure in ['avg_05_perc']:\n",
    "    print(measure)\n",
    "    i=0\n",
    "    for mo in ['0.5', '0.0', '0.05;0.95', '0.05;0.5;0.95']:\n",
    "        fig, ax = plt.subplots(nrows=1, ncols=1, figsize=(7, 5), dpi=600)\n",
    "        titles = ['moderate', 'extremist', 'polarized', 'balanced']\n",
    "        x = \"p_media\"\n",
    "        y = \"eps\"\n",
    "        data = deffuant[deffuant[\"media_op\"]==mo]\n",
    "        df = data.pivot(x, y, measure)\n",
    "        a=sns.heatmap(df, cbar=True, fmt=\".2f\", annot=True, ax = ax, cmap=cmap)\n",
    "        ax.set_xlabel(r'$\\epsilon$', fontsize=30)\n",
    "        ax.set_ylabel(r'$p_m$', fontsize=30)\n",
    "        plt.savefig(f'{measure}_{titles[i]}_deffuant_heatmap.png')\n",
    "        i+=1\n"
   ]
  },
  {
   "cell_type": "markdown",
   "metadata": {},
   "source": [
    "### Surface plots"
   ]
  },
  {
   "cell_type": "code",
   "execution_count": null,
   "metadata": {},
   "outputs": [],
   "source": [
    "sns.set(font_scale=1.8)\n",
    "sns.set_style(\"whitegrid\")\n",
    "for measure in ['avg_05_perc']:\n",
    "    print(measure)\n",
    "    i=0\n",
    "    for mo in ['0.5', '0.0', '0.05;0.95', '0.05;0.5;0.95']:\n",
    "        titles = ['moderate', 'extremist', 'polarized', 'balanced']\n",
    "        x = \"p_media\"\n",
    "        y = \"eps\"\n",
    "        data = deffuant[deffuant[\"media_op\"]==mo]\n",
    "        fig = plt.figure(figsize=(15, 10))\n",
    "        ax = fig.gca(projection='3d')\n",
    "        ax.plot_trisurf(data['eps'], data['p_media'], data[measure], vmin=min(deffuant[measure]), vmax=max(deffuant[measure]), cmap=cmap, linewidth=0.0, alpha=0.8)\n",
    "        surf=ax.plot_trisurf(data['eps'], data['p_media'], data[measure], cmap=cmap, linewidth=0.0, alpha=0.8)\n",
    "        # fig.colorbar(surf, shrink=0.5, aspect=6).ax.tick_params(labelsize=22)\n",
    "        ax.set_xlabel(r'$\\epsilon$', fontsize=40, labelpad=30)\n",
    "        ax.set_ylabel(r'$p_m$', fontsize=50, labelpad=30)\n",
    "        ax.tick_params(axis='x', which='major', labelsize=22, pad=2, labelrotation=45)\n",
    "        ax.tick_params(axis='y', which='major', labelsize=22, pad=10)\n",
    "        ax.tick_params(axis='z', which='major', labelsize=22, pad=10)  \n",
    "        ax.set_zlim(0.0, 1.0) \n",
    "        plt.savefig(f'{measure}_{titles[i]}_deffuant_surface.png')\n",
    "        i+=1                "
   ]
  },
  {
   "cell_type": "code",
   "execution_count": null,
   "metadata": {},
   "outputs": [],
   "source": [
    "\n",
    "\n"
   ]
  },
  {
   "cell_type": "markdown",
   "metadata": {},
   "source": [
    "# A single - moderate - media"
   ]
  },
  {
   "cell_type": "code",
   "execution_count": 72,
   "metadata": {},
   "outputs": [
    {
     "data": {
      "text/html": [
       "<div>\n",
       "<style scoped>\n",
       "    .dataframe tbody tr th:only-of-type {\n",
       "        vertical-align: middle;\n",
       "    }\n",
       "\n",
       "    .dataframe tbody tr th {\n",
       "        vertical-align: top;\n",
       "    }\n",
       "\n",
       "    .dataframe thead th {\n",
       "        text-align: right;\n",
       "    }\n",
       "</style>\n",
       "<table border=\"1\" class=\"dataframe\">\n",
       "  <thead>\n",
       "    <tr style=\"text-align: right;\">\n",
       "      <th></th>\n",
       "      <th>n</th>\n",
       "      <th>p</th>\n",
       "      <th>eps</th>\n",
       "      <th>gam</th>\n",
       "      <th>gam_media</th>\n",
       "      <th>p_media</th>\n",
       "      <th>max_it</th>\n",
       "      <th>media_op</th>\n",
       "      <th>avg_ncluster</th>\n",
       "      <th>std_ncluster</th>\n",
       "      <th>...</th>\n",
       "      <th>median_opinion</th>\n",
       "      <th>avg_00_perc</th>\n",
       "      <th>avg_05_perc</th>\n",
       "      <th>avg_095_perc</th>\n",
       "      <th>avg_005_perc</th>\n",
       "      <th>10B_avg_entr</th>\n",
       "      <th>10B_std_entr</th>\n",
       "      <th>100B_avg_entr</th>\n",
       "      <th>100B_std_entr</th>\n",
       "      <th>100B_norm_entr</th>\n",
       "    </tr>\n",
       "  </thead>\n",
       "  <tbody>\n",
       "    <tr>\n",
       "      <th>3</th>\n",
       "      <td>100</td>\n",
       "      <td>1.0</td>\n",
       "      <td>0.4</td>\n",
       "      <td>1.25</td>\n",
       "      <td>1.25</td>\n",
       "      <td>0.2</td>\n",
       "      <td>1000000</td>\n",
       "      <td>0.5</td>\n",
       "      <td>1.060078</td>\n",
       "      <td>0.065546</td>\n",
       "      <td>...</td>\n",
       "      <td>0.500177</td>\n",
       "      <td>0.0178</td>\n",
       "      <td>0.9721</td>\n",
       "      <td>0.0101</td>\n",
       "      <td>0.0178</td>\n",
       "      <td>0.266965</td>\n",
       "      <td>0.256676</td>\n",
       "      <td>0.281470</td>\n",
       "      <td>0.264232</td>\n",
       "      <td>0.068943</td>\n",
       "    </tr>\n",
       "    <tr>\n",
       "      <th>4</th>\n",
       "      <td>100</td>\n",
       "      <td>1.0</td>\n",
       "      <td>0.5</td>\n",
       "      <td>0.00</td>\n",
       "      <td>0.00</td>\n",
       "      <td>0.4</td>\n",
       "      <td>1000000</td>\n",
       "      <td>0.5</td>\n",
       "      <td>1.000000</td>\n",
       "      <td>0.000000</td>\n",
       "      <td>...</td>\n",
       "      <td>0.500133</td>\n",
       "      <td>0.0000</td>\n",
       "      <td>1.0000</td>\n",
       "      <td>0.0000</td>\n",
       "      <td>0.0000</td>\n",
       "      <td>0.024558</td>\n",
       "      <td>0.106782</td>\n",
       "      <td>0.024558</td>\n",
       "      <td>0.106782</td>\n",
       "      <td>0.006015</td>\n",
       "    </tr>\n",
       "    <tr>\n",
       "      <th>5</th>\n",
       "      <td>100</td>\n",
       "      <td>1.0</td>\n",
       "      <td>0.4</td>\n",
       "      <td>1.25</td>\n",
       "      <td>1.25</td>\n",
       "      <td>0.4</td>\n",
       "      <td>1000000</td>\n",
       "      <td>0.5</td>\n",
       "      <td>1.082641</td>\n",
       "      <td>0.062735</td>\n",
       "      <td>...</td>\n",
       "      <td>0.500228</td>\n",
       "      <td>0.0204</td>\n",
       "      <td>0.9617</td>\n",
       "      <td>0.0179</td>\n",
       "      <td>0.0204</td>\n",
       "      <td>0.323349</td>\n",
       "      <td>0.266925</td>\n",
       "      <td>0.341282</td>\n",
       "      <td>0.270358</td>\n",
       "      <td>0.083593</td>\n",
       "    </tr>\n",
       "    <tr>\n",
       "      <th>6</th>\n",
       "      <td>100</td>\n",
       "      <td>1.0</td>\n",
       "      <td>0.2</td>\n",
       "      <td>1.00</td>\n",
       "      <td>1.00</td>\n",
       "      <td>0.2</td>\n",
       "      <td>1000000</td>\n",
       "      <td>0.5</td>\n",
       "      <td>3.576107</td>\n",
       "      <td>0.867551</td>\n",
       "      <td>...</td>\n",
       "      <td>0.501146</td>\n",
       "      <td>0.0437</td>\n",
       "      <td>0.4579</td>\n",
       "      <td>0.1013</td>\n",
       "      <td>0.1016</td>\n",
       "      <td>1.440886</td>\n",
       "      <td>0.198281</td>\n",
       "      <td>1.930834</td>\n",
       "      <td>0.306728</td>\n",
       "      <td>0.472937</td>\n",
       "    </tr>\n",
       "    <tr>\n",
       "      <th>19</th>\n",
       "      <td>100</td>\n",
       "      <td>1.0</td>\n",
       "      <td>0.5</td>\n",
       "      <td>0.75</td>\n",
       "      <td>0.75</td>\n",
       "      <td>0.4</td>\n",
       "      <td>1000000</td>\n",
       "      <td>0.5</td>\n",
       "      <td>1.000000</td>\n",
       "      <td>0.000000</td>\n",
       "      <td>...</td>\n",
       "      <td>0.500154</td>\n",
       "      <td>0.0000</td>\n",
       "      <td>1.0000</td>\n",
       "      <td>0.0000</td>\n",
       "      <td>0.0000</td>\n",
       "      <td>0.174462</td>\n",
       "      <td>0.251726</td>\n",
       "      <td>0.174462</td>\n",
       "      <td>0.251726</td>\n",
       "      <td>0.042733</td>\n",
       "    </tr>\n",
       "  </tbody>\n",
       "</table>\n",
       "<p>5 rows × 29 columns</p>\n",
       "</div>"
      ],
      "text/plain": [
       "      n    p  eps   gam  gam_media  p_media   max_it media_op  avg_ncluster  \\\n",
       "3   100  1.0  0.4  1.25       1.25      0.2  1000000      0.5      1.060078   \n",
       "4   100  1.0  0.5  0.00       0.00      0.4  1000000      0.5      1.000000   \n",
       "5   100  1.0  0.4  1.25       1.25      0.4  1000000      0.5      1.082641   \n",
       "6   100  1.0  0.2  1.00       1.00      0.2  1000000      0.5      3.576107   \n",
       "19  100  1.0  0.5  0.75       0.75      0.4  1000000      0.5      1.000000   \n",
       "\n",
       "    std_ncluster  ...  median_opinion  avg_00_perc  avg_05_perc  avg_095_perc  \\\n",
       "3       0.065546  ...        0.500177       0.0178       0.9721        0.0101   \n",
       "4       0.000000  ...        0.500133       0.0000       1.0000        0.0000   \n",
       "5       0.062735  ...        0.500228       0.0204       0.9617        0.0179   \n",
       "6       0.867551  ...        0.501146       0.0437       0.4579        0.1013   \n",
       "19      0.000000  ...        0.500154       0.0000       1.0000        0.0000   \n",
       "\n",
       "    avg_005_perc  10B_avg_entr  10B_std_entr  100B_avg_entr  100B_std_entr  \\\n",
       "3         0.0178      0.266965      0.256676       0.281470       0.264232   \n",
       "4         0.0000      0.024558      0.106782       0.024558       0.106782   \n",
       "5         0.0204      0.323349      0.266925       0.341282       0.270358   \n",
       "6         0.1016      1.440886      0.198281       1.930834       0.306728   \n",
       "19        0.0000      0.174462      0.251726       0.174462       0.251726   \n",
       "\n",
       "    100B_norm_entr  \n",
       "3         0.068943  \n",
       "4         0.006015  \n",
       "5         0.083593  \n",
       "6         0.472937  \n",
       "19        0.042733  \n",
       "\n",
       "[5 rows x 29 columns]"
      ]
     },
     "execution_count": 72,
     "metadata": {},
     "output_type": "execute_result"
    }
   ],
   "source": [
    "moderate.head()"
   ]
  },
  {
   "cell_type": "markdown",
   "metadata": {},
   "source": [
    "### Heatmap plot"
   ]
  },
  {
   "cell_type": "code",
   "execution_count": 74,
   "metadata": {},
   "outputs": [],
   "source": [
    "measures = [\n",
    " 'avg_pwdist',\n",
    " 'std_pwdist',\n",
    " 'avg_niter',\n",
    " 'std_niter',\n",
    " 'avg_ncluster_0.001',\n",
    " 'std_ncluster_0.001',\n",
    " 'avg_opinion',\n",
    " 'std_opinions',\n",
    " 'avg_05_perc',\n",
    " '100B_avg_entr',\n",
    " '100B_std_entr',\n",
    " '100B_norm_entr']"
   ]
  },
  {
   "cell_type": "code",
   "execution_count": 75,
   "metadata": {},
   "outputs": [
    {
     "name": "stderr",
     "output_type": "stream",
     "text": [
      "/tmp/ipykernel_1859398/3568683468.py:5: RuntimeWarning: More than 20 figures have been opened. Figures created through the pyplot interface (`matplotlib.pyplot.figure`) are retained until explicitly closed and may consume too much memory. (To control this warning, see the rcParam `figure.max_open_warning`).\n",
      "  fig, axes = plt.subplots(nrows=1, ncols=4, figsize=(7, 5), dpi=600)\n"
     ]
    }
   ],
   "source": [
    "sns.set(font_scale=1.6)\n",
    "for measure in measures:\n",
    "    i=0\n",
    "    for eps in moderate.eps.unique():\n",
    "        fig, axes = plt.subplots(nrows=1, ncols=4, figsize=(7, 5), dpi=600)\n",
    "        x = \"gam\"\n",
    "        y = \"p_media\"\n",
    "        data = moderate[moderate[\"eps\"]==eps]\n",
    "        df = data.pivot(x, y, measure)\n",
    "        a=sns.heatmap(df, cbar=True, fmt=\".2f\", annot=True, ax = ax, cmap=cmap)\n",
    "        ax.set_xlabel(r'$\\epsilon$', fontsize=30)\n",
    "        ax.set_ylabel(r'$p_m$', fontsize=30)\n",
    "        plt.savefig(f'{measure}_moderate_e{eps}_heatmap.png')\n",
    "        i+=1\n"
   ]
  },
  {
   "cell_type": "markdown",
   "metadata": {},
   "source": [
    "### Surface plots"
   ]
  },
  {
   "cell_type": "code",
   "execution_count": null,
   "metadata": {},
   "outputs": [],
   "source": [
    "sns.set(font_scale=1.8)\n",
    "for measure in measures:\n",
    "    i=0\n",
    "    for eps in moderate.eps.unique():\n",
    "        fig, axes = plt.subplots(nrows=1, ncols=4, figsize=(7, 5), dpi=600)\n",
    "        x = \"gam\"\n",
    "        y = \"p_media\"\n",
    "        data = moderate[moderate[\"eps\"]==eps]\n",
    "        fig = plt.figure(figsize=(15, 10))\n",
    "        ax = fig.gca(projection='3d')\n",
    "        ax.plot_trisurf(data['gam'], data['p_media'], data[measure], vmin=min(moderate[measure]), vmax=max(moderate[measure]), cmap=cmap, linewidth=0.0, alpha=0.8)\n",
    "        surf=ax.plot_trisurf(data['gam'], data['p_media'], data[measure], cmap=cmap, linewidth=0.0, alpha=0.8)\n",
    "        # fig.colorbar(surf, shrink=0.5, aspect=6).ax.tick_params(labelsize=22)\n",
    "        ax.set_xlabel(r'$\\gamma$', fontsize=40, labelpad=30)\n",
    "        ax.set_ylabel(r'$p_m$', fontsize=50, labelpad=30)\n",
    "        ax.tick_params(axis='x', which='major', labelsize=22, pad=2, labelrotation=45)\n",
    "        ax.tick_params(axis='y', which='major', labelsize=22, pad=10)\n",
    "        ax.tick_params(axis='z', which='major', labelsize=22, pad=10)  \n",
    "        ax.set_zlim(0.0, 1.0) \n",
    "        plt.savefig(f'{measure}_moderate_e{eps}_surface.png')\n",
    "        i+=1                "
   ]
  },
  {
   "cell_type": "markdown",
   "metadata": {},
   "source": []
  },
  {
   "cell_type": "markdown",
   "metadata": {},
   "source": [
    "# Extremist media - propaganda"
   ]
  },
  {
   "cell_type": "markdown",
   "metadata": {},
   "source": []
  },
  {
   "cell_type": "markdown",
   "metadata": {},
   "source": [
    "# Polarised media landscape"
   ]
  },
  {
   "cell_type": "code",
   "execution_count": null,
   "metadata": {},
   "outputs": [],
   "source": []
  },
  {
   "cell_type": "code",
   "execution_count": null,
   "metadata": {},
   "outputs": [],
   "source": []
  },
  {
   "cell_type": "code",
   "execution_count": null,
   "metadata": {},
   "outputs": [],
   "source": []
  },
  {
   "cell_type": "code",
   "execution_count": null,
   "metadata": {},
   "outputs": [],
   "source": []
  },
  {
   "cell_type": "code",
   "execution_count": null,
   "metadata": {},
   "outputs": [],
   "source": []
  },
  {
   "cell_type": "code",
   "execution_count": null,
   "metadata": {},
   "outputs": [],
   "source": []
  },
  {
   "cell_type": "markdown",
   "metadata": {},
   "source": [
    "### Per extended abstract"
   ]
  },
  {
   "cell_type": "code",
   "execution_count": null,
   "metadata": {},
   "outputs": [],
   "source": [
    "twomedia"
   ]
  },
  {
   "cell_type": "code",
   "execution_count": null,
   "metadata": {},
   "outputs": [],
   "source": [
    "measures"
   ]
  },
  {
   "cell_type": "code",
   "execution_count": null,
   "metadata": {},
   "outputs": [],
   "source": [
    "sns.set(font_scale=1.0)\n",
    "sns.set_style(\"whitegrid\")\n",
    "for measure in ['avg_ncluster_0.001']:\n",
    "    print(measure)\n",
    "    i=0\n",
    "    x = \"gam\"\n",
    "    y = \"p_meda\"\n",
    "    data = twomedia[twomedia[\"eps\"]==0.3]\n",
    "    fig = plt.figure(figsize=(15, 10))\n",
    "    ax = fig.gca(projection='3d')\n",
    "    ax.plot_trisurf(data['gam'], data['p_media'], data[measure], cmap=cmap, linewidth=0.0, alpha=0.8)\n",
    "    surf=ax.plot_trisurf(data['gam'], data['p_media'], data[measure], cmap=cmap, linewidth=0.0, alpha=0.8)\n",
    "    # fig.colorbar(surf, shrink=0.5, aspect=6).ax.tick_params(labelsize=22)\n",
    "    ax.set_xlabel(r'$\\gamma$', fontsize=40, labelpad=30)\n",
    "    ax.set_ylabel(r'$p_m$', fontsize=50, labelpad=30)\n",
    "    ax.tick_params(axis='x', which='major', labelrotation=45)\n",
    "    ax.tick_params(axis='y', which='major', pad=10)\n",
    "    ax.tick_params(axis='z', which='major', pad=10)  \n",
    "    plt.show()\n",
    "    # plt.savefig(f'{measure}_{titles[i]}_deffuant_surface.png')\n",
    "    i+=1       "
   ]
  },
  {
   "cell_type": "code",
   "execution_count": null,
   "metadata": {},
   "outputs": [],
   "source": [
    "%ls"
   ]
  },
  {
   "cell_type": "code",
   "execution_count": null,
   "metadata": {},
   "outputs": [],
   "source": [
    "for e in [0.32]:\n",
    "    for g in [0.0, 1.6]:\n",
    "        for pm in [0.0, 0.5]:\n",
    "            fig, ax = plt.subplots(nrows=1, ncols=1, dpi=600, figsize=(7, 5))\n",
    "            mo = '0.05, 0.95'\n",
    "            name = f'for_spaghetti/for_spaghetti media mo[{mo}] p{pm} e{e} g{g} gm{g} mi1000000'\n",
    "            results = results[results['media_op']==mo]\n",
    "            results = results[results['eps']==e]\n",
    "            results = results[results['p_media']==pm]\n",
    "            iterations = from_res_to_iterations(name, 1)\n",
    "            evolution(iterations, hex_list, fig=fig, ax=ax)\n",
    "            plt.axis('off')\n",
    "            plt.title(r'$\\epsilon$='+f'{e},'+r'$\\gamma$='+f'{g},'+r'$p_m$='+f'{pm}')\n",
    "            plt.show()"
   ]
  },
  {
   "cell_type": "code",
   "execution_count": null,
   "metadata": {},
   "outputs": [],
   "source": [
    "for e in [0.32]:\n",
    "    for g in [1.6]:\n",
    "        for pm in [0.5]:\n",
    "            fig, ax = plt.subplots(nrows=1, ncols=1, dpi=600, figsize=(7, 5))\n",
    "            mo = '0.05, 0.95'\n",
    "            name = f'for_spaghetti/for_spaghetti media mo[{mo}] p{pm} e{e} g{g} gm{g} mi1000000 new new'\n",
    "            results = results[results['media_op']==mo]\n",
    "            results = results[results['eps']==e]\n",
    "            results = results[results['p_media']==pm]\n",
    "            iterations = from_res_to_iterations(name, 1)\n",
    "            evolution(iterations, hex_list, fig=fig, ax=ax)\n",
    "            plt.axis('off')\n",
    "            plt.title(r'$\\epsilon$='+f'{e},'+r'$\\gamma$='+f'{g},'+r'$p_m$='+f'{pm}')\n",
    "            plt.show()"
   ]
  },
  {
   "cell_type": "code",
   "execution_count": null,
   "metadata": {},
   "outputs": [],
   "source": [
    "fig, ax = plt.subplots(figsize=(7, 1), dpi=600)\n",
    "fig.subplots_adjust(bottom=0.5)\n",
    "\n",
    "cmap = cmap\n",
    "norm = mpl.colors.Normalize(vmin=0, vmax=1)\n",
    "\n",
    "cb = fig.colorbar(mpl.cm.ScalarMappable(norm=norm, cmap=cmap),\n",
    "             cax=ax, orientation='horizontal')\n",
    "cb.outline.set_visible(False)\n",
    "cb.set_ticks([0.0, 1.0])\n"
   ]
  },
  {
   "cell_type": "markdown",
   "metadata": {},
   "source": []
  },
  {
   "cell_type": "markdown",
   "metadata": {},
   "source": [
    "# Balanced media landscape"
   ]
  },
  {
   "cell_type": "markdown",
   "metadata": {},
   "source": []
  }
 ],
 "metadata": {
  "kernelspec": {
   "display_name": "Python 3",
   "language": "python",
   "name": "python3"
  },
  "language_info": {
   "codemirror_mode": {
    "name": "ipython",
    "version": 3
   },
   "file_extension": ".py",
   "mimetype": "text/x-python",
   "name": "python",
   "nbconvert_exporter": "python",
   "pygments_lexer": "ipython3",
   "version": "3.9.12"
  },
  "vscode": {
   "interpreter": {
    "hash": "895ffc56b6eff623d772c414b46f8111564696d5bee6faf9cdbf1181314a9666"
   }
  }
 },
 "nbformat": 4,
 "nbformat_minor": 2
}
