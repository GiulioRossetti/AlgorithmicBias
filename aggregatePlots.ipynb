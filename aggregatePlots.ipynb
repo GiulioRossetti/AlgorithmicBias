{
 "cells": [
  {
   "cell_type": "code",
   "execution_count": 19,
   "metadata": {},
   "outputs": [],
   "source": [
    "import pandas as pd\n",
    "import matplotlib.pyplot as plt\n",
    "import matplotlib as mpl\n",
    "import seaborn as sns\n",
    "import os\n",
    "from mpl_toolkits.mplot3d import Axes3D\n",
    "import os\n",
    "from matplotlib.colors import LinearSegmentedColormap\n",
    "import future.utils\n",
    "import json\n",
    "import numpy as np\n",
    "import tqdm\n",
    "plt.rcParams['axes.facecolor']='white'\n",
    "plt.rcParams['savefig.facecolor']='white'\n",
    "sns.set_style(\"whitegrid\")"
   ]
  },
  {
   "cell_type": "code",
   "execution_count": 20,
   "metadata": {},
   "outputs": [
    {
     "name": "stdout",
     "output_type": "stream",
     "text": [
      "matplotlib: 3.1.0\n"
     ]
    }
   ],
   "source": [
    "print('matplotlib: {}'. format(mpl.__version__))"
   ]
  },
  {
   "cell_type": "code",
   "execution_count": 21,
   "metadata": {},
   "outputs": [],
   "source": [
    "def hex_to_rgb(value):\n",
    "    '''\n",
    "    Converts hex to rgb colours\n",
    "    value: string of 6 characters representing a hex colour.\n",
    "    Returns: list length 3 of RGB values'''\n",
    "    value = value.strip(\"#\") # removes hash symbol if present\n",
    "    lv = len(value)\n",
    "    return tuple(int(value[i:i + lv // 3], 16) for i in range(0, lv, lv // 3))\n",
    "\n",
    "\n",
    "def rgb_to_dec(value):\n",
    "    '''\n",
    "    Converts rgb to decimal colours (i.e. divides each value by 256)\n",
    "    value: list (length 3) of RGB values\n",
    "    Returns: list (length 3) of decimal values'''\n",
    "    return [v/256 for v in value]\n",
    "\n",
    "def get_continuous_cmap(hex_list, float_list=None):\n",
    "    ''' creates and returns a color map that can be used in heat map figures.\n",
    "        If float_list is not provided, colour map graduates linearly between each color in hex_list.\n",
    "        If float_list is provided, each color in hex_list is mapped to the respective location in float_list. \n",
    "        \n",
    "        Parameters\n",
    "        ----------\n",
    "        hex_list: list of hex code strings\n",
    "        float_list: list of floats between 0 and 1, same length as hex_list. Must start with 0 and end with 1.\n",
    "        \n",
    "        Returns\n",
    "        ----------\n",
    "        colour map'''\n",
    "    rgb_list = [rgb_to_dec(hex_to_rgb(i)) for i in hex_list]\n",
    "    if float_list:\n",
    "        pass\n",
    "    else:\n",
    "        float_list = list(np.linspace(0,1,len(rgb_list)))\n",
    "    cdict = dict()\n",
    "    for num, col in enumerate(['red', 'green', 'blue']):\n",
    "        col_list = [[float_list[i], rgb_list[i][num], rgb_list[i][num]] for i in range(len(float_list))]\n",
    "        cdict[col] = col_list\n",
    "    cmp = LinearSegmentedColormap('my_cmp', segmentdata=cdict, N=256)\n",
    "    return cmp\n",
    "\n",
    "heatmap_hex_list = ['#357db0', '#ce2626']\n",
    "heatmap_cmap=get_continuous_cmap(heatmap_hex_list)\n",
    "\n",
    "spaghetti_hex_list = ['#357db0', '#18A558', '#ce2626']\n",
    "spaghetti_cmap=get_continuous_cmap(spaghetti_hex_list)\n",
    "\n"
   ]
  },
  {
   "cell_type": "code",
   "execution_count": 22,
   "metadata": {},
   "outputs": [],
   "source": [
    "def from_res_to_iterations(name, nr):\n",
    "    res = open(\"{}.csv\".format(name))\n",
    "    iterations = []\n",
    "    it = 0\n",
    "    for line in res.readlines():\n",
    "        iterations.append(dict())\n",
    "        iterations[it]['iteration'] = it\n",
    "        iterations[it]['status'] = dict()\n",
    "\n",
    "        opinions = line.strip().split(',')\n",
    "\n",
    "        for i in range(len(opinions)):\n",
    "            iterations[it]['status'][i] = float(opinions[i])\n",
    "            iterations[it]['node_count'] = {0: 0},\n",
    "            iterations[it]['status_delta'] = {0: 0}\n",
    "\n",
    "        it += 1\n",
    "        \n",
    "    return iterations\n",
    "\n",
    "def evolution(iterations, hex_list, fig, ax):\n",
    "\n",
    "    spaghetti_hex_list = ['#357db0', '#18A558', '#ce2626']\n",
    "\n",
    "\n",
    "    \"\"\"\n",
    "    Generates the plot\n",
    "\n",
    "    :param filename: Output filename\n",
    "    :param percentile: The percentile for the trend variance area\n",
    "    \"\"\"\n",
    "\n",
    "    nodes2opinions = {}\n",
    "    node2col = {}\n",
    "\n",
    "    last_it = iterations[-1]['iteration'] + 1\n",
    "    last_seen = {}\n",
    "\n",
    "    for it in iterations:\n",
    "        sts = it['status']\n",
    "        its = it['iteration']\n",
    "        for n, v in sts.items():\n",
    "            if n in nodes2opinions:\n",
    "                last_id = last_seen[n]\n",
    "                last_value = nodes2opinions[n][last_id]\n",
    "\n",
    "                for i in range(last_id, its):\n",
    "                    nodes2opinions[n][i] = last_value\n",
    "\n",
    "                nodes2opinions[n][its] = v\n",
    "                last_seen[n] = its\n",
    "            else:\n",
    "                nodes2opinions[n] = [0]*last_it\n",
    "                nodes2opinions[n][its] = v\n",
    "                last_seen[n] = 0\n",
    "                if v < 0.33:\n",
    "                    node2col[n] = spaghetti_hex_list[0]\n",
    "                elif 0.33 <= v <= 0.66:\n",
    "                    node2col[n] = spaghetti_hex_list[1]\n",
    "                else:\n",
    "                    node2col[n] = spaghetti_hex_list[2]\n",
    "\n",
    "    mx = 0\n",
    "    for k, l in future.utils.iteritems(nodes2opinions):\n",
    "        if mx < last_seen[k]:\n",
    "            mx = last_seen[k]\n",
    "        x = list(range(0, last_seen[k]))\n",
    "        y = l[0:last_seen[k]]\n",
    "        ax.plot(x, y, lw=1.5, alpha=0.5, color=node2col[k])\n",
    "    \n",
    "    # ax.set_ylim(-0.1, 1.1)\n",
    "    # ax.set_xlim(0, 1000)\n",
    "    # ax.tick_params(axis='both', which='major', labelsize=4, pad=0) \n",
    "    # ax.set_xlabel(\"o\", fontsize=5)\n",
    "    # ax.set_ylabel(\"t\", fontsize=5)               \n",
    "    # plt.grid(axis = 'both', which='both')\n",
    "    plt.tight_layout()\n",
    "\n",
    "    \n",
    "from tqdm import tqdm\n",
    "\n",
    "def spaghettigridbye(results, imgfolder):\n",
    "    mops = list(results.media_op.unique())\n",
    "    pmlist = sorted(list(results.p_media.unique()))\n",
    "    elist = sorted(list(results.eps.unique()))\n",
    "    glist=sorted(list(results.gam.unique()))\n",
    "    sns.set_style(\"whitegrid\")\n",
    "    i=0\n",
    "    if imgfolder == \"moderate\":\n",
    "        mo = '0.5'\n",
    "    for e in elist:\n",
    "        fig, axes = plt.subplots(ncols=len(glist), nrows=len(pmlist), figsize=(6, 6), dpi=600, sharey=True)\n",
    "        row=0\n",
    "        for pm in pmlist:\n",
    "            with tqdm(total=len(pmlist)*len(glist)) as pbar:\n",
    "                col=0\n",
    "                for g in glist:\n",
    "                    name = f'for_spaghetti media mo[{mo}] p{pm} e{e} g{g} gm{g} mi1000000'\n",
    "                    results = results[results['media_op']==mo]\n",
    "                    results = results[results['eps']==e]\n",
    "                    results = results[results['p_media']==pm]\n",
    "                    results = results[results['gam']==g]\n",
    "                    iterations = from_res_to_iterations(name, 1)\n",
    "                    evolution(iterations, spaghetti_hex_list, fig=fig, ax=axes[row,col])\n",
    "                    axes[row,col].set_title(r\"$p_m$={}, $\\epsilon$={}, $\\gamma={}$\".format(pm, e, g), fontsize=5)\n",
    "                    col+=1    \n",
    "            row+=1\n",
    "            pbar.update(1)\n",
    "        name = f'spaghetti media {imgfolder} e{e}'\n",
    "        i+=1\n",
    "        plt.savefig(f\"plots/{imgfolder}/{name}.png\")\n",
    "        plt.close()"
   ]
  },
  {
   "cell_type": "markdown",
   "metadata": {},
   "source": [
    "# Preliminaries"
   ]
  },
  {
   "cell_type": "code",
   "execution_count": 23,
   "metadata": {},
   "outputs": [],
   "source": [
    "results = pd.read_csv(\"aggregate/results_media_model.csv\", index_col=[0])"
   ]
  },
  {
   "cell_type": "code",
   "execution_count": 24,
   "metadata": {},
   "outputs": [
    {
     "data": {
      "text/html": [
       "<div>\n",
       "<style scoped>\n",
       "    .dataframe tbody tr th:only-of-type {\n",
       "        vertical-align: middle;\n",
       "    }\n",
       "\n",
       "    .dataframe tbody tr th {\n",
       "        vertical-align: top;\n",
       "    }\n",
       "\n",
       "    .dataframe thead th {\n",
       "        text-align: right;\n",
       "    }\n",
       "</style>\n",
       "<table border=\"1\" class=\"dataframe\">\n",
       "  <thead>\n",
       "    <tr style=\"text-align: right;\">\n",
       "      <th></th>\n",
       "      <th>n</th>\n",
       "      <th>p</th>\n",
       "      <th>eps</th>\n",
       "      <th>gam</th>\n",
       "      <th>gam_media</th>\n",
       "      <th>p_media</th>\n",
       "      <th>max_it</th>\n",
       "      <th>media_op</th>\n",
       "      <th>avg_ncluster</th>\n",
       "      <th>std_ncluster</th>\n",
       "      <th>...</th>\n",
       "      <th>median_opinion</th>\n",
       "      <th>avg_00_perc</th>\n",
       "      <th>avg_05_perc</th>\n",
       "      <th>avg_095_perc</th>\n",
       "      <th>avg_005_perc</th>\n",
       "      <th>10B_avg_entr</th>\n",
       "      <th>10B_std_entr</th>\n",
       "      <th>100B_avg_entr</th>\n",
       "      <th>100B_std_entr</th>\n",
       "      <th>100B_norm_entr</th>\n",
       "    </tr>\n",
       "  </thead>\n",
       "  <tbody>\n",
       "    <tr>\n",
       "      <th>0</th>\n",
       "      <td>100</td>\n",
       "      <td>1.0</td>\n",
       "      <td>0.3</td>\n",
       "      <td>0.00</td>\n",
       "      <td>0.00</td>\n",
       "      <td>0.5</td>\n",
       "      <td>1000000</td>\n",
       "      <td>0.05;0.95</td>\n",
       "      <td>1.917247</td>\n",
       "      <td>0.139437</td>\n",
       "      <td>...</td>\n",
       "      <td>0.547112</td>\n",
       "      <td>0.4966</td>\n",
       "      <td>0.0048</td>\n",
       "      <td>0.4986</td>\n",
       "      <td>0.4966</td>\n",
       "      <td>0.682894</td>\n",
       "      <td>0.059351</td>\n",
       "      <td>0.683276</td>\n",
       "      <td>0.060095</td>\n",
       "      <td>0.167361</td>\n",
       "    </tr>\n",
       "    <tr>\n",
       "      <th>1</th>\n",
       "      <td>100</td>\n",
       "      <td>1.0</td>\n",
       "      <td>0.2</td>\n",
       "      <td>0.75</td>\n",
       "      <td>0.75</td>\n",
       "      <td>0.5</td>\n",
       "      <td>1000000</td>\n",
       "      <td>0.05;0.5;0.95</td>\n",
       "      <td>2.861434</td>\n",
       "      <td>0.253250</td>\n",
       "      <td>...</td>\n",
       "      <td>0.500045</td>\n",
       "      <td>0.2843</td>\n",
       "      <td>0.4315</td>\n",
       "      <td>0.2680</td>\n",
       "      <td>0.2843</td>\n",
       "      <td>1.182315</td>\n",
       "      <td>0.141936</td>\n",
       "      <td>1.186385</td>\n",
       "      <td>0.145965</td>\n",
       "      <td>0.290592</td>\n",
       "    </tr>\n",
       "    <tr>\n",
       "      <th>2</th>\n",
       "      <td>100</td>\n",
       "      <td>1.0</td>\n",
       "      <td>0.3</td>\n",
       "      <td>0.00</td>\n",
       "      <td>0.00</td>\n",
       "      <td>0.2</td>\n",
       "      <td>1000000</td>\n",
       "      <td>0.05;0.95</td>\n",
       "      <td>1.771977</td>\n",
       "      <td>0.290598</td>\n",
       "      <td>...</td>\n",
       "      <td>0.512833</td>\n",
       "      <td>0.4441</td>\n",
       "      <td>0.1297</td>\n",
       "      <td>0.4175</td>\n",
       "      <td>0.4441</td>\n",
       "      <td>0.593931</td>\n",
       "      <td>0.165382</td>\n",
       "      <td>0.594069</td>\n",
       "      <td>0.165018</td>\n",
       "      <td>0.145511</td>\n",
       "    </tr>\n",
       "    <tr>\n",
       "      <th>3</th>\n",
       "      <td>100</td>\n",
       "      <td>1.0</td>\n",
       "      <td>0.4</td>\n",
       "      <td>1.25</td>\n",
       "      <td>1.25</td>\n",
       "      <td>0.2</td>\n",
       "      <td>1000000</td>\n",
       "      <td>0.5</td>\n",
       "      <td>1.060078</td>\n",
       "      <td>0.065546</td>\n",
       "      <td>...</td>\n",
       "      <td>0.500177</td>\n",
       "      <td>0.0178</td>\n",
       "      <td>0.9721</td>\n",
       "      <td>0.0101</td>\n",
       "      <td>0.0178</td>\n",
       "      <td>0.266965</td>\n",
       "      <td>0.256676</td>\n",
       "      <td>0.281470</td>\n",
       "      <td>0.264232</td>\n",
       "      <td>0.068943</td>\n",
       "    </tr>\n",
       "    <tr>\n",
       "      <th>4</th>\n",
       "      <td>100</td>\n",
       "      <td>1.0</td>\n",
       "      <td>0.5</td>\n",
       "      <td>0.00</td>\n",
       "      <td>0.00</td>\n",
       "      <td>0.4</td>\n",
       "      <td>1000000</td>\n",
       "      <td>0.5</td>\n",
       "      <td>1.000000</td>\n",
       "      <td>0.000000</td>\n",
       "      <td>...</td>\n",
       "      <td>0.500133</td>\n",
       "      <td>0.0000</td>\n",
       "      <td>1.0000</td>\n",
       "      <td>0.0000</td>\n",
       "      <td>0.0000</td>\n",
       "      <td>0.024558</td>\n",
       "      <td>0.106782</td>\n",
       "      <td>0.024558</td>\n",
       "      <td>0.106782</td>\n",
       "      <td>0.006015</td>\n",
       "    </tr>\n",
       "    <tr>\n",
       "      <th>5</th>\n",
       "      <td>100</td>\n",
       "      <td>1.0</td>\n",
       "      <td>0.4</td>\n",
       "      <td>1.25</td>\n",
       "      <td>1.25</td>\n",
       "      <td>0.4</td>\n",
       "      <td>1000000</td>\n",
       "      <td>0.5</td>\n",
       "      <td>1.082641</td>\n",
       "      <td>0.062735</td>\n",
       "      <td>...</td>\n",
       "      <td>0.500228</td>\n",
       "      <td>0.0204</td>\n",
       "      <td>0.9617</td>\n",
       "      <td>0.0179</td>\n",
       "      <td>0.0204</td>\n",
       "      <td>0.323349</td>\n",
       "      <td>0.266925</td>\n",
       "      <td>0.341282</td>\n",
       "      <td>0.270358</td>\n",
       "      <td>0.083593</td>\n",
       "    </tr>\n",
       "    <tr>\n",
       "      <th>6</th>\n",
       "      <td>100</td>\n",
       "      <td>1.0</td>\n",
       "      <td>0.2</td>\n",
       "      <td>1.00</td>\n",
       "      <td>1.00</td>\n",
       "      <td>0.2</td>\n",
       "      <td>1000000</td>\n",
       "      <td>0.5</td>\n",
       "      <td>3.576107</td>\n",
       "      <td>0.867551</td>\n",
       "      <td>...</td>\n",
       "      <td>0.501146</td>\n",
       "      <td>0.0437</td>\n",
       "      <td>0.4579</td>\n",
       "      <td>0.1013</td>\n",
       "      <td>0.1016</td>\n",
       "      <td>1.440886</td>\n",
       "      <td>0.198281</td>\n",
       "      <td>1.930834</td>\n",
       "      <td>0.306728</td>\n",
       "      <td>0.472937</td>\n",
       "    </tr>\n",
       "    <tr>\n",
       "      <th>7</th>\n",
       "      <td>100</td>\n",
       "      <td>1.0</td>\n",
       "      <td>0.4</td>\n",
       "      <td>0.50</td>\n",
       "      <td>0.50</td>\n",
       "      <td>0.5</td>\n",
       "      <td>1000000</td>\n",
       "      <td>0.05;0.5;0.95</td>\n",
       "      <td>9.099572</td>\n",
       "      <td>9.236940</td>\n",
       "      <td>...</td>\n",
       "      <td>0.509467</td>\n",
       "      <td>0.0096</td>\n",
       "      <td>0.5899</td>\n",
       "      <td>0.0310</td>\n",
       "      <td>0.0250</td>\n",
       "      <td>0.629459</td>\n",
       "      <td>0.640735</td>\n",
       "      <td>1.485249</td>\n",
       "      <td>1.600427</td>\n",
       "      <td>0.363795</td>\n",
       "    </tr>\n",
       "    <tr>\n",
       "      <th>8</th>\n",
       "      <td>100</td>\n",
       "      <td>1.0</td>\n",
       "      <td>0.3</td>\n",
       "      <td>1.25</td>\n",
       "      <td>1.25</td>\n",
       "      <td>0.1</td>\n",
       "      <td>1000000</td>\n",
       "      <td>0.0</td>\n",
       "      <td>2.121877</td>\n",
       "      <td>1.243069</td>\n",
       "      <td>...</td>\n",
       "      <td>0.520626</td>\n",
       "      <td>0.3060</td>\n",
       "      <td>0.2703</td>\n",
       "      <td>0.0157</td>\n",
       "      <td>0.3060</td>\n",
       "      <td>0.732725</td>\n",
       "      <td>0.283451</td>\n",
       "      <td>1.114823</td>\n",
       "      <td>0.486162</td>\n",
       "      <td>0.273064</td>\n",
       "    </tr>\n",
       "    <tr>\n",
       "      <th>9</th>\n",
       "      <td>100</td>\n",
       "      <td>1.0</td>\n",
       "      <td>0.5</td>\n",
       "      <td>1.00</td>\n",
       "      <td>1.00</td>\n",
       "      <td>0.1</td>\n",
       "      <td>1000000</td>\n",
       "      <td>0.05;0.5;0.95</td>\n",
       "      <td>1.758971</td>\n",
       "      <td>0.712546</td>\n",
       "      <td>...</td>\n",
       "      <td>0.494526</td>\n",
       "      <td>0.0000</td>\n",
       "      <td>0.9916</td>\n",
       "      <td>0.0000</td>\n",
       "      <td>0.0000</td>\n",
       "      <td>0.258974</td>\n",
       "      <td>0.226430</td>\n",
       "      <td>0.756872</td>\n",
       "      <td>0.467889</td>\n",
       "      <td>0.185388</td>\n",
       "    </tr>\n",
       "    <tr>\n",
       "      <th>10</th>\n",
       "      <td>100</td>\n",
       "      <td>1.0</td>\n",
       "      <td>0.5</td>\n",
       "      <td>1.00</td>\n",
       "      <td>1.00</td>\n",
       "      <td>0.3</td>\n",
       "      <td>1000000</td>\n",
       "      <td>0.0</td>\n",
       "      <td>1.003928</td>\n",
       "      <td>0.015319</td>\n",
       "      <td>...</td>\n",
       "      <td>0.000681</td>\n",
       "      <td>0.9981</td>\n",
       "      <td>0.0000</td>\n",
       "      <td>0.0005</td>\n",
       "      <td>0.9981</td>\n",
       "      <td>0.008741</td>\n",
       "      <td>0.032123</td>\n",
       "      <td>0.009078</td>\n",
       "      <td>0.034217</td>\n",
       "      <td>0.002223</td>\n",
       "    </tr>\n",
       "    <tr>\n",
       "      <th>11</th>\n",
       "      <td>100</td>\n",
       "      <td>1.0</td>\n",
       "      <td>0.5</td>\n",
       "      <td>0.75</td>\n",
       "      <td>0.75</td>\n",
       "      <td>0.1</td>\n",
       "      <td>1000000</td>\n",
       "      <td>0.05;0.5;0.95</td>\n",
       "      <td>8.010769</td>\n",
       "      <td>1.248662</td>\n",
       "      <td>...</td>\n",
       "      <td>0.308445</td>\n",
       "      <td>0.0004</td>\n",
       "      <td>0.0140</td>\n",
       "      <td>0.0008</td>\n",
       "      <td>0.0094</td>\n",
       "      <td>0.714778</td>\n",
       "      <td>0.152760</td>\n",
       "      <td>2.458043</td>\n",
       "      <td>0.145311</td>\n",
       "      <td>0.602071</td>\n",
       "    </tr>\n",
       "    <tr>\n",
       "      <th>12</th>\n",
       "      <td>100</td>\n",
       "      <td>1.0</td>\n",
       "      <td>0.3</td>\n",
       "      <td>0.50</td>\n",
       "      <td>0.50</td>\n",
       "      <td>0.4</td>\n",
       "      <td>1000000</td>\n",
       "      <td>0.05;0.5;0.95</td>\n",
       "      <td>1.698500</td>\n",
       "      <td>0.243840</td>\n",
       "      <td>...</td>\n",
       "      <td>0.491293</td>\n",
       "      <td>0.1551</td>\n",
       "      <td>0.7159</td>\n",
       "      <td>0.1290</td>\n",
       "      <td>0.1551</td>\n",
       "      <td>0.667939</td>\n",
       "      <td>0.170671</td>\n",
       "      <td>0.667939</td>\n",
       "      <td>0.170671</td>\n",
       "      <td>0.163604</td>\n",
       "    </tr>\n",
       "    <tr>\n",
       "      <th>13</th>\n",
       "      <td>100</td>\n",
       "      <td>1.0</td>\n",
       "      <td>0.4</td>\n",
       "      <td>1.50</td>\n",
       "      <td>1.50</td>\n",
       "      <td>0.2</td>\n",
       "      <td>1000000</td>\n",
       "      <td>0.05;0.95</td>\n",
       "      <td>1.833336</td>\n",
       "      <td>0.145760</td>\n",
       "      <td>...</td>\n",
       "      <td>0.535731</td>\n",
       "      <td>0.4868</td>\n",
       "      <td>0.0004</td>\n",
       "      <td>0.5128</td>\n",
       "      <td>0.4868</td>\n",
       "      <td>0.643470</td>\n",
       "      <td>0.051263</td>\n",
       "      <td>0.643470</td>\n",
       "      <td>0.051263</td>\n",
       "      <td>0.157611</td>\n",
       "    </tr>\n",
       "    <tr>\n",
       "      <th>14</th>\n",
       "      <td>100</td>\n",
       "      <td>1.0</td>\n",
       "      <td>0.4</td>\n",
       "      <td>1.50</td>\n",
       "      <td>1.50</td>\n",
       "      <td>0.0</td>\n",
       "      <td>1000000</td>\n",
       "      <td>0.05;0.5;0.95</td>\n",
       "      <td>1.263470</td>\n",
       "      <td>0.299830</td>\n",
       "      <td>...</td>\n",
       "      <td>0.500854</td>\n",
       "      <td>0.0091</td>\n",
       "      <td>0.9650</td>\n",
       "      <td>0.0073</td>\n",
       "      <td>0.0093</td>\n",
       "      <td>0.123160</td>\n",
       "      <td>0.165155</td>\n",
       "      <td>0.550244</td>\n",
       "      <td>0.300923</td>\n",
       "      <td>0.134776</td>\n",
       "    </tr>\n",
       "    <tr>\n",
       "      <th>15</th>\n",
       "      <td>100</td>\n",
       "      <td>1.0</td>\n",
       "      <td>0.3</td>\n",
       "      <td>0.00</td>\n",
       "      <td>0.00</td>\n",
       "      <td>0.4</td>\n",
       "      <td>1000000</td>\n",
       "      <td>0.05;0.95</td>\n",
       "      <td>1.904802</td>\n",
       "      <td>0.137101</td>\n",
       "      <td>...</td>\n",
       "      <td>0.596761</td>\n",
       "      <td>0.4794</td>\n",
       "      <td>0.0105</td>\n",
       "      <td>0.5099</td>\n",
       "      <td>0.4794</td>\n",
       "      <td>0.670955</td>\n",
       "      <td>0.052889</td>\n",
       "      <td>0.670955</td>\n",
       "      <td>0.052889</td>\n",
       "      <td>0.164343</td>\n",
       "    </tr>\n",
       "    <tr>\n",
       "      <th>16</th>\n",
       "      <td>100</td>\n",
       "      <td>1.0</td>\n",
       "      <td>0.2</td>\n",
       "      <td>0.50</td>\n",
       "      <td>0.50</td>\n",
       "      <td>0.3</td>\n",
       "      <td>1000000</td>\n",
       "      <td>0.05;0.95</td>\n",
       "      <td>3.493889</td>\n",
       "      <td>1.206390</td>\n",
       "      <td>...</td>\n",
       "      <td>0.461565</td>\n",
       "      <td>0.3085</td>\n",
       "      <td>0.2784</td>\n",
       "      <td>0.3050</td>\n",
       "      <td>0.3085</td>\n",
       "      <td>1.253147</td>\n",
       "      <td>0.220053</td>\n",
       "      <td>1.508785</td>\n",
       "      <td>0.441377</td>\n",
       "      <td>0.369561</td>\n",
       "    </tr>\n",
       "    <tr>\n",
       "      <th>17</th>\n",
       "      <td>100</td>\n",
       "      <td>1.0</td>\n",
       "      <td>0.4</td>\n",
       "      <td>1.25</td>\n",
       "      <td>1.25</td>\n",
       "      <td>0.2</td>\n",
       "      <td>1000000</td>\n",
       "      <td>0.05;0.5;0.95</td>\n",
       "      <td>1.094223</td>\n",
       "      <td>0.093144</td>\n",
       "      <td>...</td>\n",
       "      <td>0.500156</td>\n",
       "      <td>0.0245</td>\n",
       "      <td>0.9564</td>\n",
       "      <td>0.0191</td>\n",
       "      <td>0.0245</td>\n",
       "      <td>0.189880</td>\n",
       "      <td>0.159276</td>\n",
       "      <td>0.189880</td>\n",
       "      <td>0.159276</td>\n",
       "      <td>0.046509</td>\n",
       "    </tr>\n",
       "    <tr>\n",
       "      <th>18</th>\n",
       "      <td>100</td>\n",
       "      <td>1.0</td>\n",
       "      <td>0.5</td>\n",
       "      <td>1.25</td>\n",
       "      <td>1.25</td>\n",
       "      <td>0.0</td>\n",
       "      <td>1000000</td>\n",
       "      <td>0.0</td>\n",
       "      <td>1.001636</td>\n",
       "      <td>0.008580</td>\n",
       "      <td>...</td>\n",
       "      <td>0.502453</td>\n",
       "      <td>0.0007</td>\n",
       "      <td>0.9907</td>\n",
       "      <td>0.0001</td>\n",
       "      <td>0.0007</td>\n",
       "      <td>0.081705</td>\n",
       "      <td>0.196255</td>\n",
       "      <td>0.439071</td>\n",
       "      <td>0.268184</td>\n",
       "      <td>0.107546</td>\n",
       "    </tr>\n",
       "    <tr>\n",
       "      <th>19</th>\n",
       "      <td>100</td>\n",
       "      <td>1.0</td>\n",
       "      <td>0.5</td>\n",
       "      <td>0.75</td>\n",
       "      <td>0.75</td>\n",
       "      <td>0.4</td>\n",
       "      <td>1000000</td>\n",
       "      <td>0.5</td>\n",
       "      <td>1.000000</td>\n",
       "      <td>0.000000</td>\n",
       "      <td>...</td>\n",
       "      <td>0.500154</td>\n",
       "      <td>0.0000</td>\n",
       "      <td>1.0000</td>\n",
       "      <td>0.0000</td>\n",
       "      <td>0.0000</td>\n",
       "      <td>0.174462</td>\n",
       "      <td>0.251726</td>\n",
       "      <td>0.174462</td>\n",
       "      <td>0.251726</td>\n",
       "      <td>0.042733</td>\n",
       "    </tr>\n",
       "    <tr>\n",
       "      <th>20</th>\n",
       "      <td>100</td>\n",
       "      <td>1.0</td>\n",
       "      <td>0.2</td>\n",
       "      <td>1.00</td>\n",
       "      <td>1.00</td>\n",
       "      <td>0.5</td>\n",
       "      <td>1000000</td>\n",
       "      <td>0.05;0.95</td>\n",
       "      <td>3.393148</td>\n",
       "      <td>1.181489</td>\n",
       "      <td>...</td>\n",
       "      <td>0.518933</td>\n",
       "      <td>0.2670</td>\n",
       "      <td>0.3798</td>\n",
       "      <td>0.2608</td>\n",
       "      <td>0.2670</td>\n",
       "      <td>1.242272</td>\n",
       "      <td>0.244713</td>\n",
       "      <td>1.423317</td>\n",
       "      <td>0.444193</td>\n",
       "      <td>0.348626</td>\n",
       "    </tr>\n",
       "    <tr>\n",
       "      <th>21</th>\n",
       "      <td>100</td>\n",
       "      <td>1.0</td>\n",
       "      <td>0.2</td>\n",
       "      <td>0.50</td>\n",
       "      <td>0.50</td>\n",
       "      <td>0.5</td>\n",
       "      <td>1000000</td>\n",
       "      <td>0.05;0.5;0.95</td>\n",
       "      <td>2.834510</td>\n",
       "      <td>0.209198</td>\n",
       "      <td>...</td>\n",
       "      <td>0.500018</td>\n",
       "      <td>0.2913</td>\n",
       "      <td>0.4191</td>\n",
       "      <td>0.2819</td>\n",
       "      <td>0.2913</td>\n",
       "      <td>1.140743</td>\n",
       "      <td>0.117895</td>\n",
       "      <td>1.141489</td>\n",
       "      <td>0.118168</td>\n",
       "      <td>0.279595</td>\n",
       "    </tr>\n",
       "    <tr>\n",
       "      <th>22</th>\n",
       "      <td>100</td>\n",
       "      <td>1.0</td>\n",
       "      <td>0.4</td>\n",
       "      <td>1.50</td>\n",
       "      <td>1.50</td>\n",
       "      <td>0.1</td>\n",
       "      <td>1000000</td>\n",
       "      <td>0.05;0.5;0.95</td>\n",
       "      <td>1.067686</td>\n",
       "      <td>0.078946</td>\n",
       "      <td>...</td>\n",
       "      <td>0.500247</td>\n",
       "      <td>0.0208</td>\n",
       "      <td>0.9684</td>\n",
       "      <td>0.0108</td>\n",
       "      <td>0.0208</td>\n",
       "      <td>0.185882</td>\n",
       "      <td>0.194874</td>\n",
       "      <td>0.186748</td>\n",
       "      <td>0.195952</td>\n",
       "      <td>0.045742</td>\n",
       "    </tr>\n",
       "    <tr>\n",
       "      <th>23</th>\n",
       "      <td>100</td>\n",
       "      <td>1.0</td>\n",
       "      <td>0.3</td>\n",
       "      <td>1.25</td>\n",
       "      <td>1.25</td>\n",
       "      <td>0.3</td>\n",
       "      <td>1000000</td>\n",
       "      <td>0.05;0.95</td>\n",
       "      <td>2.039452</td>\n",
       "      <td>0.425037</td>\n",
       "      <td>...</td>\n",
       "      <td>0.468840</td>\n",
       "      <td>0.4788</td>\n",
       "      <td>0.0487</td>\n",
       "      <td>0.4618</td>\n",
       "      <td>0.4788</td>\n",
       "      <td>0.796664</td>\n",
       "      <td>0.212889</td>\n",
       "      <td>0.832510</td>\n",
       "      <td>0.263570</td>\n",
       "      <td>0.203914</td>\n",
       "    </tr>\n",
       "    <tr>\n",
       "      <th>24</th>\n",
       "      <td>100</td>\n",
       "      <td>1.0</td>\n",
       "      <td>0.5</td>\n",
       "      <td>1.50</td>\n",
       "      <td>1.50</td>\n",
       "      <td>0.5</td>\n",
       "      <td>1000000</td>\n",
       "      <td>0.05;0.5;0.95</td>\n",
       "      <td>1.000000</td>\n",
       "      <td>0.000000</td>\n",
       "      <td>...</td>\n",
       "      <td>0.499498</td>\n",
       "      <td>0.0000</td>\n",
       "      <td>1.0000</td>\n",
       "      <td>0.0000</td>\n",
       "      <td>0.0000</td>\n",
       "      <td>0.000000</td>\n",
       "      <td>0.000000</td>\n",
       "      <td>0.000000</td>\n",
       "      <td>0.000000</td>\n",
       "      <td>0.000000</td>\n",
       "    </tr>\n",
       "    <tr>\n",
       "      <th>25</th>\n",
       "      <td>100</td>\n",
       "      <td>1.0</td>\n",
       "      <td>0.5</td>\n",
       "      <td>1.25</td>\n",
       "      <td>1.25</td>\n",
       "      <td>0.4</td>\n",
       "      <td>1000000</td>\n",
       "      <td>0.05;0.5;0.95</td>\n",
       "      <td>1.998724</td>\n",
       "      <td>0.958797</td>\n",
       "      <td>...</td>\n",
       "      <td>0.496932</td>\n",
       "      <td>0.0000</td>\n",
       "      <td>0.9755</td>\n",
       "      <td>0.0000</td>\n",
       "      <td>0.0000</td>\n",
       "      <td>0.323122</td>\n",
       "      <td>0.298605</td>\n",
       "      <td>0.847168</td>\n",
       "      <td>0.654668</td>\n",
       "      <td>0.207505</td>\n",
       "    </tr>\n",
       "    <tr>\n",
       "      <th>26</th>\n",
       "      <td>100</td>\n",
       "      <td>1.0</td>\n",
       "      <td>0.2</td>\n",
       "      <td>0.50</td>\n",
       "      <td>0.50</td>\n",
       "      <td>0.4</td>\n",
       "      <td>1000000</td>\n",
       "      <td>0.05;0.95</td>\n",
       "      <td>3.642978</td>\n",
       "      <td>1.281428</td>\n",
       "      <td>...</td>\n",
       "      <td>0.492088</td>\n",
       "      <td>0.2903</td>\n",
       "      <td>0.3074</td>\n",
       "      <td>0.3002</td>\n",
       "      <td>0.2903</td>\n",
       "      <td>1.270057</td>\n",
       "      <td>0.227630</td>\n",
       "      <td>1.527593</td>\n",
       "      <td>0.465397</td>\n",
       "      <td>0.374167</td>\n",
       "    </tr>\n",
       "    <tr>\n",
       "      <th>27</th>\n",
       "      <td>100</td>\n",
       "      <td>1.0</td>\n",
       "      <td>0.5</td>\n",
       "      <td>0.75</td>\n",
       "      <td>0.75</td>\n",
       "      <td>0.3</td>\n",
       "      <td>1000000</td>\n",
       "      <td>0.05;0.95</td>\n",
       "      <td>1.051266</td>\n",
       "      <td>0.089051</td>\n",
       "      <td>...</td>\n",
       "      <td>0.481955</td>\n",
       "      <td>0.5217</td>\n",
       "      <td>0.0000</td>\n",
       "      <td>0.4783</td>\n",
       "      <td>0.5217</td>\n",
       "      <td>0.088935</td>\n",
       "      <td>0.112797</td>\n",
       "      <td>0.088935</td>\n",
       "      <td>0.112797</td>\n",
       "      <td>0.021784</td>\n",
       "    </tr>\n",
       "    <tr>\n",
       "      <th>28</th>\n",
       "      <td>100</td>\n",
       "      <td>1.0</td>\n",
       "      <td>0.3</td>\n",
       "      <td>0.00</td>\n",
       "      <td>0.00</td>\n",
       "      <td>0.5</td>\n",
       "      <td>1000000</td>\n",
       "      <td>0.5</td>\n",
       "      <td>1.403071</td>\n",
       "      <td>0.158107</td>\n",
       "      <td>...</td>\n",
       "      <td>0.500000</td>\n",
       "      <td>0.0337</td>\n",
       "      <td>0.8373</td>\n",
       "      <td>0.0866</td>\n",
       "      <td>0.0759</td>\n",
       "      <td>0.529630</td>\n",
       "      <td>0.128445</td>\n",
       "      <td>0.539811</td>\n",
       "      <td>0.135201</td>\n",
       "      <td>0.132221</td>\n",
       "    </tr>\n",
       "    <tr>\n",
       "      <th>29</th>\n",
       "      <td>100</td>\n",
       "      <td>1.0</td>\n",
       "      <td>0.2</td>\n",
       "      <td>1.25</td>\n",
       "      <td>1.25</td>\n",
       "      <td>0.1</td>\n",
       "      <td>1000000</td>\n",
       "      <td>0.05;0.5;0.95</td>\n",
       "      <td>2.791216</td>\n",
       "      <td>0.332929</td>\n",
       "      <td>...</td>\n",
       "      <td>0.502208</td>\n",
       "      <td>0.2795</td>\n",
       "      <td>0.4071</td>\n",
       "      <td>0.2923</td>\n",
       "      <td>0.2795</td>\n",
       "      <td>1.157872</td>\n",
       "      <td>0.158852</td>\n",
       "      <td>1.166144</td>\n",
       "      <td>0.165386</td>\n",
       "      <td>0.285634</td>\n",
       "    </tr>\n",
       "    <tr>\n",
       "      <th>...</th>\n",
       "      <td>...</td>\n",
       "      <td>...</td>\n",
       "      <td>...</td>\n",
       "      <td>...</td>\n",
       "      <td>...</td>\n",
       "      <td>...</td>\n",
       "      <td>...</td>\n",
       "      <td>...</td>\n",
       "      <td>...</td>\n",
       "      <td>...</td>\n",
       "      <td>...</td>\n",
       "      <td>...</td>\n",
       "      <td>...</td>\n",
       "      <td>...</td>\n",
       "      <td>...</td>\n",
       "      <td>...</td>\n",
       "      <td>...</td>\n",
       "      <td>...</td>\n",
       "      <td>...</td>\n",
       "      <td>...</td>\n",
       "      <td>...</td>\n",
       "    </tr>\n",
       "    <tr>\n",
       "      <th>546</th>\n",
       "      <td>100</td>\n",
       "      <td>1.0</td>\n",
       "      <td>0.4</td>\n",
       "      <td>1.50</td>\n",
       "      <td>1.50</td>\n",
       "      <td>0.5</td>\n",
       "      <td>1000000</td>\n",
       "      <td>0.5</td>\n",
       "      <td>1.145945</td>\n",
       "      <td>0.075704</td>\n",
       "      <td>...</td>\n",
       "      <td>0.500047</td>\n",
       "      <td>0.0352</td>\n",
       "      <td>0.9346</td>\n",
       "      <td>0.0302</td>\n",
       "      <td>0.0352</td>\n",
       "      <td>0.534657</td>\n",
       "      <td>0.259172</td>\n",
       "      <td>0.576457</td>\n",
       "      <td>0.264989</td>\n",
       "      <td>0.141197</td>\n",
       "    </tr>\n",
       "    <tr>\n",
       "      <th>547</th>\n",
       "      <td>100</td>\n",
       "      <td>1.0</td>\n",
       "      <td>0.2</td>\n",
       "      <td>1.50</td>\n",
       "      <td>1.50</td>\n",
       "      <td>0.1</td>\n",
       "      <td>1000000</td>\n",
       "      <td>0.0</td>\n",
       "      <td>4.329663</td>\n",
       "      <td>2.227163</td>\n",
       "      <td>...</td>\n",
       "      <td>0.489377</td>\n",
       "      <td>0.2533</td>\n",
       "      <td>0.1617</td>\n",
       "      <td>0.0671</td>\n",
       "      <td>0.2533</td>\n",
       "      <td>1.461007</td>\n",
       "      <td>0.220937</td>\n",
       "      <td>2.068849</td>\n",
       "      <td>0.408462</td>\n",
       "      <td>0.506742</td>\n",
       "    </tr>\n",
       "    <tr>\n",
       "      <th>548</th>\n",
       "      <td>100</td>\n",
       "      <td>1.0</td>\n",
       "      <td>0.3</td>\n",
       "      <td>0.50</td>\n",
       "      <td>0.50</td>\n",
       "      <td>0.1</td>\n",
       "      <td>1000000</td>\n",
       "      <td>0.0</td>\n",
       "      <td>1.864744</td>\n",
       "      <td>1.002119</td>\n",
       "      <td>...</td>\n",
       "      <td>0.499219</td>\n",
       "      <td>0.2603</td>\n",
       "      <td>0.3358</td>\n",
       "      <td>0.0148</td>\n",
       "      <td>0.2603</td>\n",
       "      <td>0.598710</td>\n",
       "      <td>0.317641</td>\n",
       "      <td>0.838094</td>\n",
       "      <td>0.528962</td>\n",
       "      <td>0.205282</td>\n",
       "    </tr>\n",
       "    <tr>\n",
       "      <th>549</th>\n",
       "      <td>100</td>\n",
       "      <td>1.0</td>\n",
       "      <td>0.2</td>\n",
       "      <td>1.25</td>\n",
       "      <td>1.25</td>\n",
       "      <td>0.5</td>\n",
       "      <td>1000000</td>\n",
       "      <td>0.05;0.5;0.95</td>\n",
       "      <td>2.933025</td>\n",
       "      <td>0.257094</td>\n",
       "      <td>...</td>\n",
       "      <td>0.500051</td>\n",
       "      <td>0.2648</td>\n",
       "      <td>0.4304</td>\n",
       "      <td>0.2721</td>\n",
       "      <td>0.2648</td>\n",
       "      <td>1.246641</td>\n",
       "      <td>0.142555</td>\n",
       "      <td>1.259504</td>\n",
       "      <td>0.147933</td>\n",
       "      <td>0.308502</td>\n",
       "    </tr>\n",
       "    <tr>\n",
       "      <th>550</th>\n",
       "      <td>100</td>\n",
       "      <td>1.0</td>\n",
       "      <td>0.5</td>\n",
       "      <td>1.25</td>\n",
       "      <td>1.25</td>\n",
       "      <td>0.2</td>\n",
       "      <td>1000000</td>\n",
       "      <td>0.0</td>\n",
       "      <td>1.013549</td>\n",
       "      <td>0.039113</td>\n",
       "      <td>...</td>\n",
       "      <td>0.000857</td>\n",
       "      <td>0.9937</td>\n",
       "      <td>0.0000</td>\n",
       "      <td>0.0034</td>\n",
       "      <td>0.9937</td>\n",
       "      <td>0.028620</td>\n",
       "      <td>0.075178</td>\n",
       "      <td>0.030111</td>\n",
       "      <td>0.081288</td>\n",
       "      <td>0.007375</td>\n",
       "    </tr>\n",
       "    <tr>\n",
       "      <th>551</th>\n",
       "      <td>100</td>\n",
       "      <td>1.0</td>\n",
       "      <td>0.2</td>\n",
       "      <td>1.25</td>\n",
       "      <td>1.25</td>\n",
       "      <td>0.3</td>\n",
       "      <td>1000000</td>\n",
       "      <td>0.05;0.95</td>\n",
       "      <td>3.597427</td>\n",
       "      <td>1.216984</td>\n",
       "      <td>...</td>\n",
       "      <td>0.510763</td>\n",
       "      <td>0.2762</td>\n",
       "      <td>0.3258</td>\n",
       "      <td>0.2731</td>\n",
       "      <td>0.2762</td>\n",
       "      <td>1.307854</td>\n",
       "      <td>0.253192</td>\n",
       "      <td>1.547296</td>\n",
       "      <td>0.436097</td>\n",
       "      <td>0.378993</td>\n",
       "    </tr>\n",
       "    <tr>\n",
       "      <th>552</th>\n",
       "      <td>100</td>\n",
       "      <td>1.0</td>\n",
       "      <td>0.4</td>\n",
       "      <td>1.50</td>\n",
       "      <td>1.50</td>\n",
       "      <td>0.4</td>\n",
       "      <td>1000000</td>\n",
       "      <td>0.0</td>\n",
       "      <td>1.970868</td>\n",
       "      <td>0.609310</td>\n",
       "      <td>...</td>\n",
       "      <td>0.602653</td>\n",
       "      <td>0.3714</td>\n",
       "      <td>0.0733</td>\n",
       "      <td>0.0006</td>\n",
       "      <td>0.3714</td>\n",
       "      <td>0.701075</td>\n",
       "      <td>0.180798</td>\n",
       "      <td>0.987752</td>\n",
       "      <td>0.310234</td>\n",
       "      <td>0.241939</td>\n",
       "    </tr>\n",
       "    <tr>\n",
       "      <th>553</th>\n",
       "      <td>100</td>\n",
       "      <td>1.0</td>\n",
       "      <td>0.5</td>\n",
       "      <td>1.50</td>\n",
       "      <td>1.50</td>\n",
       "      <td>0.3</td>\n",
       "      <td>1000000</td>\n",
       "      <td>0.5</td>\n",
       "      <td>1.000000</td>\n",
       "      <td>0.000000</td>\n",
       "      <td>...</td>\n",
       "      <td>0.500023</td>\n",
       "      <td>0.0000</td>\n",
       "      <td>1.0000</td>\n",
       "      <td>0.0000</td>\n",
       "      <td>0.0000</td>\n",
       "      <td>0.295955</td>\n",
       "      <td>0.289480</td>\n",
       "      <td>0.295955</td>\n",
       "      <td>0.289480</td>\n",
       "      <td>0.072491</td>\n",
       "    </tr>\n",
       "    <tr>\n",
       "      <th>554</th>\n",
       "      <td>100</td>\n",
       "      <td>1.0</td>\n",
       "      <td>0.4</td>\n",
       "      <td>0.50</td>\n",
       "      <td>0.50</td>\n",
       "      <td>0.0</td>\n",
       "      <td>1000000</td>\n",
       "      <td>0.05;0.5;0.95</td>\n",
       "      <td>1.018584</td>\n",
       "      <td>0.038626</td>\n",
       "      <td>...</td>\n",
       "      <td>0.498644</td>\n",
       "      <td>0.0031</td>\n",
       "      <td>0.9791</td>\n",
       "      <td>0.0045</td>\n",
       "      <td>0.0041</td>\n",
       "      <td>0.077151</td>\n",
       "      <td>0.162296</td>\n",
       "      <td>0.269786</td>\n",
       "      <td>0.280686</td>\n",
       "      <td>0.066081</td>\n",
       "    </tr>\n",
       "    <tr>\n",
       "      <th>555</th>\n",
       "      <td>100</td>\n",
       "      <td>1.0</td>\n",
       "      <td>0.3</td>\n",
       "      <td>1.50</td>\n",
       "      <td>1.50</td>\n",
       "      <td>0.0</td>\n",
       "      <td>1000000</td>\n",
       "      <td>0.5</td>\n",
       "      <td>1.894366</td>\n",
       "      <td>1.262039</td>\n",
       "      <td>...</td>\n",
       "      <td>0.508593</td>\n",
       "      <td>0.0116</td>\n",
       "      <td>0.6101</td>\n",
       "      <td>0.0146</td>\n",
       "      <td>0.0216</td>\n",
       "      <td>0.517324</td>\n",
       "      <td>0.459961</td>\n",
       "      <td>1.032500</td>\n",
       "      <td>0.671235</td>\n",
       "      <td>0.252900</td>\n",
       "    </tr>\n",
       "    <tr>\n",
       "      <th>556</th>\n",
       "      <td>100</td>\n",
       "      <td>1.0</td>\n",
       "      <td>0.2</td>\n",
       "      <td>1.25</td>\n",
       "      <td>1.25</td>\n",
       "      <td>0.0</td>\n",
       "      <td>1000000</td>\n",
       "      <td>0.5</td>\n",
       "      <td>4.181780</td>\n",
       "      <td>1.632295</td>\n",
       "      <td>...</td>\n",
       "      <td>0.485474</td>\n",
       "      <td>0.0343</td>\n",
       "      <td>0.1690</td>\n",
       "      <td>0.0739</td>\n",
       "      <td>0.0702</td>\n",
       "      <td>1.434728</td>\n",
       "      <td>0.234576</td>\n",
       "      <td>2.225345</td>\n",
       "      <td>0.343894</td>\n",
       "      <td>0.545074</td>\n",
       "    </tr>\n",
       "    <tr>\n",
       "      <th>557</th>\n",
       "      <td>100</td>\n",
       "      <td>1.0</td>\n",
       "      <td>0.5</td>\n",
       "      <td>1.50</td>\n",
       "      <td>1.50</td>\n",
       "      <td>0.2</td>\n",
       "      <td>1000000</td>\n",
       "      <td>0.05;0.5;0.95</td>\n",
       "      <td>1.000000</td>\n",
       "      <td>0.000000</td>\n",
       "      <td>...</td>\n",
       "      <td>0.499087</td>\n",
       "      <td>0.0000</td>\n",
       "      <td>1.0000</td>\n",
       "      <td>0.0000</td>\n",
       "      <td>0.0000</td>\n",
       "      <td>0.000000</td>\n",
       "      <td>0.000000</td>\n",
       "      <td>0.000000</td>\n",
       "      <td>0.000000</td>\n",
       "      <td>0.000000</td>\n",
       "    </tr>\n",
       "    <tr>\n",
       "      <th>558</th>\n",
       "      <td>100</td>\n",
       "      <td>1.0</td>\n",
       "      <td>0.5</td>\n",
       "      <td>1.00</td>\n",
       "      <td>1.00</td>\n",
       "      <td>0.0</td>\n",
       "      <td>1000000</td>\n",
       "      <td>0.05;0.5;0.95</td>\n",
       "      <td>1.021700</td>\n",
       "      <td>0.085316</td>\n",
       "      <td>...</td>\n",
       "      <td>0.501944</td>\n",
       "      <td>0.0003</td>\n",
       "      <td>0.9997</td>\n",
       "      <td>0.0000</td>\n",
       "      <td>0.0003</td>\n",
       "      <td>0.038285</td>\n",
       "      <td>0.148815</td>\n",
       "      <td>0.358800</td>\n",
       "      <td>0.282701</td>\n",
       "      <td>0.087884</td>\n",
       "    </tr>\n",
       "    <tr>\n",
       "      <th>559</th>\n",
       "      <td>100</td>\n",
       "      <td>1.0</td>\n",
       "      <td>0.2</td>\n",
       "      <td>1.00</td>\n",
       "      <td>1.00</td>\n",
       "      <td>0.1</td>\n",
       "      <td>1000000</td>\n",
       "      <td>0.05;0.5;0.95</td>\n",
       "      <td>2.615869</td>\n",
       "      <td>0.427036</td>\n",
       "      <td>...</td>\n",
       "      <td>0.495369</td>\n",
       "      <td>0.2866</td>\n",
       "      <td>0.4430</td>\n",
       "      <td>0.2538</td>\n",
       "      <td>0.2866</td>\n",
       "      <td>1.081548</td>\n",
       "      <td>0.204219</td>\n",
       "      <td>1.083885</td>\n",
       "      <td>0.206289</td>\n",
       "      <td>0.265486</td>\n",
       "    </tr>\n",
       "    <tr>\n",
       "      <th>560</th>\n",
       "      <td>100</td>\n",
       "      <td>1.0</td>\n",
       "      <td>0.5</td>\n",
       "      <td>0.00</td>\n",
       "      <td>0.00</td>\n",
       "      <td>0.1</td>\n",
       "      <td>1000000</td>\n",
       "      <td>0.5</td>\n",
       "      <td>1.000000</td>\n",
       "      <td>0.000000</td>\n",
       "      <td>...</td>\n",
       "      <td>0.500206</td>\n",
       "      <td>0.0000</td>\n",
       "      <td>1.0000</td>\n",
       "      <td>0.0000</td>\n",
       "      <td>0.0000</td>\n",
       "      <td>0.016817</td>\n",
       "      <td>0.094679</td>\n",
       "      <td>0.016817</td>\n",
       "      <td>0.094679</td>\n",
       "      <td>0.004119</td>\n",
       "    </tr>\n",
       "    <tr>\n",
       "      <th>561</th>\n",
       "      <td>100</td>\n",
       "      <td>1.0</td>\n",
       "      <td>0.2</td>\n",
       "      <td>1.00</td>\n",
       "      <td>1.00</td>\n",
       "      <td>0.3</td>\n",
       "      <td>1000000</td>\n",
       "      <td>0.05;0.5;0.95</td>\n",
       "      <td>2.892955</td>\n",
       "      <td>0.214052</td>\n",
       "      <td>...</td>\n",
       "      <td>0.502262</td>\n",
       "      <td>0.2845</td>\n",
       "      <td>0.4130</td>\n",
       "      <td>0.2818</td>\n",
       "      <td>0.2845</td>\n",
       "      <td>1.203932</td>\n",
       "      <td>0.128905</td>\n",
       "      <td>1.212318</td>\n",
       "      <td>0.133975</td>\n",
       "      <td>0.296944</td>\n",
       "    </tr>\n",
       "    <tr>\n",
       "      <th>562</th>\n",
       "      <td>100</td>\n",
       "      <td>1.0</td>\n",
       "      <td>0.3</td>\n",
       "      <td>0.00</td>\n",
       "      <td>0.00</td>\n",
       "      <td>0.2</td>\n",
       "      <td>1000000</td>\n",
       "      <td>0.0</td>\n",
       "      <td>1.784462</td>\n",
       "      <td>0.231430</td>\n",
       "      <td>...</td>\n",
       "      <td>0.516550</td>\n",
       "      <td>0.3858</td>\n",
       "      <td>0.0956</td>\n",
       "      <td>0.0015</td>\n",
       "      <td>0.3858</td>\n",
       "      <td>0.617076</td>\n",
       "      <td>0.116254</td>\n",
       "      <td>0.618453</td>\n",
       "      <td>0.114357</td>\n",
       "      <td>0.151483</td>\n",
       "    </tr>\n",
       "    <tr>\n",
       "      <th>563</th>\n",
       "      <td>100</td>\n",
       "      <td>1.0</td>\n",
       "      <td>0.2</td>\n",
       "      <td>0.00</td>\n",
       "      <td>0.00</td>\n",
       "      <td>0.0</td>\n",
       "      <td>1000000</td>\n",
       "      <td>0.0</td>\n",
       "      <td>2.138567</td>\n",
       "      <td>0.333657</td>\n",
       "      <td>...</td>\n",
       "      <td>0.534712</td>\n",
       "      <td>0.0055</td>\n",
       "      <td>0.0772</td>\n",
       "      <td>0.0459</td>\n",
       "      <td>0.0253</td>\n",
       "      <td>0.797935</td>\n",
       "      <td>0.149028</td>\n",
       "      <td>0.836056</td>\n",
       "      <td>0.166868</td>\n",
       "      <td>0.204783</td>\n",
       "    </tr>\n",
       "    <tr>\n",
       "      <th>564</th>\n",
       "      <td>100</td>\n",
       "      <td>1.0</td>\n",
       "      <td>0.5</td>\n",
       "      <td>0.50</td>\n",
       "      <td>0.50</td>\n",
       "      <td>0.3</td>\n",
       "      <td>1000000</td>\n",
       "      <td>0.05;0.5;0.95</td>\n",
       "      <td>15.091056</td>\n",
       "      <td>1.628975</td>\n",
       "      <td>...</td>\n",
       "      <td>0.452358</td>\n",
       "      <td>0.0007</td>\n",
       "      <td>0.0368</td>\n",
       "      <td>0.0135</td>\n",
       "      <td>0.0233</td>\n",
       "      <td>1.079711</td>\n",
       "      <td>0.074444</td>\n",
       "      <td>3.039146</td>\n",
       "      <td>0.095376</td>\n",
       "      <td>0.744406</td>\n",
       "    </tr>\n",
       "    <tr>\n",
       "      <th>565</th>\n",
       "      <td>100</td>\n",
       "      <td>1.0</td>\n",
       "      <td>0.3</td>\n",
       "      <td>1.50</td>\n",
       "      <td>1.50</td>\n",
       "      <td>0.2</td>\n",
       "      <td>1000000</td>\n",
       "      <td>0.0</td>\n",
       "      <td>2.212758</td>\n",
       "      <td>1.115289</td>\n",
       "      <td>...</td>\n",
       "      <td>0.555874</td>\n",
       "      <td>0.3380</td>\n",
       "      <td>0.1818</td>\n",
       "      <td>0.0125</td>\n",
       "      <td>0.3380</td>\n",
       "      <td>0.780562</td>\n",
       "      <td>0.293405</td>\n",
       "      <td>1.149844</td>\n",
       "      <td>0.485017</td>\n",
       "      <td>0.281642</td>\n",
       "    </tr>\n",
       "    <tr>\n",
       "      <th>566</th>\n",
       "      <td>100</td>\n",
       "      <td>1.0</td>\n",
       "      <td>0.3</td>\n",
       "      <td>1.25</td>\n",
       "      <td>1.25</td>\n",
       "      <td>0.0</td>\n",
       "      <td>1000000</td>\n",
       "      <td>0.0</td>\n",
       "      <td>1.412109</td>\n",
       "      <td>0.396581</td>\n",
       "      <td>...</td>\n",
       "      <td>0.499331</td>\n",
       "      <td>0.0162</td>\n",
       "      <td>0.5215</td>\n",
       "      <td>0.0201</td>\n",
       "      <td>0.0284</td>\n",
       "      <td>0.578508</td>\n",
       "      <td>0.442328</td>\n",
       "      <td>1.086878</td>\n",
       "      <td>0.665796</td>\n",
       "      <td>0.266219</td>\n",
       "    </tr>\n",
       "    <tr>\n",
       "      <th>567</th>\n",
       "      <td>100</td>\n",
       "      <td>1.0</td>\n",
       "      <td>0.2</td>\n",
       "      <td>0.50</td>\n",
       "      <td>0.50</td>\n",
       "      <td>0.0</td>\n",
       "      <td>1000000</td>\n",
       "      <td>0.05;0.5;0.95</td>\n",
       "      <td>4.472365</td>\n",
       "      <td>2.235050</td>\n",
       "      <td>...</td>\n",
       "      <td>0.517744</td>\n",
       "      <td>0.0237</td>\n",
       "      <td>0.1701</td>\n",
       "      <td>0.0812</td>\n",
       "      <td>0.0618</td>\n",
       "      <td>1.364345</td>\n",
       "      <td>0.257030</td>\n",
       "      <td>2.178976</td>\n",
       "      <td>0.415914</td>\n",
       "      <td>0.533716</td>\n",
       "    </tr>\n",
       "    <tr>\n",
       "      <th>568</th>\n",
       "      <td>100</td>\n",
       "      <td>1.0</td>\n",
       "      <td>0.4</td>\n",
       "      <td>1.00</td>\n",
       "      <td>1.00</td>\n",
       "      <td>0.5</td>\n",
       "      <td>1000000</td>\n",
       "      <td>0.05;0.95</td>\n",
       "      <td>1.926472</td>\n",
       "      <td>0.089338</td>\n",
       "      <td>...</td>\n",
       "      <td>0.587437</td>\n",
       "      <td>0.4806</td>\n",
       "      <td>0.0011</td>\n",
       "      <td>0.5183</td>\n",
       "      <td>0.4806</td>\n",
       "      <td>0.676211</td>\n",
       "      <td>0.033807</td>\n",
       "      <td>0.676211</td>\n",
       "      <td>0.033807</td>\n",
       "      <td>0.165631</td>\n",
       "    </tr>\n",
       "    <tr>\n",
       "      <th>569</th>\n",
       "      <td>100</td>\n",
       "      <td>1.0</td>\n",
       "      <td>0.4</td>\n",
       "      <td>0.50</td>\n",
       "      <td>0.50</td>\n",
       "      <td>0.1</td>\n",
       "      <td>1000000</td>\n",
       "      <td>0.05;0.5;0.95</td>\n",
       "      <td>2.362641</td>\n",
       "      <td>2.610228</td>\n",
       "      <td>...</td>\n",
       "      <td>0.510752</td>\n",
       "      <td>0.0060</td>\n",
       "      <td>0.7775</td>\n",
       "      <td>0.0047</td>\n",
       "      <td>0.0068</td>\n",
       "      <td>0.185717</td>\n",
       "      <td>0.294512</td>\n",
       "      <td>0.551731</td>\n",
       "      <td>0.971473</td>\n",
       "      <td>0.135140</td>\n",
       "    </tr>\n",
       "    <tr>\n",
       "      <th>570</th>\n",
       "      <td>100</td>\n",
       "      <td>1.0</td>\n",
       "      <td>0.4</td>\n",
       "      <td>1.25</td>\n",
       "      <td>1.25</td>\n",
       "      <td>0.3</td>\n",
       "      <td>1000000</td>\n",
       "      <td>0.5</td>\n",
       "      <td>1.076556</td>\n",
       "      <td>0.064847</td>\n",
       "      <td>...</td>\n",
       "      <td>0.500069</td>\n",
       "      <td>0.0193</td>\n",
       "      <td>0.9645</td>\n",
       "      <td>0.0162</td>\n",
       "      <td>0.0193</td>\n",
       "      <td>0.328625</td>\n",
       "      <td>0.272425</td>\n",
       "      <td>0.344463</td>\n",
       "      <td>0.279284</td>\n",
       "      <td>0.084373</td>\n",
       "    </tr>\n",
       "    <tr>\n",
       "      <th>571</th>\n",
       "      <td>100</td>\n",
       "      <td>1.0</td>\n",
       "      <td>0.2</td>\n",
       "      <td>0.00</td>\n",
       "      <td>0.00</td>\n",
       "      <td>0.2</td>\n",
       "      <td>1000000</td>\n",
       "      <td>0.05;0.95</td>\n",
       "      <td>2.553017</td>\n",
       "      <td>0.391752</td>\n",
       "      <td>...</td>\n",
       "      <td>0.489992</td>\n",
       "      <td>0.3250</td>\n",
       "      <td>0.2376</td>\n",
       "      <td>0.3420</td>\n",
       "      <td>0.3250</td>\n",
       "      <td>0.962649</td>\n",
       "      <td>0.156338</td>\n",
       "      <td>0.962649</td>\n",
       "      <td>0.156338</td>\n",
       "      <td>0.235790</td>\n",
       "    </tr>\n",
       "    <tr>\n",
       "      <th>572</th>\n",
       "      <td>100</td>\n",
       "      <td>1.0</td>\n",
       "      <td>0.5</td>\n",
       "      <td>1.25</td>\n",
       "      <td>1.25</td>\n",
       "      <td>0.2</td>\n",
       "      <td>1000000</td>\n",
       "      <td>0.05;0.95</td>\n",
       "      <td>1.093833</td>\n",
       "      <td>0.103774</td>\n",
       "      <td>...</td>\n",
       "      <td>0.526807</td>\n",
       "      <td>0.4770</td>\n",
       "      <td>0.0000</td>\n",
       "      <td>0.5230</td>\n",
       "      <td>0.4770</td>\n",
       "      <td>0.153744</td>\n",
       "      <td>0.129727</td>\n",
       "      <td>0.153744</td>\n",
       "      <td>0.129727</td>\n",
       "      <td>0.037658</td>\n",
       "    </tr>\n",
       "    <tr>\n",
       "      <th>573</th>\n",
       "      <td>100</td>\n",
       "      <td>1.0</td>\n",
       "      <td>0.5</td>\n",
       "      <td>1.00</td>\n",
       "      <td>1.00</td>\n",
       "      <td>0.3</td>\n",
       "      <td>1000000</td>\n",
       "      <td>0.5</td>\n",
       "      <td>1.000000</td>\n",
       "      <td>0.000000</td>\n",
       "      <td>...</td>\n",
       "      <td>0.500197</td>\n",
       "      <td>0.0000</td>\n",
       "      <td>1.0000</td>\n",
       "      <td>0.0000</td>\n",
       "      <td>0.0000</td>\n",
       "      <td>0.143374</td>\n",
       "      <td>0.241776</td>\n",
       "      <td>0.143374</td>\n",
       "      <td>0.241776</td>\n",
       "      <td>0.035118</td>\n",
       "    </tr>\n",
       "    <tr>\n",
       "      <th>574</th>\n",
       "      <td>100</td>\n",
       "      <td>1.0</td>\n",
       "      <td>0.5</td>\n",
       "      <td>0.75</td>\n",
       "      <td>0.75</td>\n",
       "      <td>0.0</td>\n",
       "      <td>1000000</td>\n",
       "      <td>0.0</td>\n",
       "      <td>1.000408</td>\n",
       "      <td>0.004080</td>\n",
       "      <td>...</td>\n",
       "      <td>0.505966</td>\n",
       "      <td>0.0002</td>\n",
       "      <td>0.9908</td>\n",
       "      <td>0.0000</td>\n",
       "      <td>0.0002</td>\n",
       "      <td>0.030149</td>\n",
       "      <td>0.122832</td>\n",
       "      <td>0.216650</td>\n",
       "      <td>0.258465</td>\n",
       "      <td>0.053066</td>\n",
       "    </tr>\n",
       "    <tr>\n",
       "      <th>575</th>\n",
       "      <td>100</td>\n",
       "      <td>1.0</td>\n",
       "      <td>0.2</td>\n",
       "      <td>1.00</td>\n",
       "      <td>1.00</td>\n",
       "      <td>0.1</td>\n",
       "      <td>1000000</td>\n",
       "      <td>0.0</td>\n",
       "      <td>3.597519</td>\n",
       "      <td>1.527986</td>\n",
       "      <td>...</td>\n",
       "      <td>0.513819</td>\n",
       "      <td>0.2319</td>\n",
       "      <td>0.1590</td>\n",
       "      <td>0.0595</td>\n",
       "      <td>0.2319</td>\n",
       "      <td>1.308738</td>\n",
       "      <td>0.275436</td>\n",
       "      <td>1.808828</td>\n",
       "      <td>0.459203</td>\n",
       "      <td>0.443053</td>\n",
       "    </tr>\n",
       "  </tbody>\n",
       "</table>\n",
       "<p>576 rows × 29 columns</p>\n",
       "</div>"
      ],
      "text/plain": [
       "       n    p  eps   gam  gam_media  p_media   max_it       media_op  \\\n",
       "0    100  1.0  0.3  0.00       0.00      0.5  1000000      0.05;0.95   \n",
       "1    100  1.0  0.2  0.75       0.75      0.5  1000000  0.05;0.5;0.95   \n",
       "2    100  1.0  0.3  0.00       0.00      0.2  1000000      0.05;0.95   \n",
       "3    100  1.0  0.4  1.25       1.25      0.2  1000000            0.5   \n",
       "4    100  1.0  0.5  0.00       0.00      0.4  1000000            0.5   \n",
       "5    100  1.0  0.4  1.25       1.25      0.4  1000000            0.5   \n",
       "6    100  1.0  0.2  1.00       1.00      0.2  1000000            0.5   \n",
       "7    100  1.0  0.4  0.50       0.50      0.5  1000000  0.05;0.5;0.95   \n",
       "8    100  1.0  0.3  1.25       1.25      0.1  1000000            0.0   \n",
       "9    100  1.0  0.5  1.00       1.00      0.1  1000000  0.05;0.5;0.95   \n",
       "10   100  1.0  0.5  1.00       1.00      0.3  1000000            0.0   \n",
       "11   100  1.0  0.5  0.75       0.75      0.1  1000000  0.05;0.5;0.95   \n",
       "12   100  1.0  0.3  0.50       0.50      0.4  1000000  0.05;0.5;0.95   \n",
       "13   100  1.0  0.4  1.50       1.50      0.2  1000000      0.05;0.95   \n",
       "14   100  1.0  0.4  1.50       1.50      0.0  1000000  0.05;0.5;0.95   \n",
       "15   100  1.0  0.3  0.00       0.00      0.4  1000000      0.05;0.95   \n",
       "16   100  1.0  0.2  0.50       0.50      0.3  1000000      0.05;0.95   \n",
       "17   100  1.0  0.4  1.25       1.25      0.2  1000000  0.05;0.5;0.95   \n",
       "18   100  1.0  0.5  1.25       1.25      0.0  1000000            0.0   \n",
       "19   100  1.0  0.5  0.75       0.75      0.4  1000000            0.5   \n",
       "20   100  1.0  0.2  1.00       1.00      0.5  1000000      0.05;0.95   \n",
       "21   100  1.0  0.2  0.50       0.50      0.5  1000000  0.05;0.5;0.95   \n",
       "22   100  1.0  0.4  1.50       1.50      0.1  1000000  0.05;0.5;0.95   \n",
       "23   100  1.0  0.3  1.25       1.25      0.3  1000000      0.05;0.95   \n",
       "24   100  1.0  0.5  1.50       1.50      0.5  1000000  0.05;0.5;0.95   \n",
       "25   100  1.0  0.5  1.25       1.25      0.4  1000000  0.05;0.5;0.95   \n",
       "26   100  1.0  0.2  0.50       0.50      0.4  1000000      0.05;0.95   \n",
       "27   100  1.0  0.5  0.75       0.75      0.3  1000000      0.05;0.95   \n",
       "28   100  1.0  0.3  0.00       0.00      0.5  1000000            0.5   \n",
       "29   100  1.0  0.2  1.25       1.25      0.1  1000000  0.05;0.5;0.95   \n",
       "..   ...  ...  ...   ...        ...      ...      ...            ...   \n",
       "546  100  1.0  0.4  1.50       1.50      0.5  1000000            0.5   \n",
       "547  100  1.0  0.2  1.50       1.50      0.1  1000000            0.0   \n",
       "548  100  1.0  0.3  0.50       0.50      0.1  1000000            0.0   \n",
       "549  100  1.0  0.2  1.25       1.25      0.5  1000000  0.05;0.5;0.95   \n",
       "550  100  1.0  0.5  1.25       1.25      0.2  1000000            0.0   \n",
       "551  100  1.0  0.2  1.25       1.25      0.3  1000000      0.05;0.95   \n",
       "552  100  1.0  0.4  1.50       1.50      0.4  1000000            0.0   \n",
       "553  100  1.0  0.5  1.50       1.50      0.3  1000000            0.5   \n",
       "554  100  1.0  0.4  0.50       0.50      0.0  1000000  0.05;0.5;0.95   \n",
       "555  100  1.0  0.3  1.50       1.50      0.0  1000000            0.5   \n",
       "556  100  1.0  0.2  1.25       1.25      0.0  1000000            0.5   \n",
       "557  100  1.0  0.5  1.50       1.50      0.2  1000000  0.05;0.5;0.95   \n",
       "558  100  1.0  0.5  1.00       1.00      0.0  1000000  0.05;0.5;0.95   \n",
       "559  100  1.0  0.2  1.00       1.00      0.1  1000000  0.05;0.5;0.95   \n",
       "560  100  1.0  0.5  0.00       0.00      0.1  1000000            0.5   \n",
       "561  100  1.0  0.2  1.00       1.00      0.3  1000000  0.05;0.5;0.95   \n",
       "562  100  1.0  0.3  0.00       0.00      0.2  1000000            0.0   \n",
       "563  100  1.0  0.2  0.00       0.00      0.0  1000000            0.0   \n",
       "564  100  1.0  0.5  0.50       0.50      0.3  1000000  0.05;0.5;0.95   \n",
       "565  100  1.0  0.3  1.50       1.50      0.2  1000000            0.0   \n",
       "566  100  1.0  0.3  1.25       1.25      0.0  1000000            0.0   \n",
       "567  100  1.0  0.2  0.50       0.50      0.0  1000000  0.05;0.5;0.95   \n",
       "568  100  1.0  0.4  1.00       1.00      0.5  1000000      0.05;0.95   \n",
       "569  100  1.0  0.4  0.50       0.50      0.1  1000000  0.05;0.5;0.95   \n",
       "570  100  1.0  0.4  1.25       1.25      0.3  1000000            0.5   \n",
       "571  100  1.0  0.2  0.00       0.00      0.2  1000000      0.05;0.95   \n",
       "572  100  1.0  0.5  1.25       1.25      0.2  1000000      0.05;0.95   \n",
       "573  100  1.0  0.5  1.00       1.00      0.3  1000000            0.5   \n",
       "574  100  1.0  0.5  0.75       0.75      0.0  1000000            0.0   \n",
       "575  100  1.0  0.2  1.00       1.00      0.1  1000000            0.0   \n",
       "\n",
       "     avg_ncluster  std_ncluster  ...  median_opinion  avg_00_perc  \\\n",
       "0        1.917247      0.139437  ...        0.547112       0.4966   \n",
       "1        2.861434      0.253250  ...        0.500045       0.2843   \n",
       "2        1.771977      0.290598  ...        0.512833       0.4441   \n",
       "3        1.060078      0.065546  ...        0.500177       0.0178   \n",
       "4        1.000000      0.000000  ...        0.500133       0.0000   \n",
       "5        1.082641      0.062735  ...        0.500228       0.0204   \n",
       "6        3.576107      0.867551  ...        0.501146       0.0437   \n",
       "7        9.099572      9.236940  ...        0.509467       0.0096   \n",
       "8        2.121877      1.243069  ...        0.520626       0.3060   \n",
       "9        1.758971      0.712546  ...        0.494526       0.0000   \n",
       "10       1.003928      0.015319  ...        0.000681       0.9981   \n",
       "11       8.010769      1.248662  ...        0.308445       0.0004   \n",
       "12       1.698500      0.243840  ...        0.491293       0.1551   \n",
       "13       1.833336      0.145760  ...        0.535731       0.4868   \n",
       "14       1.263470      0.299830  ...        0.500854       0.0091   \n",
       "15       1.904802      0.137101  ...        0.596761       0.4794   \n",
       "16       3.493889      1.206390  ...        0.461565       0.3085   \n",
       "17       1.094223      0.093144  ...        0.500156       0.0245   \n",
       "18       1.001636      0.008580  ...        0.502453       0.0007   \n",
       "19       1.000000      0.000000  ...        0.500154       0.0000   \n",
       "20       3.393148      1.181489  ...        0.518933       0.2670   \n",
       "21       2.834510      0.209198  ...        0.500018       0.2913   \n",
       "22       1.067686      0.078946  ...        0.500247       0.0208   \n",
       "23       2.039452      0.425037  ...        0.468840       0.4788   \n",
       "24       1.000000      0.000000  ...        0.499498       0.0000   \n",
       "25       1.998724      0.958797  ...        0.496932       0.0000   \n",
       "26       3.642978      1.281428  ...        0.492088       0.2903   \n",
       "27       1.051266      0.089051  ...        0.481955       0.5217   \n",
       "28       1.403071      0.158107  ...        0.500000       0.0337   \n",
       "29       2.791216      0.332929  ...        0.502208       0.2795   \n",
       "..            ...           ...  ...             ...          ...   \n",
       "546      1.145945      0.075704  ...        0.500047       0.0352   \n",
       "547      4.329663      2.227163  ...        0.489377       0.2533   \n",
       "548      1.864744      1.002119  ...        0.499219       0.2603   \n",
       "549      2.933025      0.257094  ...        0.500051       0.2648   \n",
       "550      1.013549      0.039113  ...        0.000857       0.9937   \n",
       "551      3.597427      1.216984  ...        0.510763       0.2762   \n",
       "552      1.970868      0.609310  ...        0.602653       0.3714   \n",
       "553      1.000000      0.000000  ...        0.500023       0.0000   \n",
       "554      1.018584      0.038626  ...        0.498644       0.0031   \n",
       "555      1.894366      1.262039  ...        0.508593       0.0116   \n",
       "556      4.181780      1.632295  ...        0.485474       0.0343   \n",
       "557      1.000000      0.000000  ...        0.499087       0.0000   \n",
       "558      1.021700      0.085316  ...        0.501944       0.0003   \n",
       "559      2.615869      0.427036  ...        0.495369       0.2866   \n",
       "560      1.000000      0.000000  ...        0.500206       0.0000   \n",
       "561      2.892955      0.214052  ...        0.502262       0.2845   \n",
       "562      1.784462      0.231430  ...        0.516550       0.3858   \n",
       "563      2.138567      0.333657  ...        0.534712       0.0055   \n",
       "564     15.091056      1.628975  ...        0.452358       0.0007   \n",
       "565      2.212758      1.115289  ...        0.555874       0.3380   \n",
       "566      1.412109      0.396581  ...        0.499331       0.0162   \n",
       "567      4.472365      2.235050  ...        0.517744       0.0237   \n",
       "568      1.926472      0.089338  ...        0.587437       0.4806   \n",
       "569      2.362641      2.610228  ...        0.510752       0.0060   \n",
       "570      1.076556      0.064847  ...        0.500069       0.0193   \n",
       "571      2.553017      0.391752  ...        0.489992       0.3250   \n",
       "572      1.093833      0.103774  ...        0.526807       0.4770   \n",
       "573      1.000000      0.000000  ...        0.500197       0.0000   \n",
       "574      1.000408      0.004080  ...        0.505966       0.0002   \n",
       "575      3.597519      1.527986  ...        0.513819       0.2319   \n",
       "\n",
       "     avg_05_perc  avg_095_perc  avg_005_perc  10B_avg_entr  10B_std_entr  \\\n",
       "0         0.0048        0.4986        0.4966      0.682894      0.059351   \n",
       "1         0.4315        0.2680        0.2843      1.182315      0.141936   \n",
       "2         0.1297        0.4175        0.4441      0.593931      0.165382   \n",
       "3         0.9721        0.0101        0.0178      0.266965      0.256676   \n",
       "4         1.0000        0.0000        0.0000      0.024558      0.106782   \n",
       "5         0.9617        0.0179        0.0204      0.323349      0.266925   \n",
       "6         0.4579        0.1013        0.1016      1.440886      0.198281   \n",
       "7         0.5899        0.0310        0.0250      0.629459      0.640735   \n",
       "8         0.2703        0.0157        0.3060      0.732725      0.283451   \n",
       "9         0.9916        0.0000        0.0000      0.258974      0.226430   \n",
       "10        0.0000        0.0005        0.9981      0.008741      0.032123   \n",
       "11        0.0140        0.0008        0.0094      0.714778      0.152760   \n",
       "12        0.7159        0.1290        0.1551      0.667939      0.170671   \n",
       "13        0.0004        0.5128        0.4868      0.643470      0.051263   \n",
       "14        0.9650        0.0073        0.0093      0.123160      0.165155   \n",
       "15        0.0105        0.5099        0.4794      0.670955      0.052889   \n",
       "16        0.2784        0.3050        0.3085      1.253147      0.220053   \n",
       "17        0.9564        0.0191        0.0245      0.189880      0.159276   \n",
       "18        0.9907        0.0001        0.0007      0.081705      0.196255   \n",
       "19        1.0000        0.0000        0.0000      0.174462      0.251726   \n",
       "20        0.3798        0.2608        0.2670      1.242272      0.244713   \n",
       "21        0.4191        0.2819        0.2913      1.140743      0.117895   \n",
       "22        0.9684        0.0108        0.0208      0.185882      0.194874   \n",
       "23        0.0487        0.4618        0.4788      0.796664      0.212889   \n",
       "24        1.0000        0.0000        0.0000      0.000000      0.000000   \n",
       "25        0.9755        0.0000        0.0000      0.323122      0.298605   \n",
       "26        0.3074        0.3002        0.2903      1.270057      0.227630   \n",
       "27        0.0000        0.4783        0.5217      0.088935      0.112797   \n",
       "28        0.8373        0.0866        0.0759      0.529630      0.128445   \n",
       "29        0.4071        0.2923        0.2795      1.157872      0.158852   \n",
       "..           ...           ...           ...           ...           ...   \n",
       "546       0.9346        0.0302        0.0352      0.534657      0.259172   \n",
       "547       0.1617        0.0671        0.2533      1.461007      0.220937   \n",
       "548       0.3358        0.0148        0.2603      0.598710      0.317641   \n",
       "549       0.4304        0.2721        0.2648      1.246641      0.142555   \n",
       "550       0.0000        0.0034        0.9937      0.028620      0.075178   \n",
       "551       0.3258        0.2731        0.2762      1.307854      0.253192   \n",
       "552       0.0733        0.0006        0.3714      0.701075      0.180798   \n",
       "553       1.0000        0.0000        0.0000      0.295955      0.289480   \n",
       "554       0.9791        0.0045        0.0041      0.077151      0.162296   \n",
       "555       0.6101        0.0146        0.0216      0.517324      0.459961   \n",
       "556       0.1690        0.0739        0.0702      1.434728      0.234576   \n",
       "557       1.0000        0.0000        0.0000      0.000000      0.000000   \n",
       "558       0.9997        0.0000        0.0003      0.038285      0.148815   \n",
       "559       0.4430        0.2538        0.2866      1.081548      0.204219   \n",
       "560       1.0000        0.0000        0.0000      0.016817      0.094679   \n",
       "561       0.4130        0.2818        0.2845      1.203932      0.128905   \n",
       "562       0.0956        0.0015        0.3858      0.617076      0.116254   \n",
       "563       0.0772        0.0459        0.0253      0.797935      0.149028   \n",
       "564       0.0368        0.0135        0.0233      1.079711      0.074444   \n",
       "565       0.1818        0.0125        0.3380      0.780562      0.293405   \n",
       "566       0.5215        0.0201        0.0284      0.578508      0.442328   \n",
       "567       0.1701        0.0812        0.0618      1.364345      0.257030   \n",
       "568       0.0011        0.5183        0.4806      0.676211      0.033807   \n",
       "569       0.7775        0.0047        0.0068      0.185717      0.294512   \n",
       "570       0.9645        0.0162        0.0193      0.328625      0.272425   \n",
       "571       0.2376        0.3420        0.3250      0.962649      0.156338   \n",
       "572       0.0000        0.5230        0.4770      0.153744      0.129727   \n",
       "573       1.0000        0.0000        0.0000      0.143374      0.241776   \n",
       "574       0.9908        0.0000        0.0002      0.030149      0.122832   \n",
       "575       0.1590        0.0595        0.2319      1.308738      0.275436   \n",
       "\n",
       "     100B_avg_entr  100B_std_entr  100B_norm_entr  \n",
       "0         0.683276       0.060095        0.167361  \n",
       "1         1.186385       0.145965        0.290592  \n",
       "2         0.594069       0.165018        0.145511  \n",
       "3         0.281470       0.264232        0.068943  \n",
       "4         0.024558       0.106782        0.006015  \n",
       "5         0.341282       0.270358        0.083593  \n",
       "6         1.930834       0.306728        0.472937  \n",
       "7         1.485249       1.600427        0.363795  \n",
       "8         1.114823       0.486162        0.273064  \n",
       "9         0.756872       0.467889        0.185388  \n",
       "10        0.009078       0.034217        0.002223  \n",
       "11        2.458043       0.145311        0.602071  \n",
       "12        0.667939       0.170671        0.163604  \n",
       "13        0.643470       0.051263        0.157611  \n",
       "14        0.550244       0.300923        0.134776  \n",
       "15        0.670955       0.052889        0.164343  \n",
       "16        1.508785       0.441377        0.369561  \n",
       "17        0.189880       0.159276        0.046509  \n",
       "18        0.439071       0.268184        0.107546  \n",
       "19        0.174462       0.251726        0.042733  \n",
       "20        1.423317       0.444193        0.348626  \n",
       "21        1.141489       0.118168        0.279595  \n",
       "22        0.186748       0.195952        0.045742  \n",
       "23        0.832510       0.263570        0.203914  \n",
       "24        0.000000       0.000000        0.000000  \n",
       "25        0.847168       0.654668        0.207505  \n",
       "26        1.527593       0.465397        0.374167  \n",
       "27        0.088935       0.112797        0.021784  \n",
       "28        0.539811       0.135201        0.132221  \n",
       "29        1.166144       0.165386        0.285634  \n",
       "..             ...            ...             ...  \n",
       "546       0.576457       0.264989        0.141197  \n",
       "547       2.068849       0.408462        0.506742  \n",
       "548       0.838094       0.528962        0.205282  \n",
       "549       1.259504       0.147933        0.308502  \n",
       "550       0.030111       0.081288        0.007375  \n",
       "551       1.547296       0.436097        0.378993  \n",
       "552       0.987752       0.310234        0.241939  \n",
       "553       0.295955       0.289480        0.072491  \n",
       "554       0.269786       0.280686        0.066081  \n",
       "555       1.032500       0.671235        0.252900  \n",
       "556       2.225345       0.343894        0.545074  \n",
       "557       0.000000       0.000000        0.000000  \n",
       "558       0.358800       0.282701        0.087884  \n",
       "559       1.083885       0.206289        0.265486  \n",
       "560       0.016817       0.094679        0.004119  \n",
       "561       1.212318       0.133975        0.296944  \n",
       "562       0.618453       0.114357        0.151483  \n",
       "563       0.836056       0.166868        0.204783  \n",
       "564       3.039146       0.095376        0.744406  \n",
       "565       1.149844       0.485017        0.281642  \n",
       "566       1.086878       0.665796        0.266219  \n",
       "567       2.178976       0.415914        0.533716  \n",
       "568       0.676211       0.033807        0.165631  \n",
       "569       0.551731       0.971473        0.135140  \n",
       "570       0.344463       0.279284        0.084373  \n",
       "571       0.962649       0.156338        0.235790  \n",
       "572       0.153744       0.129727        0.037658  \n",
       "573       0.143374       0.241776        0.035118  \n",
       "574       0.216650       0.258465        0.053066  \n",
       "575       1.808828       0.459203        0.443053  \n",
       "\n",
       "[576 rows x 29 columns]"
      ]
     },
     "execution_count": 24,
     "metadata": {},
     "output_type": "execute_result"
    }
   ],
   "source": [
    "results = results[results['gam'] != 0.25]\n",
    "results"
   ]
  },
  {
   "cell_type": "code",
   "execution_count": 25,
   "metadata": {},
   "outputs": [
    {
     "name": "stdout",
     "output_type": "stream",
     "text": [
      "[0.0, 0.75, 1.25, 1.0, 0.5, 1.5] [0.5, 0.2, 0.4, 0.1, 0.3, 0.0] [0.3, 0.2, 0.4, 0.5] ['0.05;0.95', '0.05;0.5;0.95', '0.5', '0.0']\n"
     ]
    }
   ],
   "source": [
    "gams = list(results.gam.unique())\n",
    "p_medias = list(results.p_media.unique())\n",
    "epss = list(results.eps.unique())\n",
    "mos = list(results.media_op.unique())\n",
    "print(gams, p_medias, epss, mos)"
   ]
  },
  {
   "cell_type": "code",
   "execution_count": 26,
   "metadata": {},
   "outputs": [
    {
     "name": "stdout",
     "output_type": "stream",
     "text": [
      "144\n",
      "[0.75, 0.5, 1.0, 1.5, 1.25, 0.0] [0.5, 0.1, 0.4, 0.0, 0.2, 0.3] [0.2, 0.4, 0.5, 0.3] ['0.05;0.5;0.95']\n"
     ]
    }
   ],
   "source": [
    "balanced = results[results['media_op'] == '0.05;0.5;0.95']\n",
    "print(len(balanced))\n",
    "gams = list(balanced.gam.unique())\n",
    "p_medias = list(balanced.p_media.unique())\n",
    "epss = list(balanced.eps.unique())\n",
    "mos = list(balanced.media_op.unique())\n",
    "print(gams, p_medias, epss, mos)"
   ]
  },
  {
   "cell_type": "code",
   "execution_count": 27,
   "metadata": {},
   "outputs": [
    {
     "name": "stdout",
     "output_type": "stream",
     "text": [
      "144\n",
      "[0.0, 1.5, 0.5, 1.0, 1.25, 0.75] [0.5, 0.2, 0.4, 0.3, 0.0, 0.1] [0.3, 0.4, 0.2, 0.5] ['0.05;0.95']\n"
     ]
    }
   ],
   "source": [
    "polarised = results[results['media_op'] == '0.05;0.95']\n",
    "print(len(polarised))\n",
    "gams = list(polarised.gam.unique())\n",
    "p_medias = list(polarised.p_media.unique())\n",
    "epss = list(polarised.eps.unique())\n",
    "mos = list(polarised.media_op.unique())\n",
    "print(gams, p_medias, epss, mos)"
   ]
  },
  {
   "cell_type": "code",
   "execution_count": 28,
   "metadata": {},
   "outputs": [
    {
     "name": "stdout",
     "output_type": "stream",
     "text": [
      "144\n",
      "[1.25, 1.0, 0.0, 0.5, 0.75, 1.5] [0.1, 0.3, 0.0, 0.2, 0.5, 0.4] [0.3, 0.5, 0.2, 0.4] ['0.0']\n"
     ]
    }
   ],
   "source": [
    "extremist = results[results['media_op'] == '0.0']\n",
    "print(len(extremist))\n",
    "gams = list(extremist.gam.unique())\n",
    "p_medias = list(extremist.p_media.unique())\n",
    "epss = list(extremist.eps.unique())\n",
    "mos = list(extremist.media_op.unique())\n",
    "print(gams, p_medias, epss, mos)"
   ]
  },
  {
   "cell_type": "code",
   "execution_count": 29,
   "metadata": {},
   "outputs": [
    {
     "name": "stdout",
     "output_type": "stream",
     "text": [
      "144\n",
      "[1.25, 0.0, 1.0, 0.75, 1.5, 0.5] [0.2, 0.4, 0.5, 0.0, 0.3, 0.1] [0.4, 0.5, 0.2, 0.3] ['0.5']\n"
     ]
    }
   ],
   "source": [
    "moderate = results[results['media_op'] == '0.5']\n",
    "print(len(moderate))\n",
    "gams = list(moderate.gam.unique())\n",
    "p_medias = list(moderate.p_media.unique())\n",
    "epss = list(moderate.eps.unique())\n",
    "mos = list(moderate.media_op.unique())\n",
    "print(gams, p_medias, epss, mos)"
   ]
  },
  {
   "cell_type": "code",
   "execution_count": 30,
   "metadata": {},
   "outputs": [],
   "source": [
    "deffuant = results[results['gam']==0.0]"
   ]
  },
  {
   "cell_type": "code",
   "execution_count": 31,
   "metadata": {},
   "outputs": [],
   "source": [
    "measures = [\n",
    " 'avg_pwdist',\n",
    " 'std_pwdist',\n",
    " 'avg_niter',\n",
    " 'std_niter',\n",
    " 'avg_ncluster_0.001',\n",
    " 'std_ncluster_0.001',\n",
    " 'avg_opinion',\n",
    " 'std_opinions',\n",
    " 'avg_05_perc',\n",
    " '100B_avg_entr',\n",
    " '100B_std_entr',\n",
    " '100B_norm_entr']"
   ]
  },
  {
   "cell_type": "code",
   "execution_count": 32,
   "metadata": {},
   "outputs": [
    {
     "name": "stdout",
     "output_type": "stream",
     "text": [
      "['avg_pwdist', 'std_pwdist', 'avg_niter', 'std_niter', 'avg_ncluster_0.001', 'std_ncluster_0.001', 'avg_opinion', 'std_opinions', 'avg_05_perc', '100B_avg_entr', '100B_std_entr', '100B_norm_entr']\n"
     ]
    }
   ],
   "source": [
    "print(measures)"
   ]
  },
  {
   "cell_type": "markdown",
   "metadata": {},
   "source": [
    "# Bounded confidence model with media"
   ]
  },
  {
   "cell_type": "markdown",
   "metadata": {},
   "source": [
    "### Heatmap"
   ]
  },
  {
   "cell_type": "code",
   "execution_count": 33,
   "metadata": {},
   "outputs": [],
   "source": [
    "sns.set(font_scale=1.6)\n",
    "for measure in measures:\n",
    "    i=0\n",
    "    for mo in ['0.5', '0.0', '0.05;0.95', '0.05;0.5;0.95']:\n",
    "        fig, ax = plt.subplots(nrows=1, ncols=1, figsize=(7, 5), dpi=600)\n",
    "        titles = ['moderate', 'extremist', 'polarized', 'balanced']\n",
    "        x = \"p_media\"\n",
    "        y = \"eps\"\n",
    "        data = deffuant[deffuant[\"media_op\"]==mo]\n",
    "        df = data.pivot(x, y, measure)\n",
    "        a=sns.heatmap(df, cbar=True, fmt=\".2f\", annot=True, ax = ax, cmap=heatmap_cmap)\n",
    "        ax.set_xlabel(r'$\\epsilon$', fontsize=30)\n",
    "        ax.set_ylabel(r'$p_m$', fontsize=30)\n",
    "        plt.savefig(f'plots/deffuant/{measure}/{measure}_{titles[i]}_deffuant_heatmap.png')\n",
    "        plt.close()\n",
    "        i+=1\n"
   ]
  },
  {
   "cell_type": "markdown",
   "metadata": {},
   "source": [
    "### Surface plots"
   ]
  },
  {
   "cell_type": "code",
   "execution_count": 35,
   "metadata": {},
   "outputs": [],
   "source": [
    "sns.set(font_scale=1.8)\n",
    "sns.set_style(\"whitegrid\")\n",
    "for measure in measures:\n",
    "    i=0\n",
    "    for mo in ['0.5', '0.0', '0.05;0.95', '0.05;0.5;0.95']:\n",
    "        titles = ['moderate', 'extremist', 'polarized', 'balanced']\n",
    "        x = \"p_media\"\n",
    "        y = \"eps\"\n",
    "        data = deffuant[deffuant[\"media_op\"]==mo]\n",
    "        fig = plt.figure(figsize=(15, 10))\n",
    "        ax = fig.gca(projection='3d')\n",
    "        ax.plot_trisurf(data['eps'], data['p_media'], data[measure], vmin=min(deffuant[measure]), vmax=max(deffuant[measure]), cmap=heatmap_cmap, linewidth=0.0, alpha=0.8)\n",
    "        surf=ax.plot_trisurf(data['eps'], data['p_media'], data[measure], cmap=heatmap_cmap, linewidth=0.0, alpha=0.8)\n",
    "        # fig.colorbar(surf, shrink=0.5, aspect=6).ax.tick_params(labelsize=22)\n",
    "        ax.set_xlabel(r'$\\epsilon$', fontsize=40, labelpad=30)\n",
    "        ax.set_ylabel(r'$p_m$', fontsize=50, labelpad=30)\n",
    "        ax.tick_params(axis='x', which='major', labelsize=22, pad=2, labelrotation=45)\n",
    "        ax.tick_params(axis='y', which='major', labelsize=22, pad=10)\n",
    "        ax.tick_params(axis='z', which='major', labelsize=22, pad=10)  \n",
    "        ax.set_zlim(0.0, 1.0) \n",
    "        plt.savefig(f'plots/deffuant/{measure}/{measure}_{titles[i]}_deffuant_surface.png')\n",
    "        plt.close() \n",
    "        i+=1"
   ]
  },
  {
   "cell_type": "markdown",
   "metadata": {},
   "source": [
    "### Spaghetti"
   ]
  },
  {
   "cell_type": "code",
   "execution_count": 50,
   "metadata": {},
   "outputs": [
    {
     "name": "stderr",
     "output_type": "stream",
     "text": [
      "  0%|                                                                          | 19/1000000 [00:00<1:29:13, 186.77it/s]"
     ]
    },
    {
     "name": "stdout",
     "output_type": "stream",
     "text": [
      "plot plots/deffuant/spaghetti_mo[0.0]_pm0.0_e0.2_g0.0.png already present\n",
      "plot plots/deffuant/spaghetti_mo[0.0]_pm0.0_e0.3_g0.0.png already present\n",
      "plot plots/deffuant/spaghetti_mo[0.0]_pm0.0_e0.4_g0.0.png already present\n",
      "plot plots/deffuant/spaghetti_mo[0.0]_pm0.0_e0.5_g0.0.png already present\n",
      "plot plots/deffuant/spaghetti_mo[0.0]_pm0.5_e0.2_g0.0.png already present\n",
      "plot plots/deffuant/spaghetti_mo[0.0]_pm0.5_e0.3_g0.0.png already present\n",
      "plot plots/deffuant/spaghetti_mo[0.0]_pm0.5_e0.4_g0.0.png already present\n",
      "plot plots/deffuant/spaghetti_mo[0.0]_pm0.5_e0.5_g0.0.png already present\n",
      "plot plots/deffuant/spaghetti_mo[0.5]_pm0.0_e0.2_g0.0.png already present\n",
      "plot plots/deffuant/spaghetti_mo[0.5]_pm0.0_e0.3_g0.0.png already present\n",
      "plot plots/deffuant/spaghetti_mo[0.5]_pm0.0_e0.4_g0.0.png already present\n",
      "plot plots/deffuant/spaghetti_mo[0.5]_pm0.0_e0.5_g0.0.png already present\n",
      "plot plots/deffuant/spaghetti_mo[0.5]_pm0.5_e0.2_g0.0.png already present\n",
      "plot plots/deffuant/spaghetti_mo[0.5]_pm0.5_e0.3_g0.0.png already present\n",
      "plot plots/deffuant/spaghetti_mo[0.5]_pm0.5_e0.4_g0.0.png already present\n",
      "plot plots/deffuant/spaghetti_mo[0.5]_pm0.5_e0.5_g0.0.png already present\n",
      "plot plots/deffuant/spaghetti_mo[0.05, 0.95]_pm0.0_e0.2_g0.0.png already present\n",
      "plot plots/deffuant/spaghetti_mo[0.05, 0.95]_pm0.0_e0.3_g0.0.png already present\n",
      "plot plots/deffuant/spaghetti_mo[0.05, 0.95]_pm0.0_e0.4_g0.0.png already present\n",
      "plot plots/deffuant/spaghetti_mo[0.05, 0.95]_pm0.0_e0.5_g0.0.png already present\n",
      "plot plots/deffuant/spaghetti_mo[0.05, 0.95]_pm0.5_e0.2_g0.0.png already present\n",
      "plot plots/deffuant/spaghetti_mo[0.05, 0.95]_pm0.5_e0.3_g0.0.png already present\n",
      "plot plots/deffuant/spaghetti_mo[0.05, 0.95]_pm0.5_e0.4_g0.0.png already present\n",
      "plot plots/deffuant/spaghetti_mo[0.05, 0.95]_pm0.5_e0.5_g0.0.png already present\n",
      "plot plots/deffuant/spaghetti_mo[0.05, 0.5, 0.95]_pm0.0_e0.2_g0.0.png already present\n",
      "plot plots/deffuant/spaghetti_mo[0.05, 0.5, 0.95]_pm0.0_e0.3_g0.0.png already present\n",
      "plot plots/deffuant/spaghetti_mo[0.05, 0.5, 0.95]_pm0.0_e0.4_g0.0.png already present\n",
      "plot plots/deffuant/spaghetti_mo[0.05, 0.5, 0.95]_pm0.0_e0.5_g0.0.png already present\n",
      "plot plots/deffuant/spaghetti_mo[0.05, 0.5, 0.95]_pm0.5_e0.2_g0.0.png already present\n",
      "plot plots/deffuant/spaghetti_mo[0.05, 0.5, 0.95]_pm0.5_e0.3_g0.0.png already present\n",
      "doing spaghetti_mo[0.05, 0.5, 0.95]_pm0.5_e0.4_g0.0\n"
     ]
    },
    {
     "name": "stderr",
     "output_type": "stream",
     "text": [
      "  0%|                                                                        | 1075/1000000 [00:06<1:33:14, 178.55it/s]\n",
      "  0%|                                                                          | 22/1000000 [00:00<1:19:02, 210.87it/s]"
     ]
    },
    {
     "name": "stdout",
     "output_type": "stream",
     "text": [
      "doing spaghetti_mo[0.05, 0.5, 0.95]_pm0.5_e0.5_g0.0\n"
     ]
    },
    {
     "name": "stderr",
     "output_type": "stream",
     "text": [
      "100%|█████████████████████████████████████████████████████████████████████| 1000000/1000000 [1:28:54<00:00, 187.45it/s]\n"
     ]
    },
    {
     "ename": "OverflowError",
     "evalue": "Exceeded cell block limit (set 'agg.path.chunksize' rcparam)",
     "output_type": "error",
     "traceback": [
      "\u001b[1;31m---------------------------------------------------------------------------\u001b[0m",
      "\u001b[1;31mOverflowError\u001b[0m                             Traceback (most recent call last)",
      "\u001b[1;32mc:\\programdata\\anaconda3\\lib\\site-packages\\matplotlib\\backends\\backend_agg.py\u001b[0m in \u001b[0;36mdraw_path\u001b[1;34m(self, gc, path, transform, rgbFace)\u001b[0m\n\u001b[0;32m    145\u001b[0m             \u001b[1;32mtry\u001b[0m\u001b[1;33m:\u001b[0m\u001b[1;33m\u001b[0m\u001b[1;33m\u001b[0m\u001b[0m\n\u001b[1;32m--> 146\u001b[1;33m                 \u001b[0mself\u001b[0m\u001b[1;33m.\u001b[0m\u001b[0m_renderer\u001b[0m\u001b[1;33m.\u001b[0m\u001b[0mdraw_path\u001b[0m\u001b[1;33m(\u001b[0m\u001b[0mgc\u001b[0m\u001b[1;33m,\u001b[0m \u001b[0mpath\u001b[0m\u001b[1;33m,\u001b[0m \u001b[0mtransform\u001b[0m\u001b[1;33m,\u001b[0m \u001b[0mrgbFace\u001b[0m\u001b[1;33m)\u001b[0m\u001b[1;33m\u001b[0m\u001b[1;33m\u001b[0m\u001b[0m\n\u001b[0m\u001b[0;32m    147\u001b[0m             \u001b[1;32mexcept\u001b[0m \u001b[0mOverflowError\u001b[0m\u001b[1;33m:\u001b[0m\u001b[1;33m\u001b[0m\u001b[1;33m\u001b[0m\u001b[0m\n",
      "\u001b[1;31mOverflowError\u001b[0m: In draw_path: Exceeded cell block limit",
      "\nDuring handling of the above exception, another exception occurred:\n",
      "\u001b[1;31mOverflowError\u001b[0m                             Traceback (most recent call last)",
      "\u001b[1;32m~\\AppData\\Local\\Temp\\ipykernel_15728\\3435810259.py\u001b[0m in \u001b[0;36m<module>\u001b[1;34m\u001b[0m\n\u001b[0;32m     37\u001b[0m                     \u001b[0mevolution\u001b[0m\u001b[1;33m(\u001b[0m\u001b[0miterations\u001b[0m\u001b[1;33m,\u001b[0m \u001b[0mspaghetti_hex_list\u001b[0m\u001b[1;33m,\u001b[0m \u001b[0mfig\u001b[0m\u001b[1;33m=\u001b[0m\u001b[0mfig\u001b[0m\u001b[1;33m,\u001b[0m \u001b[0max\u001b[0m\u001b[1;33m=\u001b[0m\u001b[0max\u001b[0m\u001b[1;33m)\u001b[0m\u001b[1;33m\u001b[0m\u001b[1;33m\u001b[0m\u001b[0m\n\u001b[0;32m     38\u001b[0m                     \u001b[0mplt\u001b[0m\u001b[1;33m.\u001b[0m\u001b[0mtitle\u001b[0m\u001b[1;33m(\u001b[0m\u001b[1;34mr'$\\epsilon$='\u001b[0m\u001b[1;33m+\u001b[0m\u001b[1;34mf'{e},'\u001b[0m\u001b[1;33m+\u001b[0m\u001b[1;34mr'$\\gamma$='\u001b[0m\u001b[1;33m+\u001b[0m\u001b[1;34mf'{g},'\u001b[0m\u001b[1;33m+\u001b[0m\u001b[1;34mr'$p_m$='\u001b[0m\u001b[1;33m+\u001b[0m\u001b[1;34mf'{pm}'\u001b[0m\u001b[1;33m)\u001b[0m\u001b[1;33m\u001b[0m\u001b[1;33m\u001b[0m\u001b[0m\n\u001b[1;32m---> 39\u001b[1;33m                     \u001b[0mplt\u001b[0m\u001b[1;33m.\u001b[0m\u001b[0msavefig\u001b[0m\u001b[1;33m(\u001b[0m\u001b[1;34mf\"plots/deffuant/spaghetti_mo{mo}_pm{pm}_e{e}_g{g}.png\"\u001b[0m\u001b[1;33m,\u001b[0m \u001b[0mbbox_inches\u001b[0m\u001b[1;33m=\u001b[0m\u001b[1;34m\"tight\"\u001b[0m\u001b[1;33m)\u001b[0m\u001b[1;33m\u001b[0m\u001b[1;33m\u001b[0m\u001b[0m\n\u001b[0m\u001b[0;32m     40\u001b[0m                     \u001b[0mplt\u001b[0m\u001b[1;33m.\u001b[0m\u001b[0mclose\u001b[0m\u001b[1;33m(\u001b[0m\u001b[1;33m)\u001b[0m\u001b[1;33m\u001b[0m\u001b[1;33m\u001b[0m\u001b[0m\n\u001b[0;32m     41\u001b[0m                 \u001b[1;32melse\u001b[0m\u001b[1;33m:\u001b[0m\u001b[1;33m\u001b[0m\u001b[1;33m\u001b[0m\u001b[0m\n",
      "\u001b[1;32mc:\\programdata\\anaconda3\\lib\\site-packages\\matplotlib\\pyplot.py\u001b[0m in \u001b[0;36msavefig\u001b[1;34m(*args, **kwargs)\u001b[0m\n\u001b[0;32m    714\u001b[0m \u001b[1;32mdef\u001b[0m \u001b[0msavefig\u001b[0m\u001b[1;33m(\u001b[0m\u001b[1;33m*\u001b[0m\u001b[0margs\u001b[0m\u001b[1;33m,\u001b[0m \u001b[1;33m**\u001b[0m\u001b[0mkwargs\u001b[0m\u001b[1;33m)\u001b[0m\u001b[1;33m:\u001b[0m\u001b[1;33m\u001b[0m\u001b[1;33m\u001b[0m\u001b[0m\n\u001b[0;32m    715\u001b[0m     \u001b[0mfig\u001b[0m \u001b[1;33m=\u001b[0m \u001b[0mgcf\u001b[0m\u001b[1;33m(\u001b[0m\u001b[1;33m)\u001b[0m\u001b[1;33m\u001b[0m\u001b[1;33m\u001b[0m\u001b[0m\n\u001b[1;32m--> 716\u001b[1;33m     \u001b[0mres\u001b[0m \u001b[1;33m=\u001b[0m \u001b[0mfig\u001b[0m\u001b[1;33m.\u001b[0m\u001b[0msavefig\u001b[0m\u001b[1;33m(\u001b[0m\u001b[1;33m*\u001b[0m\u001b[0margs\u001b[0m\u001b[1;33m,\u001b[0m \u001b[1;33m**\u001b[0m\u001b[0mkwargs\u001b[0m\u001b[1;33m)\u001b[0m\u001b[1;33m\u001b[0m\u001b[1;33m\u001b[0m\u001b[0m\n\u001b[0m\u001b[0;32m    717\u001b[0m     \u001b[0mfig\u001b[0m\u001b[1;33m.\u001b[0m\u001b[0mcanvas\u001b[0m\u001b[1;33m.\u001b[0m\u001b[0mdraw_idle\u001b[0m\u001b[1;33m(\u001b[0m\u001b[1;33m)\u001b[0m   \u001b[1;31m# need this if 'transparent=True' to reset colors\u001b[0m\u001b[1;33m\u001b[0m\u001b[1;33m\u001b[0m\u001b[0m\n\u001b[0;32m    718\u001b[0m     \u001b[1;32mreturn\u001b[0m \u001b[0mres\u001b[0m\u001b[1;33m\u001b[0m\u001b[1;33m\u001b[0m\u001b[0m\n",
      "\u001b[1;32mc:\\programdata\\anaconda3\\lib\\site-packages\\matplotlib\\figure.py\u001b[0m in \u001b[0;36msavefig\u001b[1;34m(self, fname, transparent, **kwargs)\u001b[0m\n\u001b[0;32m   2178\u001b[0m             \u001b[0mself\u001b[0m\u001b[1;33m.\u001b[0m\u001b[0mpatch\u001b[0m\u001b[1;33m.\u001b[0m\u001b[0mset_visible\u001b[0m\u001b[1;33m(\u001b[0m\u001b[0mframeon\u001b[0m\u001b[1;33m)\u001b[0m\u001b[1;33m\u001b[0m\u001b[1;33m\u001b[0m\u001b[0m\n\u001b[0;32m   2179\u001b[0m \u001b[1;33m\u001b[0m\u001b[0m\n\u001b[1;32m-> 2180\u001b[1;33m         \u001b[0mself\u001b[0m\u001b[1;33m.\u001b[0m\u001b[0mcanvas\u001b[0m\u001b[1;33m.\u001b[0m\u001b[0mprint_figure\u001b[0m\u001b[1;33m(\u001b[0m\u001b[0mfname\u001b[0m\u001b[1;33m,\u001b[0m \u001b[1;33m**\u001b[0m\u001b[0mkwargs\u001b[0m\u001b[1;33m)\u001b[0m\u001b[1;33m\u001b[0m\u001b[1;33m\u001b[0m\u001b[0m\n\u001b[0m\u001b[0;32m   2181\u001b[0m \u001b[1;33m\u001b[0m\u001b[0m\n\u001b[0;32m   2182\u001b[0m         \u001b[1;32mif\u001b[0m \u001b[0mframeon\u001b[0m\u001b[1;33m:\u001b[0m\u001b[1;33m\u001b[0m\u001b[1;33m\u001b[0m\u001b[0m\n",
      "\u001b[1;32mc:\\programdata\\anaconda3\\lib\\site-packages\\matplotlib\\backend_bases.py\u001b[0m in \u001b[0;36mprint_figure\u001b[1;34m(self, filename, dpi, facecolor, edgecolor, orientation, format, bbox_inches, **kwargs)\u001b[0m\n\u001b[0;32m   2054\u001b[0m                         \u001b[0morientation\u001b[0m\u001b[1;33m=\u001b[0m\u001b[0morientation\u001b[0m\u001b[1;33m,\u001b[0m\u001b[1;33m\u001b[0m\u001b[1;33m\u001b[0m\u001b[0m\n\u001b[0;32m   2055\u001b[0m                         \u001b[0mdryrun\u001b[0m\u001b[1;33m=\u001b[0m\u001b[1;32mTrue\u001b[0m\u001b[1;33m,\u001b[0m\u001b[1;33m\u001b[0m\u001b[1;33m\u001b[0m\u001b[0m\n\u001b[1;32m-> 2056\u001b[1;33m                         **kwargs)\n\u001b[0m\u001b[0;32m   2057\u001b[0m                     \u001b[0mrenderer\u001b[0m \u001b[1;33m=\u001b[0m \u001b[0mself\u001b[0m\u001b[1;33m.\u001b[0m\u001b[0mfigure\u001b[0m\u001b[1;33m.\u001b[0m\u001b[0m_cachedRenderer\u001b[0m\u001b[1;33m\u001b[0m\u001b[1;33m\u001b[0m\u001b[0m\n\u001b[0;32m   2058\u001b[0m                     \u001b[0mbbox_artists\u001b[0m \u001b[1;33m=\u001b[0m \u001b[0mkwargs\u001b[0m\u001b[1;33m.\u001b[0m\u001b[0mpop\u001b[0m\u001b[1;33m(\u001b[0m\u001b[1;34m\"bbox_extra_artists\"\u001b[0m\u001b[1;33m,\u001b[0m \u001b[1;32mNone\u001b[0m\u001b[1;33m)\u001b[0m\u001b[1;33m\u001b[0m\u001b[1;33m\u001b[0m\u001b[0m\n",
      "\u001b[1;32mc:\\programdata\\anaconda3\\lib\\site-packages\\matplotlib\\backends\\backend_agg.py\u001b[0m in \u001b[0;36mprint_png\u001b[1;34m(self, filename_or_obj, metadata, pil_kwargs, *args, **kwargs)\u001b[0m\n\u001b[0;32m    525\u001b[0m \u001b[1;33m\u001b[0m\u001b[0m\n\u001b[0;32m    526\u001b[0m         \u001b[1;32melse\u001b[0m\u001b[1;33m:\u001b[0m\u001b[1;33m\u001b[0m\u001b[1;33m\u001b[0m\u001b[0m\n\u001b[1;32m--> 527\u001b[1;33m             \u001b[0mFigureCanvasAgg\u001b[0m\u001b[1;33m.\u001b[0m\u001b[0mdraw\u001b[0m\u001b[1;33m(\u001b[0m\u001b[0mself\u001b[0m\u001b[1;33m)\u001b[0m\u001b[1;33m\u001b[0m\u001b[1;33m\u001b[0m\u001b[0m\n\u001b[0m\u001b[0;32m    528\u001b[0m             \u001b[0mrenderer\u001b[0m \u001b[1;33m=\u001b[0m \u001b[0mself\u001b[0m\u001b[1;33m.\u001b[0m\u001b[0mget_renderer\u001b[0m\u001b[1;33m(\u001b[0m\u001b[1;33m)\u001b[0m\u001b[1;33m\u001b[0m\u001b[1;33m\u001b[0m\u001b[0m\n\u001b[0;32m    529\u001b[0m             \u001b[1;32mwith\u001b[0m \u001b[0mcbook\u001b[0m\u001b[1;33m.\u001b[0m\u001b[0m_setattr_cm\u001b[0m\u001b[1;33m(\u001b[0m\u001b[0mrenderer\u001b[0m\u001b[1;33m,\u001b[0m \u001b[0mdpi\u001b[0m\u001b[1;33m=\u001b[0m\u001b[0mself\u001b[0m\u001b[1;33m.\u001b[0m\u001b[0mfigure\u001b[0m\u001b[1;33m.\u001b[0m\u001b[0mdpi\u001b[0m\u001b[1;33m)\u001b[0m\u001b[1;33m,\u001b[0m\u001b[0;31m \u001b[0m\u001b[0;31m\\\u001b[0m\u001b[1;33m\u001b[0m\u001b[1;33m\u001b[0m\u001b[0m\n",
      "\u001b[1;32mc:\\programdata\\anaconda3\\lib\\site-packages\\matplotlib\\backends\\backend_agg.py\u001b[0m in \u001b[0;36mdraw\u001b[1;34m(self)\u001b[0m\n\u001b[0;32m    386\u001b[0m         \u001b[0mself\u001b[0m\u001b[1;33m.\u001b[0m\u001b[0mrenderer\u001b[0m \u001b[1;33m=\u001b[0m \u001b[0mself\u001b[0m\u001b[1;33m.\u001b[0m\u001b[0mget_renderer\u001b[0m\u001b[1;33m(\u001b[0m\u001b[0mcleared\u001b[0m\u001b[1;33m=\u001b[0m\u001b[1;32mTrue\u001b[0m\u001b[1;33m)\u001b[0m\u001b[1;33m\u001b[0m\u001b[1;33m\u001b[0m\u001b[0m\n\u001b[0;32m    387\u001b[0m         \u001b[1;32mwith\u001b[0m \u001b[0mRendererAgg\u001b[0m\u001b[1;33m.\u001b[0m\u001b[0mlock\u001b[0m\u001b[1;33m:\u001b[0m\u001b[1;33m\u001b[0m\u001b[1;33m\u001b[0m\u001b[0m\n\u001b[1;32m--> 388\u001b[1;33m             \u001b[0mself\u001b[0m\u001b[1;33m.\u001b[0m\u001b[0mfigure\u001b[0m\u001b[1;33m.\u001b[0m\u001b[0mdraw\u001b[0m\u001b[1;33m(\u001b[0m\u001b[0mself\u001b[0m\u001b[1;33m.\u001b[0m\u001b[0mrenderer\u001b[0m\u001b[1;33m)\u001b[0m\u001b[1;33m\u001b[0m\u001b[1;33m\u001b[0m\u001b[0m\n\u001b[0m\u001b[0;32m    389\u001b[0m             \u001b[1;31m# A GUI class may be need to update a window using this draw, so\u001b[0m\u001b[1;33m\u001b[0m\u001b[1;33m\u001b[0m\u001b[1;33m\u001b[0m\u001b[0m\n\u001b[0;32m    390\u001b[0m             \u001b[1;31m# don't forget to call the superclass.\u001b[0m\u001b[1;33m\u001b[0m\u001b[1;33m\u001b[0m\u001b[1;33m\u001b[0m\u001b[0m\n",
      "\u001b[1;32mc:\\programdata\\anaconda3\\lib\\site-packages\\matplotlib\\artist.py\u001b[0m in \u001b[0;36mdraw_wrapper\u001b[1;34m(artist, renderer, *args, **kwargs)\u001b[0m\n\u001b[0;32m     36\u001b[0m                 \u001b[0mrenderer\u001b[0m\u001b[1;33m.\u001b[0m\u001b[0mstart_filter\u001b[0m\u001b[1;33m(\u001b[0m\u001b[1;33m)\u001b[0m\u001b[1;33m\u001b[0m\u001b[1;33m\u001b[0m\u001b[0m\n\u001b[0;32m     37\u001b[0m \u001b[1;33m\u001b[0m\u001b[0m\n\u001b[1;32m---> 38\u001b[1;33m             \u001b[1;32mreturn\u001b[0m \u001b[0mdraw\u001b[0m\u001b[1;33m(\u001b[0m\u001b[0martist\u001b[0m\u001b[1;33m,\u001b[0m \u001b[0mrenderer\u001b[0m\u001b[1;33m,\u001b[0m \u001b[1;33m*\u001b[0m\u001b[0margs\u001b[0m\u001b[1;33m,\u001b[0m \u001b[1;33m**\u001b[0m\u001b[0mkwargs\u001b[0m\u001b[1;33m)\u001b[0m\u001b[1;33m\u001b[0m\u001b[1;33m\u001b[0m\u001b[0m\n\u001b[0m\u001b[0;32m     39\u001b[0m         \u001b[1;32mfinally\u001b[0m\u001b[1;33m:\u001b[0m\u001b[1;33m\u001b[0m\u001b[1;33m\u001b[0m\u001b[0m\n\u001b[0;32m     40\u001b[0m             \u001b[1;32mif\u001b[0m \u001b[0martist\u001b[0m\u001b[1;33m.\u001b[0m\u001b[0mget_agg_filter\u001b[0m\u001b[1;33m(\u001b[0m\u001b[1;33m)\u001b[0m \u001b[1;32mis\u001b[0m \u001b[1;32mnot\u001b[0m \u001b[1;32mNone\u001b[0m\u001b[1;33m:\u001b[0m\u001b[1;33m\u001b[0m\u001b[1;33m\u001b[0m\u001b[0m\n",
      "\u001b[1;32mc:\\programdata\\anaconda3\\lib\\site-packages\\matplotlib\\figure.py\u001b[0m in \u001b[0;36mdraw\u001b[1;34m(self, renderer)\u001b[0m\n\u001b[0;32m   1707\u001b[0m             \u001b[0mself\u001b[0m\u001b[1;33m.\u001b[0m\u001b[0mpatch\u001b[0m\u001b[1;33m.\u001b[0m\u001b[0mdraw\u001b[0m\u001b[1;33m(\u001b[0m\u001b[0mrenderer\u001b[0m\u001b[1;33m)\u001b[0m\u001b[1;33m\u001b[0m\u001b[1;33m\u001b[0m\u001b[0m\n\u001b[0;32m   1708\u001b[0m             mimage._draw_list_compositing_images(\n\u001b[1;32m-> 1709\u001b[1;33m                 renderer, self, artists, self.suppressComposite)\n\u001b[0m\u001b[0;32m   1710\u001b[0m \u001b[1;33m\u001b[0m\u001b[0m\n\u001b[0;32m   1711\u001b[0m             \u001b[0mrenderer\u001b[0m\u001b[1;33m.\u001b[0m\u001b[0mclose_group\u001b[0m\u001b[1;33m(\u001b[0m\u001b[1;34m'figure'\u001b[0m\u001b[1;33m)\u001b[0m\u001b[1;33m\u001b[0m\u001b[1;33m\u001b[0m\u001b[0m\n",
      "\u001b[1;32mc:\\programdata\\anaconda3\\lib\\site-packages\\matplotlib\\image.py\u001b[0m in \u001b[0;36m_draw_list_compositing_images\u001b[1;34m(renderer, parent, artists, suppress_composite)\u001b[0m\n\u001b[0;32m    133\u001b[0m     \u001b[1;32mif\u001b[0m \u001b[0mnot_composite\u001b[0m \u001b[1;32mor\u001b[0m \u001b[1;32mnot\u001b[0m \u001b[0mhas_images\u001b[0m\u001b[1;33m:\u001b[0m\u001b[1;33m\u001b[0m\u001b[1;33m\u001b[0m\u001b[0m\n\u001b[0;32m    134\u001b[0m         \u001b[1;32mfor\u001b[0m \u001b[0ma\u001b[0m \u001b[1;32min\u001b[0m \u001b[0martists\u001b[0m\u001b[1;33m:\u001b[0m\u001b[1;33m\u001b[0m\u001b[1;33m\u001b[0m\u001b[0m\n\u001b[1;32m--> 135\u001b[1;33m             \u001b[0ma\u001b[0m\u001b[1;33m.\u001b[0m\u001b[0mdraw\u001b[0m\u001b[1;33m(\u001b[0m\u001b[0mrenderer\u001b[0m\u001b[1;33m)\u001b[0m\u001b[1;33m\u001b[0m\u001b[1;33m\u001b[0m\u001b[0m\n\u001b[0m\u001b[0;32m    136\u001b[0m     \u001b[1;32melse\u001b[0m\u001b[1;33m:\u001b[0m\u001b[1;33m\u001b[0m\u001b[1;33m\u001b[0m\u001b[0m\n\u001b[0;32m    137\u001b[0m         \u001b[1;31m# Composite any adjacent images together\u001b[0m\u001b[1;33m\u001b[0m\u001b[1;33m\u001b[0m\u001b[1;33m\u001b[0m\u001b[0m\n",
      "\u001b[1;32mc:\\programdata\\anaconda3\\lib\\site-packages\\matplotlib\\artist.py\u001b[0m in \u001b[0;36mdraw_wrapper\u001b[1;34m(artist, renderer, *args, **kwargs)\u001b[0m\n\u001b[0;32m     36\u001b[0m                 \u001b[0mrenderer\u001b[0m\u001b[1;33m.\u001b[0m\u001b[0mstart_filter\u001b[0m\u001b[1;33m(\u001b[0m\u001b[1;33m)\u001b[0m\u001b[1;33m\u001b[0m\u001b[1;33m\u001b[0m\u001b[0m\n\u001b[0;32m     37\u001b[0m \u001b[1;33m\u001b[0m\u001b[0m\n\u001b[1;32m---> 38\u001b[1;33m             \u001b[1;32mreturn\u001b[0m \u001b[0mdraw\u001b[0m\u001b[1;33m(\u001b[0m\u001b[0martist\u001b[0m\u001b[1;33m,\u001b[0m \u001b[0mrenderer\u001b[0m\u001b[1;33m,\u001b[0m \u001b[1;33m*\u001b[0m\u001b[0margs\u001b[0m\u001b[1;33m,\u001b[0m \u001b[1;33m**\u001b[0m\u001b[0mkwargs\u001b[0m\u001b[1;33m)\u001b[0m\u001b[1;33m\u001b[0m\u001b[1;33m\u001b[0m\u001b[0m\n\u001b[0m\u001b[0;32m     39\u001b[0m         \u001b[1;32mfinally\u001b[0m\u001b[1;33m:\u001b[0m\u001b[1;33m\u001b[0m\u001b[1;33m\u001b[0m\u001b[0m\n\u001b[0;32m     40\u001b[0m             \u001b[1;32mif\u001b[0m \u001b[0martist\u001b[0m\u001b[1;33m.\u001b[0m\u001b[0mget_agg_filter\u001b[0m\u001b[1;33m(\u001b[0m\u001b[1;33m)\u001b[0m \u001b[1;32mis\u001b[0m \u001b[1;32mnot\u001b[0m \u001b[1;32mNone\u001b[0m\u001b[1;33m:\u001b[0m\u001b[1;33m\u001b[0m\u001b[1;33m\u001b[0m\u001b[0m\n",
      "\u001b[1;32mc:\\programdata\\anaconda3\\lib\\site-packages\\matplotlib\\axes\\_base.py\u001b[0m in \u001b[0;36mdraw\u001b[1;34m(self, renderer, inframe)\u001b[0m\n\u001b[0;32m   2643\u001b[0m             \u001b[0mrenderer\u001b[0m\u001b[1;33m.\u001b[0m\u001b[0mstop_rasterizing\u001b[0m\u001b[1;33m(\u001b[0m\u001b[1;33m)\u001b[0m\u001b[1;33m\u001b[0m\u001b[1;33m\u001b[0m\u001b[0m\n\u001b[0;32m   2644\u001b[0m \u001b[1;33m\u001b[0m\u001b[0m\n\u001b[1;32m-> 2645\u001b[1;33m         \u001b[0mmimage\u001b[0m\u001b[1;33m.\u001b[0m\u001b[0m_draw_list_compositing_images\u001b[0m\u001b[1;33m(\u001b[0m\u001b[0mrenderer\u001b[0m\u001b[1;33m,\u001b[0m \u001b[0mself\u001b[0m\u001b[1;33m,\u001b[0m \u001b[0martists\u001b[0m\u001b[1;33m)\u001b[0m\u001b[1;33m\u001b[0m\u001b[1;33m\u001b[0m\u001b[0m\n\u001b[0m\u001b[0;32m   2646\u001b[0m \u001b[1;33m\u001b[0m\u001b[0m\n\u001b[0;32m   2647\u001b[0m         \u001b[0mrenderer\u001b[0m\u001b[1;33m.\u001b[0m\u001b[0mclose_group\u001b[0m\u001b[1;33m(\u001b[0m\u001b[1;34m'axes'\u001b[0m\u001b[1;33m)\u001b[0m\u001b[1;33m\u001b[0m\u001b[1;33m\u001b[0m\u001b[0m\n",
      "\u001b[1;32mc:\\programdata\\anaconda3\\lib\\site-packages\\matplotlib\\image.py\u001b[0m in \u001b[0;36m_draw_list_compositing_images\u001b[1;34m(renderer, parent, artists, suppress_composite)\u001b[0m\n\u001b[0;32m    133\u001b[0m     \u001b[1;32mif\u001b[0m \u001b[0mnot_composite\u001b[0m \u001b[1;32mor\u001b[0m \u001b[1;32mnot\u001b[0m \u001b[0mhas_images\u001b[0m\u001b[1;33m:\u001b[0m\u001b[1;33m\u001b[0m\u001b[1;33m\u001b[0m\u001b[0m\n\u001b[0;32m    134\u001b[0m         \u001b[1;32mfor\u001b[0m \u001b[0ma\u001b[0m \u001b[1;32min\u001b[0m \u001b[0martists\u001b[0m\u001b[1;33m:\u001b[0m\u001b[1;33m\u001b[0m\u001b[1;33m\u001b[0m\u001b[0m\n\u001b[1;32m--> 135\u001b[1;33m             \u001b[0ma\u001b[0m\u001b[1;33m.\u001b[0m\u001b[0mdraw\u001b[0m\u001b[1;33m(\u001b[0m\u001b[0mrenderer\u001b[0m\u001b[1;33m)\u001b[0m\u001b[1;33m\u001b[0m\u001b[1;33m\u001b[0m\u001b[0m\n\u001b[0m\u001b[0;32m    136\u001b[0m     \u001b[1;32melse\u001b[0m\u001b[1;33m:\u001b[0m\u001b[1;33m\u001b[0m\u001b[1;33m\u001b[0m\u001b[0m\n\u001b[0;32m    137\u001b[0m         \u001b[1;31m# Composite any adjacent images together\u001b[0m\u001b[1;33m\u001b[0m\u001b[1;33m\u001b[0m\u001b[1;33m\u001b[0m\u001b[0m\n",
      "\u001b[1;32mc:\\programdata\\anaconda3\\lib\\site-packages\\matplotlib\\artist.py\u001b[0m in \u001b[0;36mdraw_wrapper\u001b[1;34m(artist, renderer, *args, **kwargs)\u001b[0m\n\u001b[0;32m     36\u001b[0m                 \u001b[0mrenderer\u001b[0m\u001b[1;33m.\u001b[0m\u001b[0mstart_filter\u001b[0m\u001b[1;33m(\u001b[0m\u001b[1;33m)\u001b[0m\u001b[1;33m\u001b[0m\u001b[1;33m\u001b[0m\u001b[0m\n\u001b[0;32m     37\u001b[0m \u001b[1;33m\u001b[0m\u001b[0m\n\u001b[1;32m---> 38\u001b[1;33m             \u001b[1;32mreturn\u001b[0m \u001b[0mdraw\u001b[0m\u001b[1;33m(\u001b[0m\u001b[0martist\u001b[0m\u001b[1;33m,\u001b[0m \u001b[0mrenderer\u001b[0m\u001b[1;33m,\u001b[0m \u001b[1;33m*\u001b[0m\u001b[0margs\u001b[0m\u001b[1;33m,\u001b[0m \u001b[1;33m**\u001b[0m\u001b[0mkwargs\u001b[0m\u001b[1;33m)\u001b[0m\u001b[1;33m\u001b[0m\u001b[1;33m\u001b[0m\u001b[0m\n\u001b[0m\u001b[0;32m     39\u001b[0m         \u001b[1;32mfinally\u001b[0m\u001b[1;33m:\u001b[0m\u001b[1;33m\u001b[0m\u001b[1;33m\u001b[0m\u001b[0m\n\u001b[0;32m     40\u001b[0m             \u001b[1;32mif\u001b[0m \u001b[0martist\u001b[0m\u001b[1;33m.\u001b[0m\u001b[0mget_agg_filter\u001b[0m\u001b[1;33m(\u001b[0m\u001b[1;33m)\u001b[0m \u001b[1;32mis\u001b[0m \u001b[1;32mnot\u001b[0m \u001b[1;32mNone\u001b[0m\u001b[1;33m:\u001b[0m\u001b[1;33m\u001b[0m\u001b[1;33m\u001b[0m\u001b[0m\n",
      "\u001b[1;32mc:\\programdata\\anaconda3\\lib\\site-packages\\matplotlib\\lines.py\u001b[0m in \u001b[0;36mdraw\u001b[1;34m(self, renderer)\u001b[0m\n\u001b[0;32m    800\u001b[0m \u001b[1;33m\u001b[0m\u001b[0m\n\u001b[0;32m    801\u001b[0m                 \u001b[0mgc\u001b[0m\u001b[1;33m.\u001b[0m\u001b[0mset_dashes\u001b[0m\u001b[1;33m(\u001b[0m\u001b[0mself\u001b[0m\u001b[1;33m.\u001b[0m\u001b[0m_dashOffset\u001b[0m\u001b[1;33m,\u001b[0m \u001b[0mself\u001b[0m\u001b[1;33m.\u001b[0m\u001b[0m_dashSeq\u001b[0m\u001b[1;33m)\u001b[0m\u001b[1;33m\u001b[0m\u001b[1;33m\u001b[0m\u001b[0m\n\u001b[1;32m--> 802\u001b[1;33m                 \u001b[0mrenderer\u001b[0m\u001b[1;33m.\u001b[0m\u001b[0mdraw_path\u001b[0m\u001b[1;33m(\u001b[0m\u001b[0mgc\u001b[0m\u001b[1;33m,\u001b[0m \u001b[0mtpath\u001b[0m\u001b[1;33m,\u001b[0m \u001b[0maffine\u001b[0m\u001b[1;33m.\u001b[0m\u001b[0mfrozen\u001b[0m\u001b[1;33m(\u001b[0m\u001b[1;33m)\u001b[0m\u001b[1;33m)\u001b[0m\u001b[1;33m\u001b[0m\u001b[1;33m\u001b[0m\u001b[0m\n\u001b[0m\u001b[0;32m    803\u001b[0m                 \u001b[0mgc\u001b[0m\u001b[1;33m.\u001b[0m\u001b[0mrestore\u001b[0m\u001b[1;33m(\u001b[0m\u001b[1;33m)\u001b[0m\u001b[1;33m\u001b[0m\u001b[1;33m\u001b[0m\u001b[0m\n\u001b[0;32m    804\u001b[0m \u001b[1;33m\u001b[0m\u001b[0m\n",
      "\u001b[1;32mc:\\programdata\\anaconda3\\lib\\site-packages\\matplotlib\\backends\\backend_agg.py\u001b[0m in \u001b[0;36mdraw_path\u001b[1;34m(self, gc, path, transform, rgbFace)\u001b[0m\n\u001b[0;32m    146\u001b[0m                 \u001b[0mself\u001b[0m\u001b[1;33m.\u001b[0m\u001b[0m_renderer\u001b[0m\u001b[1;33m.\u001b[0m\u001b[0mdraw_path\u001b[0m\u001b[1;33m(\u001b[0m\u001b[0mgc\u001b[0m\u001b[1;33m,\u001b[0m \u001b[0mpath\u001b[0m\u001b[1;33m,\u001b[0m \u001b[0mtransform\u001b[0m\u001b[1;33m,\u001b[0m \u001b[0mrgbFace\u001b[0m\u001b[1;33m)\u001b[0m\u001b[1;33m\u001b[0m\u001b[1;33m\u001b[0m\u001b[0m\n\u001b[0;32m    147\u001b[0m             \u001b[1;32mexcept\u001b[0m \u001b[0mOverflowError\u001b[0m\u001b[1;33m:\u001b[0m\u001b[1;33m\u001b[0m\u001b[1;33m\u001b[0m\u001b[0m\n\u001b[1;32m--> 148\u001b[1;33m                 raise OverflowError(\"Exceeded cell block limit (set \"\n\u001b[0m\u001b[0;32m    149\u001b[0m                                     \"'agg.path.chunksize' rcparam)\")\n\u001b[0;32m    150\u001b[0m \u001b[1;33m\u001b[0m\u001b[0m\n",
      "\u001b[1;31mOverflowError\u001b[0m: Exceeded cell block limit (set 'agg.path.chunksize' rcparam)"
     ]
    },
    {
     "ename": "OverflowError",
     "evalue": "Exceeded cell block limit (set 'agg.path.chunksize' rcparam)",
     "output_type": "error",
     "traceback": [
      "\u001b[1;31m---------------------------------------------------------------------------\u001b[0m",
      "\u001b[1;31mOverflowError\u001b[0m                             Traceback (most recent call last)",
      "\u001b[1;32mc:\\programdata\\anaconda3\\lib\\site-packages\\matplotlib\\backends\\backend_agg.py\u001b[0m in \u001b[0;36mdraw_path\u001b[1;34m(self, gc, path, transform, rgbFace)\u001b[0m\n\u001b[0;32m    145\u001b[0m             \u001b[1;32mtry\u001b[0m\u001b[1;33m:\u001b[0m\u001b[1;33m\u001b[0m\u001b[1;33m\u001b[0m\u001b[0m\n\u001b[1;32m--> 146\u001b[1;33m                 \u001b[0mself\u001b[0m\u001b[1;33m.\u001b[0m\u001b[0m_renderer\u001b[0m\u001b[1;33m.\u001b[0m\u001b[0mdraw_path\u001b[0m\u001b[1;33m(\u001b[0m\u001b[0mgc\u001b[0m\u001b[1;33m,\u001b[0m \u001b[0mpath\u001b[0m\u001b[1;33m,\u001b[0m \u001b[0mtransform\u001b[0m\u001b[1;33m,\u001b[0m \u001b[0mrgbFace\u001b[0m\u001b[1;33m)\u001b[0m\u001b[1;33m\u001b[0m\u001b[1;33m\u001b[0m\u001b[0m\n\u001b[0m\u001b[0;32m    147\u001b[0m             \u001b[1;32mexcept\u001b[0m \u001b[0mOverflowError\u001b[0m\u001b[1;33m:\u001b[0m\u001b[1;33m\u001b[0m\u001b[1;33m\u001b[0m\u001b[0m\n",
      "\u001b[1;31mOverflowError\u001b[0m: In draw_path: Exceeded cell block limit",
      "\nDuring handling of the above exception, another exception occurred:\n",
      "\u001b[1;31mOverflowError\u001b[0m                             Traceback (most recent call last)",
      "\u001b[1;32mc:\\programdata\\anaconda3\\lib\\site-packages\\IPython\\core\\formatters.py\u001b[0m in \u001b[0;36m__call__\u001b[1;34m(self, obj)\u001b[0m\n\u001b[0;32m    339\u001b[0m                 \u001b[1;32mpass\u001b[0m\u001b[1;33m\u001b[0m\u001b[1;33m\u001b[0m\u001b[0m\n\u001b[0;32m    340\u001b[0m             \u001b[1;32melse\u001b[0m\u001b[1;33m:\u001b[0m\u001b[1;33m\u001b[0m\u001b[1;33m\u001b[0m\u001b[0m\n\u001b[1;32m--> 341\u001b[1;33m                 \u001b[1;32mreturn\u001b[0m \u001b[0mprinter\u001b[0m\u001b[1;33m(\u001b[0m\u001b[0mobj\u001b[0m\u001b[1;33m)\u001b[0m\u001b[1;33m\u001b[0m\u001b[1;33m\u001b[0m\u001b[0m\n\u001b[0m\u001b[0;32m    342\u001b[0m             \u001b[1;31m# Finally look for special method names\u001b[0m\u001b[1;33m\u001b[0m\u001b[1;33m\u001b[0m\u001b[1;33m\u001b[0m\u001b[0m\n\u001b[0;32m    343\u001b[0m             \u001b[0mmethod\u001b[0m \u001b[1;33m=\u001b[0m \u001b[0mget_real_method\u001b[0m\u001b[1;33m(\u001b[0m\u001b[0mobj\u001b[0m\u001b[1;33m,\u001b[0m \u001b[0mself\u001b[0m\u001b[1;33m.\u001b[0m\u001b[0mprint_method\u001b[0m\u001b[1;33m)\u001b[0m\u001b[1;33m\u001b[0m\u001b[1;33m\u001b[0m\u001b[0m\n",
      "\u001b[1;32mc:\\programdata\\anaconda3\\lib\\site-packages\\IPython\\core\\pylabtools.py\u001b[0m in \u001b[0;36mprint_figure\u001b[1;34m(fig, fmt, bbox_inches, base64, **kwargs)\u001b[0m\n\u001b[0;32m    149\u001b[0m         \u001b[0mFigureCanvasBase\u001b[0m\u001b[1;33m(\u001b[0m\u001b[0mfig\u001b[0m\u001b[1;33m)\u001b[0m\u001b[1;33m\u001b[0m\u001b[1;33m\u001b[0m\u001b[0m\n\u001b[0;32m    150\u001b[0m \u001b[1;33m\u001b[0m\u001b[0m\n\u001b[1;32m--> 151\u001b[1;33m     \u001b[0mfig\u001b[0m\u001b[1;33m.\u001b[0m\u001b[0mcanvas\u001b[0m\u001b[1;33m.\u001b[0m\u001b[0mprint_figure\u001b[0m\u001b[1;33m(\u001b[0m\u001b[0mbytes_io\u001b[0m\u001b[1;33m,\u001b[0m \u001b[1;33m**\u001b[0m\u001b[0mkw\u001b[0m\u001b[1;33m)\u001b[0m\u001b[1;33m\u001b[0m\u001b[1;33m\u001b[0m\u001b[0m\n\u001b[0m\u001b[0;32m    152\u001b[0m     \u001b[0mdata\u001b[0m \u001b[1;33m=\u001b[0m \u001b[0mbytes_io\u001b[0m\u001b[1;33m.\u001b[0m\u001b[0mgetvalue\u001b[0m\u001b[1;33m(\u001b[0m\u001b[1;33m)\u001b[0m\u001b[1;33m\u001b[0m\u001b[1;33m\u001b[0m\u001b[0m\n\u001b[0;32m    153\u001b[0m     \u001b[1;32mif\u001b[0m \u001b[0mfmt\u001b[0m \u001b[1;33m==\u001b[0m \u001b[1;34m'svg'\u001b[0m\u001b[1;33m:\u001b[0m\u001b[1;33m\u001b[0m\u001b[1;33m\u001b[0m\u001b[0m\n",
      "\u001b[1;32mc:\\programdata\\anaconda3\\lib\\site-packages\\matplotlib\\backend_bases.py\u001b[0m in \u001b[0;36mprint_figure\u001b[1;34m(self, filename, dpi, facecolor, edgecolor, orientation, format, bbox_inches, **kwargs)\u001b[0m\n\u001b[0;32m   2054\u001b[0m                         \u001b[0morientation\u001b[0m\u001b[1;33m=\u001b[0m\u001b[0morientation\u001b[0m\u001b[1;33m,\u001b[0m\u001b[1;33m\u001b[0m\u001b[1;33m\u001b[0m\u001b[0m\n\u001b[0;32m   2055\u001b[0m                         \u001b[0mdryrun\u001b[0m\u001b[1;33m=\u001b[0m\u001b[1;32mTrue\u001b[0m\u001b[1;33m,\u001b[0m\u001b[1;33m\u001b[0m\u001b[1;33m\u001b[0m\u001b[0m\n\u001b[1;32m-> 2056\u001b[1;33m                         **kwargs)\n\u001b[0m\u001b[0;32m   2057\u001b[0m                     \u001b[0mrenderer\u001b[0m \u001b[1;33m=\u001b[0m \u001b[0mself\u001b[0m\u001b[1;33m.\u001b[0m\u001b[0mfigure\u001b[0m\u001b[1;33m.\u001b[0m\u001b[0m_cachedRenderer\u001b[0m\u001b[1;33m\u001b[0m\u001b[1;33m\u001b[0m\u001b[0m\n\u001b[0;32m   2058\u001b[0m                     \u001b[0mbbox_artists\u001b[0m \u001b[1;33m=\u001b[0m \u001b[0mkwargs\u001b[0m\u001b[1;33m.\u001b[0m\u001b[0mpop\u001b[0m\u001b[1;33m(\u001b[0m\u001b[1;34m\"bbox_extra_artists\"\u001b[0m\u001b[1;33m,\u001b[0m \u001b[1;32mNone\u001b[0m\u001b[1;33m)\u001b[0m\u001b[1;33m\u001b[0m\u001b[1;33m\u001b[0m\u001b[0m\n",
      "\u001b[1;32mc:\\programdata\\anaconda3\\lib\\site-packages\\matplotlib\\backends\\backend_agg.py\u001b[0m in \u001b[0;36mprint_png\u001b[1;34m(self, filename_or_obj, metadata, pil_kwargs, *args, **kwargs)\u001b[0m\n\u001b[0;32m    525\u001b[0m \u001b[1;33m\u001b[0m\u001b[0m\n\u001b[0;32m    526\u001b[0m         \u001b[1;32melse\u001b[0m\u001b[1;33m:\u001b[0m\u001b[1;33m\u001b[0m\u001b[1;33m\u001b[0m\u001b[0m\n\u001b[1;32m--> 527\u001b[1;33m             \u001b[0mFigureCanvasAgg\u001b[0m\u001b[1;33m.\u001b[0m\u001b[0mdraw\u001b[0m\u001b[1;33m(\u001b[0m\u001b[0mself\u001b[0m\u001b[1;33m)\u001b[0m\u001b[1;33m\u001b[0m\u001b[1;33m\u001b[0m\u001b[0m\n\u001b[0m\u001b[0;32m    528\u001b[0m             \u001b[0mrenderer\u001b[0m \u001b[1;33m=\u001b[0m \u001b[0mself\u001b[0m\u001b[1;33m.\u001b[0m\u001b[0mget_renderer\u001b[0m\u001b[1;33m(\u001b[0m\u001b[1;33m)\u001b[0m\u001b[1;33m\u001b[0m\u001b[1;33m\u001b[0m\u001b[0m\n\u001b[0;32m    529\u001b[0m             \u001b[1;32mwith\u001b[0m \u001b[0mcbook\u001b[0m\u001b[1;33m.\u001b[0m\u001b[0m_setattr_cm\u001b[0m\u001b[1;33m(\u001b[0m\u001b[0mrenderer\u001b[0m\u001b[1;33m,\u001b[0m \u001b[0mdpi\u001b[0m\u001b[1;33m=\u001b[0m\u001b[0mself\u001b[0m\u001b[1;33m.\u001b[0m\u001b[0mfigure\u001b[0m\u001b[1;33m.\u001b[0m\u001b[0mdpi\u001b[0m\u001b[1;33m)\u001b[0m\u001b[1;33m,\u001b[0m\u001b[0;31m \u001b[0m\u001b[0;31m\\\u001b[0m\u001b[1;33m\u001b[0m\u001b[1;33m\u001b[0m\u001b[0m\n",
      "\u001b[1;32mc:\\programdata\\anaconda3\\lib\\site-packages\\matplotlib\\backends\\backend_agg.py\u001b[0m in \u001b[0;36mdraw\u001b[1;34m(self)\u001b[0m\n\u001b[0;32m    386\u001b[0m         \u001b[0mself\u001b[0m\u001b[1;33m.\u001b[0m\u001b[0mrenderer\u001b[0m \u001b[1;33m=\u001b[0m \u001b[0mself\u001b[0m\u001b[1;33m.\u001b[0m\u001b[0mget_renderer\u001b[0m\u001b[1;33m(\u001b[0m\u001b[0mcleared\u001b[0m\u001b[1;33m=\u001b[0m\u001b[1;32mTrue\u001b[0m\u001b[1;33m)\u001b[0m\u001b[1;33m\u001b[0m\u001b[1;33m\u001b[0m\u001b[0m\n\u001b[0;32m    387\u001b[0m         \u001b[1;32mwith\u001b[0m \u001b[0mRendererAgg\u001b[0m\u001b[1;33m.\u001b[0m\u001b[0mlock\u001b[0m\u001b[1;33m:\u001b[0m\u001b[1;33m\u001b[0m\u001b[1;33m\u001b[0m\u001b[0m\n\u001b[1;32m--> 388\u001b[1;33m             \u001b[0mself\u001b[0m\u001b[1;33m.\u001b[0m\u001b[0mfigure\u001b[0m\u001b[1;33m.\u001b[0m\u001b[0mdraw\u001b[0m\u001b[1;33m(\u001b[0m\u001b[0mself\u001b[0m\u001b[1;33m.\u001b[0m\u001b[0mrenderer\u001b[0m\u001b[1;33m)\u001b[0m\u001b[1;33m\u001b[0m\u001b[1;33m\u001b[0m\u001b[0m\n\u001b[0m\u001b[0;32m    389\u001b[0m             \u001b[1;31m# A GUI class may be need to update a window using this draw, so\u001b[0m\u001b[1;33m\u001b[0m\u001b[1;33m\u001b[0m\u001b[1;33m\u001b[0m\u001b[0m\n\u001b[0;32m    390\u001b[0m             \u001b[1;31m# don't forget to call the superclass.\u001b[0m\u001b[1;33m\u001b[0m\u001b[1;33m\u001b[0m\u001b[1;33m\u001b[0m\u001b[0m\n",
      "\u001b[1;32mc:\\programdata\\anaconda3\\lib\\site-packages\\matplotlib\\artist.py\u001b[0m in \u001b[0;36mdraw_wrapper\u001b[1;34m(artist, renderer, *args, **kwargs)\u001b[0m\n\u001b[0;32m     36\u001b[0m                 \u001b[0mrenderer\u001b[0m\u001b[1;33m.\u001b[0m\u001b[0mstart_filter\u001b[0m\u001b[1;33m(\u001b[0m\u001b[1;33m)\u001b[0m\u001b[1;33m\u001b[0m\u001b[1;33m\u001b[0m\u001b[0m\n\u001b[0;32m     37\u001b[0m \u001b[1;33m\u001b[0m\u001b[0m\n\u001b[1;32m---> 38\u001b[1;33m             \u001b[1;32mreturn\u001b[0m \u001b[0mdraw\u001b[0m\u001b[1;33m(\u001b[0m\u001b[0martist\u001b[0m\u001b[1;33m,\u001b[0m \u001b[0mrenderer\u001b[0m\u001b[1;33m,\u001b[0m \u001b[1;33m*\u001b[0m\u001b[0margs\u001b[0m\u001b[1;33m,\u001b[0m \u001b[1;33m**\u001b[0m\u001b[0mkwargs\u001b[0m\u001b[1;33m)\u001b[0m\u001b[1;33m\u001b[0m\u001b[1;33m\u001b[0m\u001b[0m\n\u001b[0m\u001b[0;32m     39\u001b[0m         \u001b[1;32mfinally\u001b[0m\u001b[1;33m:\u001b[0m\u001b[1;33m\u001b[0m\u001b[1;33m\u001b[0m\u001b[0m\n\u001b[0;32m     40\u001b[0m             \u001b[1;32mif\u001b[0m \u001b[0martist\u001b[0m\u001b[1;33m.\u001b[0m\u001b[0mget_agg_filter\u001b[0m\u001b[1;33m(\u001b[0m\u001b[1;33m)\u001b[0m \u001b[1;32mis\u001b[0m \u001b[1;32mnot\u001b[0m \u001b[1;32mNone\u001b[0m\u001b[1;33m:\u001b[0m\u001b[1;33m\u001b[0m\u001b[1;33m\u001b[0m\u001b[0m\n",
      "\u001b[1;32mc:\\programdata\\anaconda3\\lib\\site-packages\\matplotlib\\figure.py\u001b[0m in \u001b[0;36mdraw\u001b[1;34m(self, renderer)\u001b[0m\n\u001b[0;32m   1705\u001b[0m                     \u001b[1;31m# ValueError can occur when resizing a window.\u001b[0m\u001b[1;33m\u001b[0m\u001b[1;33m\u001b[0m\u001b[1;33m\u001b[0m\u001b[0m\n\u001b[0;32m   1706\u001b[0m \u001b[1;33m\u001b[0m\u001b[0m\n\u001b[1;32m-> 1707\u001b[1;33m             \u001b[0mself\u001b[0m\u001b[1;33m.\u001b[0m\u001b[0mpatch\u001b[0m\u001b[1;33m.\u001b[0m\u001b[0mdraw\u001b[0m\u001b[1;33m(\u001b[0m\u001b[0mrenderer\u001b[0m\u001b[1;33m)\u001b[0m\u001b[1;33m\u001b[0m\u001b[1;33m\u001b[0m\u001b[0m\n\u001b[0m\u001b[0;32m   1708\u001b[0m             mimage._draw_list_compositing_images(\n\u001b[0;32m   1709\u001b[0m                 renderer, self, artists, self.suppressComposite)\n",
      "\u001b[1;32mc:\\programdata\\anaconda3\\lib\\site-packages\\matplotlib\\artist.py\u001b[0m in \u001b[0;36mdraw_wrapper\u001b[1;34m(artist, renderer, *args, **kwargs)\u001b[0m\n\u001b[0;32m     36\u001b[0m                 \u001b[0mrenderer\u001b[0m\u001b[1;33m.\u001b[0m\u001b[0mstart_filter\u001b[0m\u001b[1;33m(\u001b[0m\u001b[1;33m)\u001b[0m\u001b[1;33m\u001b[0m\u001b[1;33m\u001b[0m\u001b[0m\n\u001b[0;32m     37\u001b[0m \u001b[1;33m\u001b[0m\u001b[0m\n\u001b[1;32m---> 38\u001b[1;33m             \u001b[1;32mreturn\u001b[0m \u001b[0mdraw\u001b[0m\u001b[1;33m(\u001b[0m\u001b[0martist\u001b[0m\u001b[1;33m,\u001b[0m \u001b[0mrenderer\u001b[0m\u001b[1;33m,\u001b[0m \u001b[1;33m*\u001b[0m\u001b[0margs\u001b[0m\u001b[1;33m,\u001b[0m \u001b[1;33m**\u001b[0m\u001b[0mkwargs\u001b[0m\u001b[1;33m)\u001b[0m\u001b[1;33m\u001b[0m\u001b[1;33m\u001b[0m\u001b[0m\n\u001b[0m\u001b[0;32m     39\u001b[0m         \u001b[1;32mfinally\u001b[0m\u001b[1;33m:\u001b[0m\u001b[1;33m\u001b[0m\u001b[1;33m\u001b[0m\u001b[0m\n\u001b[0;32m     40\u001b[0m             \u001b[1;32mif\u001b[0m \u001b[0martist\u001b[0m\u001b[1;33m.\u001b[0m\u001b[0mget_agg_filter\u001b[0m\u001b[1;33m(\u001b[0m\u001b[1;33m)\u001b[0m \u001b[1;32mis\u001b[0m \u001b[1;32mnot\u001b[0m \u001b[1;32mNone\u001b[0m\u001b[1;33m:\u001b[0m\u001b[1;33m\u001b[0m\u001b[1;33m\u001b[0m\u001b[0m\n",
      "\u001b[1;32mc:\\programdata\\anaconda3\\lib\\site-packages\\matplotlib\\patches.py\u001b[0m in \u001b[0;36mdraw\u001b[1;34m(self, renderer)\u001b[0m\n\u001b[0;32m    578\u001b[0m                       \u001b[1;31m# do not draw the hatches if the facecolor is fully\u001b[0m\u001b[1;33m\u001b[0m\u001b[1;33m\u001b[0m\u001b[1;33m\u001b[0m\u001b[0m\n\u001b[0;32m    579\u001b[0m                       \u001b[1;31m# transparent, but do if it is None.\u001b[0m\u001b[1;33m\u001b[0m\u001b[1;33m\u001b[0m\u001b[1;33m\u001b[0m\u001b[0m\n\u001b[1;32m--> 580\u001b[1;33m                       self._facecolor if self._facecolor[3] else None)\n\u001b[0m\u001b[0;32m    581\u001b[0m \u001b[1;33m\u001b[0m\u001b[0m\n\u001b[0;32m    582\u001b[0m     \u001b[1;32mdef\u001b[0m \u001b[0mget_path\u001b[0m\u001b[1;33m(\u001b[0m\u001b[0mself\u001b[0m\u001b[1;33m)\u001b[0m\u001b[1;33m:\u001b[0m\u001b[1;33m\u001b[0m\u001b[1;33m\u001b[0m\u001b[0m\n",
      "\u001b[1;32mc:\\programdata\\anaconda3\\lib\\site-packages\\matplotlib\\backends\\backend_agg.py\u001b[0m in \u001b[0;36mdraw_path\u001b[1;34m(self, gc, path, transform, rgbFace)\u001b[0m\n\u001b[0;32m    146\u001b[0m                 \u001b[0mself\u001b[0m\u001b[1;33m.\u001b[0m\u001b[0m_renderer\u001b[0m\u001b[1;33m.\u001b[0m\u001b[0mdraw_path\u001b[0m\u001b[1;33m(\u001b[0m\u001b[0mgc\u001b[0m\u001b[1;33m,\u001b[0m \u001b[0mpath\u001b[0m\u001b[1;33m,\u001b[0m \u001b[0mtransform\u001b[0m\u001b[1;33m,\u001b[0m \u001b[0mrgbFace\u001b[0m\u001b[1;33m)\u001b[0m\u001b[1;33m\u001b[0m\u001b[1;33m\u001b[0m\u001b[0m\n\u001b[0;32m    147\u001b[0m             \u001b[1;32mexcept\u001b[0m \u001b[0mOverflowError\u001b[0m\u001b[1;33m:\u001b[0m\u001b[1;33m\u001b[0m\u001b[1;33m\u001b[0m\u001b[0m\n\u001b[1;32m--> 148\u001b[1;33m                 raise OverflowError(\"Exceeded cell block limit (set \"\n\u001b[0m\u001b[0;32m    149\u001b[0m                                     \"'agg.path.chunksize' rcparam)\")\n\u001b[0;32m    150\u001b[0m \u001b[1;33m\u001b[0m\u001b[0m\n",
      "\u001b[1;31mOverflowError\u001b[0m: Exceeded cell block limit (set 'agg.path.chunksize' rcparam)"
     ]
    },
    {
     "data": {
      "text/plain": [
       "<Figure size 4200x3000 with 1 Axes>"
      ]
     },
     "metadata": {},
     "output_type": "display_data"
    }
   ],
   "source": [
    "import sys\n",
    "sys.path.append(\"/../Lib/\")\n",
    "import sys\n",
    "sys.path.append(\"/../Lib/\")\n",
    "sys.path.append(\"/../Lib/netdspatch_local/\")\n",
    "sys.path.append(\"/../Lib/ndlib_local/\")\n",
    "\n",
    "import json\n",
    "import os\n",
    "import networkx as nx\n",
    "import ndlib_local.ndlib.models.ModelConfig as mc\n",
    "import ndlib_local.ndlib.models.opinions as op\n",
    "import warnings\n",
    "warnings.filterwarnings(\"ignore\")\n",
    "\n",
    "n = 100\n",
    "graph = nx.complete_graph(n)\n",
    "max_it = 1000000\n",
    "for mo in [[0.0], [0.5], [0.05, 0.95], [0.05, 0.5, 0.95]]:\n",
    "    for pm in [0.0, 0.5]:\n",
    "        for e in [0.2, 0.3, 0.4, 0.5]:\n",
    "            for g in [0.0]:\n",
    "                if not os.path.exists(f\"plots/deffuant/spaghetti/spaghetti_mo{mo}_pm{pm}_e{e}_g{g}.png\"):\n",
    "                    print(f\"doing spaghetti_mo{mo}_pm{pm}_e{e}_g{g}\")\n",
    "                    model = op.AlgorithmicBiasMediaModel(graph)\n",
    "                    config = mc.Configuration()\n",
    "                    config.add_model_parameter(\"epsilon\", e)\n",
    "                    config.add_model_parameter(\"gamma\", g)\n",
    "                    config.add_model_parameter(\"gamma_media\", g)\n",
    "                    config.add_model_parameter(\"k\", len(mo))\n",
    "                    config.add_model_parameter(\"p\", pm)\n",
    "                    model.set_initial_status(config)\n",
    "                    model.set_media_opinions(mo)\n",
    "                    # # Simulation execution\n",
    "                    iterations = model.steady_state(max_iterations=max_it, nsteady=1000, sensibility=0.00001, node_status=True, progress_bar=True, drop_evolution=False)\n",
    "                    fig, ax = plt.subplots(figsize=(7, 5), dpi=600)\n",
    "                    evolution(iterations, spaghetti_hex_list, fig=fig, ax=ax)\n",
    "                    plt.title(r'$\\epsilon$='+f'{e},'+r'$\\gamma$='+f'{g},'+r'$p_m$='+f'{pm}')\n",
    "                    plt.savefig(f\"plots/deffuant/spaghetti_mo{mo}_pm{pm}_e{e}_g{g}.png\", bbox_inches=\"tight\")\n",
    "                    plt.close()\n",
    "                else:\n",
    "                    print(f\"plot plots/deffuant/spaghetti_mo{mo}_pm{pm}_e{e}_g{g}.png already present\")\n",
    "                    continue"
   ]
  },
  {
   "cell_type": "markdown",
   "metadata": {},
   "source": [
    "# A single - moderate - media"
   ]
  },
  {
   "cell_type": "markdown",
   "metadata": {},
   "source": [
    "### Heatmap"
   ]
  },
  {
   "cell_type": "code",
   "execution_count": 38,
   "metadata": {},
   "outputs": [],
   "source": [
    "sns.set(font_scale=1.0)\n",
    "for measure in measures:\n",
    "    for eps in sorted(moderate.eps.unique()):\n",
    "        fig, ax = plt.subplots(figsize=(5, 5), dpi=600)\n",
    "        x = \"p_media\"\n",
    "        y = \"gam\"\n",
    "        data = moderate[moderate[\"eps\"]==eps]\n",
    "        df = data.pivot(x, y, measure)\n",
    "        if measure == \"avg_niter\":\n",
    "            a=sns.heatmap(df, cbar=True, cbar_kws = dict(use_gridspec=False,location=\"top\"), fmt=\".0f\", annot=True, ax = ax, cmap=heatmap_cmap, vmin=min(moderate[measure]), vmax=max(moderate[measure]))\n",
    "        else:\n",
    "            a=sns.heatmap(df, cbar=True, cbar_kws = dict(use_gridspec=False,location=\"top\"), fmt=\".2f\", annot=True, ax = ax, cmap=heatmap_cmap, vmin=min(moderate[measure]), vmax=max(moderate[measure]))\n",
    "        ax.set_xlabel(r'$\\gamma$', fontsize=15)\n",
    "        ax.set_ylabel('', fontsize=15)\n",
    "        ax.set_title(r\"$\\epsilon$={}\", fontsize=15, pad = 60)\n",
    "        ax.set_ylabel(r'$p_m$', fontsize=15)\n",
    "        plt.savefig(f\"plots/moderate/{measure}/moderate_{measure}_e{eps}_heatmap.png\", bbox_inches=\"tight\")\n",
    "        plt.close()\n",
    "\n",
    "        # relativa colorbar \n",
    "        fig, ax = plt.subplots(figsize=(7, 1), dpi=600)\n",
    "        fig.subplots_adjust(bottom=0.5)\n",
    "\n",
    "        cmap = heatmap_cmap\n",
    "        norm = mpl.colors.Normalize(vmin=min(moderate[measure]), vmax=max(moderate[measure]))\n",
    "\n",
    "        cb = fig.colorbar(mpl.cm.ScalarMappable(norm=norm, cmap=heatmap_cmap),\n",
    "                    cax=ax, orientation='horizontal')\n",
    "        cb.outline.set_visible(False)\n",
    "        plt.savefig(f\"plots/moderate/colorbar_moderate_{measure}_e{eps}_heatmap.png\", bbox_inches=\"tight\")\n",
    "        plt.close()"
   ]
  },
  {
   "cell_type": "markdown",
   "metadata": {},
   "source": [
    "### surface"
   ]
  },
  {
   "cell_type": "code",
   "execution_count": 39,
   "metadata": {},
   "outputs": [],
   "source": [
    "sns.set(font_scale=1.0)\n",
    "sns.set_style(\"whitegrid\")\n",
    "for measure in measures:\n",
    "    for eps in sorted(moderate.eps.unique()):\n",
    "        x = \"gam\"\n",
    "        y = \"p_meda\"\n",
    "        data = moderate[moderate[\"eps\"]==eps]\n",
    "        fig = plt.figure(figsize=(15, 10))\n",
    "        ax = fig.gca(projection='3d')\n",
    "        ax.plot_trisurf(data['gam'], data['p_media'], data[measure], cmap=heatmap_cmap, linewidth=0.0, alpha=0.8)\n",
    "        surf=ax.plot_trisurf(data['gam'], data['p_media'], data[measure], cmap=heatmap_cmap, linewidth=0.0, alpha=0.8)\n",
    "        ax.set_xlabel(r'$\\gamma$', fontsize=40, labelpad=30)\n",
    "        ax.set_ylabel(r'$p_m$', fontsize=50, labelpad=30)\n",
    "        ax.tick_params(axis='x', which='major', labelrotation=45)\n",
    "        ax.tick_params(axis='y', which='major', pad=10)\n",
    "        ax.tick_params(axis='z', which='major', pad=10)  \n",
    "        plt.savefig(f'plots/moderate/{measure}/moderate_{measure}_e{eps}_surface.png', bbox_inches=\"tight\")\n",
    "        plt.close()      "
   ]
  },
  {
   "cell_type": "markdown",
   "metadata": {},
   "source": [
    "### spaghetti"
   ]
  },
  {
   "cell_type": "code",
   "execution_count": 49,
   "metadata": {},
   "outputs": [
    {
     "name": "stderr",
     "output_type": "stream",
     "text": [
      "  0%|                                                                          | 17/1000000 [00:00<1:42:32, 162.54it/s]"
     ]
    },
    {
     "name": "stdout",
     "output_type": "stream",
     "text": [
      "doing spaghetti_moderate_pm0.0_e0.2_g0.0\n"
     ]
    },
    {
     "name": "stderr",
     "output_type": "stream",
     "text": [
      "  0%|                                                                        | 1072/1000000 [00:07<1:55:18, 144.38it/s]\n",
      "  0%|                                                                          | 17/1000000 [00:00<1:39:11, 168.02it/s]"
     ]
    },
    {
     "name": "stdout",
     "output_type": "stream",
     "text": [
      "doing spaghetti_moderate_pm0.0_e0.2_g0.5\n"
     ]
    },
    {
     "name": "stderr",
     "output_type": "stream",
     "text": [
      "  0%|                                                                        | 1046/1000000 [00:07<1:55:12, 144.52it/s]\n",
      "  0%|                                                                          | 33/1000000 [00:00<1:41:11, 164.69it/s]"
     ]
    },
    {
     "name": "stdout",
     "output_type": "stream",
     "text": [
      "doing spaghetti_moderate_pm0.0_e0.2_g1.0\n"
     ]
    },
    {
     "name": "stderr",
     "output_type": "stream",
     "text": [
      "  0%|▏                                                                       | 2025/1000000 [00:14<1:59:04, 139.69it/s]\n",
      "  0%|                                                                          | 19/1000000 [00:00<1:32:11, 180.77it/s]"
     ]
    },
    {
     "name": "stdout",
     "output_type": "stream",
     "text": [
      "doing spaghetti_moderate_pm0.0_e0.2_g1.5\n"
     ]
    },
    {
     "name": "stderr",
     "output_type": "stream",
     "text": [
      "  9%|██████▌                                                                | 93259/1000000 [11:29<1:51:48, 135.16it/s]\n",
      "  0%|                                                                          | 39/1000000 [00:00<1:28:27, 188.42it/s]"
     ]
    },
    {
     "name": "stdout",
     "output_type": "stream",
     "text": [
      "doing spaghetti_moderate_pm0.0_e0.3_g0.0\n"
     ]
    },
    {
     "name": "stderr",
     "output_type": "stream",
     "text": [
      "  0%|                                                                        | 1027/1000000 [00:06<1:47:34, 154.77it/s]\n",
      "  0%|                                                                          | 15/1000000 [00:00<1:53:50, 146.40it/s]"
     ]
    },
    {
     "name": "stdout",
     "output_type": "stream",
     "text": [
      "doing spaghetti_moderate_pm0.0_e0.3_g0.5\n"
     ]
    },
    {
     "name": "stderr",
     "output_type": "stream",
     "text": [
      "  0%|                                                                        | 1042/1000000 [00:07<1:58:59, 139.91it/s]\n",
      "  0%|                                                                          | 23/1000000 [00:00<1:13:40, 226.22it/s]"
     ]
    },
    {
     "name": "stdout",
     "output_type": "stream",
     "text": [
      "doing spaghetti_moderate_pm0.0_e0.3_g1.0\n"
     ]
    },
    {
     "name": "stderr",
     "output_type": "stream",
     "text": [
      "  0%|▏                                                                       | 1908/1000000 [00:12<1:50:37, 150.36it/s]\n",
      "  0%|                                                                          | 12/1000000 [00:00<2:22:08, 117.25it/s]"
     ]
    },
    {
     "name": "stdout",
     "output_type": "stream",
     "text": [
      "doing spaghetti_moderate_pm0.0_e0.3_g1.5\n"
     ]
    },
    {
     "name": "stderr",
     "output_type": "stream",
     "text": [
      "  1%|▊                                                                      | 11103/1000000 [01:23<2:03:24, 133.55it/s]\n",
      "  0%|                                                                          | 23/1000000 [00:00<1:15:34, 220.52it/s]"
     ]
    },
    {
     "name": "stdout",
     "output_type": "stream",
     "text": [
      "doing spaghetti_moderate_pm0.0_e0.4_g0.0\n"
     ]
    },
    {
     "name": "stderr",
     "output_type": "stream",
     "text": [
      "  0%|                                                                        | 1022/1000000 [00:06<1:48:40, 153.20it/s]\n",
      "  0%|                                                                          | 15/1000000 [00:00<1:54:32, 145.51it/s]"
     ]
    },
    {
     "name": "stdout",
     "output_type": "stream",
     "text": [
      "doing spaghetti_moderate_pm0.0_e0.4_g0.5\n"
     ]
    },
    {
     "name": "stderr",
     "output_type": "stream",
     "text": [
      "  0%|                                                                        | 1036/1000000 [00:08<2:09:36, 128.45it/s]\n",
      "  0%|                                                                          | 13/1000000 [00:00<2:14:42, 123.72it/s]"
     ]
    },
    {
     "name": "stdout",
     "output_type": "stream",
     "text": [
      "doing spaghetti_moderate_pm0.0_e0.4_g1.0\n"
     ]
    },
    {
     "name": "stderr",
     "output_type": "stream",
     "text": [
      "  0%|▏                                                                       | 3124/1000000 [00:21<1:54:37, 144.94it/s]\n",
      "  0%|                                                                          | 30/1000000 [00:00<1:57:58, 141.27it/s]"
     ]
    },
    {
     "name": "stdout",
     "output_type": "stream",
     "text": [
      "doing spaghetti_moderate_pm0.0_e0.4_g1.5\n"
     ]
    },
    {
     "name": "stderr",
     "output_type": "stream",
     "text": [
      " 13%|████████▊                                                             | 125169/1000000 [15:52<1:50:58, 131.38it/s]\n",
      "  0%|                                                                          | 16/1000000 [00:00<1:44:43, 159.14it/s]"
     ]
    },
    {
     "name": "stdout",
     "output_type": "stream",
     "text": [
      "doing spaghetti_moderate_pm0.0_e0.5_g0.0\n"
     ]
    },
    {
     "name": "stderr",
     "output_type": "stream",
     "text": [
      "  0%|                                                                        | 1020/1000000 [00:07<2:00:30, 138.16it/s]\n",
      "  0%|                                                                          | 17/1000000 [00:00<1:40:38, 165.61it/s]"
     ]
    },
    {
     "name": "stdout",
     "output_type": "stream",
     "text": [
      "doing spaghetti_moderate_pm0.0_e0.5_g0.5\n"
     ]
    },
    {
     "name": "stderr",
     "output_type": "stream",
     "text": [
      "  0%|                                                                        | 1033/1000000 [00:08<2:12:00, 126.12it/s]\n",
      "  0%|                                                                          | 21/1000000 [00:00<1:21:13, 205.19it/s]"
     ]
    },
    {
     "name": "stdout",
     "output_type": "stream",
     "text": [
      "doing spaghetti_moderate_pm0.0_e0.5_g1.0\n"
     ]
    },
    {
     "name": "stderr",
     "output_type": "stream",
     "text": [
      "  0%|                                                                        | 1497/1000000 [00:10<1:54:40, 145.13it/s]\n",
      "  0%|                                                                          | 14/1000000 [00:00<2:01:08, 137.58it/s]"
     ]
    },
    {
     "name": "stdout",
     "output_type": "stream",
     "text": [
      "doing spaghetti_moderate_pm0.0_e0.5_g1.5\n"
     ]
    },
    {
     "name": "stderr",
     "output_type": "stream",
     "text": [
      " 13%|█████████▍                                                            | 134021/1000000 [16:39<1:47:39, 134.06it/s]\n",
      "  0%|                                                                          | 14/1000000 [00:00<2:03:28, 134.98it/s]"
     ]
    },
    {
     "name": "stdout",
     "output_type": "stream",
     "text": [
      "doing spaghetti_moderate_pm0.5_e0.2_g0.0\n"
     ]
    },
    {
     "name": "stderr",
     "output_type": "stream",
     "text": [
      "  0%|                                                                        | 1080/1000000 [00:10<2:36:24, 106.44it/s]\n",
      "  0%|                                                                          | 15/1000000 [00:00<1:56:02, 143.63it/s]"
     ]
    },
    {
     "name": "stdout",
     "output_type": "stream",
     "text": [
      "doing spaghetti_moderate_pm0.5_e0.2_g0.5\n"
     ]
    },
    {
     "name": "stderr",
     "output_type": "stream",
     "text": [
      "  0%|                                                                         | 1038/1000000 [00:10<2:49:31, 98.21it/s]\n",
      "  0%|                                                                          | 17/1000000 [00:00<1:39:34, 167.39it/s]"
     ]
    },
    {
     "name": "stdout",
     "output_type": "stream",
     "text": [
      "doing spaghetti_moderate_pm0.5_e0.2_g1.0\n"
     ]
    },
    {
     "name": "stderr",
     "output_type": "stream",
     "text": [
      "  0%|                                                                        | 1586/1000000 [00:14<2:35:32, 106.99it/s]\n",
      "  0%|                                                                           | 10/1000000 [00:00<2:52:56, 96.37it/s]"
     ]
    },
    {
     "name": "stdout",
     "output_type": "stream",
     "text": [
      "doing spaghetti_moderate_pm0.5_e0.2_g1.5\n"
     ]
    },
    {
     "name": "stderr",
     "output_type": "stream",
     "text": [
      "  4%|██▊                                                                    | 39512/1000000 [03:56<1:35:43, 167.24it/s]\n",
      "  0%|                                                                          | 21/1000000 [00:00<1:21:31, 204.43it/s]"
     ]
    },
    {
     "name": "stdout",
     "output_type": "stream",
     "text": [
      "doing spaghetti_moderate_pm0.5_e0.3_g0.0\n"
     ]
    },
    {
     "name": "stderr",
     "output_type": "stream",
     "text": [
      "  0%|                                                                        | 1052/1000000 [00:05<1:25:50, 193.96it/s]\n",
      "  0%|                                                                          | 19/1000000 [00:00<1:32:44, 179.72it/s]"
     ]
    },
    {
     "name": "stdout",
     "output_type": "stream",
     "text": [
      "doing spaghetti_moderate_pm0.5_e0.3_g0.5\n"
     ]
    },
    {
     "name": "stderr",
     "output_type": "stream",
     "text": [
      "  0%|                                                                        | 1051/1000000 [00:05<1:33:41, 177.71it/s]\n",
      "  0%|                                                                          | 42/1000000 [00:00<1:24:09, 198.04it/s]"
     ]
    },
    {
     "name": "stdout",
     "output_type": "stream",
     "text": [
      "doing spaghetti_moderate_pm0.5_e0.3_g1.0\n"
     ]
    },
    {
     "name": "stderr",
     "output_type": "stream",
     "text": [
      "  0%|▏                                                                       | 1884/1000000 [00:10<1:30:11, 184.44it/s]\n",
      "  0%|                                                                          | 20/1000000 [00:00<1:25:36, 194.69it/s]"
     ]
    },
    {
     "name": "stdout",
     "output_type": "stream",
     "text": [
      "doing spaghetti_moderate_pm0.5_e0.3_g1.5\n"
     ]
    },
    {
     "name": "stderr",
     "output_type": "stream",
     "text": [
      "  1%|▌                                                                       | 8336/1000000 [00:46<1:32:50, 178.01it/s]\n",
      "  0%|                                                                          | 21/1000000 [00:00<1:20:05, 208.10it/s]"
     ]
    },
    {
     "name": "stdout",
     "output_type": "stream",
     "text": [
      "doing spaghetti_moderate_pm0.5_e0.4_g0.0\n"
     ]
    },
    {
     "name": "stderr",
     "output_type": "stream",
     "text": [
      "  0%|                                                                        | 1032/1000000 [00:05<1:26:18, 192.92it/s]\n",
      "  0%|                                                                          | 18/1000000 [00:00<1:39:44, 167.11it/s]"
     ]
    },
    {
     "name": "stdout",
     "output_type": "stream",
     "text": [
      "doing spaghetti_moderate_pm0.5_e0.4_g0.5\n"
     ]
    },
    {
     "name": "stderr",
     "output_type": "stream",
     "text": [
      "  0%|                                                                        | 1031/1000000 [00:06<1:38:08, 169.63it/s]\n",
      "  0%|                                                                          | 22/1000000 [00:00<1:17:02, 216.35it/s]"
     ]
    },
    {
     "name": "stdout",
     "output_type": "stream",
     "text": [
      "doing spaghetti_moderate_pm0.5_e0.4_g1.0\n"
     ]
    },
    {
     "name": "stderr",
     "output_type": "stream",
     "text": [
      "  0%|                                                                        | 1705/1000000 [00:08<1:27:36, 189.93it/s]\n",
      "  0%|                                                                          | 21/1000000 [00:00<1:23:16, 200.14it/s]"
     ]
    },
    {
     "name": "stdout",
     "output_type": "stream",
     "text": [
      "doing spaghetti_moderate_pm0.5_e0.4_g1.5\n"
     ]
    },
    {
     "name": "stderr",
     "output_type": "stream",
     "text": [
      "  0%|▏                                                                       | 2638/1000000 [00:15<1:37:33, 170.39it/s]\n",
      "  0%|                                                                          | 20/1000000 [00:00<1:23:34, 199.41it/s]"
     ]
    },
    {
     "name": "stdout",
     "output_type": "stream",
     "text": [
      "doing spaghetti_moderate_pm0.5_e0.5_g0.0\n"
     ]
    },
    {
     "name": "stderr",
     "output_type": "stream",
     "text": [
      "  0%|                                                                        | 1028/1000000 [00:05<1:26:13, 193.08it/s]\n",
      "  0%|                                                                          | 20/1000000 [00:00<1:25:34, 194.76it/s]"
     ]
    },
    {
     "name": "stdout",
     "output_type": "stream",
     "text": [
      "doing spaghetti_moderate_pm0.5_e0.5_g0.5\n"
     ]
    },
    {
     "name": "stderr",
     "output_type": "stream",
     "text": [
      "  0%|                                                                        | 1031/1000000 [00:05<1:33:35, 177.90it/s]\n",
      "  0%|                                                                          | 42/1000000 [00:00<1:22:16, 202.55it/s]"
     ]
    },
    {
     "name": "stdout",
     "output_type": "stream",
     "text": [
      "doing spaghetti_moderate_pm0.5_e0.5_g1.0\n"
     ]
    },
    {
     "name": "stderr",
     "output_type": "stream",
     "text": [
      "  0%|                                                                        | 1031/1000000 [00:05<1:27:33, 190.16it/s]\n",
      "  0%|                                                                          | 20/1000000 [00:00<1:25:14, 195.51it/s]"
     ]
    },
    {
     "name": "stdout",
     "output_type": "stream",
     "text": [
      "doing spaghetti_moderate_pm0.5_e0.5_g1.5\n"
     ]
    },
    {
     "name": "stderr",
     "output_type": "stream",
     "text": [
      "  0%|                                                                        | 1036/1000000 [00:05<1:33:08, 178.75it/s]\n"
     ]
    }
   ],
   "source": [
    "import sys\n",
    "sys.path.append(\"/../Lib/\")\n",
    "import sys\n",
    "sys.path.append(\"/../Lib/\")\n",
    "sys.path.append(\"/../Lib/netdspatch_local/\")\n",
    "sys.path.append(\"/../Lib/ndlib_local/\")\n",
    "\n",
    "import json\n",
    "import os\n",
    "import networkx as nx\n",
    "import ndlib_local.ndlib.models.ModelConfig as mc\n",
    "import ndlib_local.ndlib.models.opinions as op\n",
    "import warnings\n",
    "warnings.filterwarnings(\"ignore\")\n",
    "\n",
    "\n",
    "n = 100\n",
    "graph = nx.complete_graph(n)\n",
    "max_it = 1000000\n",
    "\n",
    "for mo in [[0.5]]:\n",
    "    for pm in [0.0, 0.5]:\n",
    "        for e in [0.2, 0.3, 0.4, 0.5]:\n",
    "            for g in [0.0, 0.5, 1.0, 1.5]:\n",
    "                print(f\"doing spaghetti_moderate_pm{pm}_e{e}_g{g}\")\n",
    "                model = op.AlgorithmicBiasMediaModel(graph)\n",
    "                config = mc.Configuration()\n",
    "                config.add_model_parameter(\"epsilon\", e)\n",
    "                config.add_model_parameter(\"gamma\", g)\n",
    "                config.add_model_parameter(\"gamma_media\", g)\n",
    "                config.add_model_parameter(\"k\", len(mo))\n",
    "                config.add_model_parameter(\"p\", pm)\n",
    "                model.set_initial_status(config)\n",
    "                model.set_media_opinions(mo)\n",
    "                # # Simulation execution\n",
    "                iterations = model.steady_state(max_iterations=max_it, nsteady=1000, sensibility=0.00001, node_status=True, progress_bar=True, drop_evolution=False)\n",
    "                fig, ax = plt.subplots(figsize=(7, 5), dpi=600)\n",
    "                evolution(iterations, spaghetti_hex_list, fig=fig, ax=ax)\n",
    "                plt.title(r'$\\epsilon$='+f'{e},'+r'$\\gamma$='+f'{g},'+r'$p_m$='+f'{pm}')\n",
    "                plt.savefig(f\"plots/moderate/spaghetti_moderate_pm{pm}_e{e}_g{g}.png\", bbox_inches=\"tight\")\n",
    "                plt.close()"
   ]
  },
  {
   "cell_type": "markdown",
   "metadata": {},
   "source": [
    "### Per presentazione"
   ]
  },
  {
   "cell_type": "markdown",
   "metadata": {},
   "source": [
    "for e in [0.2, 0.3, 0.4, 0.5]:\n",
    "    for g in [0.0, 1.0, 1.5]:\n",
    "        for pm in [0.0, 0.1, 0.2, 0.3, 0.4, 0.5]:\n",
    "            try:\n",
    "                fig, ax = plt.subplots(figsize=(5, 3))\n",
    "                mo = '0.5'\n",
    "                name = f'for_spaghetti/for_spaghetti media mo[{mo}] p{pm} e{e} g{g} gm{g} mi1000000'\n",
    "                iterations = from_res_to_iterations(name, 1)\n",
    "                evolution(iterations, spaghetti_hex_list, fig=fig, ax=ax)\n",
    "                plt.title(r'$\\epsilon$='+f'{e},'+r'$\\gamma$='+f'{g},'+r'$p_m$='+f'{pm}')\n",
    "                plt.savefig(f\"plots/moderate/spaghetti_moderate_e{e}_g{g}_pm{pm}.png\", bbox_inches=\"tight\")\n",
    "                plt.close()\n",
    "            except FileNotFoundError:\n",
    "                plt.close()\n",
    "                continue"
   ]
  },
  {
   "cell_type": "markdown",
   "metadata": {},
   "source": [
    "# Extremist media - propaganda"
   ]
  },
  {
   "cell_type": "markdown",
   "metadata": {},
   "source": [
    "### Heatmaps\n"
   ]
  },
  {
   "cell_type": "code",
   "execution_count": 40,
   "metadata": {},
   "outputs": [],
   "source": [
    "sns.set(font_scale=1.0)\n",
    "for eps in sorted(extremist.eps.unique()):\n",
    "    for measure in measures:\n",
    "        fig, ax = plt.subplots(figsize=(5, 5), dpi=600)\n",
    "        x = \"p_media\"\n",
    "        y = \"gam\"\n",
    "        data = extremist[extremist[\"eps\"]==eps]\n",
    "        df = data.pivot(x, y, measure)\n",
    "        if measure == \"avg_niter\":\n",
    "            a=sns.heatmap(df, cbar=True, cbar_kws = dict(use_gridspec=False,location=\"top\"), fmt=\".0f\", annot=True, ax = ax, cmap=heatmap_cmap, vmin=min(extremist[measure]), vmax=max(extremist[measure]))\n",
    "        else:\n",
    "            a=sns.heatmap(df, cbar=True, cbar_kws = dict(use_gridspec=False,location=\"top\"), fmt=\".2f\", annot=True, ax = ax, cmap=heatmap_cmap, vmin=min(extremist[measure]), vmax=max(extremist[measure]))\n",
    "        ax.set_xlabel(r'$\\gamma$', fontsize=15)\n",
    "        ax.set_ylabel(r'p_m', fontsize=15)\n",
    "        ax.set_title(r\"$\\epsilon$={}\".format(eps), fontsize=20)\n",
    "        plt.savefig(f\"plots/extremist/{measure}/extremist_{measure}_e{eps}_heatmap.png\", bbox_inches=\"tight\")\n",
    "        plt.close()\n",
    "        # relativa colorbar \n",
    "        fig, ax = plt.subplots(figsize=(7, 1), dpi=600)\n",
    "        fig.subplots_adjust(bottom=0.5)\n",
    "        cmap = heatmap_cmap\n",
    "        norm = mpl.colors.Normalize(vmin=min(extremist[measure]), vmax=max(extremist[measure]))\n",
    "        cb = fig.colorbar(mpl.cm.ScalarMappable(norm=norm, cmap=heatmap_cmap),\n",
    "                    cax=ax, orientation='horizontal')\n",
    "        cb.outline.set_visible(False)\n",
    "        plt.savefig(f\"plots/extremist/colorbar_extremist_{measure}_e{eps}_heatmap.png\", bbox_inches=\"tight\")\n",
    "        plt.close()"
   ]
  },
  {
   "cell_type": "markdown",
   "metadata": {},
   "source": [
    "### Spaghetti"
   ]
  },
  {
   "cell_type": "code",
   "execution_count": 48,
   "metadata": {
    "scrolled": true
   },
   "outputs": [
    {
     "name": "stderr",
     "output_type": "stream",
     "text": [
      "  0%|                                                                          | 28/1000000 [00:00<1:00:07, 277.17it/s]"
     ]
    },
    {
     "name": "stdout",
     "output_type": "stream",
     "text": [
      "doing spaghetti_extremist_pm0.0_e0.2_g0.0\n"
     ]
    },
    {
     "name": "stderr",
     "output_type": "stream",
     "text": [
      "  0%|                                                                        | 1100/1000000 [00:04<1:02:25, 266.67it/s]\n",
      "  0%|                                                                          | 19/1000000 [00:00<1:31:01, 183.11it/s]"
     ]
    },
    {
     "name": "stdout",
     "output_type": "stream",
     "text": [
      "doing spaghetti_extremist_pm0.0_e0.2_g0.5\n"
     ]
    },
    {
     "name": "stderr",
     "output_type": "stream",
     "text": [
      "  0%|                                                                        | 1039/1000000 [00:04<1:11:24, 233.14it/s]\n",
      "  0%|                                                                            | 29/1000000 [00:00<59:27, 280.30it/s]"
     ]
    },
    {
     "name": "stdout",
     "output_type": "stream",
     "text": [
      "doing spaghetti_extremist_pm0.0_e0.2_g1.0\n"
     ]
    },
    {
     "name": "stderr",
     "output_type": "stream",
     "text": [
      "  0%|▏                                                                       | 2163/1000000 [00:08<1:03:24, 262.27it/s]\n",
      "  0%|                                                                          | 27/1000000 [00:00<1:02:11, 267.95it/s]"
     ]
    },
    {
     "name": "stdout",
     "output_type": "stream",
     "text": [
      "doing spaghetti_extremist_pm0.0_e0.2_g1.5\n"
     ]
    },
    {
     "name": "stderr",
     "output_type": "stream",
     "text": [
      " 12%|████████▏                                                             | 117350/1000000 [08:26<1:03:32, 231.51it/s]\n",
      "  0%|                                                                          | 58/1000000 [00:00<1:03:37, 261.95it/s]"
     ]
    },
    {
     "name": "stdout",
     "output_type": "stream",
     "text": [
      "doing spaghetti_extremist_pm0.0_e0.3_g0.0\n"
     ]
    },
    {
     "name": "stderr",
     "output_type": "stream",
     "text": [
      "  0%|                                                                        | 1353/1000000 [00:05<1:03:30, 262.10it/s]\n",
      "  0%|                                                                          | 48/1000000 [00:00<1:13:29, 226.77it/s]"
     ]
    },
    {
     "name": "stdout",
     "output_type": "stream",
     "text": [
      "doing spaghetti_extremist_pm0.0_e0.3_g0.5\n"
     ]
    },
    {
     "name": "stderr",
     "output_type": "stream",
     "text": [
      "  0%|                                                                        | 1040/1000000 [00:04<1:10:02, 237.70it/s]\n",
      "  0%|                                                                            | 29/1000000 [00:00<59:03, 282.21it/s]"
     ]
    },
    {
     "name": "stdout",
     "output_type": "stream",
     "text": [
      "doing spaghetti_extremist_pm0.0_e0.3_g1.0\n"
     ]
    },
    {
     "name": "stderr",
     "output_type": "stream",
     "text": [
      "  0%|▏                                                                       | 1993/1000000 [00:07<1:06:44, 249.23it/s]\n",
      "  0%|                                                                          | 27/1000000 [00:00<1:03:24, 262.83it/s]"
     ]
    },
    {
     "name": "stdout",
     "output_type": "stream",
     "text": [
      "doing spaghetti_extremist_pm0.0_e0.3_g1.5\n"
     ]
    },
    {
     "name": "stderr",
     "output_type": "stream",
     "text": [
      "  8%|█████▊                                                               | 83945/1000000 [1:45:25<19:10:31, 13.27it/s]\n",
      "  0%|                                                                          | 16/1000000 [00:00<1:44:25, 159.61it/s]"
     ]
    },
    {
     "name": "stdout",
     "output_type": "stream",
     "text": [
      "doing spaghetti_extremist_pm0.0_e0.4_g0.0\n"
     ]
    },
    {
     "name": "stderr",
     "output_type": "stream",
     "text": [
      "  0%|                                                                        | 1021/1000000 [00:06<1:49:49, 151.60it/s]\n",
      "  0%|                                                                          | 15/1000000 [00:00<2:01:28, 137.21it/s]"
     ]
    },
    {
     "name": "stdout",
     "output_type": "stream",
     "text": [
      "doing spaghetti_extremist_pm0.0_e0.4_g0.5\n"
     ]
    },
    {
     "name": "stderr",
     "output_type": "stream",
     "text": [
      "  0%|                                                                        | 1036/1000000 [00:07<2:01:56, 136.54it/s]\n",
      "  0%|                                                                          | 15/1000000 [00:00<1:52:23, 148.28it/s]"
     ]
    },
    {
     "name": "stdout",
     "output_type": "stream",
     "text": [
      "doing spaghetti_extremist_pm0.0_e0.4_g1.0\n"
     ]
    },
    {
     "name": "stderr",
     "output_type": "stream",
     "text": [
      "  0%|▏                                                                       | 2433/1000000 [00:15<1:48:16, 153.56it/s]\n",
      "  0%|                                                                          | 15/1000000 [00:00<1:57:12, 142.19it/s]"
     ]
    },
    {
     "name": "stdout",
     "output_type": "stream",
     "text": [
      "doing spaghetti_extremist_pm0.0_e0.4_g1.5\n"
     ]
    },
    {
     "name": "stderr",
     "output_type": "stream",
     "text": [
      "  9%|██████▋                                                                | 94662/1000000 [10:35<1:41:15, 149.03it/s]\n",
      "  0%|                                                                          | 35/1000000 [00:00<1:39:11, 168.02it/s]"
     ]
    },
    {
     "name": "stdout",
     "output_type": "stream",
     "text": [
      "doing spaghetti_extremist_pm0.0_e0.5_g0.0\n"
     ]
    },
    {
     "name": "stderr",
     "output_type": "stream",
     "text": [
      "  0%|                                                                        | 1021/1000000 [00:06<1:44:10, 159.84it/s]\n",
      "  0%|                                                                          | 19/1000000 [00:00<1:31:49, 181.51it/s]"
     ]
    },
    {
     "name": "stdout",
     "output_type": "stream",
     "text": [
      "doing spaghetti_extremist_pm0.0_e0.5_g0.5\n"
     ]
    },
    {
     "name": "stderr",
     "output_type": "stream",
     "text": [
      "  0%|                                                                        | 1037/1000000 [00:06<1:46:41, 156.04it/s]\n",
      "  0%|                                                                          | 20/1000000 [00:00<1:26:12, 193.33it/s]"
     ]
    },
    {
     "name": "stdout",
     "output_type": "stream",
     "text": [
      "doing spaghetti_extremist_pm0.0_e0.5_g1.0\n"
     ]
    },
    {
     "name": "stderr",
     "output_type": "stream",
     "text": [
      "  0%|▏                                                                       | 3029/1000000 [00:18<1:42:55, 161.43it/s]\n",
      "  0%|                                                                          | 17/1000000 [00:00<1:38:54, 168.50it/s]"
     ]
    },
    {
     "name": "stdout",
     "output_type": "stream",
     "text": [
      "doing spaghetti_extremist_pm0.0_e0.5_g1.5\n"
     ]
    },
    {
     "name": "stderr",
     "output_type": "stream",
     "text": [
      " 12%|████████▌                                                             | 122735/1000000 [13:27<1:36:09, 152.06it/s]\n",
      "  0%|                                                                          | 17/1000000 [00:00<1:42:15, 162.98it/s]"
     ]
    },
    {
     "name": "stdout",
     "output_type": "stream",
     "text": [
      "doing spaghetti_extremist_pm0.5_e0.2_g0.0\n"
     ]
    },
    {
     "name": "stderr",
     "output_type": "stream",
     "text": [
      "  0%|                                                                        | 1060/1000000 [00:08<2:10:44, 127.34it/s]\n",
      "  0%|                                                                          | 15/1000000 [00:00<1:57:14, 142.15it/s]"
     ]
    },
    {
     "name": "stdout",
     "output_type": "stream",
     "text": [
      "doing spaghetti_extremist_pm0.5_e0.2_g0.5\n"
     ]
    },
    {
     "name": "stderr",
     "output_type": "stream",
     "text": [
      "  0%|                                                                        | 1049/1000000 [00:08<2:21:26, 117.71it/s]\n",
      "  0%|                                                                          | 16/1000000 [00:00<1:49:57, 151.56it/s]"
     ]
    },
    {
     "name": "stdout",
     "output_type": "stream",
     "text": [
      "doing spaghetti_extremist_pm0.5_e0.2_g1.0\n"
     ]
    },
    {
     "name": "stderr",
     "output_type": "stream",
     "text": [
      "  0%|▏                                                                       | 2247/1000000 [00:17<2:11:55, 126.05it/s]\n",
      "  0%|                                                                          | 15/1000000 [00:00<1:55:26, 144.38it/s]"
     ]
    },
    {
     "name": "stdout",
     "output_type": "stream",
     "text": [
      "doing spaghetti_extremist_pm0.5_e0.2_g1.5\n"
     ]
    },
    {
     "name": "stderr",
     "output_type": "stream",
     "text": [
      "  5%|███▋                                                                   | 51330/1000000 [07:47<2:24:07, 109.71it/s]\n",
      "  0%|                                                                          | 13/1000000 [00:00<2:16:50, 121.79it/s]"
     ]
    },
    {
     "name": "stdout",
     "output_type": "stream",
     "text": [
      "doing spaghetti_extremist_pm0.5_e0.3_g0.0\n"
     ]
    },
    {
     "name": "stderr",
     "output_type": "stream",
     "text": [
      "  0%|                                                                        | 1041/1000000 [00:10<2:42:00, 102.77it/s]\n",
      "  0%|                                                                            | 9/1000000 [00:00<3:12:55, 86.39it/s]"
     ]
    },
    {
     "name": "stdout",
     "output_type": "stream",
     "text": [
      "doing spaghetti_extremist_pm0.5_e0.3_g0.5\n"
     ]
    },
    {
     "name": "stderr",
     "output_type": "stream",
     "text": [
      "  0%|                                                                         | 1036/1000000 [00:10<2:47:28, 99.42it/s]\n",
      "  0%|                                                                          | 13/1000000 [00:00<2:14:43, 123.71it/s]"
     ]
    },
    {
     "name": "stdout",
     "output_type": "stream",
     "text": [
      "doing spaghetti_extremist_pm0.5_e0.3_g1.0\n"
     ]
    },
    {
     "name": "stderr",
     "output_type": "stream",
     "text": [
      "  0%|                                                                        | 1546/1000000 [00:12<2:17:59, 120.60it/s]\n",
      "  0%|                                                                          | 26/1000000 [00:00<2:08:12, 130.00it/s]"
     ]
    },
    {
     "name": "stdout",
     "output_type": "stream",
     "text": [
      "doing spaghetti_extremist_pm0.5_e0.3_g1.5\n"
     ]
    },
    {
     "name": "stderr",
     "output_type": "stream",
     "text": [
      "  3%|█▉                                                                     | 27491/1000000 [04:32<2:40:38, 100.89it/s]\n",
      "  0%|                                                                          | 12/1000000 [00:00<2:20:14, 118.84it/s]"
     ]
    },
    {
     "name": "stdout",
     "output_type": "stream",
     "text": [
      "doing spaghetti_extremist_pm0.5_e0.4_g0.0\n"
     ]
    },
    {
     "name": "stderr",
     "output_type": "stream",
     "text": [
      "  0%|                                                                        | 1052/1000000 [00:10<2:43:37, 101.76it/s]\n",
      "  0%|                                                                          | 11/1000000 [00:00<2:43:54, 101.68it/s]"
     ]
    },
    {
     "name": "stdout",
     "output_type": "stream",
     "text": [
      "doing spaghetti_extremist_pm0.5_e0.4_g0.5\n"
     ]
    },
    {
     "name": "stderr",
     "output_type": "stream",
     "text": [
      "  0%|                                                                         | 1042/1000000 [00:10<2:53:59, 95.69it/s]\n",
      "  0%|                                                                          | 12/1000000 [00:00<2:30:12, 110.96it/s]"
     ]
    },
    {
     "name": "stdout",
     "output_type": "stream",
     "text": [
      "doing spaghetti_extremist_pm0.5_e0.4_g1.0\n"
     ]
    },
    {
     "name": "stderr",
     "output_type": "stream",
     "text": [
      "  0%|                                                                         | 1561/1000000 [00:15<2:48:37, 98.68it/s]\n",
      "  0%|                                                                          | 16/1000000 [00:00<1:46:00, 157.22it/s]"
     ]
    },
    {
     "name": "stdout",
     "output_type": "stream",
     "text": [
      "doing spaghetti_extremist_pm0.5_e0.4_g1.5\n"
     ]
    },
    {
     "name": "stderr",
     "output_type": "stream",
     "text": [
      "  7%|█████                                                                   | 71071/1000000 [12:02<2:37:23, 98.37it/s]\n",
      "  0%|                                                                          | 16/1000000 [00:00<1:46:27, 156.56it/s]"
     ]
    },
    {
     "name": "stdout",
     "output_type": "stream",
     "text": [
      "doing spaghetti_extremist_pm0.5_e0.5_g0.0\n"
     ]
    },
    {
     "name": "stderr",
     "output_type": "stream",
     "text": [
      "  0%|                                                                        | 1044/1000000 [00:09<2:31:44, 109.72it/s]\n",
      "  0%|                                                                          | 12/1000000 [00:00<2:18:54, 119.99it/s]"
     ]
    },
    {
     "name": "stdout",
     "output_type": "stream",
     "text": [
      "doing spaghetti_extremist_pm0.5_e0.5_g0.5\n"
     ]
    },
    {
     "name": "stderr",
     "output_type": "stream",
     "text": [
      "  0%|                                                                        | 1039/1000000 [00:09<2:31:45, 109.71it/s]\n",
      "  0%|                                                                          | 15/1000000 [00:00<1:55:13, 144.64it/s]"
     ]
    },
    {
     "name": "stdout",
     "output_type": "stream",
     "text": [
      "doing spaghetti_extremist_pm0.5_e0.5_g1.0\n"
     ]
    },
    {
     "name": "stderr",
     "output_type": "stream",
     "text": [
      "  0%|▏                                                                       | 1940/1000000 [00:18<2:38:12, 105.15it/s]\n",
      "  0%|                                                                          | 30/1000000 [00:00<2:05:31, 132.77it/s]"
     ]
    },
    {
     "name": "stdout",
     "output_type": "stream",
     "text": [
      "doing spaghetti_extremist_pm0.5_e0.5_g1.5\n"
     ]
    },
    {
     "name": "stderr",
     "output_type": "stream",
     "text": [
      "  1%|▍                                                                       | 5591/1000000 [00:55<2:45:14, 100.30it/s]\n"
     ]
    }
   ],
   "source": [
    "import sys\n",
    "sys.path.append(\"/../Lib/\")\n",
    "sys.path.append(\"/../Lib/netdspatch_local/\")\n",
    "sys.path.append(\"/../Lib/ndlib_local/\")\n",
    "\n",
    "import json\n",
    "import os\n",
    "import networkx as nx\n",
    "import ndlib_local.ndlib.models.ModelConfig as mc\n",
    "import ndlib_local.ndlib.models.opinions as op\n",
    "import warnings\n",
    "warnings.filterwarnings(\"ignore\")\n",
    "\n",
    "\n",
    "n = 100\n",
    "graph = nx.complete_graph(n)\n",
    "max_it = 1000000\n",
    "\n",
    "for mo in [[0.0]]:\n",
    "    for pm in [0.0, 0.5]:\n",
    "        for e in [0.2, 0.3, 0.4, 0.5]:\n",
    "            for g in [0.0, 0.5, 1.0, 1.5]:\n",
    "                print(f\"doing spaghetti_extremist_pm{pm}_e{e}_g{g}\")\n",
    "                model = op.AlgorithmicBiasMediaModel(graph)\n",
    "                config = mc.Configuration()\n",
    "                config.add_model_parameter(\"epsilon\", e)\n",
    "                config.add_model_parameter(\"gamma\", g)\n",
    "                config.add_model_parameter(\"gamma_media\", g)\n",
    "                config.add_model_parameter(\"k\", len(mo))\n",
    "                config.add_model_parameter(\"p\", pm)\n",
    "                model.set_initial_status(config)\n",
    "                model.set_media_opinions(mo)\n",
    "                # # Simulation execution\n",
    "                iterations = model.steady_state(max_iterations=max_it, nsteady=1000, sensibility=0.00001, node_status=True, progress_bar=True, drop_evolution=False)\n",
    "                fig, ax = plt.subplots(figsize=(7, 5), dpi=600)\n",
    "                evolution(iterations, spaghetti_hex_list, fig=fig, ax=ax)\n",
    "                plt.title(r'$\\epsilon$='+f'{e},'+r'$\\gamma$='+f'{g},'+r'$p_m$='+f'{pm}')\n",
    "                plt.savefig(f\"plots/extremist/spaghetti_extremist_pm{pm}_e{e}_g{g}.png\", bbox_inches=\"tight\")\n",
    "                plt.close()"
   ]
  },
  {
   "cell_type": "markdown",
   "metadata": {},
   "source": [
    "### Surface"
   ]
  },
  {
   "cell_type": "code",
   "execution_count": 41,
   "metadata": {},
   "outputs": [],
   "source": [
    "sns.set(font_scale=1.0)\n",
    "sns.set_style(\"whitegrid\")\n",
    "for measure in measures:\n",
    "    for eps in sorted(extremist.eps.unique()):\n",
    "        x = \"gam\"\n",
    "        y = \"p_meda\"\n",
    "        data = extremist[extremist[\"eps\"]==eps]\n",
    "        fig = plt.figure(figsize=(15, 10))\n",
    "        ax = fig.gca(projection='3d')\n",
    "        ax.plot_trisurf(data['gam'], data['p_media'], data[measure], cmap=heatmap_cmap, linewidth=0.0, alpha=0.8)\n",
    "        surf=ax.plot_trisurf(data['gam'], data['p_media'], data[measure], cmap=heatmap_cmap, linewidth=0.0, alpha=0.8)\n",
    "        ax.set_xlabel(r'$\\gamma$', fontsize=40, labelpad=30)\n",
    "        ax.set_ylabel(r'$p_m$', fontsize=50, labelpad=30)\n",
    "        ax.tick_params(axis='x', which='major', labelrotation=45)\n",
    "        ax.tick_params(axis='y', which='major', pad=10)\n",
    "        ax.tick_params(axis='z', which='major', pad=10)  \n",
    "        plt.savefig(f'plots/extremist/{measure}/extremist_{measure}_e{eps}_surface.png', bbox_inches=\"tight\")\n",
    "        plt.close()      "
   ]
  },
  {
   "cell_type": "markdown",
   "metadata": {},
   "source": [
    "# Polarised media landscape"
   ]
  },
  {
   "cell_type": "markdown",
   "metadata": {},
   "source": [
    "### Heatmap"
   ]
  },
  {
   "cell_type": "code",
   "execution_count": 42,
   "metadata": {},
   "outputs": [],
   "source": [
    "sns.set(font_scale=1.0)\n",
    "for eps in sorted(polarised.eps.unique()):\n",
    "    i=0\n",
    "    for measure in measures:\n",
    "        fig, ax = plt.subplots(figsize=(5, 5), dpi=600)\n",
    "        x = \"p_media\"\n",
    "        y = \"gam\"\n",
    "        data = polarised[polarised[\"eps\"]==eps]\n",
    "        df = data.pivot(x, y, measure)\n",
    "        if measure == \"avg_niter\":\n",
    "            a=sns.heatmap(df, cbar=True, cbar_kws = dict(use_gridspec=False,location=\"top\"), fmt=\".0f\", annot=True, ax = ax, cmap=heatmap_cmap, vmin=min(polarised[measure]), vmax=max(polarised[measure]))\n",
    "        else:\n",
    "            a=sns.heatmap(df, cbar=True, cbar_kws = dict(use_gridspec=False,location=\"top\"), fmt=\".2f\", annot=True, ax = ax, cmap=heatmap_cmap, vmin=min(polarised[measure]), vmax=max(polarised[measure]))\n",
    "        ax.set_xlabel(r'$\\gamma$', fontsize=15)\n",
    "        ax.set_ylabel(r'p_m', fontsize=15)\n",
    "        ax.set_title(r\"$\\epsilon$={}\".format(eps), fontsize=20)\n",
    "        plt.savefig(f\"plots/polarised/{measure}/polarised_{measure}_e{eps}_heatmap.png\", bbox_inches=\"tight\")\n",
    "        plt.close()\n",
    "        # relativa colorbar \n",
    "        fig, ax = plt.subplots(figsize=(7, 1), dpi=600)\n",
    "        fig.subplots_adjust(bottom=0.5)\n",
    "        cmap = heatmap_cmap\n",
    "        norm = mpl.colors.Normalize(vmin=min(extremist[measure]), vmax=max(extremist[measure]))\n",
    "        cb = fig.colorbar(mpl.cm.ScalarMappable(norm=norm, cmap=heatmap_cmap),\n",
    "                    cax=ax, orientation='horizontal')\n",
    "        cb.outline.set_visible(False)\n",
    "        plt.savefig(f\"plots/polarised/colorbar_polarised_{measure}_e{eps}_heatmap.png\", bbox_inches=\"tight\")\n",
    "        plt.close()"
   ]
  },
  {
   "cell_type": "markdown",
   "metadata": {},
   "source": [
    "### Surface"
   ]
  },
  {
   "cell_type": "code",
   "execution_count": 43,
   "metadata": {},
   "outputs": [],
   "source": [
    "sns.set(font_scale=1.0)\n",
    "sns.set_style(\"whitegrid\")\n",
    "for measure in measures:\n",
    "    for eps in sorted(polarised.eps.unique()):\n",
    "        x = \"gam\"\n",
    "        y = \"p_meda\"\n",
    "        data = polarised[polarised[\"eps\"]==eps]\n",
    "        fig = plt.figure(figsize=(15, 10))\n",
    "        ax = fig.gca(projection='3d')\n",
    "        ax.plot_trisurf(data['gam'], data['p_media'], data[measure], cmap=heatmap_cmap, linewidth=0.0, alpha=0.8)\n",
    "        surf=ax.plot_trisurf(data['gam'], data['p_media'], data[measure], cmap=heatmap_cmap, linewidth=0.0, alpha=0.8)\n",
    "        ax.set_xlabel(r'$\\gamma$', fontsize=40, labelpad=30)\n",
    "        ax.set_ylabel(r'$p_m$', fontsize=50, labelpad=30)\n",
    "        ax.tick_params(axis='x', which='major', labelrotation=45)\n",
    "        ax.tick_params(axis='y', which='major', pad=10)\n",
    "        ax.tick_params(axis='z', which='major', pad=10)  \n",
    "        plt.savefig(f'plots/polarised/{measure}/polarised_{measure}_e{eps}_surface.png', bbox_inches=\"tight\")\n",
    "        plt.close()      "
   ]
  },
  {
   "cell_type": "markdown",
   "metadata": {},
   "source": [
    "### Spaghetti"
   ]
  },
  {
   "cell_type": "code",
   "execution_count": 47,
   "metadata": {},
   "outputs": [
    {
     "name": "stderr",
     "output_type": "stream",
     "text": [
      "  0%|                                                                            | 60/1000000 [00:00<58:27, 285.06it/s]"
     ]
    },
    {
     "name": "stdout",
     "output_type": "stream",
     "text": [
      "doing spaghetti_polarised_pm0.0_e0.2_g0.0\n"
     ]
    },
    {
     "name": "stderr",
     "output_type": "stream",
     "text": [
      "  0%|                                                                        | 1122/1000000 [00:04<1:01:24, 271.12it/s]\n",
      "  0%|                                                                          | 54/1000000 [00:00<1:05:28, 254.51it/s]"
     ]
    },
    {
     "name": "stdout",
     "output_type": "stream",
     "text": [
      "doing spaghetti_polarised_pm0.0_e0.2_g0.5\n"
     ]
    },
    {
     "name": "stderr",
     "output_type": "stream",
     "text": [
      "  0%|                                                                        | 1051/1000000 [00:04<1:08:02, 244.70it/s]\n",
      "  0%|                                                                          | 54/1000000 [00:00<1:02:08, 268.19it/s]"
     ]
    },
    {
     "name": "stdout",
     "output_type": "stream",
     "text": [
      "doing spaghetti_polarised_pm0.0_e0.2_g1.0\n"
     ]
    },
    {
     "name": "stderr",
     "output_type": "stream",
     "text": [
      "  0%|                                                                        | 1549/1000000 [00:05<1:02:31, 266.14it/s]\n",
      "  0%|                                                                          | 27/1000000 [00:00<1:02:10, 268.04it/s]"
     ]
    },
    {
     "name": "stdout",
     "output_type": "stream",
     "text": [
      "doing spaghetti_polarised_pm0.0_e0.2_g1.5\n"
     ]
    },
    {
     "name": "stderr",
     "output_type": "stream",
     "text": [
      "  8%|█████▍                                                                 | 76755/1000000 [05:25<1:05:15, 235.79it/s]\n",
      "  0%|                                                                            | 29/1000000 [00:00<57:53, 287.90it/s]"
     ]
    },
    {
     "name": "stdout",
     "output_type": "stream",
     "text": [
      "doing spaghetti_polarised_pm0.0_e0.3_g0.0\n"
     ]
    },
    {
     "name": "stderr",
     "output_type": "stream",
     "text": [
      "  0%|                                                                        | 1149/1000000 [00:05<1:24:16, 197.54it/s]\n",
      "  0%|                                                                          | 54/1000000 [00:00<1:05:04, 256.07it/s]"
     ]
    },
    {
     "name": "stdout",
     "output_type": "stream",
     "text": [
      "doing spaghetti_polarised_pm0.0_e0.3_g0.5\n"
     ]
    },
    {
     "name": "stderr",
     "output_type": "stream",
     "text": [
      "  0%|                                                                        | 1035/1000000 [00:04<1:10:05, 237.53it/s]\n",
      "  0%|                                                                            | 30/1000000 [00:00<57:37, 289.23it/s]"
     ]
    },
    {
     "name": "stdout",
     "output_type": "stream",
     "text": [
      "doing spaghetti_polarised_pm0.0_e0.3_g1.0\n"
     ]
    },
    {
     "name": "stderr",
     "output_type": "stream",
     "text": [
      "  0%|▏                                                                       | 1853/1000000 [00:07<1:03:15, 262.97it/s]\n",
      "  0%|                                                                          | 54/1000000 [00:00<1:05:19, 255.10it/s]"
     ]
    },
    {
     "name": "stdout",
     "output_type": "stream",
     "text": [
      "doing spaghetti_polarised_pm0.0_e0.3_g1.5\n"
     ]
    },
    {
     "name": "stderr",
     "output_type": "stream",
     "text": [
      "  8%|█████▉                                                                 | 83168/1000000 [05:52<1:04:41, 236.18it/s]\n",
      "  0%|                                                                            | 60/1000000 [00:00<59:01, 282.36it/s]"
     ]
    },
    {
     "name": "stdout",
     "output_type": "stream",
     "text": [
      "doing spaghetti_polarised_pm0.0_e0.4_g0.0\n"
     ]
    },
    {
     "name": "stderr",
     "output_type": "stream",
     "text": [
      "  0%|                                                                        | 1021/1000000 [00:03<1:03:53, 260.62it/s]\n",
      "  0%|                                                                          | 27/1000000 [00:00<1:04:01, 260.32it/s]"
     ]
    },
    {
     "name": "stdout",
     "output_type": "stream",
     "text": [
      "doing spaghetti_polarised_pm0.0_e0.4_g0.5\n"
     ]
    },
    {
     "name": "stderr",
     "output_type": "stream",
     "text": [
      "  0%|                                                                        | 1037/1000000 [00:04<1:11:11, 233.85it/s]\n",
      "  0%|                                                                          | 26/1000000 [00:00<1:05:52, 253.02it/s]"
     ]
    },
    {
     "name": "stdout",
     "output_type": "stream",
     "text": [
      "doing spaghetti_polarised_pm0.0_e0.4_g1.0\n"
     ]
    },
    {
     "name": "stderr",
     "output_type": "stream",
     "text": [
      "  0%|                                                                        | 1518/1000000 [00:05<1:05:01, 255.92it/s]\n",
      "  0%|                                                                          | 27/1000000 [00:00<1:03:25, 262.75it/s]"
     ]
    },
    {
     "name": "stdout",
     "output_type": "stream",
     "text": [
      "doing spaghetti_polarised_pm0.0_e0.4_g1.5\n"
     ]
    },
    {
     "name": "stderr",
     "output_type": "stream",
     "text": [
      " 14%|██████████                                                            | 143093/1000000 [10:16<1:01:31, 232.14it/s]\n",
      "  0%|                                                                            | 60/1000000 [00:00<58:01, 287.21it/s]"
     ]
    },
    {
     "name": "stdout",
     "output_type": "stream",
     "text": [
      "doing spaghetti_polarised_pm0.0_e0.5_g0.0\n"
     ]
    },
    {
     "name": "stderr",
     "output_type": "stream",
     "text": [
      "  0%|                                                                        | 1019/1000000 [00:03<1:03:10, 263.55it/s]\n",
      "  0%|                                                                          | 28/1000000 [00:00<1:01:44, 269.95it/s]"
     ]
    },
    {
     "name": "stdout",
     "output_type": "stream",
     "text": [
      "doing spaghetti_polarised_pm0.0_e0.5_g0.5\n"
     ]
    },
    {
     "name": "stderr",
     "output_type": "stream",
     "text": [
      "  0%|                                                                        | 1033/1000000 [00:04<1:08:01, 244.73it/s]\n",
      "  0%|                                                                          | 58/1000000 [00:00<1:01:28, 271.09it/s]"
     ]
    },
    {
     "name": "stdout",
     "output_type": "stream",
     "text": [
      "doing spaghetti_polarised_pm0.0_e0.5_g1.0\n"
     ]
    },
    {
     "name": "stderr",
     "output_type": "stream",
     "text": [
      "  0%|                                                                        | 1472/1000000 [00:05<1:05:31, 253.96it/s]\n",
      "  0%|                                                                          | 28/1000000 [00:00<1:01:09, 272.48it/s]"
     ]
    },
    {
     "name": "stdout",
     "output_type": "stream",
     "text": [
      "doing spaghetti_polarised_pm0.0_e0.5_g1.5\n"
     ]
    },
    {
     "name": "stderr",
     "output_type": "stream",
     "text": [
      " 15%|██████████▉                                                             | 152219/1000000 [10:45<59:57, 235.64it/s]\n",
      "  0%|                                                                          | 22/1000000 [00:00<1:18:52, 211.28it/s]"
     ]
    },
    {
     "name": "stdout",
     "output_type": "stream",
     "text": [
      "doing spaghetti_polarised_pm0.5_e0.2_g0.0\n"
     ]
    },
    {
     "name": "stderr",
     "output_type": "stream",
     "text": [
      "  0%|                                                                        | 1075/1000000 [00:05<1:23:51, 198.53it/s]\n",
      "  0%|                                                                          | 20/1000000 [00:00<1:25:14, 195.50it/s]"
     ]
    },
    {
     "name": "stdout",
     "output_type": "stream",
     "text": [
      "doing spaghetti_polarised_pm0.5_e0.2_g0.5\n"
     ]
    },
    {
     "name": "stderr",
     "output_type": "stream",
     "text": [
      "  0%|                                                                        | 1047/1000000 [00:05<1:33:39, 177.76it/s]\n",
      "  0%|                                                                          | 23/1000000 [00:00<1:13:42, 226.09it/s]"
     ]
    },
    {
     "name": "stdout",
     "output_type": "stream",
     "text": [
      "doing spaghetti_polarised_pm0.5_e0.2_g1.0\n"
     ]
    },
    {
     "name": "stderr",
     "output_type": "stream",
     "text": [
      "  0%|▏                                                                       | 1778/1000000 [00:09<1:25:29, 194.59it/s]\n",
      "  0%|                                                                          | 38/1000000 [00:00<1:27:26, 190.61it/s]"
     ]
    },
    {
     "name": "stdout",
     "output_type": "stream",
     "text": [
      "doing spaghetti_polarised_pm0.5_e0.2_g1.5\n"
     ]
    },
    {
     "name": "stderr",
     "output_type": "stream",
     "text": [
      "  1%|█                                                                      | 14552/1000000 [01:21<1:31:29, 179.51it/s]\n",
      "  0%|                                                                          | 22/1000000 [00:00<1:17:49, 214.17it/s]"
     ]
    },
    {
     "name": "stdout",
     "output_type": "stream",
     "text": [
      "doing spaghetti_polarised_pm0.5_e0.3_g0.0\n"
     ]
    },
    {
     "name": "stderr",
     "output_type": "stream",
     "text": [
      "  0%|                                                                        | 1080/1000000 [00:05<1:26:33, 192.35it/s]\n",
      "  0%|                                                                          | 21/1000000 [00:00<1:20:44, 206.43it/s]"
     ]
    },
    {
     "name": "stdout",
     "output_type": "stream",
     "text": [
      "doing spaghetti_polarised_pm0.5_e0.3_g0.5\n"
     ]
    },
    {
     "name": "stderr",
     "output_type": "stream",
     "text": [
      "  0%|                                                                        | 1052/1000000 [00:06<1:47:12, 155.30it/s]\n",
      "  0%|                                                                          | 20/1000000 [00:00<1:25:34, 194.76it/s]"
     ]
    },
    {
     "name": "stdout",
     "output_type": "stream",
     "text": [
      "doing spaghetti_polarised_pm0.5_e0.3_g1.0\n"
     ]
    },
    {
     "name": "stderr",
     "output_type": "stream",
     "text": [
      "  0%|                                                                        | 1311/1000000 [00:07<1:29:17, 186.42it/s]\n",
      "  0%|                                                                          | 18/1000000 [00:00<1:38:06, 169.88it/s]"
     ]
    },
    {
     "name": "stdout",
     "output_type": "stream",
     "text": [
      "doing spaghetti_polarised_pm0.5_e0.3_g1.5\n"
     ]
    },
    {
     "name": "stderr",
     "output_type": "stream",
     "text": [
      "  0%|▏                                                                       | 3138/1000000 [00:18<1:37:32, 170.34it/s]\n",
      "  0%|                                                                          | 38/1000000 [00:00<1:28:33, 188.18it/s]"
     ]
    },
    {
     "name": "stdout",
     "output_type": "stream",
     "text": [
      "doing spaghetti_polarised_pm0.5_e0.4_g0.0\n"
     ]
    },
    {
     "name": "stderr",
     "output_type": "stream",
     "text": [
      "  0%|                                                                        | 1094/1000000 [00:05<1:29:10, 186.70it/s]\n",
      "  0%|                                                                          | 40/1000000 [00:00<1:31:39, 181.83it/s]"
     ]
    },
    {
     "name": "stdout",
     "output_type": "stream",
     "text": [
      "doing spaghetti_polarised_pm0.5_e0.4_g0.5\n"
     ]
    },
    {
     "name": "stderr",
     "output_type": "stream",
     "text": [
      "  0%|                                                                        | 1045/1000000 [00:06<1:43:22, 161.05it/s]\n",
      "  0%|                                                                          | 19/1000000 [00:00<1:31:12, 182.73it/s]"
     ]
    },
    {
     "name": "stdout",
     "output_type": "stream",
     "text": [
      "doing spaghetti_polarised_pm0.5_e0.4_g1.0\n"
     ]
    },
    {
     "name": "stderr",
     "output_type": "stream",
     "text": [
      "  0%|                                                                        | 1156/1000000 [00:06<1:36:55, 171.75it/s]\n",
      "  0%|                                                                          | 18/1000000 [00:00<1:33:16, 178.70it/s]"
     ]
    },
    {
     "name": "stdout",
     "output_type": "stream",
     "text": [
      "doing spaghetti_polarised_pm0.5_e0.4_g1.5\n"
     ]
    },
    {
     "name": "stderr",
     "output_type": "stream",
     "text": [
      "  0%|                                                                        | 1569/1000000 [00:10<1:46:34, 156.13it/s]\n",
      "  0%|                                                                          | 17/1000000 [00:00<1:38:45, 168.77it/s]"
     ]
    },
    {
     "name": "stdout",
     "output_type": "stream",
     "text": [
      "doing spaghetti_polarised_pm0.5_e0.5_g0.0\n"
     ]
    },
    {
     "name": "stderr",
     "output_type": "stream",
     "text": [
      "  0%|                                                                        | 1089/1000000 [00:06<1:37:40, 170.46it/s]\n",
      "  0%|                                                                          | 16/1000000 [00:00<1:44:50, 158.96it/s]"
     ]
    },
    {
     "name": "stdout",
     "output_type": "stream",
     "text": [
      "doing spaghetti_polarised_pm0.5_e0.5_g0.5\n"
     ]
    },
    {
     "name": "stderr",
     "output_type": "stream",
     "text": [
      "  0%|                                                                        | 1046/1000000 [00:06<1:39:26, 167.44it/s]\n",
      "  0%|                                                                          | 20/1000000 [00:00<1:24:46, 196.60it/s]"
     ]
    },
    {
     "name": "stdout",
     "output_type": "stream",
     "text": [
      "doing spaghetti_polarised_pm0.5_e0.5_g1.0\n"
     ]
    },
    {
     "name": "stderr",
     "output_type": "stream",
     "text": [
      "  0%|                                                                        | 1042/1000000 [00:05<1:30:19, 184.33it/s]\n",
      "  0%|                                                                          | 38/1000000 [00:00<1:36:30, 172.68it/s]"
     ]
    },
    {
     "name": "stdout",
     "output_type": "stream",
     "text": [
      "doing spaghetti_polarised_pm0.5_e0.5_g1.5\n"
     ]
    },
    {
     "name": "stderr",
     "output_type": "stream",
     "text": [
      "  0%|                                                                        | 1040/1000000 [00:06<1:39:10, 167.86it/s]\n"
     ]
    }
   ],
   "source": [
    "import sys\n",
    "sys.path.append(\"/../Lib/\")\n",
    "sys.path.append(\"/../Lib/netdspatch_local/\")\n",
    "sys.path.append(\"/../Lib/ndlib_local/\")\n",
    "\n",
    "import json\n",
    "import os\n",
    "import networkx as nx\n",
    "import ndlib_local.ndlib.models.ModelConfig as mc\n",
    "import ndlib_local.ndlib.models.opinions as op\n",
    "import warnings\n",
    "warnings.filterwarnings(\"ignore\")\n",
    "\n",
    "\n",
    "n = 100\n",
    "graph = nx.complete_graph(n)\n",
    "max_it = 1000000\n",
    "\n",
    "for mo in [[0.05, 0.95]]:\n",
    "    for pm in [0.0, 0.5]:\n",
    "        for e in [0.2, 0.3, 0.4, 0.5]:\n",
    "            for g in [0.0, 0.5, 1.0, 1.5]:\n",
    "                print(f\"doing spaghetti_polarised_pm{pm}_e{e}_g{g}\")\n",
    "                model = op.AlgorithmicBiasMediaModel(graph)\n",
    "                config = mc.Configuration()\n",
    "                config.add_model_parameter(\"epsilon\", e)\n",
    "                config.add_model_parameter(\"gamma\", g)\n",
    "                config.add_model_parameter(\"gamma_media\", g)\n",
    "                config.add_model_parameter(\"k\", len(mo))\n",
    "                config.add_model_parameter(\"p\", pm)\n",
    "                model.set_initial_status(config)\n",
    "                model.set_media_opinions(mo)\n",
    "                # # Simulation execution\n",
    "                iterations = model.steady_state(max_iterations=max_it, nsteady=1000, sensibility=0.00001, node_status=True, progress_bar=True, drop_evolution=False)\n",
    "                fig, ax = plt.subplots(figsize=(7, 5), dpi=600)\n",
    "                evolution(iterations, spaghetti_hex_list, fig=fig, ax=ax)\n",
    "                plt.title(r'$\\epsilon$='+f'{e},'+r'$\\gamma$='+f'{g},'+r'$p_m$='+f'{pm}')\n",
    "                plt.savefig(f\"plots/polarised/spaghetti_polarised_pm{pm}_e{e}_g{g}.png\", bbox_inches=\"tight\")\n",
    "                plt.close()"
   ]
  },
  {
   "cell_type": "markdown",
   "metadata": {},
   "source": [
    "# Balanced media landscape"
   ]
  },
  {
   "cell_type": "code",
   "execution_count": 44,
   "metadata": {},
   "outputs": [],
   "source": [
    "sns.set(font_scale=1.0)\n",
    "for eps in sorted(balanced.eps.unique()):\n",
    "    i=0\n",
    "    for measure in measures:\n",
    "        fig, ax = plt.subplots(figsize=(5, 5), dpi=600)\n",
    "        x = \"p_media\"\n",
    "        y = \"gam\"\n",
    "        data = balanced[balanced[\"eps\"]==eps]\n",
    "        df = data.pivot(x, y, measure)\n",
    "        if measure == \"avg_niter\":\n",
    "            a=sns.heatmap(df, cbar=True, cbar_kws = dict(use_gridspec=False,location=\"top\"), fmt=\".0f\", annot=True, ax = ax, cmap=heatmap_cmap, vmin=min(balanced[measure]), vmax=max(balanced[measure]))\n",
    "        else:\n",
    "            a=sns.heatmap(df, cbar=True, cbar_kws = dict(use_gridspec=False,location=\"top\"), fmt=\".2f\", annot=True, ax = ax, cmap=heatmap_cmap, vmin=min(balanced[measure]), vmax=max(balanced[measure]))\n",
    "        ax.set_xlabel(r'$\\gamma$', fontsize=15)\n",
    "        ax.set_ylabel(r'p_m', fontsize=15)\n",
    "        ax.set_title(r\"$\\epsilon$={}\".format(eps), fontsize=20)\n",
    "        plt.savefig(f\"plots/balanced/{measure}/balanced_{measure}_e{eps}_heatmap.png\", bbox_inches=\"tight\")\n",
    "        plt.close()\n",
    "        # relativa colorbar \n",
    "        fig, ax = plt.subplots(figsize=(7, 1), dpi=600)\n",
    "        fig.subplots_adjust(bottom=0.5)\n",
    "\n",
    "        cmap = heatmap_cmap\n",
    "        norm = mpl.colors.Normalize(vmin=min(extremist[measure]), vmax=max(extremist[measure]))\n",
    "        cb = fig.colorbar(mpl.cm.ScalarMappable(norm=norm, cmap=heatmap_cmap),\n",
    "                    cax=ax, orientation='horizontal')\n",
    "        cb.outline.set_visible(False)\n",
    "        plt.savefig(f\"plots/balanced/colorbar_balanced_{measure}_e{eps}_heatmap.png\", bbox_inches=\"tight\")\n",
    "        plt.close()"
   ]
  },
  {
   "cell_type": "code",
   "execution_count": 45,
   "metadata": {},
   "outputs": [],
   "source": [
    "sns.set(font_scale=1.0)\n",
    "sns.set_style(\"whitegrid\")\n",
    "for measure in measures:\n",
    "    for eps in sorted(balanced.eps.unique()):\n",
    "        x = \"gam\"\n",
    "        y = \"p_meda\"\n",
    "        data = balanced[balanced[\"eps\"]==eps]\n",
    "        fig = plt.figure(figsize=(15, 10))\n",
    "        ax = fig.gca(projection='3d')\n",
    "        ax.plot_trisurf(data['gam'], data['p_media'], data[measure], cmap=heatmap_cmap, linewidth=0.0, alpha=0.8)\n",
    "        surf=ax.plot_trisurf(data['gam'], data['p_media'], data[measure], cmap=heatmap_cmap, linewidth=0.0, alpha=0.8)\n",
    "        ax.set_xlabel(r'$\\gamma$', fontsize=40, labelpad=30)\n",
    "        ax.set_ylabel(r'$p_m$', fontsize=50, labelpad=30)\n",
    "        ax.tick_params(axis='x', which='major', labelrotation=45)\n",
    "        ax.tick_params(axis='y', which='major', pad=10)\n",
    "        ax.tick_params(axis='z', which='major', pad=10)  \n",
    "        plt.savefig(f'plots/balanced/{measure}/balanced_{measure}_e{eps}_surface.png', bbox_inches=\"tight\")\n",
    "        plt.close()      "
   ]
  },
  {
   "cell_type": "code",
   "execution_count": null,
   "metadata": {},
   "outputs": [],
   "source": [
    "import sys\n",
    "sys.path.append(\"/../Lib/\")\n",
    "sys.path.append(\"/../Lib/netdspatch_local/\")\n",
    "sys.path.append(\"/../Lib/ndlib_local/\")\n",
    "\n",
    "import json\n",
    "import os\n",
    "import networkx as nx\n",
    "import ndlib_local.ndlib.models.ModelConfig as mc\n",
    "import ndlib_local.ndlib.models.opinions as op\n",
    "import warnings\n",
    "warnings.filterwarnings(\"ignore\")\n",
    "\n",
    "\n",
    "n = 100\n",
    "graph = nx.complete_graph(n)\n",
    "max_it = 1000000\n",
    "\n",
    "for mo in [[0.05, 0.5, 0.95]]:\n",
    "    for pm in [0.0, 0.5]:\n",
    "        for e in [0.2, 0.3, 0.4, 0.5]:\n",
    "            for g in [0.0, 0.5, 1.0, 1.5]:\n",
    "                print(f\"doing spaghetti_balanced_pm{pm}_e{e}_g{g}\")\n",
    "                model = op.AlgorithmicBiasMediaModel(graph)\n",
    "                config = mc.Configuration()\n",
    "                config.add_model_parameter(\"epsilon\", e)\n",
    "                config.add_model_parameter(\"gamma\", g)\n",
    "                config.add_model_parameter(\"gamma_media\", g)\n",
    "                config.add_model_parameter(\"k\", len(mo))\n",
    "                config.add_model_parameter(\"p\", pm)\n",
    "                model.set_initial_status(config)\n",
    "                model.set_media_opinions(mo)\n",
    "                # # Simulation execution\n",
    "                iterations = model.steady_state(max_iterations=max_it, nsteady=1000, sensibility=0.00001, node_status=True, progress_bar=True, drop_evolution=False)\n",
    "                fig, ax = plt.subplots(figsize=(7, 5), dpi=600)\n",
    "                evolution(iterations, spaghetti_hex_list, fig=fig, ax=ax)\n",
    "                plt.title(r'$\\epsilon$='+f'{e},'+r'$\\gamma$='+f'{g},'+r'$p_m$='+f'{pm}')\n",
    "                plt.savefig(f\"plots/balanced/spaghetti_balanced_pm{pm}_e{e}_g{g}.png\", bbox_inches=\"tight\")\n",
    "                plt.close()"
   ]
  },
  {
   "cell_type": "code",
   "execution_count": null,
   "metadata": {},
   "outputs": [],
   "source": []
  },
  {
   "cell_type": "code",
   "execution_count": null,
   "metadata": {},
   "outputs": [],
   "source": []
  },
  {
   "cell_type": "code",
   "execution_count": null,
   "metadata": {},
   "outputs": [],
   "source": []
  },
  {
   "cell_type": "code",
   "execution_count": null,
   "metadata": {},
   "outputs": [],
   "source": []
  },
  {
   "cell_type": "code",
   "execution_count": null,
   "metadata": {},
   "outputs": [],
   "source": []
  },
  {
   "cell_type": "code",
   "execution_count": null,
   "metadata": {},
   "outputs": [],
   "source": []
  },
  {
   "cell_type": "code",
   "execution_count": null,
   "metadata": {},
   "outputs": [],
   "source": []
  },
  {
   "cell_type": "code",
   "execution_count": null,
   "metadata": {},
   "outputs": [],
   "source": []
  },
  {
   "cell_type": "code",
   "execution_count": null,
   "metadata": {},
   "outputs": [],
   "source": []
  },
  {
   "cell_type": "code",
   "execution_count": null,
   "metadata": {},
   "outputs": [],
   "source": []
  },
  {
   "cell_type": "code",
   "execution_count": null,
   "metadata": {},
   "outputs": [],
   "source": []
  },
  {
   "cell_type": "code",
   "execution_count": null,
   "metadata": {},
   "outputs": [],
   "source": []
  },
  {
   "cell_type": "code",
   "execution_count": null,
   "metadata": {},
   "outputs": [],
   "source": []
  },
  {
   "cell_type": "code",
   "execution_count": null,
   "metadata": {},
   "outputs": [],
   "source": []
  },
  {
   "cell_type": "code",
   "execution_count": null,
   "metadata": {},
   "outputs": [],
   "source": []
  },
  {
   "cell_type": "code",
   "execution_count": null,
   "metadata": {},
   "outputs": [],
   "source": []
  },
  {
   "cell_type": "code",
   "execution_count": null,
   "metadata": {},
   "outputs": [],
   "source": []
  },
  {
   "cell_type": "code",
   "execution_count": null,
   "metadata": {},
   "outputs": [],
   "source": [
    "import sys\n",
    "sys.path.append(\"/../Lib/\")\n",
    "import sys\n",
    "sys.path.append(\"/../Lib/\")\n",
    "sys.path.append(\"/../Lib/netdspatch_local/\")\n",
    "sys.path.append(\"/../Lib/ndlib_local/\")\n",
    "\n",
    "import json\n",
    "import os\n",
    "import networkx as nx\n",
    "import ndlib_local.ndlib.models.ModelConfig as mc\n",
    "import ndlib_local.ndlib.models.opinions as op\n",
    "import warnings\n",
    "warnings.filterwarnings(\"ignore\")\n",
    "\n",
    "n = 100\n",
    "graph = nx.complete_graph(n)\n",
    "max_it = 1000000\n",
    "for mo in [[0.0], [0.5], [0.05, 0.95], [0.05, 0.5, 0.95]]:\n",
    "    for pm in [0.1, 0.2, 0.3, 0.4]:\n",
    "        for e in [0.2, 0.3, 0.4, 0.5]:\n",
    "            for g in [0.0]:\n",
    "                print(f\"doing {name}\")\n",
    "                model = op.AlgorithmicBiasMediaModel(graph)\n",
    "                config = mc.Configuration()\n",
    "                config.add_model_parameter(\"epsilon\", e)\n",
    "                config.add_model_parameter(\"gamma\", g)\n",
    "                config.add_model_parameter(\"gamma_media\", g)\n",
    "                config.add_model_parameter(\"k\", len(mo))\n",
    "                config.add_model_parameter(\"p\", pm)\n",
    "                model.set_initial_status(config)\n",
    "                model.set_media_opinions(mo)\n",
    "                # # Simulation execution\n",
    "                iterations = model.steady_state(max_iterations=max_it, nsteady=1000, sensibility=0.00001, node_status=True, progress_bar=True, drop_evolution=False)\n",
    "                fig, ax = plt.subplots(figsize=(7, 5), dpi=600)\n",
    "                evolution(iterations, spaghetti_hex_list, fig=fig, ax=ax)\n",
    "                plt.title(r'$\\epsilon$='+f'{e},'+r'$\\gamma$='+f'{g},'+r'$p_m$='+f'{pm}')\n",
    "                plt.savefig(f\"plots/deffuant/spaghetti_mo{mo}_pm{pm}_e{e}_g{g}.png\", bbox_inches=\"tight\")\n",
    "                plt.close()"
   ]
  },
  {
   "cell_type": "code",
   "execution_count": null,
   "metadata": {},
   "outputs": [],
   "source": []
  },
  {
   "cell_type": "code",
   "execution_count": null,
   "metadata": {},
   "outputs": [],
   "source": []
  },
  {
   "cell_type": "code",
   "execution_count": null,
   "metadata": {},
   "outputs": [],
   "source": []
  },
  {
   "cell_type": "code",
   "execution_count": null,
   "metadata": {},
   "outputs": [],
   "source": []
  },
  {
   "cell_type": "code",
   "execution_count": null,
   "metadata": {},
   "outputs": [],
   "source": []
  },
  {
   "cell_type": "code",
   "execution_count": null,
   "metadata": {},
   "outputs": [],
   "source": []
  },
  {
   "cell_type": "code",
   "execution_count": null,
   "metadata": {},
   "outputs": [],
   "source": []
  },
  {
   "cell_type": "code",
   "execution_count": null,
   "metadata": {},
   "outputs": [],
   "source": []
  },
  {
   "cell_type": "code",
   "execution_count": null,
   "metadata": {},
   "outputs": [],
   "source": []
  }
 ],
 "metadata": {
  "@webio": {
   "lastCommId": null,
   "lastKernelId": null
  },
  "kernelspec": {
   "display_name": "Python 3.7.3 ('base')",
   "language": "python",
   "name": "python3"
  },
  "language_info": {
   "codemirror_mode": {
    "name": "ipython",
    "version": 3
   },
   "file_extension": ".py",
   "mimetype": "text/x-python",
   "name": "python",
   "nbconvert_exporter": "python",
   "pygments_lexer": "ipython3",
   "version": "3.7.3"
  },
  "vscode": {
   "interpreter": {
    "hash": "ad2bdc8ecc057115af97d19610ffacc2b4e99fae6737bb82f5d7fb13d2f2c186"
   }
  }
 },
 "nbformat": 4,
 "nbformat_minor": 2
}
