{
 "cells": [
  {
   "cell_type": "code",
   "execution_count": 1,
   "metadata": {},
   "outputs": [],
   "source": [
    "include(\"utils.jl\")\n",
    "\n",
    "using LightGraphs\n",
    "using StatsBase\n",
    "using ProgressBars"
   ]
  },
  {
   "cell_type": "code",
   "execution_count": 2,
   "metadata": {},
   "outputs": [
    {
     "data": {
      "text/plain": [
       "\"0.05;0.5;0.95\""
      ]
     },
     "execution_count": 2,
     "metadata": {},
     "output_type": "execute_result"
    }
   ],
   "source": [
    "include(\"execution.jl\")\n",
    "include(\"deffuant.jl\")\n",
    "include(\"bias.jl\")\n",
    "include(\"media.jl\")\n",
    "include(\"analysis.jl\")\n",
    "\n",
    "using CSV\n",
    "using DataFrames\n",
    "using JSON\n",
    "using LightGraphs\n",
    "\n",
    "# Graph initialization\n",
    "n = 10\n",
    "p = 1.0\n",
    "g = erdos_renyi(n, p)\n",
    "\n",
    "# simulation global parameters\n",
    "max_t = 100\n",
    "nsteady = 10\n",
    "\n",
    "media_op = [0.05, 0.5, 0.95]\n",
    "mos = join([string(el) for el in media_op], \";\", \";\")"
   ]
  },
  {
   "cell_type": "code",
   "execution_count": null,
   "metadata": {},
   "outputs": [],
   "source": []
  },
  {
   "cell_type": "code",
   "execution_count": null,
   "metadata": {},
   "outputs": [],
   "source": []
  },
  {
   "cell_type": "code",
   "execution_count": 3,
   "metadata": {},
   "outputs": [
    {
     "data": {
      "text/plain": [
       "10-element Vector{Float16}:\n",
       " 0.6694\n",
       " 0.762\n",
       " 0.817\n",
       " 0.6157\n",
       " 0.2378\n",
       " 0.2722\n",
       " 0.0387\n",
       " 0.6426\n",
       " 0.1984\n",
       " 0.9316"
      ]
     },
     "execution_count": 3,
     "metadata": {},
     "output_type": "execute_result"
    }
   ],
   "source": [
    "res = []\n",
    "# shared opinion arrays\n",
    "old_opinions = Array{Float16}(undef, nv(g))\n",
    "new_opinions = Array{Float16}(undef, nv(g))\n",
    "for u in vertices(g)\n",
    "    op = rand()\n",
    "    old_opinions[u] = Float16(op)\n",
    "    new_opinions[u] = Float16(op)\n",
    "end\n",
    "\n",
    "media_op = [Float16(o) for o in media_op]\n",
    "\n",
    "st = 0\n",
    "new_opinions = copy(old_opinions)"
   ]
  },
  {
   "cell_type": "code",
   "execution_count": 6,
   "metadata": {},
   "outputs": [
    {
     "data": {
      "text/plain": [
       "Float16(0.6694)"
      ]
     },
     "execution_count": 6,
     "metadata": {},
     "output_type": "execute_result"
    }
   ],
   "source": [
    "u = 1\n",
    "uₒ = Float16(old_opinions[u])"
   ]
  },
  {
   "cell_type": "code",
   "execution_count": 7,
   "metadata": {},
   "outputs": [
    {
     "data": {
      "text/plain": [
       "0.11053674260244173"
      ]
     },
     "execution_count": 7,
     "metadata": {},
     "output_type": "execute_result"
    }
   ],
   "source": [
    "media_access = rand()"
   ]
  },
  {
   "cell_type": "code",
   "execution_count": 8,
   "metadata": {},
   "outputs": [
    {
     "data": {
      "text/plain": [
       "Float16(0.6694)"
      ]
     },
     "execution_count": 8,
     "metadata": {},
     "output_type": "execute_result"
    }
   ],
   "source": [
    "o = uₒ"
   ]
  },
  {
   "cell_type": "code",
   "execution_count": null,
   "metadata": {},
   "outputs": [],
   "source": [
    "#media = [0.05, 0.5, 0.95]"
   ]
  },
  {
   "cell_type": "code",
   "execution_count": 13,
   "metadata": {},
   "outputs": [
    {
     "name": "stdout",
     "output_type": "stream",
     "text": [
      "media within bound: Bool[0, 1, 0]\n",
      "candidate Float16[0.5]\n",
      "selection probability acc to bias [1.0]\n",
      "selected media 0.5\n",
      "new opinion 0.585\n"
     ]
    }
   ],
   "source": [
    "if media_access < 0.2\n",
    "    # biased access to media\n",
    "    media_within_bound = [abs(uₒ - x) <= 0.2 for x in media_op]\n",
    "    println(\"media within bound: $media_within_bound\")\n",
    "    candidate_media = media_op[media_within_bound]\n",
    "    println(\"candidate $candidate_media\")\n",
    "    # target media selection\n",
    "    if size(candidate_media)[1] > 0\n",
    "        mediaₚϵ = [abs(uₒ - x)^2.0 for x in candidate_media]\n",
    "        mediaₚϵ /= sum(mediaₚϵ)\n",
    "        println(\"selection probability acc to bias $mediaₚϵ\")\n",
    "        selected = sample(candidate_media, Weights(mediaₚϵ))\n",
    "        println(\"selected media $selected\")\n",
    "        o = (selected + uₒ) / 2\n",
    "        println(\"new opinion $o\")\n",
    "    end\n",
    "end"
   ]
  },
  {
   "cell_type": "code",
   "execution_count": 14,
   "metadata": {},
   "outputs": [
    {
     "name": "stdout",
     "output_type": "stream",
     "text": [
      "neighbors opinions Float16[0.762, 0.817, 0.6157, 0.2378, 0.2722, 0.0387, 0.6426, 0.1984, 0.9316]\n"
     ]
    }
   ],
   "source": [
    "# computing neighbors\n",
    "Γ = neighbors(g, u)\n",
    "# obtaining neighbors' opinions\n",
    "Γₚ = [old_opinions[x] for x in Γ]\n",
    "println(\"neighbors opinions $Γₚ\")\n"
   ]
  },
  {
   "cell_type": "code",
   "execution_count": 16,
   "metadata": {},
   "outputs": [
    {
     "name": "stdout",
     "output_type": "stream",
     "text": [
      "neighbors within bound Bool[1, 0, 1, 0, 0, 0, 1, 0, 0]\n"
     ]
    }
   ],
   "source": [
    "# confidence bound filtering - by ϵ\n",
    "# within_bound = [abs(uₒ - x) <= ϵ for x in Γₚ] #però se io mi sono già spostato x interazione con media non va bene devo già considerare o nel calcolo dei neighbors within_bound\n",
    "within_bound = [abs(o - x)<= 0.2 for x in Γₚ]\n",
    "println(\"neighbors within bound $within_bound\")"
   ]
  },
  {
   "cell_type": "code",
   "execution_count": 17,
   "metadata": {},
   "outputs": [
    {
     "data": {
      "text/plain": [
       "3-element Vector{Int64}:\n",
       " 2\n",
       " 4\n",
       " 8"
      ]
     },
     "execution_count": 17,
     "metadata": {},
     "output_type": "execute_result"
    }
   ],
   "source": [
    "likeminded = Γ[within_bound]"
   ]
  },
  {
   "cell_type": "code",
   "execution_count": 25,
   "metadata": {},
   "outputs": [
    {
     "data": {
      "text/plain": [
       "3-element Vector{Float64}:\n",
       "   31.830734087683748\n",
       " 1056.7659360040313\n",
       "  301.2283826486642"
      ]
     },
     "execution_count": 25,
     "metadata": {},
     "output_type": "execute_result"
    }
   ],
   "source": [
    "# biased sample by γ\n",
    "# Γₚϵ = [abs(uₒ - x)^γ for x in old_opinions[likeminded]] #anche qua devo già considerare o dopo interazione con media\n",
    "Γₚϵ = [abs(o - x)^(-2.0) for x in old_opinions[likeminded]]"
   ]
  },
  {
   "cell_type": "code",
   "execution_count": 26,
   "metadata": {},
   "outputs": [
    {
     "data": {
      "text/plain": [
       "3-element Vector{Float64}:\n",
       " 0.0229026912595378\n",
       " 0.7603589631086008\n",
       " 0.2167383456318613"
      ]
     },
     "execution_count": 26,
     "metadata": {},
     "output_type": "execute_result"
    }
   ],
   "source": [
    "Γₚϵ /= sum(Γₚϵ)"
   ]
  },
  {
   "cell_type": "code",
   "execution_count": 22,
   "metadata": {},
   "outputs": [
    {
     "data": {
      "text/plain": [
       "2"
      ]
     },
     "execution_count": 22,
     "metadata": {},
     "output_type": "execute_result"
    }
   ],
   "source": [
    "selected = sample(likeminded, Weights(Γₚϵ))"
   ]
  },
  {
   "cell_type": "code",
   "execution_count": 23,
   "metadata": {},
   "outputs": [
    {
     "data": {
      "text/plain": [
       "Float16(0.674)"
      ]
     },
     "execution_count": 23,
     "metadata": {},
     "output_type": "execute_result"
    }
   ],
   "source": [
    "nn = Float16((old_opinions[selected] + o) / 2)"
   ]
  },
  {
   "cell_type": "code",
   "execution_count": 24,
   "metadata": {},
   "outputs": [
    {
     "data": {
      "text/plain": [
       "Float16(0.674)"
      ]
     },
     "execution_count": 24,
     "metadata": {},
     "output_type": "execute_result"
    }
   ],
   "source": [
    "new_opinions[u] = nn"
   ]
  },
  {
   "cell_type": "code",
   "execution_count": null,
   "metadata": {},
   "outputs": [],
   "source": []
  }
 ],
 "metadata": {
  "kernelspec": {
   "display_name": "Julia 1.6.2",
   "language": "julia",
   "name": "julia-1.6"
  },
  "language_info": {
   "file_extension": ".jl",
   "mimetype": "application/julia",
   "name": "julia",
   "version": "1.6.2"
  }
 },
 "nbformat": 4,
 "nbformat_minor": 4
}
