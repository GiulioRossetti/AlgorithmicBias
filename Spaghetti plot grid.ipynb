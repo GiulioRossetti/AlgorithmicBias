{
 "cells": [
  {
   "cell_type": "code",
   "execution_count": 2,
   "metadata": {},
   "outputs": [
    {
     "name": "stdout",
     "output_type": "stream",
     "text": [
      "no display found. Using non-interactive Agg backend\n"
     ]
    }
   ],
   "source": [
    "import pandas as pd\n",
    "import numpy as np\n",
    "from mpl_toolkits.mplot3d import Axes3D\n",
    "import seaborn as sns\n",
    "import networkx as nx\n",
    "import ndlib.models.ModelConfig as mc\n",
    "import warnings\n",
    "warnings.filterwarnings(\"ignore\")\n",
    "from datetime import datetime\n",
    "import os\n",
    "import pickle\n",
    "import sys\n",
    "import future.utils\n",
    "import matplotlib as mpl\n",
    "import matplotlib.pyplot as plt \n",
    "from matplotlib import rc\n",
    "mpl.rcParams[\"text.usetex\"] = True\n",
    "plt.rc('font',**{'family':'serif', 'size' : 22, 'serif':['Computer Modern Roman']})\n",
    "import os\n",
    "import sys\n",
    "import future.utils\n",
    "import warnings\n",
    "# warnings.filterwarnings(\"ignore\")\n",
    "from datetime import datetime\n",
    "from pathlib import Path\n",
    "import pickle\n",
    "import abc\n",
    "import numpy as np\n",
    "import past.builtins\n",
    "import six\n",
    "import tqdm\n",
    "import networkx as nx\n",
    "import csv\n",
    "from sklearn.cluster import MeanShift\n",
    "import ndlib.models.ModelConfig as mc\n",
    "from ndlib.viz.mpl.OpinionEvolution import OpinionEvolution\n",
    "import ndlib.models.opinions as op\n",
    "import matplotlib.pyplot as plt\n",
    "from matplotlib import rc\n",
    "from matplotlib.ticker import (MultipleLocator, AutoMinorLocator)\n",
    "%matplotlib inline"
   ]
  },
  {
   "cell_type": "code",
   "execution_count": 3,
   "metadata": {},
   "outputs": [],
   "source": [
    "sns.set_style(\"whitegrid\")"
   ]
  },
  {
   "cell_type": "markdown",
   "metadata": {},
   "source": [
    "# Spaghetti plot"
   ]
  },
  {
   "cell_type": "code",
   "execution_count": 17,
   "metadata": {},
   "outputs": [],
   "source": [
    "class OpinionEvolution(object):\n",
    "    \n",
    "    def __init__(self, model, trends):\n",
    "        \"\"\"\n",
    "        :param model: The model object\n",
    "        :param trends: The computed simulation trends\n",
    "        \"\"\"\n",
    "        self.model = model\n",
    "        self.srev = trends\n",
    "        self.ylabel = \"Opinion\"\n",
    "    \n",
    "    def plot(self, fig, ax, filename=None):\n",
    "        nodes2opinions = {}\n",
    "        node2col = {}\n",
    "\n",
    "        last_it = self.srev[-1]['iteration'] + 1\n",
    "        last_seen = {}\n",
    "\n",
    "        for it in self.srev:\n",
    "            sts = it['status']\n",
    "            its = it['iteration']\n",
    "            for n, v in sts.items():\n",
    "                if n in nodes2opinions:\n",
    "                    last_id = last_seen[n]\n",
    "                    last_value = nodes2opinions[n][last_id]\n",
    "\n",
    "                    for i in range(last_id, its):\n",
    "                        nodes2opinions[n][i] = last_value\n",
    "\n",
    "                    nodes2opinions[n][its] = v\n",
    "                    last_seen[n] = its\n",
    "                else:\n",
    "                    nodes2opinions[n] = [0]*last_it\n",
    "                    nodes2opinions[n][its] = v\n",
    "                    last_seen[n] = 0\n",
    "                    if v < 0.4:\n",
    "                        node2col[n] = '#3776ab'\n",
    "                    elif 0.4 <= v <= 0.6:\n",
    "                        node2col[n] = '#FFA500'\n",
    "                    else:\n",
    "                        node2col[n] = '#FF0000'       \n",
    "        mx = 0\n",
    "        for k, l in future.utils.iteritems(nodes2opinions):\n",
    "            if mx < last_seen[k]:\n",
    "                mx = last_seen[k]\n",
    "            x = list(range(0, last_seen[k]))\n",
    "            y = l[0:last_seen[k]]\n",
    "            ax.plot(x, y, lw=1, alpha=0.5, color=node2col[k])\n",
    "\n",
    "        ax.set_ylim(-0.1, 1.1)\n",
    "        ax.yaxis.set_minor_locator(MultipleLocator(0.1))\n",
    "        ax.tick_params(axis='both', which='major', labelsize=3, pad=2)                \n",
    "        plt.grid(axis = 'both', which='both')\n",
    "        plt.tight_layout()\n"
   ]
  },
  {
   "cell_type": "code",
   "execution_count": 18,
   "metadata": {},
   "outputs": [],
   "source": [
    "def restoiterations(filename):   \n",
    "    iterations = list()\n",
    "    try:\n",
    "        infile = open(filename, \"r\")\n",
    "        lines = infile.readlines()\n",
    "        for i,line in enumerate(lines):\n",
    "            opinions = list(line.split(','))\n",
    "            itdict = {\"iteration\":i, \"status\":{k: float(v) for k, v in enumerate(opinions)},\"node_count\":{0:0},\"status_delta\":{0:0}}\n",
    "            iterations.append(itdict)\n",
    "    except FileNotFoundError:\n",
    "        pass\n",
    "    return iterations"
   ]
  },
  {
   "cell_type": "code",
   "execution_count": 30,
   "metadata": {},
   "outputs": [],
   "source": [
    "def spaghetti(e,p,g,fig,ax,quale=None):\n",
    "    try:\n",
    "        graph = nx.complete_graph(100)\n",
    "        model = op.AlgorithmicBiasMediaModel(graph) \n",
    "        config = mc.Configuration()\n",
    "        config.add_model_parameter(\"p\", p)\n",
    "        config.add_model_parameter(\"k\", 3)\n",
    "        config.add_model_parameter(\"epsilon\", e)\n",
    "        config.add_model_parameter(\"gamma\", g)\n",
    "        config.add_model_parameter(\"gamma_media\",g)\n",
    "        model.set_initial_status(config)\n",
    "        model.set_media_opinions([0.05, 0.5, 0.95])\n",
    "    except Exception as err:\n",
    "        pass\n",
    "    nr=1\n",
    "    while True:\n",
    "        iterations = restoiterations(\"res/onemedia/media mo[0.0] p{} e{} g{} gm{} mi1000000 nr{}\".format(p,e,g,g,nr))\n",
    "        if len(iterations)>0:\n",
    "            viz = OpinionEvolution(model, iterations)\n",
    "            viz.plot(fig, ax)\n",
    "            break\n",
    "        else:\n",
    "            nr+=1\n"
   ]
  },
  {
   "cell_type": "code",
   "execution_count": 31,
   "metadata": {},
   "outputs": [],
   "source": [
    "def spaghettigrid(p):\n",
    "    fig, axes = plt.subplots(nrows=3, ncols=5, figsize=(6, 3), dpi=600, sharey=True)\n",
    "    row=0\n",
    "    for e in [0.2, 0.3, 0.5]:\n",
    "        col=0\n",
    "        for g in [0.0, 0.5, 0.75, 1.0, 1.5]: \n",
    "            spaghetti(e,p,g,fig,ax=axes[row,col],quale='onemedia')\n",
    "            col+=1\n",
    "            pbar.update(1)\n",
    "        row+=1"
   ]
  },
  {
   "cell_type": "code",
   "execution_count": 32,
   "metadata": {},
   "outputs": [],
   "source": [
    "mpl.rcParams[\"text.usetex\"] = True\n",
    "plt.rc('font',weight='bold',**{'family':'serif', 'size':6, 'serif':['Computer Modern Roman']})\n",
    "for p in [0.1, 0.3, 0.5]:\n",
    "    spaghettigrid(p=p)"
   ]
  },
  {
   "cell_type": "code",
   "execution_count": null,
   "metadata": {},
   "outputs": [],
   "source": []
  },
  {
   "cell_type": "code",
   "execution_count": null,
   "metadata": {},
   "outputs": [],
   "source": []
  }
 ],
 "metadata": {
  "kernelspec": {
   "display_name": "Python 3",
   "language": "python",
   "name": "python3"
  },
  "language_info": {
   "codemirror_mode": {
    "name": "ipython",
    "version": 3
   },
   "file_extension": ".py",
   "mimetype": "text/x-python",
   "name": "python",
   "nbconvert_exporter": "python",
   "pygments_lexer": "ipython3",
   "version": "3.8.5"
  }
 },
 "nbformat": 4,
 "nbformat_minor": 4
}
