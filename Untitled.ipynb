{
 "cells": [
  {
   "cell_type": "code",
   "execution_count": 20,
   "id": "ac59fa6d",
   "metadata": {},
   "outputs": [
    {
     "data": {
      "text/plain": [
       "\"aggregate/final_clusters media mo[0.05, 0.5, 0.95] p0.0 e0.2 g0.0 gm0.0 mi1000000.json\""
      ]
     },
     "execution_count": 20,
     "metadata": {},
     "output_type": "execute_result"
    }
   ],
   "source": [
    "using JSON\n",
    "using Statistics\n",
    "using CSV\n",
    "using Tables\n",
    "using DataFrames\n",
    "using LightGraphs\n",
    "include(\"utils.jl\")\n",
    "filename = \"aggregate/final_clusters media mo[0.05, 0.5, 0.95] p0.0 e0.2 g0.0 gm0.0 mi1000000.json\""
   ]
  },
  {
   "cell_type": "code",
   "execution_count": 31,
   "id": "74527c67",
   "metadata": {},
   "outputs": [
    {
     "data": {
      "text/plain": [
       "\"(Float16(0.7227), Float16(0.923))\""
      ]
     },
     "execution_count": 31,
     "metadata": {},
     "output_type": "execute_result"
    }
   ],
   "source": [
    "s = \"(Float16(0.7227), Float16(0.923))\""
   ]
  },
  {
   "cell_type": "code",
   "execution_count": 83,
   "id": "f1114dc3",
   "metadata": {},
   "outputs": [
    {
     "data": {
      "text/plain": [
       "read_json (generic function with 1 method)"
      ]
     },
     "execution_count": 83,
     "metadata": {},
     "output_type": "execute_result"
    }
   ],
   "source": [
    "function keys_to_int(dict)\n",
    "    newdict = Dict([parse(Int, string(key)) => val for (key, val) in pairs(dict)])    \n",
    "    return newdict\n",
    "end\n",
    "\n",
    "function splitstring(s)\n",
    "    v = split(s, r\"\\(|\\)\")\n",
    "    n1 = parse(Float16, v[3])\n",
    "    n2 =  parse(Float16, v[5])\n",
    "    return Tuple([Float16(n1), Float16(n2)])\n",
    "end\n",
    "\n",
    "\n",
    "function keys_to_tuple(dict)\n",
    "    newdict = Dict([splitstring(key) => val for (key, val) in pairs(dict)])    \n",
    "    return newdict\n",
    "end\n",
    "\n",
    "function read_json(filename)\n",
    "    inDict = JSON.parsefile(filename)\n",
    "    newdict = keys_to_int(inDict)\n",
    "    newnewdict = Dict()\n",
    "    for nr in keys(newdict)\n",
    "        newnewdict[nr] = Dict()\n",
    "        dicttoadd = keys_to_tuple(newdict[nr])\n",
    "        newnewdict[nr] = dicttoadd\n",
    "    end\n",
    "    return newnewdict\n",
    "end"
   ]
  },
  {
   "cell_type": "code",
   "execution_count": 84,
   "id": "2f9a5e24",
   "metadata": {},
   "outputs": [
    {
     "data": {
      "text/plain": [
       "Dict{Any, Any} with 5 entries:\n",
       "  5 => Dict{Vector{Float16}, Int64}([0.545, 0.745]=>62, [0.8594, 1.06]=>18, [0.…\n",
       "  4 => Dict{Vector{Float16}, Int64}([0.7227, 0.923]=>45, [0.2354, 0.4353]=>53, …\n",
       "  2 => Dict{Vector{Float16}, Int64}([0.2441, 0.444]=>47, [0.789, 0.9893]=>52, […\n",
       "  3 => Dict{Vector{Float16}, Int64}([0.3694, 0.5693]=>36, [0.06433, 0.2644]=>22…\n",
       "  1 => Dict{Vector{Float16}, Int64}([0.7783, 0.9785]=>47, [0.55, 0.75]=>1, [0.0…"
      ]
     },
     "execution_count": 84,
     "metadata": {},
     "output_type": "execute_result"
    }
   ],
   "source": [
    "read_json(filename)"
   ]
  },
  {
   "cell_type": "code",
   "execution_count": null,
   "id": "4d17803f",
   "metadata": {},
   "outputs": [],
   "source": []
  },
  {
   "cell_type": "code",
   "execution_count": null,
   "id": "a923efee",
   "metadata": {},
   "outputs": [],
   "source": []
  }
 ],
 "metadata": {
  "kernelspec": {
   "display_name": "Julia 1.6.2",
   "language": "julia",
   "name": "julia-1.6"
  },
  "language_info": {
   "file_extension": ".jl",
   "mimetype": "application/julia",
   "name": "julia",
   "version": "1.6.2"
  }
 },
 "nbformat": 4,
 "nbformat_minor": 5
}
