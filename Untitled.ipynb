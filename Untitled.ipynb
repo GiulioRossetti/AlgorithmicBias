{
 "cells": [
  {
   "cell_type": "code",
   "execution_count": 1,
   "metadata": {},
   "outputs": [
    {
     "data": {
      "text/plain": [
       "plotting (generic function with 1 method)"
      ]
     },
     "metadata": {},
     "output_type": "display_data"
    }
   ],
   "source": [
    "using CSV\n",
    "using DataFrames\n",
    "using JSON\n",
    "using LightGraphs\n",
    "using Statistics\n",
    "\n",
    "include(\"execution.jl\")"
   ]
  },
  {
   "cell_type": "code",
   "execution_count": 11,
   "metadata": {},
   "outputs": [
    {
     "data": {
      "text/plain": [
       "read_json (generic function with 1 method)"
      ]
     },
     "execution_count": 11,
     "metadata": {},
     "output_type": "execute_result"
    }
   ],
   "source": [
    "function read_json(file)\n",
    "    open(file,\"r\") do f\n",
    "        global inDict\n",
    "        inDict = JSON.parse(f)\n",
    "    end\n",
    "    return inDict\n",
    "end"
   ]
  },
  {
   "cell_type": "code",
   "execution_count": 12,
   "metadata": {},
   "outputs": [
    {
     "data": {
      "text/plain": [
       "Dict{String, Any} with 100 entries:\n",
       "  \"32\" => Any[0.501, 0.501, 0.5005, 0.5005, 0.501, 0.5005, 0.501, 0.501, 0.501,…\n",
       "  \"29\" => Any[0.502, 0.502, 0.502, 0.502, 0.502, 0.502, 0.502, 0.5015, 0.502, 0…\n",
       "  \"81\" => Any[0.74, 0.7065, 0.7207, 0.7256, 0.753, 0.7734, 0.744, 0.7876, 0.798…\n",
       "  \"54\" => Any[0.502, 0.502, 0.502, 0.502, 0.502, 0.5015, 0.502, 0.502, 0.502, 0…\n",
       "  \"78\" => Any[0.4985, 0.499, 0.499, 0.499, 0.4988, 0.4985, 0.4985, 0.4985, 0.49…\n",
       "  \"1\"  => Any[0.293, 0.3198, 0.286, 0.3953, 0.2969, 0.95, 0.285, 0.3757, 0.2993…\n",
       "  \"2\"  => Any[0.502, 0.502, 0.502, 0.502, 0.502, 0.502, 0.502, 0.502, 0.502, 0.…\n",
       "  \"74\" => Any[0.498, 0.498, 0.499, 0.498, 0.498, 0.498, 0.498, 0.498, 0.498, 0.…\n",
       "  \"41\" => Any[0.4988, 0.499, 0.4988, 0.4985, 0.4985, 0.4985, 0.4988, 0.499, 0.4…\n",
       "  \"65\" => Any[0.4983, 0.4983, 0.4985, 0.4983, 0.498, 0.498, 0.498, 0.498, 0.498…\n",
       "  \"53\" => Any[0.502, 0.502, 0.502, 0.502, 0.502, 0.502, 0.502, 0.5015, 0.5015, …\n",
       "  \"51\" => Any[0.502, 0.5015, 0.502, 0.502, 0.502, 0.502, 0.502, 0.502, 0.502, 0…\n",
       "  \"27\" => Any[0.502, 0.502, 0.5015, 0.502, 0.502, 0.502, 0.502, 0.502, 0.502, 0…\n",
       "  \"75\" => Any[0.498, 0.4983, 0.4985, 0.4985, 0.499, 0.4985, 0.4985, 0.4988, 0.4…\n",
       "  \"42\" => Any[0.4985, 0.499, 0.4988, 0.4985, 0.4983, 0.498, 0.498, 0.4983, 0.49…\n",
       "  \"33\" => Any[0.501, 0.501, 0.501, 0.501, 0.501, 0.501, 0.501, 0.501, 0.501, 0.…\n",
       "  \"28\" => Any[0.4985, 0.4993, 0.4985, 0.4985, 0.4995, 0.4988, 0.4985, 0.4985, 0…\n",
       "  \"52\" => Any[0.502, 0.502, 0.502, 0.5015, 0.502, 0.502, 0.502, 0.502, 0.502, 0…\n",
       "  \"50\" => Any[0.7344, 0.7334, 0.743, 0.728, 0.7573, 0.8496, 0.718, 0.875, 0.614…\n",
       "  \"63\" => Any[0.498, 0.498, 0.498, 0.498, 0.498, 0.498, 0.498, 0.4983, 0.498, 0…\n",
       "  \"92\" => Any[0.4978, 0.498, 0.499, 0.498, 0.498, 0.498, 0.498, 0.498, 0.498, 0…\n",
       "  \"88\" => Any[0.502, 0.502, 0.502, 0.5015, 0.501, 0.501, 0.501, 0.501, 0.5005, …\n",
       "  \"93\" => Any[0.4985, 0.4983, 0.4985, 0.4993, 0.4985, 0.4985, 0.4985, 0.4985, 0…\n",
       "  \"26\" => Any[0.502, 0.502, 0.502, 0.502, 0.502, 0.502, 0.502, 0.502, 0.502, 0.…\n",
       "  \"10\" => Any[0.5015, 0.501, 0.501, 0.501, 0.502, 0.502, 0.502, 0.502, 0.502, 0…\n",
       "  ⋮    => ⋮"
      ]
     },
     "execution_count": 12,
     "metadata": {},
     "output_type": "execute_result"
    }
   ],
   "source": [
    "inDict = read_json(\"aggregate/final_opinions media mo[0.05, 0.5, 0.95] p0.1 e0.4 g0.25 gm0.25 mi1000000.json\")"
   ]
  },
  {
   "cell_type": "code",
   "execution_count": null,
   "metadata": {},
   "outputs": [],
   "source": []
  },
  {
   "cell_type": "code",
   "execution_count": null,
   "metadata": {},
   "outputs": [],
   "source": []
  },
  {
   "cell_type": "code",
   "execution_count": 15,
   "metadata": {},
   "outputs": [
    {
     "name": "stdout",
     "output_type": "stream",
     "text": [
      "Dict{Any, Any}()\n"
     ]
    }
   ],
   "source": [
    "if isfile(\"aggregate/final_opinions media mo[0.05, 0.5, 0.95] p0.9 e0.4 g0.25 gm0.25 mi1000000.json\")\n",
    "    final_opinions = read_json(\"aggregate/final_opinions media mo[0.05, 0.5, 0.95] p0.9 e0.4 g0.25 gm0.25 mi1000000.json\")\n",
    "else\n",
    "    final_opinions = Dict()\n",
    "end\n",
    "println(final_opinions)"
   ]
  },
  {
   "cell_type": "code",
   "execution_count": 23,
   "metadata": {},
   "outputs": [
    {
     "name": "stdout",
     "output_type": "stream",
     "text": [
      "Dict{String, Any}(\"32\" => 101, \"29\" => 105, \"1\" => 108, \"54\" => 102, \"78\" => 78, \"81\" => 31, \"2\" => 52, \"74\" => 106, \"41\" => 109, \"65\" => 112, \"51\" => 110, \"53\" => 92, \"27\" => 93, \"75\" => 107, \"42\" => 104, \"33\" => 81, \"28\" => 124, \"50\" => 92, \"52\" => 53, \"63\" => 104, \"92\" => 96, \"88\" => 105, \"93\" => 97, \"26\" => 109, \"10\" => 104, \"77\" => 106, \"24\" => 106, \"87\" => 106, \"58\" => 98, \"25\" => 59, \"23\" => 109, \"49\" => 20, \"59\" => 93, \"5\" => 96, \"31\" => 84, \"89\" => 95, \"62\" => 97, \"43\" => 149, \"90\" => 102, \"39\" => 22, \"34\" => 93, \"44\" => 95, \"94\" => 41, \"55\" => 105, \"86\" => 109, \"17\" => 106, \"99\" => 105, \"71\" => 97, \"37\" => 108, \"47\" => 102, \"9\" => 103, \"73\" => 96, \"82\" => 117, \"12\" => 82, \"79\" => 26, \"20\" => 106, \"6\" => 104, \"84\" => 119, \"80\" => 101, \"98\" => 103, \"70\" => 113, \"14\" => 50, \"7\" => 107, \"96\" => 143, \"57\" => 106, \"8\" => 108, \"64\" => 109, \"19\" => 103, \"91\" => 122, \"69\" => 58, \"60\" => 26, \"97\" => 131, \"4\" => 62, \"22\" => 156, \"11\" => 57, \"35\" => 94, \"13\" => 109, \"15\" => 105, \"61\" => 109, \"67\" => 113, \"16\" => 107, \"100\" => 101, \"40\" => 101, \"21\" => 108, \"38\" => 101, \"46\" => 105, \"72\" => 106, \"83\" => 102, \"45\" => 104, \"68\" => 79, \"56\" => 114, \"36\" => 24, \"66\" => 103, \"76\" => 102, \"95\" => 105, \"85\" => 104, \"48\" => 107, \"18\" => 108, \"30\" => 117, \"3\" => 112)"
     ]
    }
   ],
   "source": [
    "function read_json(file)\n",
    "    open(file,\"r\") do f\n",
    "        global inDict\n",
    "        inDict = JSON.parse(f)\n",
    "    end\n",
    "    return inDict\n",
    "end\n",
    "\n",
    "inDict = read_json(\"aggregate/final_iterations media mo[0.0] p0.1 e0.3 g0.0 gm0.0 mi1000000 stofacendoleprove.json\")\n",
    "print((inDict))"
   ]
  },
  {
   "cell_type": "code",
   "execution_count": 24,
   "metadata": {},
   "outputs": [
    {
     "data": {
      "text/plain": [
       "Dict{String, Any} with 100 entries:\n",
       "  \"32\" => 101\n",
       "  \"29\" => 105\n",
       "  \"1\"  => 108\n",
       "  \"54\" => 102\n",
       "  \"78\" => 78\n",
       "  \"81\" => 31\n",
       "  \"2\"  => 52\n",
       "  \"74\" => 106\n",
       "  \"41\" => 109\n",
       "  \"65\" => 112\n",
       "  \"51\" => 110\n",
       "  \"53\" => 92\n",
       "  \"27\" => 93\n",
       "  \"75\" => 107\n",
       "  \"42\" => 104\n",
       "  \"33\" => 81\n",
       "  \"28\" => 124\n",
       "  \"50\" => 92\n",
       "  \"52\" => 53\n",
       "  \"63\" => 104\n",
       "  \"92\" => 96\n",
       "  \"88\" => 105\n",
       "  \"93\" => 97\n",
       "  \"26\" => 109\n",
       "  \"10\" => 104\n",
       "  ⋮    => ⋮"
      ]
     },
     "execution_count": 24,
     "metadata": {},
     "output_type": "execute_result"
    }
   ],
   "source": [
    "inDict"
   ]
  },
  {
   "cell_type": "code",
   "execution_count": 2,
   "metadata": {},
   "outputs": [
    {
     "data": {
      "text/plain": [
       "126-element Vector{Any}:\n",
       " (Float16(0.442), Float16(0.273), Float16(0.2032), Float16(0.9463), Float16(0.721), Float16(0.4448), Float16(0.929), Float16(0.2072), Float16(0.6045), Float16(0.1843), Float16(0.674), Float16(0.5156), Float16(0.54), Float16(0.583), Float16(0.56), Float16(0.3435), Float16(0.5156), Float16(0.4883), Float16(0.7925), Float16(0.4785), Float16(0.54), Float16(0.3008), Float16(0.4832), Float16(0.1299), Float16(0.213), Float16(0.01375), Float16(0.5693), Float16(0.483), Float16(0.705), Float16(0.2844), Float16(0.1448), Float16(0.2932), Float16(0.827), Float16(0.916), Float16(0.8906), Float16(0.7344), Float16(0.0187), Float16(0.6587), Float16(0.937), Float16(0.3213), Float16(0.4832), Float16(0.901), Float16(0.2292), Float16(0.2717), Float16(0.1389), Float16(0.4778), Float16(0.23), Float16(0.06415), Float16(0.268), Float16(0.8755), Float16(0.02722), Float16(0.0895), Float16(0.2292), Float16(0.6743), Float16(0.568), Float16(0.0202), Float16(0.827), Float16(0.442), Float16(0.9116), Float16(0.6865), Float16(0.633), Float16(0.737), Float16(0.517), Float16(0.0202), Float16(0.3525), Float16(0.614), Float16(0.143), Float16(0.143), Float16(0.0187), Float16(0.4058), Float16(0.857), Float16(0.153), Float16(0.7075), Float16(0.568), Float16(0.843), Float16(0.318), Float16(0.05707), Float16(0.746), Float16(0.929), Float16(0.977), Float16(0.03983), Float16(0.678), Float16(0.826), Float16(0.4988), Float16(0.3008), Float16(0.03983), Float16(0.23), Float16(0.3203), Float16(0.913), Float16(0.0657), Float16(0.6475), Float16(0.4785), Float16(0.1299), Float16(0.865), Float16(0.5547), Float16(0.1635), Float16(0.1448), Float16(0.07684), Float16(0.1635), Float16(0.749))\n",
       " (Float16(0.5107), Float16(0.273), Float16(0.1711), Float16(0.9463), Float16(0.7334), Float16(0.4448), Float16(0.929), Float16(0.2072), Float16(0.6396), Float16(0.2395), Float16(0.674), Float16(0.4788), Float16(0.5093), Float16(0.615), Float16(0.5195), Float16(0.3435), Float16(0.5156), Float16(0.4937), Float16(0.7925), Float16(0.494), Float16(0.54), Float16(0.3008), Float16(0.4885), Float16(0.1299), Float16(0.213), Float16(0.01375), Float16(0.5693), Float16(0.483), Float16(0.705), Float16(0.2844), Float16(0.0974), Float16(0.2932), Float16(0.846), Float16(0.916), Float16(0.883), Float16(0.7344), Float16(0.0187), Float16(0.6978), Float16(0.937), Float16(0.3198), Float16(0.4832), Float16(0.901), Float16(0.2292), Float16(0.2395), Float16(0.1711), Float16(0.4778), Float16(0.2072), Float16(0.1138), Float16(0.2844), Float16(0.883), Float16(0.05203), Float16(0.0895), Float16(0.2292), Float16(0.6396), Float16(0.5283), Float16(0.0202), Float16(0.827), Float16(0.471), Float16(0.912), Float16(0.6826), Float16(0.633), Float16(0.6978), Float16(0.517), Float16(0.0202), Float16(0.3525), Float16(0.614), Float16(0.143), Float16(0.143), Float16(0.03436), Float16(0.4058), Float16(0.857), Float16(0.1582), Float16(0.7075), Float16(0.568), Float16(0.843), Float16(0.3198), Float16(0.04846), Float16(0.7334), Float16(0.929), Float16(0.977), Float16(0.03983), Float16(0.6826), Float16(0.826), Float16(0.5107), Float16(0.2844), Float16(0.04846), Float16(0.23), Float16(0.3203), Float16(0.912), Float16(0.0657), Float16(0.615), Float16(0.5195), Float16(0.1299), Float16(0.846), Float16(0.5547), Float16(0.1138), Float16(0.1448), Float16(0.05203), Float16(0.1582), Float16(0.749))\n",
       " (Float16(0.568), Float16(0.2563), Float16(0.1711), Float16(0.9463), Float16(0.7334), Float16(0.4448), Float16(0.8857), Float16(0.2072), Float16(0.6396), Float16(0.2563), Float16(0.674), Float16(0.4788), Float16(0.5093), Float16(0.615), Float16(0.515), Float16(0.3435), Float16(0.528), Float16(0.4912), Float16(0.7925), Float16(0.494), Float16(0.5215), Float16(0.3267), Float16(0.4912), Float16(0.1299), Float16(0.2263), Float16(0.0329), Float16(0.5693), Float16(0.483), Float16(0.705), Float16(0.2844), Float16(0.0652), Float16(0.2932), Float16(0.846), Float16(0.916), Float16(0.883), Float16(0.7344), Float16(0.0187), Float16(0.6978), Float16(0.957), Float16(0.3198), Float16(0.4832), Float16(0.901), Float16(0.2292), Float16(0.2263), Float16(0.1711), Float16(0.4778), Float16(0.2072), Float16(0.1138), Float16(0.2844), Float16(0.883), Float16(0.0654), Float16(0.05484), Float16(0.2292), Float16(0.6035), Float16(0.5283), Float16(0.03433), Float16(0.827), Float16(0.471), Float16(0.912), Float16(0.6826), Float16(0.633), Float16(0.6978), Float16(0.5186), Float16(0.05484), Float16(0.3267), Float16(0.6143), Float16(0.143), Float16(0.143), Float16(0.03436), Float16(0.4058), Float16(0.857), Float16(0.1582), Float16(0.7075), Float16(0.6035), Float16(0.8857), Float16(0.3198), Float16(0.03433), Float16(0.7334), Float16(0.929), Float16(0.9536), Float16(0.03983), Float16(0.6826), Float16(0.826), Float16(0.5107), Float16(0.2844), Float16(0.04846), Float16(0.23), Float16(0.3203), Float16(0.912), Float16(0.0654), Float16(0.568), Float16(0.5186), Float16(0.1299), Float16(0.846), Float16(0.5547), Float16(0.1138), Float16(0.1448), Float16(0.05203), Float16(0.1582), Float16(0.749))\n",
       " (Float16(0.548), Float16(0.2563), Float16(0.158), Float16(0.9463), Float16(0.7334), Float16(0.4614), Float16(0.8857), Float16(0.2072), Float16(0.6396), Float16(0.2563), Float16(0.674), Float16(0.4788), Float16(0.5015), Float16(0.615), Float16(0.515), Float16(0.3435), Float16(0.528), Float16(0.5293), Float16(0.75), Float16(0.5117), Float16(0.5117), Float16(0.3267), Float16(0.505), Float16(0.1299), Float16(0.2263), Float16(0.04025), Float16(0.5693), Float16(0.4443), Float16(0.705), Float16(0.2844), Float16(0.0652), Float16(0.3066), Float16(0.846), Float16(0.8867), Float16(0.883), Float16(0.7344), Float16(0.0187), Float16(0.6978), Float16(0.957), Float16(0.3198), Float16(0.5063), Float16(0.901), Float16(0.2292), Float16(0.2263), Float16(0.1711), Float16(0.4614), Float16(0.2072), Float16(0.1138), Float16(0.2844), Float16(0.883), Float16(0.0654), Float16(0.05484), Float16(0.2292), Float16(0.5664), Float16(0.566), Float16(0.03433), Float16(0.827), Float16(0.471), Float16(0.912), Float16(0.6826), Float16(0.633), Float16(0.6978), Float16(0.5303), Float16(0.05484), Float16(0.3267), Float16(0.6143), Float16(0.143), Float16(0.143), Float16(0.03436), Float16(0.4443), Float16(0.8564), Float16(0.1582), Float16(0.75), Float16(0.548), Float16(0.918), Float16(0.3198), Float16(0.03433), Float16(0.7334), Float16(0.929), Float16(0.9536), Float16(0.04025), Float16(0.6826), Float16(0.8564), Float16(0.5107), Float16(0.2844), Float16(0.04068), Float16(0.23), Float16(0.3066), Float16(0.912), Float16(0.0654), Float16(0.568), Float16(0.503), Float16(0.1299), Float16(0.846), Float16(0.5273), Float16(0.1138), Float16(0.158), Float16(0.05203), Float16(0.1582), Float16(0.749))\n",
       " (Float16(0.5195), Float16(0.2563), Float16(0.158), Float16(0.9463), Float16(0.7334), Float16(0.505), Float16(0.907), Float16(0.2072), Float16(0.6396), Float16(0.2563), Float16(0.6855), Float16(0.513), Float16(0.4814), Float16(0.5713), Float16(0.543), Float16(0.3252), Float16(0.5195), Float16(0.5293), Float16(0.75), Float16(0.512), Float16(0.5083), Float16(0.3267), Float16(0.5103), Float16(0.1299), Float16(0.2263), Float16(0.04025), Float16(0.5693), Float16(0.474), Float16(0.705), Float16(0.2844), Float16(0.10406), Float16(0.3252), Float16(0.846), Float16(0.8994), Float16(0.883), Float16(0.7344), Float16(0.0187), Float16(0.6978), Float16(0.957), Float16(0.3198), Float16(0.4917), Float16(0.901), Float16(0.2292), Float16(0.2263), Float16(0.1711), Float16(0.4866), Float16(0.2072), Float16(0.1138), Float16(0.2844), Float16(0.883), Float16(0.0654), Float16(0.05484), Float16(0.2292), Float16(0.5664), Float16(0.566), Float16(0.03433), Float16(0.827), Float16(0.474), Float16(0.8994), Float16(0.6826), Float16(0.633), Float16(0.6855), Float16(0.5303), Float16(0.05484), Float16(0.3267), Float16(0.6143), Float16(0.143), Float16(0.10406), Float16(0.03436), Float16(0.4443), Float16(0.8564), Float16(0.1582), Float16(0.75), Float16(0.513), Float16(0.918), Float16(0.3198), Float16(0.03433), Float16(0.7334), Float16(0.907), Float16(0.9536), Float16(0.04025), Float16(0.6826), Float16(0.8564), Float16(0.507), Float16(0.2844), Float16(0.04068), Float16(0.23), Float16(0.3066), Float16(0.912), Float16(0.0654), Float16(0.568), Float16(0.4966), Float16(0.1299), Float16(0.846), Float16(0.5195), Float16(0.1138), Float16(0.158), Float16(0.05203), Float16(0.1582), Float16(0.749))\n",
       " (Float16(0.5273), Float16(0.2563), Float16(0.158), Float16(0.9463), Float16(0.7334), Float16(0.505), Float16(0.907), Float16(0.2568), Float16(0.6553), Float16(0.2563), Float16(0.6855), Float16(0.5166), Float16(0.4814), Float16(0.6055), Float16(0.588), Float16(0.3252), Float16(0.515), Float16(0.508), Float16(0.75), Float16(0.515), Float16(0.5083), Float16(0.3267), Float16(0.5103), Float16(0.1299), Float16(0.2263), Float16(0.04025), Float16(0.538), Float16(0.496), Float16(0.6553), Float16(0.2844), Float16(0.10406), Float16(0.3252), Float16(0.846), Float16(0.8994), Float16(0.883), Float16(0.7344), Float16(0.0187), Float16(0.6978), Float16(0.957), Float16(0.3198), Float16(0.4917), Float16(0.9272), Float16(0.2292), Float16(0.2263), Float16(0.1711), Float16(0.502), Float16(0.2072), Float16(0.1138), Float16(0.2844), Float16(0.8936), Float16(0.0654), Float16(0.05484), Float16(0.2292), Float16(0.5664), Float16(0.566), Float16(0.03433), Float16(0.827), Float16(0.474), Float16(0.8994), Float16(0.6826), Float16(0.545), Float16(0.6855), Float16(0.5137), Float16(0.05484), Float16(0.3267), Float16(0.6143), Float16(0.143), Float16(0.10406), Float16(0.03436), Float16(0.4443), Float16(0.8564), Float16(0.1582), Float16(0.75), Float16(0.513), Float16(0.918), Float16(0.3198), Float16(0.03433), Float16(0.7334), Float16(0.8936), Float16(0.9536), Float16(0.04025), Float16(0.6826), Float16(0.8564), Float16(0.5415), Float16(0.2844), Float16(0.04636), Float16(0.23), Float16(0.2568), Float16(0.931), Float16(0.0654), Float16(0.568), Float16(0.5273), Float16(0.1299), Float16(0.846), Float16(0.5195), Float16(0.1138), Float16(0.158), Float16(0.04636), Float16(0.1582), Float16(0.749))\n",
       " (Float16(0.519), Float16(0.2563), Float16(0.158), Float16(0.9204), Float16(0.7334), Float16(0.507), Float16(0.932), Float16(0.2568), Float16(0.6553), Float16(0.2563), Float16(0.6855), Float16(0.5166), Float16(0.4814), Float16(0.6055), Float16(0.541), Float16(0.3252), Float16(0.5303), Float16(0.508), Float16(0.7495), Float16(0.5186), Float16(0.5044), Float16(0.3267), Float16(0.5103), Float16(0.1299), Float16(0.2263), Float16(0.04025), Float16(0.5522), Float16(0.505), Float16(0.6553), Float16(0.2844), Float16(0.10406), Float16(0.3252), Float16(0.846), Float16(0.8965), Float16(0.883), Float16(0.7344), Float16(0.0187), Float16(0.6978), Float16(0.932), Float16(0.3198), Float16(0.4958), Float16(0.9272), Float16(0.2292), Float16(0.2263), Float16(0.09375), Float16(0.5044), Float16(0.2072), Float16(0.1138), Float16(0.2844), Float16(0.922), Float16(0.0654), Float16(0.05484), Float16(0.2292), Float16(0.5522), Float16(0.566), Float16(0.04218), Float16(0.827), Float16(0.497), Float16(0.923), Float16(0.6826), Float16(0.5737), Float16(0.6855), Float16(0.541), Float16(0.0989), Float16(0.3267), Float16(0.5737), Float16(0.0989), Float16(0.1376), Float16(0.03436), Float16(0.4722), Float16(0.8564), Float16(0.1582), Float16(0.75), Float16(0.5234), Float16(0.9204), Float16(0.3198), Float16(0.0373), Float16(0.7334), Float16(0.8965), Float16(0.9536), Float16(0.0373), Float16(0.6826), Float16(0.8564), Float16(0.5303), Float16(0.2844), Float16(0.04636), Float16(0.23), Float16(0.2568), Float16(0.931), Float16(0.0654), Float16(0.568), Float16(0.5234), Float16(0.1299), Float16(0.846), Float16(0.5195), Float16(0.1138), Float16(0.158), Float16(0.04636), Float16(0.1582), Float16(0.7495))\n",
       " (Float16(0.532), Float16(0.2563), Float16(0.158), Float16(0.9204), Float16(0.7334), Float16(0.505), Float16(0.932), Float16(0.2568), Float16(0.6553), Float16(0.2563), Float16(0.6855), Float16(0.5166), Float16(0.506), Float16(0.6055), Float16(0.5327), Float16(0.3252), Float16(0.506), Float16(0.506), Float16(0.7495), Float16(0.5127), Float16(0.505), Float16(0.3267), Float16(0.5103), Float16(0.1299), Float16(0.2263), Float16(0.0412), Float16(0.5425), Float16(0.505), Float16(0.6553), Float16(0.2844), Float16(0.1311), Float16(0.3252), Float16(0.846), Float16(0.8965), Float16(0.883), Float16(0.7344), Float16(0.0187), Float16(0.6978), Float16(0.932), Float16(0.3198), Float16(0.4958), Float16(0.9395), Float16(0.2292), Float16(0.2263), Float16(0.0796), Float16(0.522), Float16(0.2185), Float16(0.1138), Float16(0.2844), Float16(0.922), Float16(0.0796), Float16(0.09296), Float16(0.2292), Float16(0.5664), Float16(0.542), Float16(0.0412), Float16(0.827), Float16(0.505), Float16(0.925), Float16(0.6826), Float16(0.5576), Float16(0.6855), Float16(0.541), Float16(0.07446), Float16(0.3267), Float16(0.5664), Float16(0.0989), Float16(0.1376), Float16(0.03436), Float16(0.4722), Float16(0.8564), Float16(0.1582), Float16(0.75), Float16(0.5405), Float16(0.9204), Float16(0.3198), Float16(0.0373), Float16(0.7334), Float16(0.8965), Float16(0.9395), Float16(0.0373), Float16(0.6826), Float16(0.8564), Float16(0.532), Float16(0.2844), Float16(0.04636), Float16(0.2185), Float16(0.2568), Float16(0.931), Float16(0.0654), Float16(0.568), Float16(0.5234), Float16(0.1299), Float16(0.846), Float16(0.522), Float16(0.1138), Float16(0.158), Float16(0.04636), Float16(0.09296), Float16(0.7495))\n",
       " (Float16(0.553), Float16(0.2563), Float16(0.158), Float16(0.9204), Float16(0.7334), Float16(0.5186), Float16(0.932), Float16(0.2568), Float16(0.6553), Float16(0.2563), Float16(0.6855), Float16(0.5166), Float16(0.512), Float16(0.573), Float16(0.5327), Float16(0.3252), Float16(0.509), Float16(0.506), Float16(0.7495), Float16(0.509), Float16(0.507), Float16(0.3267), Float16(0.5103), Float16(0.1299), Float16(0.2263), Float16(0.0456), Float16(0.5425), Float16(0.506), Float16(0.6553), Float16(0.2844), Float16(0.1311), Float16(0.3252), Float16(0.846), Float16(0.8965), Float16(0.883), Float16(0.7344), Float16(0.0187), Float16(0.6978), Float16(0.932), Float16(0.3198), Float16(0.4958), Float16(0.945), Float16(0.2292), Float16(0.2263), Float16(0.0796), Float16(0.5137), Float16(0.2185), Float16(0.1257), Float16(0.2844), Float16(0.936), Float16(0.0796), Float16(0.09296), Float16(0.2292), Float16(0.549), Float16(0.541), Float16(0.0412), Float16(0.827), Float16(0.509), Float16(0.925), Float16(0.6826), Float16(0.549), Float16(0.6855), Float16(0.573), Float16(0.07446), Float16(0.3267), Float16(0.553), Float16(0.0989), Float16(0.1257), Float16(0.03436), Float16(0.4722), Float16(0.8564), Float16(0.1582), Float16(0.75), Float16(0.541), Float16(0.9204), Float16(0.3198), Float16(0.0373), Float16(0.7334), Float16(0.8965), Float16(0.9355), Float16(0.0373), Float16(0.6826), Float16(0.8564), Float16(0.532), Float16(0.2844), Float16(0.04636), Float16(0.2185), Float16(0.2568), Float16(0.9355), Float16(0.0654), Float16(0.568), Float16(0.5234), Float16(0.1299), Float16(0.846), Float16(0.522), Float16(0.1138), Float16(0.158), Float16(0.04636), Float16(0.09296), Float16(0.7495))\n",
       " (Float16(0.5254), Float16(0.2563), Float16(0.1581), Float16(0.9204), Float16(0.7334), Float16(0.5186), Float16(0.932), Float16(0.2568), Float16(0.6553), Float16(0.2563), Float16(0.6855), Float16(0.5166), Float16(0.512), Float16(0.5635), Float16(0.5327), Float16(0.3252), Float16(0.5386), Float16(0.5034), Float16(0.7495), Float16(0.5146), Float16(0.515), Float16(0.3267), Float16(0.5293), Float16(0.1299), Float16(0.2263), Float16(0.04614), Float16(0.5527), Float16(0.506), Float16(0.6553), Float16(0.2844), Float16(0.09845), Float16(0.3252), Float16(0.846), Float16(0.8965), Float16(0.883), Float16(0.7344), Float16(0.0187), Float16(0.6978), Float16(0.9414), Float16(0.3198), Float16(0.5034), Float16(0.945), Float16(0.2292), Float16(0.2263), Float16(0.0796), Float16(0.5137), Float16(0.2185), Float16(0.1257), Float16(0.2844), Float16(0.8965), Float16(0.0796), Float16(0.09296), Float16(0.2292), Float16(0.5244), Float16(0.528), Float16(0.0412), Float16(0.827), Float16(0.509), Float16(0.925), Float16(0.6826), Float16(0.5283), Float16(0.6855), Float16(0.573), Float16(0.09845), Float16(0.3267), Float16(0.553), Float16(0.0989), Float16(0.0879), Float16(0.0499), Float16(0.4722), Float16(0.8965), Float16(0.1581), Float16(0.75), Float16(0.5386), Float16(0.9204), Float16(0.3198), Float16(0.0373), Float16(0.7334), Float16(0.8965), Float16(0.9355), Float16(0.0373), Float16(0.6826), Float16(0.8564), Float16(0.537), Float16(0.2844), Float16(0.04614), Float16(0.2185), Float16(0.2568), Float16(0.9355), Float16(0.0499), Float16(0.5527), Float16(0.515), Float16(0.1299), Float16(0.846), Float16(0.5254), Float16(0.12244), Float16(0.1255), Float16(0.04596), Float16(0.1255), Float16(0.7495))\n",
       " ⋮\n",
       " (Float16(0.501), Float16(0.2374), Float16(0.0522), Float16(0.9497), Float16(0.728), Float16(0.501), Float16(0.9478), Float16(0.2705), Float16(0.728), Float16(0.2073), Float16(0.6855), Float16(0.501), Float16(0.501), Float16(0.501), Float16(0.5015), Float16(0.3252), Float16(0.502), Float16(0.502), Float16(0.711), Float16(0.502), Float16(0.502), Float16(0.3267), Float16(0.502), Float16(0.0512), Float16(0.2263), Float16(0.05048), Float16(0.502), Float16(0.502), Float16(0.711), Float16(0.2844), Float16(0.05142), Float16(0.3252), Float16(0.95), Float16(0.948), Float16(0.948), Float16(0.741), Float16(0.05197), Float16(0.715), Float16(0.9478), Float16(0.3198), Float16(0.502), Float16(0.9497), Float16(0.2292), Float16(0.2263), Float16(0.05063), Float16(0.502), Float16(0.2377), Float16(0.0522), Float16(0.2705), Float16(0.9497), Float16(0.05103), Float16(0.05167), Float16(0.2292), Float16(0.5015), Float16(0.501), Float16(0.05048), Float16(0.747), Float16(0.501), Float16(0.9497), Float16(0.6826), Float16(0.501), Float16(0.6855), Float16(0.501), Float16(0.05142), Float16(0.3267), Float16(0.501), Float16(0.0506), Float16(0.05103), Float16(0.0511), Float16(0.501), Float16(0.95), Float16(0.2073), Float16(0.715), Float16(0.501), Float16(0.95), Float16(0.3198), Float16(0.05063), Float16(0.747), Float16(0.95), Float16(0.949), Float16(0.0511), Float16(0.6826), Float16(0.949), Float16(0.501), Float16(0.2844), Float16(0.05118), Float16(0.2374), Float16(0.2377), Float16(0.95), Float16(0.0517), Float16(0.501), Float16(0.501), Float16(0.05142), Float16(0.95), Float16(0.501), Float16(0.05167), Float16(0.05142), Float16(0.0517), Float16(0.05118), Float16(0.741))\n",
       " (Float16(0.501), Float16(0.2374), Float16(0.0522), Float16(0.95), Float16(0.728), Float16(0.501), Float16(0.9478), Float16(0.2705), Float16(0.728), Float16(0.2073), Float16(0.6855), Float16(0.501), Float16(0.501), Float16(0.501), Float16(0.501), Float16(0.3252), Float16(0.5015), Float16(0.501), Float16(0.711), Float16(0.502), Float16(0.502), Float16(0.3267), Float16(0.502), Float16(0.0512), Float16(0.2263), Float16(0.05048), Float16(0.502), Float16(0.502), Float16(0.711), Float16(0.2844), Float16(0.05142), Float16(0.3252), Float16(0.95), Float16(0.948), Float16(0.948), Float16(0.741), Float16(0.0517), Float16(0.715), Float16(0.9478), Float16(0.3198), Float16(0.502), Float16(0.9497), Float16(0.2292), Float16(0.2263), Float16(0.05063), Float16(0.502), Float16(0.2377), Float16(0.0522), Float16(0.2705), Float16(0.9497), Float16(0.0505), Float16(0.05167), Float16(0.2292), Float16(0.501), Float16(0.5015), Float16(0.05048), Float16(0.747), Float16(0.501), Float16(0.9497), Float16(0.6826), Float16(0.501), Float16(0.6855), Float16(0.501), Float16(0.05084), Float16(0.3267), Float16(0.501), Float16(0.05057), Float16(0.0511), Float16(0.0511), Float16(0.501), Float16(0.95), Float16(0.2073), Float16(0.715), Float16(0.501), Float16(0.95), Float16(0.3198), Float16(0.05063), Float16(0.747), Float16(0.95), Float16(0.949), Float16(0.05112), Float16(0.6826), Float16(0.949), Float16(0.501), Float16(0.2844), Float16(0.0511), Float16(0.2374), Float16(0.2377), Float16(0.95), Float16(0.0517), Float16(0.501), Float16(0.501), Float16(0.05142), Float16(0.95), Float16(0.501), Float16(0.05112), Float16(0.05142), Float16(0.0517), Float16(0.0506), Float16(0.741))\n",
       " (Float16(0.501), Float16(0.2374), Float16(0.0522), Float16(0.95), Float16(0.728), Float16(0.501), Float16(0.9478), Float16(0.2705), Float16(0.728), Float16(0.2073), Float16(0.6855), Float16(0.501), Float16(0.501), Float16(0.501), Float16(0.501), Float16(0.3252), Float16(0.501), Float16(0.501), Float16(0.711), Float16(0.5015), Float16(0.502), Float16(0.3267), Float16(0.502), Float16(0.05145), Float16(0.2263), Float16(0.05048), Float16(0.502), Float16(0.502), Float16(0.711), Float16(0.2844), Float16(0.05142), Float16(0.3252), Float16(0.95), Float16(0.948), Float16(0.948), Float16(0.741), Float16(0.05127), Float16(0.715), Float16(0.9478), Float16(0.3198), Float16(0.502), Float16(0.9497), Float16(0.2292), Float16(0.2263), Float16(0.05063), Float16(0.502), Float16(0.2377), Float16(0.0522), Float16(0.2705), Float16(0.95), Float16(0.05066), Float16(0.05075), Float16(0.2292), Float16(0.5015), Float16(0.5015), Float16(0.05048), Float16(0.747), Float16(0.501), Float16(0.9497), Float16(0.6826), Float16(0.501), Float16(0.6855), Float16(0.501), Float16(0.05127), Float16(0.3267), Float16(0.501), Float16(0.05066), Float16(0.0511), Float16(0.05075), Float16(0.5005), Float16(0.95), Float16(0.2073), Float16(0.715), Float16(0.501), Float16(0.95), Float16(0.3198), Float16(0.05063), Float16(0.747), Float16(0.95), Float16(0.949), Float16(0.05084), Float16(0.6826), Float16(0.949), Float16(0.501), Float16(0.2844), Float16(0.05054), Float16(0.2374), Float16(0.2377), Float16(0.95), Float16(0.0517), Float16(0.501), Float16(0.501), Float16(0.05142), Float16(0.95), Float16(0.501), Float16(0.05112), Float16(0.05142), Float16(0.0517), Float16(0.05084), Float16(0.741))\n",
       " (Float16(0.501), Float16(0.2374), Float16(0.0511), Float16(0.95), Float16(0.728), Float16(0.501), Float16(0.9478), Float16(0.2705), Float16(0.728), Float16(0.2073), Float16(0.6855), Float16(0.501), Float16(0.501), Float16(0.501), Float16(0.501), Float16(0.3252), Float16(0.501), Float16(0.501), Float16(0.711), Float16(0.501), Float16(0.5015), Float16(0.3267), Float16(0.502), Float16(0.05127), Float16(0.2263), Float16(0.05048), Float16(0.502), Float16(0.502), Float16(0.711), Float16(0.2844), Float16(0.05142), Float16(0.3252), Float16(0.95), Float16(0.948), Float16(0.948), Float16(0.741), Float16(0.05127), Float16(0.715), Float16(0.9478), Float16(0.3198), Float16(0.502), Float16(0.9497), Float16(0.2292), Float16(0.2263), Float16(0.05063), Float16(0.502), Float16(0.2377), Float16(0.0515), Float16(0.2705), Float16(0.95), Float16(0.05066), Float16(0.05075), Float16(0.2292), Float16(0.502), Float16(0.502), Float16(0.0505), Float16(0.747), Float16(0.5015), Float16(0.9497), Float16(0.6826), Float16(0.501), Float16(0.6855), Float16(0.501), Float16(0.05127), Float16(0.3267), Float16(0.501), Float16(0.05066), Float16(0.05127), Float16(0.05075), Float16(0.5005), Float16(0.95), Float16(0.2073), Float16(0.715), Float16(0.5005), Float16(0.95), Float16(0.3198), Float16(0.05063), Float16(0.747), Float16(0.95), Float16(0.949), Float16(0.05084), Float16(0.6826), Float16(0.949), Float16(0.501), Float16(0.2844), Float16(0.0505), Float16(0.2374), Float16(0.2377), Float16(0.95), Float16(0.0517), Float16(0.501), Float16(0.501), Float16(0.05142), Float16(0.95), Float16(0.501), Float16(0.05112), Float16(0.05142), Float16(0.0517), Float16(0.05075), Float16(0.741))\n",
       " (Float16(0.501), Float16(0.2374), Float16(0.05087), Float16(0.95), Float16(0.728), Float16(0.501), Float16(0.9478), Float16(0.2705), Float16(0.728), Float16(0.2073), Float16(0.6855), Float16(0.501), Float16(0.501), Float16(0.501), Float16(0.501), Float16(0.3252), Float16(0.501), Float16(0.501), Float16(0.711), Float16(0.501), Float16(0.501), Float16(0.3267), Float16(0.5015), Float16(0.05127), Float16(0.2263), Float16(0.051), Float16(0.502), Float16(0.502), Float16(0.711), Float16(0.2844), Float16(0.05142), Float16(0.3252), Float16(0.95), Float16(0.948), Float16(0.948), Float16(0.741), Float16(0.05087), Float16(0.715), Float16(0.9478), Float16(0.3198), Float16(0.502), Float16(0.9497), Float16(0.2292), Float16(0.2263), Float16(0.05063), Float16(0.502), Float16(0.2377), Float16(0.05145), Float16(0.2705), Float16(0.95), Float16(0.05072), Float16(0.05072), Float16(0.2292), Float16(0.502), Float16(0.502), Float16(0.0505), Float16(0.747), Float16(0.502), Float16(0.9497), Float16(0.6826), Float16(0.5015), Float16(0.6855), Float16(0.501), Float16(0.05127), Float16(0.3267), Float16(0.501), Float16(0.05087), Float16(0.05127), Float16(0.05035), Float16(0.501), Float16(0.95), Float16(0.2073), Float16(0.715), Float16(0.501), Float16(0.95), Float16(0.3198), Float16(0.05063), Float16(0.747), Float16(0.95), Float16(0.949), Float16(0.05057), Float16(0.6826), Float16(0.949), Float16(0.5005), Float16(0.2844), Float16(0.05084), Float16(0.2374), Float16(0.2377), Float16(0.95), Float16(0.0517), Float16(0.501), Float16(0.501), Float16(0.05084), Float16(0.95), Float16(0.501), Float16(0.051), Float16(0.05145), Float16(0.0517), Float16(0.05075), Float16(0.741))\n",
       " (Float16(0.501), Float16(0.2374), Float16(0.05087), Float16(0.95), Float16(0.728), Float16(0.5005), Float16(0.9478), Float16(0.2705), Float16(0.728), Float16(0.2073), Float16(0.6855), Float16(0.501), Float16(0.501), Float16(0.501), Float16(0.501), Float16(0.3252), Float16(0.501), Float16(0.501), Float16(0.711), Float16(0.501), Float16(0.501), Float16(0.3267), Float16(0.501), Float16(0.05127), Float16(0.2263), Float16(0.051), Float16(0.5015), Float16(0.502), Float16(0.711), Float16(0.2844), Float16(0.05142), Float16(0.3252), Float16(0.95), Float16(0.949), Float16(0.9487), Float16(0.741), Float16(0.05087), Float16(0.715), Float16(0.9478), Float16(0.3198), Float16(0.502), Float16(0.9497), Float16(0.2292), Float16(0.2263), Float16(0.05063), Float16(0.502), Float16(0.2377), Float16(0.05145), Float16(0.2705), Float16(0.95), Float16(0.0506), Float16(0.05072), Float16(0.2292), Float16(0.502), Float16(0.502), Float16(0.0506), Float16(0.747), Float16(0.502), Float16(0.95), Float16(0.6826), Float16(0.502), Float16(0.6855), Float16(0.5015), Float16(0.0509), Float16(0.3267), Float16(0.501), Float16(0.05087), Float16(0.05127), Float16(0.05054), Float16(0.501), Float16(0.95), Float16(0.2073), Float16(0.715), Float16(0.501), Float16(0.95), Float16(0.3198), Float16(0.05063), Float16(0.747), Float16(0.95), Float16(0.949), Float16(0.0509), Float16(0.6826), Float16(0.9487), Float16(0.501), Float16(0.2844), Float16(0.05084), Float16(0.2374), Float16(0.2377), Float16(0.95), Float16(0.0517), Float16(0.501), Float16(0.501), Float16(0.05084), Float16(0.95), Float16(0.501), Float16(0.051), Float16(0.05145), Float16(0.0517), Float16(0.05054), Float16(0.741))\n",
       " (Float16(0.501), Float16(0.2374), Float16(0.05087), Float16(0.95), Float16(0.728), Float16(0.501), Float16(0.9478), Float16(0.2705), Float16(0.728), Float16(0.2073), Float16(0.6855), Float16(0.501), Float16(0.501), Float16(0.501), Float16(0.501), Float16(0.3252), Float16(0.501), Float16(0.501), Float16(0.711), Float16(0.501), Float16(0.5005), Float16(0.3267), Float16(0.501), Float16(0.05127), Float16(0.2263), Float16(0.051), Float16(0.501), Float16(0.5015), Float16(0.711), Float16(0.2844), Float16(0.05103), Float16(0.3252), Float16(0.95), Float16(0.949), Float16(0.9487), Float16(0.741), Float16(0.05087), Float16(0.715), Float16(0.9478), Float16(0.3198), Float16(0.502), Float16(0.95), Float16(0.2292), Float16(0.2263), Float16(0.05063), Float16(0.502), Float16(0.2377), Float16(0.05145), Float16(0.2705), Float16(0.95), Float16(0.051), Float16(0.0512), Float16(0.2292), Float16(0.502), Float16(0.502), Float16(0.05103), Float16(0.747), Float16(0.502), Float16(0.95), Float16(0.6826), Float16(0.502), Float16(0.6855), Float16(0.502), Float16(0.0509), Float16(0.3267), Float16(0.5015), Float16(0.05087), Float16(0.05127), Float16(0.05054), Float16(0.501), Float16(0.95), Float16(0.2073), Float16(0.715), Float16(0.501), Float16(0.95), Float16(0.3198), Float16(0.05063), Float16(0.747), Float16(0.95), Float16(0.949), Float16(0.0509), Float16(0.6826), Float16(0.9487), Float16(0.501), Float16(0.2844), Float16(0.05084), Float16(0.2374), Float16(0.2377), Float16(0.95), Float16(0.051), Float16(0.501), Float16(0.501), Float16(0.05084), Float16(0.95), Float16(0.501), Float16(0.051), Float16(0.05145), Float16(0.0512), Float16(0.05054), Float16(0.741))\n",
       " (Float16(0.501), Float16(0.2374), Float16(0.05087), Float16(0.95), Float16(0.728), Float16(0.5005), Float16(0.9478), Float16(0.2705), Float16(0.728), Float16(0.2073), Float16(0.6855), Float16(0.501), Float16(0.501), Float16(0.501), Float16(0.501), Float16(0.3252), Float16(0.501), Float16(0.501), Float16(0.711), Float16(0.501), Float16(0.501), Float16(0.3267), Float16(0.5005), Float16(0.05127), Float16(0.2263), Float16(0.051), Float16(0.501), Float16(0.501), Float16(0.711), Float16(0.2844), Float16(0.05103), Float16(0.3252), Float16(0.95), Float16(0.949), Float16(0.9487), Float16(0.741), Float16(0.05087), Float16(0.715), Float16(0.9478), Float16(0.3198), Float16(0.5015), Float16(0.95), Float16(0.2292), Float16(0.2263), Float16(0.05063), Float16(0.502), Float16(0.2377), Float16(0.05145), Float16(0.2705), Float16(0.95), Float16(0.051), Float16(0.0512), Float16(0.2292), Float16(0.502), Float16(0.501), Float16(0.05103), Float16(0.747), Float16(0.502), Float16(0.95), Float16(0.6826), Float16(0.501), Float16(0.6855), Float16(0.502), Float16(0.0509), Float16(0.3267), Float16(0.502), Float16(0.05087), Float16(0.05063), Float16(0.05054), Float16(0.5015), Float16(0.95), Float16(0.2073), Float16(0.715), Float16(0.501), Float16(0.95), Float16(0.3198), Float16(0.05063), Float16(0.747), Float16(0.95), Float16(0.949), Float16(0.0509), Float16(0.6826), Float16(0.9487), Float16(0.501), Float16(0.2844), Float16(0.05084), Float16(0.2374), Float16(0.2377), Float16(0.95), Float16(0.051), Float16(0.501), Float16(0.501), Float16(0.05084), Float16(0.95), Float16(0.501), Float16(0.051), Float16(0.05145), Float16(0.0512), Float16(0.05054), Float16(0.741))\n",
       " (Float16(0.501), Float16(0.2374), Float16(0.05087), Float16(0.95), Float16(0.728), Float16(0.501), Float16(0.949), Float16(0.2705), Float16(0.728), Float16(0.2073), Float16(0.6855), Float16(0.501), Float16(0.501), Float16(0.501), Float16(0.501), Float16(0.3252), Float16(0.5005), Float16(0.501), Float16(0.711), Float16(0.501), Float16(0.501), Float16(0.3267), Float16(0.501), Float16(0.05127), Float16(0.2263), Float16(0.051), Float16(0.501), Float16(0.501), Float16(0.711), Float16(0.2844), Float16(0.05103), Float16(0.3252), Float16(0.95), Float16(0.949), Float16(0.9487), Float16(0.741), Float16(0.05087), Float16(0.715), Float16(0.948), Float16(0.3198), Float16(0.501), Float16(0.95), Float16(0.2292), Float16(0.2263), Float16(0.05063), Float16(0.5015), Float16(0.2377), Float16(0.05145), Float16(0.2705), Float16(0.95), Float16(0.051), Float16(0.0512), Float16(0.2292), Float16(0.502), Float16(0.5015), Float16(0.05103), Float16(0.747), Float16(0.502), Float16(0.95), Float16(0.6826), Float16(0.5015), Float16(0.6855), Float16(0.502), Float16(0.05045), Float16(0.3267), Float16(0.502), Float16(0.05087), Float16(0.05063), Float16(0.05054), Float16(0.502), Float16(0.95), Float16(0.2073), Float16(0.715), Float16(0.5015), Float16(0.95), Float16(0.3198), Float16(0.05078), Float16(0.747), Float16(0.95), Float16(0.948), Float16(0.05038), Float16(0.6826), Float16(0.9487), Float16(0.501), Float16(0.2844), Float16(0.05084), Float16(0.2374), Float16(0.2377), Float16(0.95), Float16(0.051), Float16(0.501), Float16(0.501), Float16(0.05084), Float16(0.95), Float16(0.501), Float16(0.051), Float16(0.05145), Float16(0.0512), Float16(0.05054), Float16(0.741))"
      ]
     },
     "metadata": {},
     "output_type": "display_data"
    }
   ],
   "source": [
    "r = readres(\"res/media mo[0.05, 0.5, 0.95] p0.1 e0.1 g0.25 gm0.25 mi1000000 nr33.csv\")"
   ]
  },
  {
   "cell_type": "code",
   "execution_count": 13,
   "metadata": {},
   "outputs": [
    {
     "data": {
      "text/plain": [
       "(Float16(0.501), Float16(0.2374), Float16(0.05087), Float16(0.95), Float16(0.728), Float16(0.501), Float16(0.949), Float16(0.2705), Float16(0.728), Float16(0.2073), Float16(0.6855), Float16(0.501), Float16(0.501), Float16(0.501), Float16(0.501), Float16(0.3252), Float16(0.5005), Float16(0.501), Float16(0.711), Float16(0.501), Float16(0.501), Float16(0.3267), Float16(0.501), Float16(0.05127), Float16(0.2263), Float16(0.051), Float16(0.501), Float16(0.501), Float16(0.711), Float16(0.2844), Float16(0.05103), Float16(0.3252), Float16(0.95), Float16(0.949), Float16(0.9487), Float16(0.741), Float16(0.05087), Float16(0.715), Float16(0.948), Float16(0.3198), Float16(0.501), Float16(0.95), Float16(0.2292), Float16(0.2263), Float16(0.05063), Float16(0.5015), Float16(0.2377), Float16(0.05145), Float16(0.2705), Float16(0.95), Float16(0.051), Float16(0.0512), Float16(0.2292), Float16(0.502), Float16(0.5015), Float16(0.05103), Float16(0.747), Float16(0.502), Float16(0.95), Float16(0.6826), Float16(0.5015), Float16(0.6855), Float16(0.502), Float16(0.05045), Float16(0.3267), Float16(0.502), Float16(0.05087), Float16(0.05063), Float16(0.05054), Float16(0.502), Float16(0.95), Float16(0.2073), Float16(0.715), Float16(0.5015), Float16(0.95), Float16(0.3198), Float16(0.05078), Float16(0.747), Float16(0.95), Float16(0.948), Float16(0.05038), Float16(0.6826), Float16(0.9487), Float16(0.501), Float16(0.2844), Float16(0.05084), Float16(0.2374), Float16(0.2377), Float16(0.95), Float16(0.051), Float16(0.501), Float16(0.501), Float16(0.05084), Float16(0.95), Float16(0.501), Float16(0.051), Float16(0.05145), Float16(0.0512), Float16(0.05054), Float16(0.741))"
      ]
     },
     "metadata": {},
     "output_type": "display_data"
    }
   ],
   "source": [
    "finalopinions = r[size(r)[1]]"
   ]
  },
  {
   "cell_type": "code",
   "execution_count": 26,
   "metadata": {},
   "outputs": [
    {
     "name": "stdout",
     "output_type": "stream",
     "text": [
      "Float16[0.501, 0.2374, 0.05087, 0.95, 0.728, 0.501, 0.949, 0.2705, 0.728, 0.2073, 0.6855, 0.501, 0.501, 0.501, 0.501, 0.3252, 0.5005, 0.501, 0.711, 0.501, 0.501, 0.3267, 0.501, 0.05127, 0.2263, 0.051, 0.501, 0.501, 0.711, 0.2844, 0.05103, 0.3252, 0.95, 0.949, 0.9487, 0.741, 0.05087, 0.715, 0.948, 0.3198, 0.501, 0.95, 0.2292, 0.2263, 0.05063, 0.5015, 0.2377, 0.05145, 0.2705, 0.95, 0.051, 0.0512, 0.2292, 0.502, 0.5015, 0.05103, 0.747, 0.502, 0.95, 0.6826, 0.5015, 0.6855, 0.502, 0.05045, 0.3267, 0.502, 0.05087, 0.05063, 0.05054, 0.502, 0.95, 0.2073, 0.715, 0.5015, 0.95, 0.3198, 0.05078, 0.747, 0.95, 0.948, 0.05038, 0.6826, 0.9487, 0.501, 0.2844, 0.05084, 0.2374, 0.2377, 0.95, 0.051, 0.501, 0.501, 0.05084, 0.95, 0.501, 0.051, 0.05145, 0.0512, 0.05054, 0.741]\n"
     ]
    }
   ],
   "source": [
    "fo = [el for el in finalopinions]\n",
    "println(fo)"
   ]
  },
  {
   "cell_type": "code",
   "execution_count": 27,
   "metadata": {},
   "outputs": [
    {
     "data": {
      "text/plain": [
       "\"res/aaaprova.csv\""
      ]
     },
     "metadata": {},
     "output_type": "display_data"
    }
   ],
   "source": []
  },
  {
   "cell_type": "code",
   "execution_count": null,
   "metadata": {},
   "outputs": [],
   "source": []
  }
 ],
 "metadata": {
  "kernelspec": {
   "display_name": "Julia 1.6.2",
   "language": "julia",
   "name": "julia-1.6"
  },
  "language_info": {
   "file_extension": ".jl",
   "mimetype": "application/julia",
   "name": "julia",
   "version": "1.6.2"
  }
 },
 "nbformat": 4,
 "nbformat_minor": 2
}
